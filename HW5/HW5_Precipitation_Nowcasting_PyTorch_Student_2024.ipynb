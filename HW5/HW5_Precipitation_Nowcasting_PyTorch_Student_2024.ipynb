{
 "cells": [
  {
   "cell_type": "markdown",
   "metadata": {},
   "source": [
    "## Naratip Chakansin\n",
    "## 03-18-2024"
   ]
  },
  {
   "cell_type": "markdown",
   "metadata": {
    "id": "kjRBQ9voFMYx"
   },
   "source": [
    "# Precipitation Nowcasting using Neural Networks\n",
    "\n",
    "In this exercise, you are going to build a set of deep learning models on a real world task using PyTorch. PyTorch is an open source machine learning framework based on the Torch library, used for applications such as computer vision and natural language processing, primarily developed by Facebook's AI Research lab (FAIR).\n",
    "\n",
    "## Setting up to use the gpu  \n",
    "\n",
    "Before we start, we need to change the environment of Colab to use GPU. Do so by:\n",
    "\n",
    "Runtime -> Change runtime type -> Hardware accelerator -> GPU"
   ]
  },
  {
   "cell_type": "markdown",
   "metadata": {
    "id": "aelm29BaFKuc"
   },
   "source": [
    "## Deep Neural Networks with PyTorch ##\n",
    "\n",
    "To complete this exercise, you will need to build deep learning models for precipitation nowcasting. You will build a subset of the models shown below:\n",
    "- Fully Connected (Feedforward) Neural Network\n",
    "- Two-Dimentional Convolution Neural Network (2D-CNN)\n",
    "- Recurrent Neural Network with Gated Recurrent Unit (GRU)\n",
    "\n",
    "and one more model of your choice to achieve the highest score possible.\n",
    "\n",
    "We provide the code for data cleaning and some starter code for PyTorch in this notebook but feel free to modify those parts to suit your needs. Feel free to use additional libraries (e.g. scikit-learn) as long as you have a model for each type mentioned above.\n",
    "\n",
    "This notebook assumes you have already installed PyTorch with python3 and had GPU enabled. If you run this exercise on Colab you are all set."
   ]
  },
  {
   "cell_type": "markdown",
   "metadata": {
    "id": "zt5qwVJXFKue"
   },
   "source": [
    "## Precipitation Nowcasting ##\n",
    "\n",
    "Precipitation nowcasting is the the task of predicting the amount of rainfall in a certain region given some kind of sensor data.  The term nowcasting refers to tasks that try to predict the current or near future conditions (within 6 hours).\n",
    "\n",
    "You will be given satellite images in 3 different bands covering a 5 by 5 region from different parts of Thailand. In other words, your input will be a 5x5x3 image. Your task is to predict the amount of rainfall in the center pixel. You will first do the prediction using just a simple fully-connected neural network that view each pixel as different input features.\n",
    "\n",
    "Since the your input is basically an image, we will then view the input as an image and apply CNN to do the prediction. Finally, we can also add a time component since weather prediction can benefit greatly using previous time frames. Each data point actually contain 5 time steps, so each input data point has a size of 5x5x5x3 (time x height x width x channel), and the output data has a size of 5 (time). You will use this time information when you work with RNNs.\n",
    "\n",
    "Finally, we would like to thank the Thai Meteorological Department for providing the data for this assignment."
   ]
  },
  {
   "cell_type": "code",
   "execution_count": 7,
   "metadata": {
    "id": "XdU0yrBQOQpj"
   },
   "outputs": [
    {
     "name": "stdout",
     "output_type": "stream",
     "text": [
      "Mon Mar 18 21:05:56 2024       \n",
      "+---------------------------------------------------------------------------------------+\n",
      "| NVIDIA-SMI 535.161.07             Driver Version: 535.161.07   CUDA Version: 12.2     |\n",
      "|-----------------------------------------+----------------------+----------------------+\n",
      "| GPU  Name                 Persistence-M | Bus-Id        Disp.A | Volatile Uncorr. ECC |\n",
      "| Fan  Temp   Perf          Pwr:Usage/Cap |         Memory-Usage | GPU-Util  Compute M. |\n",
      "|                                         |                      |               MIG M. |\n",
      "|=========================================+======================+======================|\n",
      "|   0  NVIDIA GeForce RTX 3060        Off | 00000000:01:00.0  On |                  N/A |\n",
      "|  0%   53C    P8              15W / 170W |    340MiB / 12288MiB |      0%      Default |\n",
      "|                                         |                      |                  N/A |\n",
      "+-----------------------------------------+----------------------+----------------------+\n",
      "                                                                                         \n",
      "+---------------------------------------------------------------------------------------+\n",
      "| Processes:                                                                            |\n",
      "|  GPU   GI   CI        PID   Type   Process name                            GPU Memory |\n",
      "|        ID   ID                                                             Usage      |\n",
      "|=======================================================================================|\n",
      "|    0   N/A  N/A      1497      G   /usr/lib/xorg/Xorg                          149MiB |\n",
      "|    0   N/A  N/A      2054      G   /usr/bin/gnome-shell                         30MiB |\n",
      "|    0   N/A  N/A      4871      G   ...seed-version=20240317-180050.247000       84MiB |\n",
      "|    0   N/A  N/A      9018      G   ...irefox/3941/usr/lib/firefox/firefox       30MiB |\n",
      "|    0   N/A  N/A     12890      G   ...,WinRetrieveSuggestionsOnlyOnDemand       33MiB |\n",
      "+---------------------------------------------------------------------------------------+\n"
     ]
    }
   ],
   "source": [
    "!nvidia-smi"
   ]
  },
  {
   "cell_type": "code",
   "execution_count": 8,
   "metadata": {
    "id": "MpV236cQtYvt"
   },
   "outputs": [
    {
     "name": "stdout",
     "output_type": "stream",
     "text": [
      "Requirement already satisfied: torchinfo in /home/naratip/micromamba/envs/test/lib/python3.10/site-packages (1.8.0)\n",
      "Requirement already satisfied: torchviz in /home/naratip/micromamba/envs/test/lib/python3.10/site-packages (0.0.2)\n",
      "Requirement already satisfied: torch in /home/naratip/micromamba/envs/test/lib/python3.10/site-packages (from torchviz) (2.2.1+cu121)\n",
      "Requirement already satisfied: graphviz in /home/naratip/micromamba/envs/test/lib/python3.10/site-packages (from torchviz) (0.20.2)\n",
      "Requirement already satisfied: filelock in /home/naratip/micromamba/envs/test/lib/python3.10/site-packages (from torch->torchviz) (3.13.1)\n",
      "Requirement already satisfied: typing-extensions>=4.8.0 in /home/naratip/micromamba/envs/test/lib/python3.10/site-packages (from torch->torchviz) (4.9.0)\n",
      "Requirement already satisfied: sympy in /home/naratip/micromamba/envs/test/lib/python3.10/site-packages (from torch->torchviz) (1.12)\n",
      "Requirement already satisfied: networkx in /home/naratip/micromamba/envs/test/lib/python3.10/site-packages (from torch->torchviz) (3.2.1)\n",
      "Requirement already satisfied: jinja2 in /home/naratip/micromamba/envs/test/lib/python3.10/site-packages (from torch->torchviz) (3.1.3)\n",
      "Requirement already satisfied: fsspec in /home/naratip/micromamba/envs/test/lib/python3.10/site-packages (from torch->torchviz) (2023.10.0)\n",
      "Requirement already satisfied: nvidia-cuda-nvrtc-cu12==12.1.105 in /home/naratip/micromamba/envs/test/lib/python3.10/site-packages (from torch->torchviz) (12.1.105)\n",
      "Requirement already satisfied: nvidia-cuda-runtime-cu12==12.1.105 in /home/naratip/micromamba/envs/test/lib/python3.10/site-packages (from torch->torchviz) (12.1.105)\n",
      "Requirement already satisfied: nvidia-cuda-cupti-cu12==12.1.105 in /home/naratip/micromamba/envs/test/lib/python3.10/site-packages (from torch->torchviz) (12.1.105)\n",
      "Requirement already satisfied: nvidia-cudnn-cu12==8.9.2.26 in /home/naratip/micromamba/envs/test/lib/python3.10/site-packages (from torch->torchviz) (8.9.2.26)\n",
      "Requirement already satisfied: nvidia-cublas-cu12==12.1.3.1 in /home/naratip/micromamba/envs/test/lib/python3.10/site-packages (from torch->torchviz) (12.1.3.1)\n",
      "Requirement already satisfied: nvidia-cufft-cu12==11.0.2.54 in /home/naratip/micromamba/envs/test/lib/python3.10/site-packages (from torch->torchviz) (11.0.2.54)\n",
      "Requirement already satisfied: nvidia-curand-cu12==10.3.2.106 in /home/naratip/micromamba/envs/test/lib/python3.10/site-packages (from torch->torchviz) (10.3.2.106)\n",
      "Requirement already satisfied: nvidia-cusolver-cu12==11.4.5.107 in /home/naratip/micromamba/envs/test/lib/python3.10/site-packages (from torch->torchviz) (11.4.5.107)\n",
      "Requirement already satisfied: nvidia-cusparse-cu12==12.1.0.106 in /home/naratip/micromamba/envs/test/lib/python3.10/site-packages (from torch->torchviz) (12.1.0.106)\n",
      "Requirement already satisfied: nvidia-nccl-cu12==2.19.3 in /home/naratip/micromamba/envs/test/lib/python3.10/site-packages (from torch->torchviz) (2.19.3)\n",
      "Requirement already satisfied: nvidia-nvtx-cu12==12.1.105 in /home/naratip/micromamba/envs/test/lib/python3.10/site-packages (from torch->torchviz) (12.1.105)\n",
      "Requirement already satisfied: triton==2.2.0 in /home/naratip/micromamba/envs/test/lib/python3.10/site-packages (from torch->torchviz) (2.2.0)\n",
      "Requirement already satisfied: nvidia-nvjitlink-cu12 in /home/naratip/micromamba/envs/test/lib/python3.10/site-packages (from nvidia-cusolver-cu12==11.4.5.107->torch->torchviz) (12.4.99)\n",
      "Requirement already satisfied: MarkupSafe>=2.0 in /home/naratip/micromamba/envs/test/lib/python3.10/site-packages (from jinja2->torch->torchviz) (2.1.4)\n",
      "Requirement already satisfied: mpmath>=0.19 in /home/naratip/micromamba/envs/test/lib/python3.10/site-packages (from sympy->torch->torchviz) (1.3.0)\n"
     ]
    }
   ],
   "source": [
    "# For summarizing and visualizing models\n",
    "!pip install torchinfo\n",
    "!pip install torchviz"
   ]
  },
  {
   "cell_type": "markdown",
   "metadata": {
    "id": "j5F3GHHeyc8k"
   },
   "source": [
    "## Weights and Biases\n",
    "\n",
    "[Weights and Biases](https://docs.wandb.ai/company) (wandb) is an experiment tracking tool for machine learning. It can log and visualize experiments in real time. It supports many popular ML frameworks, and obviously PyTorch is one of them. In this notebook you will learn how to log general metrics like losses, parameter distributions, and gradient distribution with wandb.\n",
    "\n",
    "To install wandb, run the cell below"
   ]
  },
  {
   "cell_type": "code",
   "execution_count": 9,
   "metadata": {
    "id": "wcyfK7eoz0Xk"
   },
   "outputs": [
    {
     "name": "stdout",
     "output_type": "stream",
     "text": [
      "Requirement already satisfied: wandb in /home/naratip/micromamba/envs/test/lib/python3.10/site-packages (0.16.3)\n",
      "Requirement already satisfied: Click!=8.0.0,>=7.1 in /home/naratip/micromamba/envs/test/lib/python3.10/site-packages (from wandb) (8.1.7)\n",
      "Requirement already satisfied: GitPython!=3.1.29,>=1.0.0 in /home/naratip/micromamba/envs/test/lib/python3.10/site-packages (from wandb) (3.1.42)\n",
      "Requirement already satisfied: requests<3,>=2.0.0 in /home/naratip/micromamba/envs/test/lib/python3.10/site-packages (from wandb) (2.31.0)\n",
      "Requirement already satisfied: psutil>=5.0.0 in /home/naratip/micromamba/envs/test/lib/python3.10/site-packages (from wandb) (5.9.8)\n",
      "Requirement already satisfied: sentry-sdk>=1.0.0 in /home/naratip/micromamba/envs/test/lib/python3.10/site-packages (from wandb) (1.42.0)\n",
      "Requirement already satisfied: docker-pycreds>=0.4.0 in /home/naratip/micromamba/envs/test/lib/python3.10/site-packages (from wandb) (0.4.0)\n",
      "Requirement already satisfied: PyYAML in /home/naratip/micromamba/envs/test/lib/python3.10/site-packages (from wandb) (6.0.1)\n",
      "Requirement already satisfied: setproctitle in /home/naratip/micromamba/envs/test/lib/python3.10/site-packages (from wandb) (1.3.3)\n",
      "Requirement already satisfied: setuptools in /home/naratip/micromamba/envs/test/lib/python3.10/site-packages (from wandb) (69.0.3)\n",
      "Requirement already satisfied: appdirs>=1.4.3 in /home/naratip/micromamba/envs/test/lib/python3.10/site-packages (from wandb) (1.4.4)\n",
      "Requirement already satisfied: protobuf!=4.21.0,<5,>=3.19.0 in /home/naratip/micromamba/envs/test/lib/python3.10/site-packages (from wandb) (4.25.1)\n",
      "Requirement already satisfied: six>=1.4.0 in /home/naratip/micromamba/envs/test/lib/python3.10/site-packages (from docker-pycreds>=0.4.0->wandb) (1.16.0)\n",
      "Requirement already satisfied: gitdb<5,>=4.0.1 in /home/naratip/micromamba/envs/test/lib/python3.10/site-packages (from GitPython!=3.1.29,>=1.0.0->wandb) (4.0.11)\n",
      "Requirement already satisfied: charset-normalizer<4,>=2 in /home/naratip/micromamba/envs/test/lib/python3.10/site-packages (from requests<3,>=2.0.0->wandb) (3.3.2)\n",
      "Requirement already satisfied: idna<4,>=2.5 in /home/naratip/micromamba/envs/test/lib/python3.10/site-packages (from requests<3,>=2.0.0->wandb) (3.6)\n",
      "Requirement already satisfied: urllib3<3,>=1.21.1 in /home/naratip/micromamba/envs/test/lib/python3.10/site-packages (from requests<3,>=2.0.0->wandb) (1.26.18)\n",
      "Requirement already satisfied: certifi>=2017.4.17 in /home/naratip/micromamba/envs/test/lib/python3.10/site-packages (from requests<3,>=2.0.0->wandb) (2023.11.17)\n",
      "Requirement already satisfied: smmap<6,>=3.0.1 in /home/naratip/micromamba/envs/test/lib/python3.10/site-packages (from gitdb<5,>=4.0.1->GitPython!=3.1.29,>=1.0.0->wandb) (5.0.0)\n"
     ]
    }
   ],
   "source": [
    "!pip install wandb"
   ]
  },
  {
   "cell_type": "markdown",
   "metadata": {
    "id": "sl8f3SBNzzDE"
   },
   "source": [
    "## Setup\n",
    "\n",
    "1. Register [Wandb account](https://wandb.ai/login?signup=true) (and confirm your email)\n",
    "\n",
    "2. `wandb login` and copy paste the API key when prompt"
   ]
  },
  {
   "cell_type": "code",
   "execution_count": 10,
   "metadata": {
    "id": "UMIBnplmyjdH"
   },
   "outputs": [
    {
     "name": "stdout",
     "output_type": "stream",
     "text": [
      "\u001b[34m\u001b[1mwandb\u001b[0m: Currently logged in as: \u001b[33mnaratip-18257\u001b[0m. Use \u001b[1m`wandb login --relogin`\u001b[0m to force relogin\n"
     ]
    }
   ],
   "source": [
    "!wandb login"
   ]
  },
  {
   "cell_type": "code",
   "execution_count": 11,
   "metadata": {
    "id": "BYYloecSFKuf"
   },
   "outputs": [
    {
     "data": {
      "text/plain": [
       "'2.2.1+cu121'"
      ]
     },
     "execution_count": 11,
     "metadata": {},
     "output_type": "execute_result"
    }
   ],
   "source": [
    "import os\n",
    "import numpy as np\n",
    "import pickle\n",
    "import pandas as pd\n",
    "import matplotlib.pyplot as plt\n",
    "import urllib\n",
    "import wandb\n",
    "import torch\n",
    "import torch.nn as nn\n",
    "import torch.nn.functional as F\n",
    "import torchvision.transforms as transforms\n",
    "\n",
    "from sklearn import preprocessing\n",
    "from torch.utils.data import Dataset\n",
    "from torch.utils.data import DataLoader\n",
    "from torchinfo import summary\n",
    "from tqdm.notebook import tqdm\n",
    "\n",
    "import matplotlib.pyplot as plt\n",
    "\n",
    "torch.__version__ # 1.10.0+cu111"
   ]
  },
  {
   "cell_type": "markdown",
   "metadata": {
    "id": "nDQFOLhM5F2k"
   },
   "source": [
    "## Loading the data\n",
    "Get the data set by going [here](https://drive.google.com/file/d/1NWR22fVVE0tO2Q5EbaPPrRKPhUem-jbw/view?usp=sharing) and click add to drive."
   ]
  },
  {
   "cell_type": "markdown",
   "metadata": {
    "id": "syY5DXvFFKuj"
   },
   "source": [
    "# Data Explanation #\n",
    "\n",
    "The data is an hourly measurement of water vapor in the atmosphere, and two infrared measurements of cloud imagery on a latitude-longitude coordinate. Each measurement is illustrated below as an image. These three features are included as different channels in your input data.\n",
    "\n",
    "<img src=\"https://raw.githubusercontent.com/burin-n/pattern-recognition/master/HW4/images/wvapor.png\" width=\"200\"> <img src=\"https://raw.githubusercontent.com/burin-n/pattern-recognition/master/HW4/images/cloud1.png\" width=\"200\"> <img src=\"https://raw.githubusercontent.com/burin-n/pattern-recognition/master/HW4/images/cloud2.png\" width=\"200\">\n",
    "\n",
    "We also provide the hourly precipitation (rainfall) records in the month of June, July, August, September, and October from weather stations spreaded around the country. A 5x5 grid around each weather station at a particular time will be paired with the precipitation recorded at the corresponding station as input and output data. Finally, five adjacent timesteps are stacked into one sequence.\n",
    "\n",
    "The month of June-August are provided as training data, while the months of September and October are used as validation and test sets, respectively.\n"
   ]
  },
  {
   "cell_type": "markdown",
   "metadata": {
    "id": "Z6ieaQpHFKuk"
   },
   "source": [
    "# Reading data"
   ]
  },
  {
   "cell_type": "code",
   "execution_count": 12,
   "metadata": {
    "id": "pg0gCg-DFKul"
   },
   "outputs": [],
   "source": [
    "def read_data(months, data_dir='./nowcastingHWdataset/dataset'):\n",
    "    features = np.array([], dtype=np.float32).reshape(0,5,5,5,3)\n",
    "    labels = np.array([], dtype=np.float32).reshape(0,5)\n",
    "    for m in months:\n",
    "        filename = 'features-m{}.pk'.format(m)\n",
    "        with open(os.path.join(data_dir,filename), 'rb') as file:\n",
    "            features_temp = pickle.load(file)\n",
    "        features = np.concatenate((features, features_temp), axis=0)\n",
    "\n",
    "        filename = 'labels-m{}.pk'.format(m)\n",
    "        with open(os.path.join(data_dir,filename), 'rb') as file:\n",
    "            labels_temp = pickle.load(file)\n",
    "        labels = np.concatenate((labels, labels_temp), axis=0)\n",
    "\n",
    "    return features, labels"
   ]
  },
  {
   "cell_type": "code",
   "execution_count": 13,
   "metadata": {
    "id": "O3zFs-CXFKuo"
   },
   "outputs": [
    {
     "name": "stdout",
     "output_type": "stream",
     "text": [
      "x_train shape: (229548, 5, 5, 5, 3)\n",
      "y_train shape: (229548, 5) \n",
      "\n",
      "x_val shape: (92839, 5, 5, 5, 3)\n",
      "y_val shape: (92839, 5) \n",
      "\n",
      "x_test shape: (111715, 5, 5, 5, 3)\n",
      "y_test shape: (111715, 5)\n"
     ]
    }
   ],
   "source": [
    "# use data from month 6,7,8 as training set\n",
    "x_train, y_train = read_data(months=[6,7,8])\n",
    "\n",
    "# use data from month 9 as validation set\n",
    "x_val, y_val = read_data(months=[9])\n",
    "\n",
    "# use data from month 10 as test set\n",
    "x_test, y_test = read_data(months=[10])\n",
    "\n",
    "print('x_train shape:',x_train.shape)\n",
    "print('y_train shape:', y_train.shape, '\\n')\n",
    "print('x_val shape:',x_val.shape)\n",
    "print('y_val shape:', y_val.shape, '\\n')\n",
    "print('x_test shape:',x_test.shape)\n",
    "print('y_test shape:', y_test.shape)"
   ]
  },
  {
   "cell_type": "markdown",
   "metadata": {
    "id": "pW6GD-8-FKur"
   },
   "source": [
    "**features**\n",
    "- dim 0: number of entries\n",
    "- dim 1: number of time-steps in ascending order\n",
    "- dim 2,3: a 5x5 grid around rain-measued station\n",
    "- dim 4: water vapor and two cloud imagenaries\n",
    "\n",
    "**labels**\n",
    "- dim 0: number of entries\n",
    "- dim 1: number of precipitation for each time-step"
   ]
  },
  {
   "cell_type": "markdown",
   "metadata": {
    "id": "FnNVxatKFKuy"
   },
   "source": [
    "# Three-Layer Feedforward Neural Networks"
   ]
  },
  {
   "cell_type": "code",
   "execution_count": 14,
   "metadata": {
    "id": "OGB0Jhk3FKuz"
   },
   "outputs": [
    {
     "name": "stdout",
     "output_type": "stream",
     "text": [
      "(1147740, 75) (1147740, 1)\n",
      "(464195, 75) (464195, 1)\n",
      "(558575, 75) (558575, 1)\n"
     ]
    }
   ],
   "source": [
    "# Dataset need to be reshaped to make it suitable for feedforword model\n",
    "def preprocess_for_ff(x_train, y_train, x_val, y_val):\n",
    "    x_train_ff = x_train.reshape((-1, 5*5*3))\n",
    "    y_train_ff = y_train.reshape((-1, 1))\n",
    "    x_val_ff = x_val.reshape((-1, 5*5*3))\n",
    "    y_val_ff = y_val.reshape((-1, 1))\n",
    "    x_test_ff = x_test.reshape((-1, 5*5*3))\n",
    "    y_test_ff = y_test.reshape((-1, 1))\n",
    "\n",
    "    return x_train_ff, y_train_ff, x_val_ff, y_val_ff, x_test_ff, y_test_ff\n",
    "\n",
    "x_train_ff, y_train_ff, x_val_ff, y_val_ff, x_test_ff, y_test_ff = preprocess_for_ff(x_train, y_train, x_val, y_val)\n",
    "print(x_train_ff.shape, y_train_ff.shape)\n",
    "print(x_val_ff.shape, y_val_ff.shape)\n",
    "print(x_test_ff.shape, y_test_ff.shape)"
   ]
  },
  {
   "cell_type": "code",
   "execution_count": 15,
   "metadata": {},
   "outputs": [
    {
     "data": {
      "text/plain": [
       "array([[227.82625, 227.39946, 227.39946, 227.82625, 227.82625],\n",
       "       [228.24669, 228.24669, 228.24669, 228.24669, 228.03725],\n",
       "       [228.45459, 228.45459, 228.24669, 228.24669, 228.24669],\n",
       "       [228.66098, 228.45459, 228.45459, 228.45459, 228.24669],\n",
       "       [229.47194, 229.27135, 229.27135, 229.27135, 229.27135]],\n",
       "      dtype=float32)"
      ]
     },
     "execution_count": 15,
     "metadata": {},
     "output_type": "execute_result"
    }
   ],
   "source": [
    "x_train[0, 0, 0:5, 0:5, 0]"
   ]
  },
  {
   "cell_type": "code",
   "execution_count": 16,
   "metadata": {},
   "outputs": [
    {
     "data": {
      "text/plain": [
       "<matplotlib.image.AxesImage at 0x7f7d5c87cdf0>"
      ]
     },
     "execution_count": 16,
     "metadata": {},
     "output_type": "execute_result"
    },
    {
     "data": {
      "image/png": "[encoded data removed]",
      "text/plain": [
       "<Figure size 640x480 with 1 Axes>"
      ]
     },
     "metadata": {},
     "output_type": "display_data"
    }
   ],
   "source": [
    "plt.imshow(x_train[0, 0, 0:5, 0:5, 1])"
   ]
  },
  {
   "cell_type": "code",
   "execution_count": 17,
   "metadata": {},
   "outputs": [
    {
     "data": {
      "text/plain": [
       "array([[0., 0., 0., 0., 0.],\n",
       "       [0., 0., 0., 0., 0.],\n",
       "       [0., 0., 0., 0., 0.],\n",
       "       [0., 6., 0., 0., 0.],\n",
       "       [0., 0., 0., 0., 0.]])"
      ]
     },
     "execution_count": 17,
     "metadata": {},
     "output_type": "execute_result"
    }
   ],
   "source": [
    "y_train[:5]"
   ]
  },
  {
   "cell_type": "markdown",
   "metadata": {
    "id": "p77LrAbilkK7"
   },
   "source": [
    "### TODO#1\n",
    "\n",
    "Explain each line of code in the function preprocess_for_ff()\n",
    "\n",
    "**Ans:** \n",
    "- This function is trying to treat each datapoint as an feature for neural-network\n",
    "- consider x_train_ff, x_val_ff, x_test_ff is come from treat dim 0 & dim 1 as inputs and dim 2, dim 3, dim 4 as feature\n",
    "- consider y_train_ff, y_val_ff, y_test_ff is come from treat dim 0 & size of dim 1 as inputs so there is one label for each inputs"
   ]
  },
  {
   "cell_type": "markdown",
   "metadata": {
    "id": "1dK4x_Td1WE0"
   },
   "source": [
    "## Dataset\n",
    "\n",
    "To prepare a DataLoader in order to feed data into the model, we need to create a `torch.utils.data.Dataset` object first. (Learn more about it [here](https://pytorch.org/docs/stable/data.html#map-style-datasets))\n",
    "\n",
    "Dataset is a simple class that the DataLoader will get data from, most of its functionality comes from `__getitem__(self, index)` method, which will return a single data point (both input and label). In real world scenarios the method can do some other stuffs such as\n",
    "\n",
    "1. Load images\n",
    "\n",
    "If your input (x) are images. Oftentimes you won't be able to fit all the training images into your RAM. Thus, you should pass an array (or list) of image path into the dataloader, and the `__getitem__` will be the one who dynamically loads the actual image from the harddisk for you.\n",
    "\n",
    "2. Data Normalization\n",
    "\n",
    "Data normalization helps improve stability of training. Unnormalized data can cause gradients to explode. There are many variants of normalization, but in this notebook we will use either minmax or z-score (std) normalization. Read [this](https://developers.google.com/machine-learning/data-prep/transform/normalization) (or google) if you wish to learn more about data normalization.\n",
    "\n",
    "3. Data Augmentation\n",
    "\n",
    "In computer vision, you might want to apply small changes to the images you use in training (adjust brightness, contrast, rotation) so that the model will generalize better on unseen data. There are two kinds of augmentation: static and dynamic. Static augmentation will augment images and save to disk as a new dataset. On the other hand, rather than applying the change initially and use the same change on each image every epoch, dynamic augmentation will augment each data differently for each epoch. Note that augmentation is usually done on the CPU and you might be bounded by the CPU instead. PyTorch has a dedicated [documentation about data augmentation](https://pytorch.org/vision/master/transforms.html) if you want to know more."
   ]
  },
  {
   "cell_type": "code",
   "execution_count": 18,
   "metadata": {
    "id": "TLgje5aC1Klu"
   },
   "outputs": [],
   "source": [
    "class RainfallDatasetFF(Dataset):\n",
    "    def __init__(self, x, y, normalizer):\n",
    "        self.x = x.astype(np.float32)\n",
    "        self.y = y.astype(np.float32)\n",
    "        self.normalizer = normalizer\n",
    "        print(self.x.shape)\n",
    "        print(self.y.shape)\n",
    "\n",
    "    def __getitem__(self, index):\n",
    "        x = self.x[index] # Retrieve data\n",
    "        x = self.normalizer.transform(x.reshape(1, -1)) # Normalize\n",
    "        y = self.y[index]\n",
    "        return x, y\n",
    "\n",
    "    def __len__(self):\n",
    "        return self.x.shape[0]"
   ]
  },
  {
   "cell_type": "code",
   "execution_count": 19,
   "metadata": {
    "id": "DCKaJISBFKus"
   },
   "outputs": [],
   "source": [
    "def normalizer_std(X):\n",
    "    scaler = preprocessing.StandardScaler().fit(X)\n",
    "    return scaler\n",
    "\n",
    "def normalizer_minmax(X):\n",
    "    scaler = preprocessing.MinMaxScaler().fit(X)\n",
    "    return scaler"
   ]
  },
  {
   "cell_type": "code",
   "execution_count": 20,
   "metadata": {
    "id": "4abkl13k3TVH"
   },
   "outputs": [
    {
     "name": "stdout",
     "output_type": "stream",
     "text": [
      "(1147740, 75)\n",
      "(1147740, 1)\n",
      "(464195, 75)\n",
      "(464195, 1)\n",
      "(558575, 75)\n",
      "(558575, 1)\n"
     ]
    }
   ],
   "source": [
    "normalizer = normalizer_std(x_train_ff) # We will normalize everything based on x_train\n",
    "\n",
    "train_dataset = RainfallDatasetFF(x_train_ff, y_train_ff, normalizer)\n",
    "val_dataset = RainfallDatasetFF(x_val_ff, y_val_ff, normalizer)\n",
    "test_dataset = RainfallDatasetFF(x_test_ff, y_test_ff, normalizer)"
   ]
  },
  {
   "cell_type": "markdown",
   "metadata": {
    "id": "eewgRWXf-mJ5"
   },
   "source": [
    "## DataLoader\n",
    "\n",
    "DataLoader feeds data from our dataset into the model. We can freely customize batch size, data shuffle for each data split, and much more with DataLoader class. If you're curious about what can you do with PyTorch's DataLoader, you can check [this documentation](https://pytorch.org/docs/stable/data.html)"
   ]
  },
  {
   "cell_type": "code",
   "execution_count": 21,
   "metadata": {
    "id": "S-eNOnvf-ne3"
   },
   "outputs": [],
   "source": [
    "train_loader = DataLoader(train_dataset, batch_size=1024, shuffle=True, pin_memory=True)\n",
    "val_loader = DataLoader(val_dataset, batch_size=1024, shuffle=False, pin_memory=True)\n",
    "test_loader = DataLoader(test_dataset, batch_size=1024, shuffle=False, pin_memory=True)"
   ]
  },
  {
   "cell_type": "markdown",
   "metadata": {
    "id": "2ETMKmwesM1G"
   },
   "source": [
    "## Loss Function\n",
    "\n",
    "PyTorch has many loss functions readily available for use. We can also write our own custom loss function as well. But for now, we will use [PyTorch's built-in mean squared error loss ](https://pytorch.org/docs/stable/generated/torch.nn.MSELoss.html)"
   ]
  },
  {
   "cell_type": "code",
   "execution_count": 22,
   "metadata": {
    "id": "dE0wOzDpsOeM"
   },
   "outputs": [],
   "source": [
    "loss_fn = nn.MSELoss()"
   ]
  },
  {
   "cell_type": "markdown",
   "metadata": {
    "id": "R2XXPjgWoruT"
   },
   "source": [
    "### TODO#2\n",
    "\n",
    "Why is the loss MSE?\n",
    "\n",
    "**Ans:** I think it is because we are trying to predict amount of rainfall so this is regression problem and using MSE is suitable"
   ]
  },
  {
   "cell_type": "markdown",
   "metadata": {
    "id": "FAJdDTn_Kj2V"
   },
   "source": [
    "## Device\n",
    "\n",
    "Unlike Tensorflow/Keras, PyTorch allows user to freely put any Tensor or objects (loss functions, models, optimizers, etc.) in CPU or GPU. By default, all objects created will be in CPU. In order to use GPU we will have to supply `device = torch.device(\"cuda\")` into the objects to move it to GPU. You will usually see the syntax like `object.to(device)` for moving CPU object to GPU, or `o = Object(..., device=device)` to create the object in the GPU."
   ]
  },
  {
   "cell_type": "code",
   "execution_count": 23,
   "metadata": {
    "id": "9nHbeRbYKk3e"
   },
   "outputs": [
    {
     "data": {
      "text/plain": [
       "device(type='cuda')"
      ]
     },
     "execution_count": 23,
     "metadata": {},
     "output_type": "execute_result"
    }
   ],
   "source": [
    "device = torch.device(\"cuda\" if torch.cuda.is_available() else \"cpu\")\n",
    "device"
   ]
  },
  {
   "cell_type": "markdown",
   "metadata": {
    "id": "_qNgeii7-jIS"
   },
   "source": [
    "## Model\n",
    "\n",
    "Below, the code for creating a 3-layers fully connected neural network in PyTorch is provided. Run the code and make sure you understand what you are doing. Then, report the results."
   ]
  },
  {
   "cell_type": "code",
   "execution_count": 24,
   "metadata": {
    "id": "ddS--sUaFKu3"
   },
   "outputs": [],
   "source": [
    "class FeedForwardNN(nn.Module):\n",
    "    def __init__(self, hidden_size=200):\n",
    "        super(FeedForwardNN, self).__init__()\n",
    "        self.ff1 = nn.Linear(75, hidden_size)\n",
    "        self.ff2 = nn.Linear(hidden_size, hidden_size)\n",
    "        self.ff3 = nn.Linear(hidden_size, hidden_size)\n",
    "        self.out = nn.Linear(hidden_size, 1)\n",
    "\n",
    "    def forward(self, x):\n",
    "        hd1 = F.relu(self.ff1(x))\n",
    "        hd2 = F.relu(self.ff2(hd1))\n",
    "        y = F.relu(self.ff3(hd2))\n",
    "        y = self.out(y)\n",
    "        return y.reshape(-1, 1)"
   ]
  },
  {
   "cell_type": "markdown",
   "metadata": {
    "id": "oz8m8ijkmUdU"
   },
   "source": [
    "### TODO#3\n",
    "\n",
    "What is the activation function in the final dense layer? and why? Do you think there is a better activation function for the final layer?\n",
    "\n",
    "**Ans:** It is relu because it is none linear function and we want amount of rainfall greater or equal zero. In my opinion relu is a good one. "
   ]
  },
  {
   "cell_type": "code",
   "execution_count": 202,
   "metadata": {
    "id": "z1RKOxNBhyb0"
   },
   "outputs": [],
   "source": [
    "# Hyperparameters and other configs\n",
    "config = {\n",
    "    'architecture': 'feedforward',\n",
    "    'lr': 0.01,\n",
    "    'hidden_size': 200,\n",
    "    'scheduler_factor': 0.2,\n",
    "    'scheduler_patience': 2,\n",
    "    'scheduler_min_lr': 1e-4,\n",
    "    'epochs': 10\n",
    "}\n",
    "\n",
    "# Model\n",
    "model_ff = FeedForwardNN(hidden_size=config['hidden_size'])\n",
    "model_ff = model_ff.to(device)\n",
    "optimizer = torch.optim.Adam(model_ff.parameters(), lr=config['lr'])\n",
    "scheduler = torch.optim.lr_scheduler.ReduceLROnPlateau(\n",
    "    optimizer,\n",
    "    'min',\n",
    "    factor=config['scheduler_factor'],\n",
    "    patience=config['scheduler_patience'],\n",
    "    min_lr=config['scheduler_min_lr']\n",
    ")"
   ]
  },
  {
   "cell_type": "code",
   "execution_count": 203,
   "metadata": {
    "id": "tCa_T56Js_gD"
   },
   "outputs": [
    {
     "data": {
      "image/svg+xml": [
       "<?xml version=\"1.0\" encoding=\"UTF-8\" standalone=\"no\"?>\n",
       "<!DOCTYPE svg PUBLIC \"-//W3C//DTD SVG 1.1//EN\"\n",
       " \"http://www.w3.org/Graphics/SVG/1.1/DTD/svg11.dtd\">\n",
       "<!-- Generated by graphviz version 9.0.0 (20231125.0833)\n",
       " -->\n",
       "<!-- Pages: 1 -->\n",
       "<svg width=\"236pt\" height=\"886pt\"\n",
       " viewBox=\"0.00 0.00 236.40 886.00\" xmlns=\"http://www.w3.org/2000/svg\" xmlns:xlink=\"http://www.w3.org/1999/xlink\">\n",
       "<g id=\"graph0\" class=\"graph\" transform=\"scale(0.687221 0.687221) rotate(0) translate(4 1285.25)\">\n",
       "<polygon fill=\"white\" stroke=\"none\" points=\"-4,4 -4,-1285.25 340,-1285.25 340,4 -4,4\"/>\n",
       "<!-- 140172254415024 -->\n",
       "<g id=\"node1\" class=\"node\">\n",
       "<title>140172254415024</title>\n",
       "<polygon fill=\"#caff70\" stroke=\"black\" points=\"212,-34.25 136,-34.25 136,0 212,0 212,-34.25\"/>\n",
       "<text text-anchor=\"middle\" x=\"174\" y=\"-8.75\" font-family=\"monospace\" font-size=\"10.00\"> (1024, 1)</text>\n",
       "</g>\n",
       "<!-- 140172250532736 -->\n",
       "<g id=\"node2\" class=\"node\">\n",
       "<title>140172250532736</title>\n",
       "<polygon fill=\"lightgrey\" stroke=\"black\" points=\"170,-98.5 76,-98.5 76,-76.25 170,-76.25 170,-98.5\"/>\n",
       "<text text-anchor=\"middle\" x=\"123\" y=\"-85\" font-family=\"monospace\" font-size=\"10.00\">ViewBackward0</text>\n",
       "</g>\n",
       "<!-- 140172250532736&#45;&gt;140172254415024 -->\n",
       "<g id=\"edge39\" class=\"edge\">\n",
       "<title>140172250532736&#45;&gt;140172254415024</title>\n",
       "<path fill=\"none\" stroke=\"black\" d=\"M130.75,-76.01C137.15,-67.44 146.51,-54.91 154.89,-43.7\"/>\n",
       "<polygon fill=\"black\" stroke=\"black\" points=\"157.52,-46.03 160.7,-35.92 151.91,-41.84 157.52,-46.03\"/>\n",
       "</g>\n",
       "<!-- 140172250530048 -->\n",
       "<g id=\"node3\" class=\"node\">\n",
       "<title>140172250530048</title>\n",
       "<polygon fill=\"lightgrey\" stroke=\"black\" points=\"184,-162.75 90,-162.75 90,-140.5 184,-140.5 184,-162.75\"/>\n",
       "<text text-anchor=\"middle\" x=\"137\" y=\"-149.25\" font-family=\"monospace\" font-size=\"10.00\">ViewBackward0</text>\n",
       "</g>\n",
       "<!-- 140172250530048&#45;&gt;140172250532736 -->\n",
       "<g id=\"edge1\" class=\"edge\">\n",
       "<title>140172250530048&#45;&gt;140172250532736</title>\n",
       "<path fill=\"none\" stroke=\"black\" d=\"M134.63,-140.07C132.76,-131.79 130.11,-120 127.81,-109.77\"/>\n",
       "<polygon fill=\"black\" stroke=\"black\" points=\"131.28,-109.24 125.67,-100.26 124.45,-110.78 131.28,-109.24\"/>\n",
       "</g>\n",
       "<!-- 140172251083488 -->\n",
       "<g id=\"node4\" class=\"node\">\n",
       "<title>140172251083488</title>\n",
       "<polygon fill=\"lightgrey\" stroke=\"black\" points=\"224,-221 124,-221 124,-198.75 224,-198.75 224,-221\"/>\n",
       "<text text-anchor=\"middle\" x=\"174\" y=\"-207.5\" font-family=\"monospace\" font-size=\"10.00\">AddmmBackward0</text>\n",
       "</g>\n",
       "<!-- 140172251083488&#45;&gt;140172250530048 -->\n",
       "<g id=\"edge2\" class=\"edge\">\n",
       "<title>140172251083488&#45;&gt;140172250530048</title>\n",
       "<path fill=\"none\" stroke=\"black\" d=\"M167.04,-198.29C162.29,-191.07 155.84,-181.26 150.14,-172.59\"/>\n",
       "<polygon fill=\"black\" stroke=\"black\" points=\"153.18,-170.85 144.76,-164.42 147.33,-174.7 153.18,-170.85\"/>\n",
       "</g>\n",
       "<!-- 140176394909584 -->\n",
       "<g id=\"node41\" class=\"node\">\n",
       "<title>140176394909584</title>\n",
       "<polygon fill=\"#a2cd5a\" stroke=\"black\" points=\"264,-104.5 188,-104.5 188,-70.25 264,-70.25 264,-104.5\"/>\n",
       "<text text-anchor=\"middle\" x=\"226\" y=\"-79\" font-family=\"monospace\" font-size=\"10.00\"> (1024, 1)</text>\n",
       "</g>\n",
       "<!-- 140172251083488&#45;&gt;140176394909584 -->\n",
       "<g id=\"edge40\" class=\"edge\">\n",
       "<title>140172251083488&#45;&gt;140176394909584</title>\n",
       "<path fill=\"none\" stroke=\"black\" d=\"M178.43,-198.6C186.34,-180.27 203.12,-141.4 214.48,-115.08\"/>\n",
       "<polygon fill=\"black\" stroke=\"black\" points=\"217.63,-116.62 218.37,-106.05 211.2,-113.84 217.63,-116.62\"/>\n",
       "</g>\n",
       "<!-- 140172251071872 -->\n",
       "<g id=\"node5\" class=\"node\">\n",
       "<title>140172251071872</title>\n",
       "<polygon fill=\"lightgrey\" stroke=\"black\" points=\"109,-279.25 9,-279.25 9,-257 109,-257 109,-279.25\"/>\n",
       "<text text-anchor=\"middle\" x=\"59\" y=\"-265.75\" font-family=\"monospace\" font-size=\"10.00\">AccumulateGrad</text>\n",
       "</g>\n",
       "<!-- 140172251071872&#45;&gt;140172251083488 -->\n",
       "<g id=\"edge3\" class=\"edge\">\n",
       "<title>140172251071872&#45;&gt;140172251083488</title>\n",
       "<path fill=\"none\" stroke=\"black\" d=\"M80.63,-256.54C97.98,-248.06 122.58,-236.03 142.17,-226.44\"/>\n",
       "<polygon fill=\"black\" stroke=\"black\" points=\"143.66,-229.61 151.11,-222.07 140.59,-223.32 143.66,-229.61\"/>\n",
       "</g>\n",
       "<!-- 140172750117664 -->\n",
       "<g id=\"node6\" class=\"node\">\n",
       "<title>140172750117664</title>\n",
       "<polygon fill=\"lightblue\" stroke=\"black\" points=\"91,-351.75 27,-351.75 27,-315.25 91,-315.25 91,-351.75\"/>\n",
       "<text text-anchor=\"middle\" x=\"59\" y=\"-338.25\" font-family=\"monospace\" font-size=\"10.00\">out.bias</text>\n",
       "<text text-anchor=\"middle\" x=\"59\" y=\"-324\" font-family=\"monospace\" font-size=\"10.00\"> (1)</text>\n",
       "</g>\n",
       "<!-- 140172750117664&#45;&gt;140172251071872 -->\n",
       "<g id=\"edge4\" class=\"edge\">\n",
       "<title>140172750117664&#45;&gt;140172251071872</title>\n",
       "<path fill=\"none\" stroke=\"black\" d=\"M59,-314.85C59,-307.53 59,-298.97 59,-291.24\"/>\n",
       "<polygon fill=\"black\" stroke=\"black\" points=\"62.5,-291.26 59,-281.26 55.5,-291.26 62.5,-291.26\"/>\n",
       "</g>\n",
       "<!-- 140172251072832 -->\n",
       "<g id=\"node7\" class=\"node\">\n",
       "<title>140172251072832</title>\n",
       "<polygon fill=\"lightgrey\" stroke=\"black\" points=\"221,-279.25 127,-279.25 127,-257 221,-257 221,-279.25\"/>\n",
       "<text text-anchor=\"middle\" x=\"174\" y=\"-265.75\" font-family=\"monospace\" font-size=\"10.00\">ViewBackward0</text>\n",
       "</g>\n",
       "<!-- 140172251072832&#45;&gt;140172251083488 -->\n",
       "<g id=\"edge5\" class=\"edge\">\n",
       "<title>140172251072832&#45;&gt;140172251083488</title>\n",
       "<path fill=\"none\" stroke=\"black\" d=\"M174,-256.54C174,-249.87 174,-240.99 174,-232.84\"/>\n",
       "<polygon fill=\"black\" stroke=\"black\" points=\"177.5,-232.92 174,-222.92 170.5,-232.92 177.5,-232.92\"/>\n",
       "</g>\n",
       "<!-- 140172251076720 -->\n",
       "<g id=\"node8\" class=\"node\">\n",
       "<title>140172251076720</title>\n",
       "<polygon fill=\"lightgrey\" stroke=\"black\" points=\"218,-344.62 124,-344.62 124,-322.38 218,-322.38 218,-344.62\"/>\n",
       "<text text-anchor=\"middle\" x=\"171\" y=\"-331.12\" font-family=\"monospace\" font-size=\"10.00\">ReluBackward0</text>\n",
       "</g>\n",
       "<!-- 140172251076720&#45;&gt;140172251072832 -->\n",
       "<g id=\"edge6\" class=\"edge\">\n",
       "<title>140172251076720&#45;&gt;140172251072832</title>\n",
       "<path fill=\"none\" stroke=\"black\" d=\"M171.5,-322.03C171.9,-313.54 172.48,-301.29 172.98,-290.72\"/>\n",
       "<polygon fill=\"black\" stroke=\"black\" points=\"176.47,-291.06 173.44,-280.91 169.47,-290.73 176.47,-291.06\"/>\n",
       "</g>\n",
       "<!-- 140172251080944 -->\n",
       "<g id=\"node9\" class=\"node\">\n",
       "<title>140172251080944</title>\n",
       "<polygon fill=\"lightgrey\" stroke=\"black\" points=\"218,-417.12 124,-417.12 124,-394.88 218,-394.88 218,-417.12\"/>\n",
       "<text text-anchor=\"middle\" x=\"171\" y=\"-403.62\" font-family=\"monospace\" font-size=\"10.00\">ViewBackward0</text>\n",
       "</g>\n",
       "<!-- 140172251080944&#45;&gt;140172251076720 -->\n",
       "<g id=\"edge7\" class=\"edge\">\n",
       "<title>140172251080944&#45;&gt;140172251076720</title>\n",
       "<path fill=\"none\" stroke=\"black\" d=\"M171,-394.6C171,-384.5 171,-368.86 171,-356.06\"/>\n",
       "<polygon fill=\"black\" stroke=\"black\" points=\"174.5,-356.46 171,-346.46 167.5,-356.46 174.5,-356.46\"/>\n",
       "</g>\n",
       "<!-- 140172251081952 -->\n",
       "<g id=\"node10\" class=\"node\">\n",
       "<title>140172251081952</title>\n",
       "<polygon fill=\"lightgrey\" stroke=\"black\" points=\"221,-482.5 121,-482.5 121,-460.25 221,-460.25 221,-482.5\"/>\n",
       "<text text-anchor=\"middle\" x=\"171\" y=\"-469\" font-family=\"monospace\" font-size=\"10.00\">AddmmBackward0</text>\n",
       "</g>\n",
       "<!-- 140172251081952&#45;&gt;140172251080944 -->\n",
       "<g id=\"edge8\" class=\"edge\">\n",
       "<title>140172251081952&#45;&gt;140172251080944</title>\n",
       "<path fill=\"none\" stroke=\"black\" d=\"M171,-459.91C171,-451.42 171,-439.17 171,-428.59\"/>\n",
       "<polygon fill=\"black\" stroke=\"black\" points=\"174.5,-428.78 171,-418.78 167.5,-428.78 174.5,-428.78\"/>\n",
       "</g>\n",
       "<!-- 140172405378160 -->\n",
       "<g id=\"node11\" class=\"node\">\n",
       "<title>140172405378160</title>\n",
       "<polygon fill=\"lightgrey\" stroke=\"black\" points=\"106,-540.75 6,-540.75 6,-518.5 106,-518.5 106,-540.75\"/>\n",
       "<text text-anchor=\"middle\" x=\"56\" y=\"-527.25\" font-family=\"monospace\" font-size=\"10.00\">AccumulateGrad</text>\n",
       "</g>\n",
       "<!-- 140172405378160&#45;&gt;140172251081952 -->\n",
       "<g id=\"edge9\" class=\"edge\">\n",
       "<title>140172405378160&#45;&gt;140172251081952</title>\n",
       "<path fill=\"none\" stroke=\"black\" d=\"M77.63,-518.04C94.98,-509.56 119.58,-497.53 139.17,-487.94\"/>\n",
       "<polygon fill=\"black\" stroke=\"black\" points=\"140.66,-491.11 148.11,-483.57 137.59,-484.82 140.66,-491.11\"/>\n",
       "</g>\n",
       "<!-- 140172235485440 -->\n",
       "<g id=\"node12\" class=\"node\">\n",
       "<title>140172235485440</title>\n",
       "<polygon fill=\"lightblue\" stroke=\"black\" points=\"88,-613.25 24,-613.25 24,-576.75 88,-576.75 88,-613.25\"/>\n",
       "<text text-anchor=\"middle\" x=\"56\" y=\"-599.75\" font-family=\"monospace\" font-size=\"10.00\">ff3.bias</text>\n",
       "<text text-anchor=\"middle\" x=\"56\" y=\"-585.5\" font-family=\"monospace\" font-size=\"10.00\"> (200)</text>\n",
       "</g>\n",
       "<!-- 140172235485440&#45;&gt;140172405378160 -->\n",
       "<g id=\"edge10\" class=\"edge\">\n",
       "<title>140172235485440&#45;&gt;140172405378160</title>\n",
       "<path fill=\"none\" stroke=\"black\" d=\"M56,-576.35C56,-569.03 56,-560.47 56,-552.74\"/>\n",
       "<polygon fill=\"black\" stroke=\"black\" points=\"59.5,-552.76 56,-542.76 52.5,-552.76 59.5,-552.76\"/>\n",
       "</g>\n",
       "<!-- 140172405384448 -->\n",
       "<g id=\"node13\" class=\"node\">\n",
       "<title>140172405384448</title>\n",
       "<polygon fill=\"lightgrey\" stroke=\"black\" points=\"218,-540.75 124,-540.75 124,-518.5 218,-518.5 218,-540.75\"/>\n",
       "<text text-anchor=\"middle\" x=\"171\" y=\"-527.25\" font-family=\"monospace\" font-size=\"10.00\">ViewBackward0</text>\n",
       "</g>\n",
       "<!-- 140172405384448&#45;&gt;140172251081952 -->\n",
       "<g id=\"edge11\" class=\"edge\">\n",
       "<title>140172405384448&#45;&gt;140172251081952</title>\n",
       "<path fill=\"none\" stroke=\"black\" d=\"M171,-518.04C171,-511.37 171,-502.49 171,-494.34\"/>\n",
       "<polygon fill=\"black\" stroke=\"black\" points=\"174.5,-494.42 171,-484.42 167.5,-494.42 174.5,-494.42\"/>\n",
       "</g>\n",
       "<!-- 140172258487424 -->\n",
       "<g id=\"node14\" class=\"node\">\n",
       "<title>140172258487424</title>\n",
       "<polygon fill=\"lightgrey\" stroke=\"black\" points=\"215,-606.12 121,-606.12 121,-583.88 215,-583.88 215,-606.12\"/>\n",
       "<text text-anchor=\"middle\" x=\"168\" y=\"-592.62\" font-family=\"monospace\" font-size=\"10.00\">ReluBackward0</text>\n",
       "</g>\n",
       "<!-- 140172258487424&#45;&gt;140172405384448 -->\n",
       "<g id=\"edge12\" class=\"edge\">\n",
       "<title>140172258487424&#45;&gt;140172405384448</title>\n",
       "<path fill=\"none\" stroke=\"black\" d=\"M168.5,-583.53C168.9,-575.04 169.48,-562.79 169.98,-552.22\"/>\n",
       "<polygon fill=\"black\" stroke=\"black\" points=\"173.47,-552.56 170.44,-542.41 166.47,-552.23 173.47,-552.56\"/>\n",
       "</g>\n",
       "<!-- 140172251361728 -->\n",
       "<g id=\"node15\" class=\"node\">\n",
       "<title>140172251361728</title>\n",
       "<polygon fill=\"lightgrey\" stroke=\"black\" points=\"215,-678.62 121,-678.62 121,-656.38 215,-656.38 215,-678.62\"/>\n",
       "<text text-anchor=\"middle\" x=\"168\" y=\"-665.12\" font-family=\"monospace\" font-size=\"10.00\">ViewBackward0</text>\n",
       "</g>\n",
       "<!-- 140172251361728&#45;&gt;140172258487424 -->\n",
       "<g id=\"edge13\" class=\"edge\">\n",
       "<title>140172251361728&#45;&gt;140172258487424</title>\n",
       "<path fill=\"none\" stroke=\"black\" d=\"M168,-656.1C168,-646 168,-630.36 168,-617.56\"/>\n",
       "<polygon fill=\"black\" stroke=\"black\" points=\"171.5,-617.96 168,-607.96 164.5,-617.96 171.5,-617.96\"/>\n",
       "</g>\n",
       "<!-- 140172257121024 -->\n",
       "<g id=\"node16\" class=\"node\">\n",
       "<title>140172257121024</title>\n",
       "<polygon fill=\"lightgrey\" stroke=\"black\" points=\"218,-744 118,-744 118,-721.75 218,-721.75 218,-744\"/>\n",
       "<text text-anchor=\"middle\" x=\"168\" y=\"-730.5\" font-family=\"monospace\" font-size=\"10.00\">AddmmBackward0</text>\n",
       "</g>\n",
       "<!-- 140172257121024&#45;&gt;140172251361728 -->\n",
       "<g id=\"edge14\" class=\"edge\">\n",
       "<title>140172257121024&#45;&gt;140172251361728</title>\n",
       "<path fill=\"none\" stroke=\"black\" d=\"M168,-721.41C168,-712.92 168,-700.67 168,-690.09\"/>\n",
       "<polygon fill=\"black\" stroke=\"black\" points=\"171.5,-690.28 168,-680.28 164.5,-690.28 171.5,-690.28\"/>\n",
       "</g>\n",
       "<!-- 140172257116992 -->\n",
       "<g id=\"node17\" class=\"node\">\n",
       "<title>140172257116992</title>\n",
       "<polygon fill=\"lightgrey\" stroke=\"black\" points=\"103,-802.25 3,-802.25 3,-780 103,-780 103,-802.25\"/>\n",
       "<text text-anchor=\"middle\" x=\"53\" y=\"-788.75\" font-family=\"monospace\" font-size=\"10.00\">AccumulateGrad</text>\n",
       "</g>\n",
       "<!-- 140172257116992&#45;&gt;140172257121024 -->\n",
       "<g id=\"edge15\" class=\"edge\">\n",
       "<title>140172257116992&#45;&gt;140172257121024</title>\n",
       "<path fill=\"none\" stroke=\"black\" d=\"M74.63,-779.54C91.98,-771.06 116.58,-759.03 136.17,-749.44\"/>\n",
       "<polygon fill=\"black\" stroke=\"black\" points=\"137.66,-752.61 145.11,-745.07 134.59,-746.32 137.66,-752.61\"/>\n",
       "</g>\n",
       "<!-- 140172707651696 -->\n",
       "<g id=\"node18\" class=\"node\">\n",
       "<title>140172707651696</title>\n",
       "<polygon fill=\"lightblue\" stroke=\"black\" points=\"85,-874.75 21,-874.75 21,-838.25 85,-838.25 85,-874.75\"/>\n",
       "<text text-anchor=\"middle\" x=\"53\" y=\"-861.25\" font-family=\"monospace\" font-size=\"10.00\">ff2.bias</text>\n",
       "<text text-anchor=\"middle\" x=\"53\" y=\"-847\" font-family=\"monospace\" font-size=\"10.00\"> (200)</text>\n",
       "</g>\n",
       "<!-- 140172707651696&#45;&gt;140172257116992 -->\n",
       "<g id=\"edge16\" class=\"edge\">\n",
       "<title>140172707651696&#45;&gt;140172257116992</title>\n",
       "<path fill=\"none\" stroke=\"black\" d=\"M53,-837.85C53,-830.53 53,-821.97 53,-814.24\"/>\n",
       "<polygon fill=\"black\" stroke=\"black\" points=\"56.5,-814.26 53,-804.26 49.5,-814.26 56.5,-814.26\"/>\n",
       "</g>\n",
       "<!-- 140172257127744 -->\n",
       "<g id=\"node19\" class=\"node\">\n",
       "<title>140172257127744</title>\n",
       "<polygon fill=\"lightgrey\" stroke=\"black\" points=\"215,-802.25 121,-802.25 121,-780 215,-780 215,-802.25\"/>\n",
       "<text text-anchor=\"middle\" x=\"168\" y=\"-788.75\" font-family=\"monospace\" font-size=\"10.00\">ViewBackward0</text>\n",
       "</g>\n",
       "<!-- 140172257127744&#45;&gt;140172257121024 -->\n",
       "<g id=\"edge17\" class=\"edge\">\n",
       "<title>140172257127744&#45;&gt;140172257121024</title>\n",
       "<path fill=\"none\" stroke=\"black\" d=\"M168,-779.54C168,-772.87 168,-763.99 168,-755.84\"/>\n",
       "<polygon fill=\"black\" stroke=\"black\" points=\"171.5,-755.92 168,-745.92 164.5,-755.92 171.5,-755.92\"/>\n",
       "</g>\n",
       "<!-- 140172257118000 -->\n",
       "<g id=\"node20\" class=\"node\">\n",
       "<title>140172257118000</title>\n",
       "<polygon fill=\"lightgrey\" stroke=\"black\" points=\"212,-867.62 118,-867.62 118,-845.38 212,-845.38 212,-867.62\"/>\n",
       "<text text-anchor=\"middle\" x=\"165\" y=\"-854.12\" font-family=\"monospace\" font-size=\"10.00\">ReluBackward0</text>\n",
       "</g>\n",
       "<!-- 140172257118000&#45;&gt;140172257127744 -->\n",
       "<g id=\"edge18\" class=\"edge\">\n",
       "<title>140172257118000&#45;&gt;140172257127744</title>\n",
       "<path fill=\"none\" stroke=\"black\" d=\"M165.5,-845.03C165.9,-836.54 166.48,-824.29 166.98,-813.72\"/>\n",
       "<polygon fill=\"black\" stroke=\"black\" points=\"170.47,-814.06 167.44,-803.91 163.47,-813.73 170.47,-814.06\"/>\n",
       "</g>\n",
       "<!-- 140172257116416 -->\n",
       "<g id=\"node21\" class=\"node\">\n",
       "<title>140172257116416</title>\n",
       "<polygon fill=\"lightgrey\" stroke=\"black\" points=\"212,-940.12 118,-940.12 118,-917.88 212,-917.88 212,-940.12\"/>\n",
       "<text text-anchor=\"middle\" x=\"165\" y=\"-926.62\" font-family=\"monospace\" font-size=\"10.00\">ViewBackward0</text>\n",
       "</g>\n",
       "<!-- 140172257116416&#45;&gt;140172257118000 -->\n",
       "<g id=\"edge19\" class=\"edge\">\n",
       "<title>140172257116416&#45;&gt;140172257118000</title>\n",
       "<path fill=\"none\" stroke=\"black\" d=\"M165,-917.6C165,-907.5 165,-891.86 165,-879.06\"/>\n",
       "<polygon fill=\"black\" stroke=\"black\" points=\"168.5,-879.46 165,-869.46 161.5,-879.46 168.5,-879.46\"/>\n",
       "</g>\n",
       "<!-- 140172257120112 -->\n",
       "<g id=\"node22\" class=\"node\">\n",
       "<title>140172257120112</title>\n",
       "<polygon fill=\"lightgrey\" stroke=\"black\" points=\"215,-1005.5 115,-1005.5 115,-983.25 215,-983.25 215,-1005.5\"/>\n",
       "<text text-anchor=\"middle\" x=\"165\" y=\"-992\" font-family=\"monospace\" font-size=\"10.00\">AddmmBackward0</text>\n",
       "</g>\n",
       "<!-- 140172257120112&#45;&gt;140172257116416 -->\n",
       "<g id=\"edge20\" class=\"edge\">\n",
       "<title>140172257120112&#45;&gt;140172257116416</title>\n",
       "<path fill=\"none\" stroke=\"black\" d=\"M165,-982.91C165,-974.42 165,-962.17 165,-951.59\"/>\n",
       "<polygon fill=\"black\" stroke=\"black\" points=\"168.5,-951.78 165,-941.78 161.5,-951.78 168.5,-951.78\"/>\n",
       "</g>\n",
       "<!-- 140172257117712 -->\n",
       "<g id=\"node23\" class=\"node\">\n",
       "<title>140172257117712</title>\n",
       "<polygon fill=\"lightgrey\" stroke=\"black\" points=\"100,-1063.75 0,-1063.75 0,-1041.5 100,-1041.5 100,-1063.75\"/>\n",
       "<text text-anchor=\"middle\" x=\"50\" y=\"-1050.25\" font-family=\"monospace\" font-size=\"10.00\">AccumulateGrad</text>\n",
       "</g>\n",
       "<!-- 140172257117712&#45;&gt;140172257120112 -->\n",
       "<g id=\"edge21\" class=\"edge\">\n",
       "<title>140172257117712&#45;&gt;140172257120112</title>\n",
       "<path fill=\"none\" stroke=\"black\" d=\"M71.63,-1041.04C88.98,-1032.56 113.58,-1020.53 133.17,-1010.94\"/>\n",
       "<polygon fill=\"black\" stroke=\"black\" points=\"134.66,-1014.11 142.11,-1006.57 131.59,-1007.82 134.66,-1014.11\"/>\n",
       "</g>\n",
       "<!-- 140174922076288 -->\n",
       "<g id=\"node24\" class=\"node\">\n",
       "<title>140174922076288</title>\n",
       "<polygon fill=\"lightblue\" stroke=\"black\" points=\"82,-1136.25 18,-1136.25 18,-1099.75 82,-1099.75 82,-1136.25\"/>\n",
       "<text text-anchor=\"middle\" x=\"50\" y=\"-1122.75\" font-family=\"monospace\" font-size=\"10.00\">ff1.bias</text>\n",
       "<text text-anchor=\"middle\" x=\"50\" y=\"-1108.5\" font-family=\"monospace\" font-size=\"10.00\"> (200)</text>\n",
       "</g>\n",
       "<!-- 140174922076288&#45;&gt;140172257117712 -->\n",
       "<g id=\"edge22\" class=\"edge\">\n",
       "<title>140174922076288&#45;&gt;140172257117712</title>\n",
       "<path fill=\"none\" stroke=\"black\" d=\"M50,-1099.35C50,-1092.03 50,-1083.47 50,-1075.74\"/>\n",
       "<polygon fill=\"black\" stroke=\"black\" points=\"53.5,-1075.76 50,-1065.76 46.5,-1075.76 53.5,-1075.76\"/>\n",
       "</g>\n",
       "<!-- 140172257127888 -->\n",
       "<g id=\"node25\" class=\"node\">\n",
       "<title>140172257127888</title>\n",
       "<polygon fill=\"lightgrey\" stroke=\"black\" points=\"212,-1063.75 118,-1063.75 118,-1041.5 212,-1041.5 212,-1063.75\"/>\n",
       "<text text-anchor=\"middle\" x=\"165\" y=\"-1050.25\" font-family=\"monospace\" font-size=\"10.00\">ViewBackward0</text>\n",
       "</g>\n",
       "<!-- 140172257127888&#45;&gt;140172257120112 -->\n",
       "<g id=\"edge23\" class=\"edge\">\n",
       "<title>140172257127888&#45;&gt;140172257120112</title>\n",
       "<path fill=\"none\" stroke=\"black\" d=\"M165,-1041.04C165,-1034.37 165,-1025.49 165,-1017.34\"/>\n",
       "<polygon fill=\"black\" stroke=\"black\" points=\"168.5,-1017.42 165,-1007.42 161.5,-1017.42 168.5,-1017.42\"/>\n",
       "</g>\n",
       "<!-- 140172257117424 -->\n",
       "<g id=\"node26\" class=\"node\">\n",
       "<title>140172257117424</title>\n",
       "<polygon fill=\"lightgrey\" stroke=\"black\" points=\"212,-1129.12 106,-1129.12 106,-1106.88 212,-1106.88 212,-1129.12\"/>\n",
       "<text text-anchor=\"middle\" x=\"159\" y=\"-1115.62\" font-family=\"monospace\" font-size=\"10.00\">ToCopyBackward0</text>\n",
       "</g>\n",
       "<!-- 140172257117424&#45;&gt;140172257127888 -->\n",
       "<g id=\"edge24\" class=\"edge\">\n",
       "<title>140172257117424&#45;&gt;140172257127888</title>\n",
       "<path fill=\"none\" stroke=\"black\" d=\"M159.99,-1106.53C160.79,-1098.04 161.95,-1085.79 162.96,-1075.22\"/>\n",
       "<polygon fill=\"black\" stroke=\"black\" points=\"166.43,-1075.69 163.88,-1065.4 159.46,-1075.03 166.43,-1075.69\"/>\n",
       "</g>\n",
       "<!-- 140172257116464 -->\n",
       "<g id=\"node27\" class=\"node\">\n",
       "<title>140172257116464</title>\n",
       "<polygon fill=\"lightgrey\" stroke=\"black\" points=\"209,-1201.62 109,-1201.62 109,-1179.38 209,-1179.38 209,-1201.62\"/>\n",
       "<text text-anchor=\"middle\" x=\"159\" y=\"-1188.12\" font-family=\"monospace\" font-size=\"10.00\">AccumulateGrad</text>\n",
       "</g>\n",
       "<!-- 140172257116464&#45;&gt;140172257117424 -->\n",
       "<g id=\"edge25\" class=\"edge\">\n",
       "<title>140172257116464&#45;&gt;140172257117424</title>\n",
       "<path fill=\"none\" stroke=\"black\" d=\"M159,-1179.1C159,-1169 159,-1153.36 159,-1140.56\"/>\n",
       "<polygon fill=\"black\" stroke=\"black\" points=\"162.5,-1140.96 159,-1130.96 155.5,-1140.96 162.5,-1140.96\"/>\n",
       "</g>\n",
       "<!-- 140172268326240 -->\n",
       "<g id=\"node28\" class=\"node\">\n",
       "<title>140172268326240</title>\n",
       "<polygon fill=\"lightblue\" stroke=\"black\" points=\"209,-1281.25 109,-1281.25 109,-1244.75 209,-1244.75 209,-1281.25\"/>\n",
       "<text text-anchor=\"middle\" x=\"159\" y=\"-1267.75\" font-family=\"monospace\" font-size=\"10.00\">sample_inputs</text>\n",
       "<text text-anchor=\"middle\" x=\"159\" y=\"-1253.5\" font-family=\"monospace\" font-size=\"10.00\"> (1024, 1, 75)</text>\n",
       "</g>\n",
       "<!-- 140172268326240&#45;&gt;140172257116464 -->\n",
       "<g id=\"edge26\" class=\"edge\">\n",
       "<title>140172268326240&#45;&gt;140172257116464</title>\n",
       "<path fill=\"none\" stroke=\"black\" d=\"M159,-1244.57C159,-1235.17 159,-1223.47 159,-1213.45\"/>\n",
       "<polygon fill=\"black\" stroke=\"black\" points=\"162.5,-1213.47 159,-1203.47 155.5,-1213.47 162.5,-1213.47\"/>\n",
       "</g>\n",
       "<!-- 140172257122320 -->\n",
       "<g id=\"node29\" class=\"node\">\n",
       "<title>140172257122320</title>\n",
       "<polygon fill=\"lightgrey\" stroke=\"black\" points=\"312,-1063.75 236,-1063.75 236,-1041.5 312,-1041.5 312,-1063.75\"/>\n",
       "<text text-anchor=\"middle\" x=\"274\" y=\"-1050.25\" font-family=\"monospace\" font-size=\"10.00\">TBackward0</text>\n",
       "</g>\n",
       "<!-- 140172257122320&#45;&gt;140172257120112 -->\n",
       "<g id=\"edge27\" class=\"edge\">\n",
       "<title>140172257122320&#45;&gt;140172257120112</title>\n",
       "<path fill=\"none\" stroke=\"black\" d=\"M253.5,-1041.04C237.13,-1032.6 213.95,-1020.64 195.42,-1011.08\"/>\n",
       "<polygon fill=\"black\" stroke=\"black\" points=\"197.25,-1008.08 186.76,-1006.6 194.04,-1014.3 197.25,-1008.08\"/>\n",
       "</g>\n",
       "<!-- 140172257116848 -->\n",
       "<g id=\"node30\" class=\"node\">\n",
       "<title>140172257116848</title>\n",
       "<polygon fill=\"lightgrey\" stroke=\"black\" points=\"330,-1129.12 230,-1129.12 230,-1106.88 330,-1106.88 330,-1129.12\"/>\n",
       "<text text-anchor=\"middle\" x=\"280\" y=\"-1115.62\" font-family=\"monospace\" font-size=\"10.00\">AccumulateGrad</text>\n",
       "</g>\n",
       "<!-- 140172257116848&#45;&gt;140172257122320 -->\n",
       "<g id=\"edge28\" class=\"edge\">\n",
       "<title>140172257116848&#45;&gt;140172257122320</title>\n",
       "<path fill=\"none\" stroke=\"black\" d=\"M279.01,-1106.53C278.21,-1098.04 277.05,-1085.79 276.04,-1075.22\"/>\n",
       "<polygon fill=\"black\" stroke=\"black\" points=\"279.54,-1075.03 275.12,-1065.4 272.57,-1075.69 279.54,-1075.03\"/>\n",
       "</g>\n",
       "<!-- 140172428648000 -->\n",
       "<g id=\"node31\" class=\"node\">\n",
       "<title>140172428648000</title>\n",
       "<polygon fill=\"lightblue\" stroke=\"black\" points=\"318,-1208.75 242,-1208.75 242,-1172.25 318,-1172.25 318,-1208.75\"/>\n",
       "<text text-anchor=\"middle\" x=\"280\" y=\"-1195.25\" font-family=\"monospace\" font-size=\"10.00\">ff1.weight</text>\n",
       "<text text-anchor=\"middle\" x=\"280\" y=\"-1181\" font-family=\"monospace\" font-size=\"10.00\"> (200, 75)</text>\n",
       "</g>\n",
       "<!-- 140172428648000&#45;&gt;140172257116848 -->\n",
       "<g id=\"edge29\" class=\"edge\">\n",
       "<title>140172428648000&#45;&gt;140172257116848</title>\n",
       "<path fill=\"none\" stroke=\"black\" d=\"M280,-1172.07C280,-1162.67 280,-1150.97 280,-1140.95\"/>\n",
       "<polygon fill=\"black\" stroke=\"black\" points=\"283.5,-1140.97 280,-1130.97 276.5,-1140.97 283.5,-1140.97\"/>\n",
       "</g>\n",
       "<!-- 140172257118960 -->\n",
       "<g id=\"node32\" class=\"node\">\n",
       "<title>140172257118960</title>\n",
       "<polygon fill=\"lightgrey\" stroke=\"black\" points=\"312,-802.25 236,-802.25 236,-780 312,-780 312,-802.25\"/>\n",
       "<text text-anchor=\"middle\" x=\"274\" y=\"-788.75\" font-family=\"monospace\" font-size=\"10.00\">TBackward0</text>\n",
       "</g>\n",
       "<!-- 140172257118960&#45;&gt;140172257121024 -->\n",
       "<g id=\"edge30\" class=\"edge\">\n",
       "<title>140172257118960&#45;&gt;140172257121024</title>\n",
       "<path fill=\"none\" stroke=\"black\" d=\"M254.06,-779.54C238.22,-771.14 215.82,-759.25 197.84,-749.71\"/>\n",
       "<polygon fill=\"black\" stroke=\"black\" points=\"199.66,-746.71 189.19,-745.12 196.38,-752.9 199.66,-746.71\"/>\n",
       "</g>\n",
       "<!-- 140172257117760 -->\n",
       "<g id=\"node33\" class=\"node\">\n",
       "<title>140172257117760</title>\n",
       "<polygon fill=\"lightgrey\" stroke=\"black\" points=\"330,-867.62 230,-867.62 230,-845.38 330,-845.38 330,-867.62\"/>\n",
       "<text text-anchor=\"middle\" x=\"280\" y=\"-854.12\" font-family=\"monospace\" font-size=\"10.00\">AccumulateGrad</text>\n",
       "</g>\n",
       "<!-- 140172257117760&#45;&gt;140172257118960 -->\n",
       "<g id=\"edge31\" class=\"edge\">\n",
       "<title>140172257117760&#45;&gt;140172257118960</title>\n",
       "<path fill=\"none\" stroke=\"black\" d=\"M279.01,-845.03C278.21,-836.54 277.05,-824.29 276.04,-813.72\"/>\n",
       "<polygon fill=\"black\" stroke=\"black\" points=\"279.54,-813.53 275.12,-803.9 272.57,-814.19 279.54,-813.53\"/>\n",
       "</g>\n",
       "<!-- 140172428647760 -->\n",
       "<g id=\"node34\" class=\"node\">\n",
       "<title>140172428647760</title>\n",
       "<polygon fill=\"lightblue\" stroke=\"black\" points=\"321,-947.25 239,-947.25 239,-910.75 321,-910.75 321,-947.25\"/>\n",
       "<text text-anchor=\"middle\" x=\"280\" y=\"-933.75\" font-family=\"monospace\" font-size=\"10.00\">ff2.weight</text>\n",
       "<text text-anchor=\"middle\" x=\"280\" y=\"-919.5\" font-family=\"monospace\" font-size=\"10.00\"> (200, 200)</text>\n",
       "</g>\n",
       "<!-- 140172428647760&#45;&gt;140172257117760 -->\n",
       "<g id=\"edge32\" class=\"edge\">\n",
       "<title>140172428647760&#45;&gt;140172257117760</title>\n",
       "<path fill=\"none\" stroke=\"black\" d=\"M280,-910.57C280,-901.17 280,-889.47 280,-879.45\"/>\n",
       "<polygon fill=\"black\" stroke=\"black\" points=\"283.5,-879.47 280,-869.47 276.5,-879.47 283.5,-879.47\"/>\n",
       "</g>\n",
       "<!-- 140172258482000 -->\n",
       "<g id=\"node35\" class=\"node\">\n",
       "<title>140172258482000</title>\n",
       "<polygon fill=\"lightgrey\" stroke=\"black\" points=\"315,-540.75 239,-540.75 239,-518.5 315,-518.5 315,-540.75\"/>\n",
       "<text text-anchor=\"middle\" x=\"277\" y=\"-527.25\" font-family=\"monospace\" font-size=\"10.00\">TBackward0</text>\n",
       "</g>\n",
       "<!-- 140172258482000&#45;&gt;140172251081952 -->\n",
       "<g id=\"edge33\" class=\"edge\">\n",
       "<title>140172258482000&#45;&gt;140172251081952</title>\n",
       "<path fill=\"none\" stroke=\"black\" d=\"M257.06,-518.04C241.22,-509.64 218.82,-497.75 200.84,-488.21\"/>\n",
       "<polygon fill=\"black\" stroke=\"black\" points=\"202.66,-485.21 192.19,-483.62 199.38,-491.4 202.66,-485.21\"/>\n",
       "</g>\n",
       "<!-- 140172251364656 -->\n",
       "<g id=\"node36\" class=\"node\">\n",
       "<title>140172251364656</title>\n",
       "<polygon fill=\"lightgrey\" stroke=\"black\" points=\"333,-606.12 233,-606.12 233,-583.88 333,-583.88 333,-606.12\"/>\n",
       "<text text-anchor=\"middle\" x=\"283\" y=\"-592.62\" font-family=\"monospace\" font-size=\"10.00\">AccumulateGrad</text>\n",
       "</g>\n",
       "<!-- 140172251364656&#45;&gt;140172258482000 -->\n",
       "<g id=\"edge34\" class=\"edge\">\n",
       "<title>140172251364656&#45;&gt;140172258482000</title>\n",
       "<path fill=\"none\" stroke=\"black\" d=\"M282.01,-583.53C281.21,-575.04 280.05,-562.79 279.04,-552.22\"/>\n",
       "<polygon fill=\"black\" stroke=\"black\" points=\"282.54,-552.03 278.12,-542.4 275.57,-552.69 282.54,-552.03\"/>\n",
       "</g>\n",
       "<!-- 140172707657056 -->\n",
       "<g id=\"node37\" class=\"node\">\n",
       "<title>140172707657056</title>\n",
       "<polygon fill=\"lightblue\" stroke=\"black\" points=\"324,-685.75 242,-685.75 242,-649.25 324,-649.25 324,-685.75\"/>\n",
       "<text text-anchor=\"middle\" x=\"283\" y=\"-672.25\" font-family=\"monospace\" font-size=\"10.00\">ff3.weight</text>\n",
       "<text text-anchor=\"middle\" x=\"283\" y=\"-658\" font-family=\"monospace\" font-size=\"10.00\"> (200, 200)</text>\n",
       "</g>\n",
       "<!-- 140172707657056&#45;&gt;140172251364656 -->\n",
       "<g id=\"edge35\" class=\"edge\">\n",
       "<title>140172707657056&#45;&gt;140172251364656</title>\n",
       "<path fill=\"none\" stroke=\"black\" d=\"M283,-649.07C283,-639.67 283,-627.97 283,-617.95\"/>\n",
       "<polygon fill=\"black\" stroke=\"black\" points=\"286.5,-617.97 283,-607.97 279.5,-617.97 286.5,-617.97\"/>\n",
       "</g>\n",
       "<!-- 140172251081856 -->\n",
       "<g id=\"node38\" class=\"node\">\n",
       "<title>140172251081856</title>\n",
       "<polygon fill=\"lightgrey\" stroke=\"black\" points=\"318,-279.25 242,-279.25 242,-257 318,-257 318,-279.25\"/>\n",
       "<text text-anchor=\"middle\" x=\"280\" y=\"-265.75\" font-family=\"monospace\" font-size=\"10.00\">TBackward0</text>\n",
       "</g>\n",
       "<!-- 140172251081856&#45;&gt;140172251083488 -->\n",
       "<g id=\"edge36\" class=\"edge\">\n",
       "<title>140172251081856&#45;&gt;140172251083488</title>\n",
       "<path fill=\"none\" stroke=\"black\" d=\"M260.06,-256.54C244.22,-248.14 221.82,-236.25 203.84,-226.71\"/>\n",
       "<polygon fill=\"black\" stroke=\"black\" points=\"205.66,-223.71 195.19,-222.12 202.38,-229.9 205.66,-223.71\"/>\n",
       "</g>\n",
       "<!-- 140172405375520 -->\n",
       "<g id=\"node39\" class=\"node\">\n",
       "<title>140172405375520</title>\n",
       "<polygon fill=\"lightgrey\" stroke=\"black\" points=\"336,-344.62 236,-344.62 236,-322.38 336,-322.38 336,-344.62\"/>\n",
       "<text text-anchor=\"middle\" x=\"286\" y=\"-331.12\" font-family=\"monospace\" font-size=\"10.00\">AccumulateGrad</text>\n",
       "</g>\n",
       "<!-- 140172405375520&#45;&gt;140172251081856 -->\n",
       "<g id=\"edge37\" class=\"edge\">\n",
       "<title>140172405375520&#45;&gt;140172251081856</title>\n",
       "<path fill=\"none\" stroke=\"black\" d=\"M285.01,-322.03C284.21,-313.54 283.05,-301.29 282.04,-290.72\"/>\n",
       "<polygon fill=\"black\" stroke=\"black\" points=\"285.54,-290.53 281.12,-280.9 278.57,-291.19 285.54,-290.53\"/>\n",
       "</g>\n",
       "<!-- 140172268789472 -->\n",
       "<g id=\"node40\" class=\"node\">\n",
       "<title>140172268789472</title>\n",
       "<polygon fill=\"lightblue\" stroke=\"black\" points=\"324,-424.25 248,-424.25 248,-387.75 324,-387.75 324,-424.25\"/>\n",
       "<text text-anchor=\"middle\" x=\"286\" y=\"-410.75\" font-family=\"monospace\" font-size=\"10.00\">out.weight</text>\n",
       "<text text-anchor=\"middle\" x=\"286\" y=\"-396.5\" font-family=\"monospace\" font-size=\"10.00\"> (1, 200)</text>\n",
       "</g>\n",
       "<!-- 140172268789472&#45;&gt;140172405375520 -->\n",
       "<g id=\"edge38\" class=\"edge\">\n",
       "<title>140172268789472&#45;&gt;140172405375520</title>\n",
       "<path fill=\"none\" stroke=\"black\" d=\"M286,-387.57C286,-378.17 286,-366.47 286,-356.45\"/>\n",
       "<polygon fill=\"black\" stroke=\"black\" points=\"289.5,-356.47 286,-346.47 282.5,-356.47 289.5,-356.47\"/>\n",
       "</g>\n",
       "<!-- 140176394909584&#45;&gt;140172254415024 -->\n",
       "<g id=\"edge41\" class=\"edge\">\n",
       "<title>140176394909584&#45;&gt;140172254415024</title>\n",
       "<path fill=\"none\" stroke=\"black\" stroke-dasharray=\"1,5\" d=\"M213.41,-69.85C207.41,-61.97 200.09,-52.37 193.4,-43.58\"/>\n",
       "<polygon fill=\"black\" stroke=\"black\" points=\"196.23,-41.53 187.39,-35.7 190.67,-45.77 196.23,-41.53\"/>\n",
       "</g>\n",
       "</g>\n",
       "</svg>\n"
      ],
      "text/plain": [
       "<graphviz.graphs.Digraph at 0x7f7c653359c0>"
      ]
     },
     "execution_count": 203,
     "metadata": {},
     "output_type": "execute_result"
    }
   ],
   "source": [
    "from torchviz import make_dot\n",
    "# Visualize model with torchviz\n",
    "sample_inputs = next(iter(train_loader))[0].requires_grad_(True)\n",
    "sample_y = model_ff(sample_inputs.to(device))\n",
    "make_dot(sample_y, params=dict(list(model_ff.named_parameters())+[('sample_inputs', sample_inputs)]))"
   ]
  },
  {
   "cell_type": "code",
   "execution_count": 204,
   "metadata": {
    "id": "4S1EzAAioGtc"
   },
   "outputs": [
    {
     "data": {
      "text/plain": [
       "==========================================================================================\n",
       "Layer (type:depth-idx)                   Output Shape              Param #\n",
       "==========================================================================================\n",
       "FeedForwardNN                            [1024, 1]                 --\n",
       "├─Linear: 1-1                            [1024, 200]               15,200\n",
       "├─Linear: 1-2                            [1024, 200]               40,200\n",
       "├─Linear: 1-3                            [1024, 200]               40,200\n",
       "├─Linear: 1-4                            [1024, 1]                 201\n",
       "==========================================================================================\n",
       "Total params: 95,801\n",
       "Trainable params: 95,801\n",
       "Non-trainable params: 0\n",
       "Total mult-adds (M): 98.10\n",
       "==========================================================================================\n",
       "Input size (MB): 0.31\n",
       "Forward/backward pass size (MB): 4.92\n",
       "Params size (MB): 0.38\n",
       "Estimated Total Size (MB): 5.61\n",
       "=========================================================================================="
      ]
     },
     "execution_count": 204,
     "metadata": {},
     "output_type": "execute_result"
    }
   ],
   "source": [
    "summary(model_ff, input_size=(1024, 75))"
   ]
  },
  {
   "cell_type": "markdown",
   "metadata": {
    "id": "EfnyZsPlmJW7"
   },
   "source": [
    "### TODO#4\n",
    "\n",
    "Explain why the first linear layer has number of parameters = 15200\n",
    "\n",
    "**Ans:** Because inputs is (1024, 75) so hidden layers is (75, 200) = 75*200 = 15,000 plus bias for output layer 200 so number of param is 15,200"
   ]
  },
  {
   "cell_type": "markdown",
   "metadata": {
    "id": "WLyflo2MxrRW"
   },
   "source": [
    "# Training"
   ]
  },
  {
   "cell_type": "code",
   "execution_count": 205,
   "metadata": {
    "id": "-JqOdbMlxsKl",
    "scrolled": true
   },
   "outputs": [
    {
     "data": {
      "text/html": [
       "wandb version 0.16.4 is available!  To upgrade, please run:\n",
       " $ pip install wandb --upgrade"
      ],
      "text/plain": [
       "<IPython.core.display.HTML object>"
      ]
     },
     "metadata": {},
     "output_type": "display_data"
    },
    {
     "data": {
      "text/html": [
       "Tracking run with wandb version 0.16.3"
      ],
      "text/plain": [
       "<IPython.core.display.HTML object>"
      ]
     },
     "metadata": {},
     "output_type": "display_data"
    },
    {
     "data": {
      "text/html": [
       "Run data is saved locally in <code>/home/naratip/chula/2024/Pattern/Code/HW5/wandb/run-20240319_224932-89kv364d</code>"
      ],
      "text/plain": [
       "<IPython.core.display.HTML object>"
      ]
     },
     "metadata": {},
     "output_type": "display_data"
    },
    {
     "data": {
      "text/html": [
       "Syncing run <strong><a href='https://wandb.ai/naratip-18257/precipitation-nowcasting/runs/89kv364d' target=\"_blank\">fiery-energy-3</a></strong> to <a href='https://wandb.ai/naratip-18257/precipitation-nowcasting' target=\"_blank\">Weights & Biases</a> (<a href='https://wandb.me/run' target=\"_blank\">docs</a>)<br/>"
      ],
      "text/plain": [
       "<IPython.core.display.HTML object>"
      ]
     },
     "metadata": {},
     "output_type": "display_data"
    },
    {
     "data": {
      "text/html": [
       " View project at <a href='https://wandb.ai/naratip-18257/precipitation-nowcasting' target=\"_blank\">https://wandb.ai/naratip-18257/precipitation-nowcasting</a>"
      ],
      "text/plain": [
       "<IPython.core.display.HTML object>"
      ]
     },
     "metadata": {},
     "output_type": "display_data"
    },
    {
     "data": {
      "text/html": [
       " View run at <a href='https://wandb.ai/naratip-18257/precipitation-nowcasting/runs/89kv364d' target=\"_blank\">https://wandb.ai/naratip-18257/precipitation-nowcasting/runs/89kv364d</a>"
      ],
      "text/plain": [
       "<IPython.core.display.HTML object>"
      ]
     },
     "metadata": {},
     "output_type": "display_data"
    },
    {
     "name": "stdout",
     "output_type": "stream",
     "text": [
      "Training epoch 1...\n",
      "Current LR: 0.01\n"
     ]
    },
    {
     "data": {
      "application/vnd.jupyter.widget-view+json": {
       "model_id": "",
       "version_major": 2,
       "version_minor": 0
      },
      "text/plain": [
       "  0%|          | 0/1121 [00:00<?, ?it/s]"
      ]
     },
     "metadata": {},
     "output_type": "display_data"
    },
    {
     "name": "stdout",
     "output_type": "stream",
     "text": [
      "Epoch 1 train loss: 1.9370\n",
      "Validating epoch 1\n"
     ]
    },
    {
     "data": {
      "application/vnd.jupyter.widget-view+json": {
       "model_id": "",
       "version_major": 2,
       "version_minor": 0
      },
      "text/plain": [
       "  0%|          | 0/454 [00:00<?, ?it/s]"
      ]
     },
     "metadata": {},
     "output_type": "display_data"
    },
    {
     "name": "stdout",
     "output_type": "stream",
     "text": [
      "Epoch 1 val loss: 1.6607\n",
      "Saving new best model..\n",
      "Training epoch 2...\n",
      "Current LR: 0.01\n"
     ]
    },
    {
     "data": {
      "application/vnd.jupyter.widget-view+json": {
       "model_id": "",
       "version_major": 2,
       "version_minor": 0
      },
      "text/plain": [
       "  0%|          | 0/1121 [00:00<?, ?it/s]"
      ]
     },
     "metadata": {},
     "output_type": "display_data"
    },
    {
     "name": "stdout",
     "output_type": "stream",
     "text": [
      "Epoch 2 train loss: 1.9237\n",
      "Validating epoch 2\n"
     ]
    },
    {
     "data": {
      "application/vnd.jupyter.widget-view+json": {
       "model_id": "",
       "version_major": 2,
       "version_minor": 0
      },
      "text/plain": [
       "  0%|          | 0/454 [00:00<?, ?it/s]"
      ]
     },
     "metadata": {},
     "output_type": "display_data"
    },
    {
     "name": "stdout",
     "output_type": "stream",
     "text": [
      "Epoch 2 val loss: 1.6629\n",
      "Training epoch 3...\n",
      "Current LR: 0.01\n"
     ]
    },
    {
     "data": {
      "application/vnd.jupyter.widget-view+json": {
       "model_id": "",
       "version_major": 2,
       "version_minor": 0
      },
      "text/plain": [
       "  0%|          | 0/1121 [00:00<?, ?it/s]"
      ]
     },
     "metadata": {},
     "output_type": "display_data"
    },
    {
     "name": "stdout",
     "output_type": "stream",
     "text": [
      "Epoch 3 train loss: 1.9228\n",
      "Validating epoch 3\n"
     ]
    },
    {
     "data": {
      "application/vnd.jupyter.widget-view+json": {
       "model_id": "",
       "version_major": 2,
       "version_minor": 0
      },
      "text/plain": [
       "  0%|          | 0/454 [00:00<?, ?it/s]"
      ]
     },
     "metadata": {},
     "output_type": "display_data"
    },
    {
     "name": "stdout",
     "output_type": "stream",
     "text": [
      "Epoch 3 val loss: 1.6593\n",
      "Saving new best model..\n",
      "Training epoch 4...\n",
      "Current LR: 0.01\n"
     ]
    },
    {
     "data": {
      "application/vnd.jupyter.widget-view+json": {
       "model_id": "",
       "version_major": 2,
       "version_minor": 0
      },
      "text/plain": [
       "  0%|          | 0/1121 [00:00<?, ?it/s]"
      ]
     },
     "metadata": {},
     "output_type": "display_data"
    },
    {
     "name": "stdout",
     "output_type": "stream",
     "text": [
      "Epoch 4 train loss: 1.9226\n",
      "Validating epoch 4\n"
     ]
    },
    {
     "data": {
      "application/vnd.jupyter.widget-view+json": {
       "model_id": "",
       "version_major": 2,
       "version_minor": 0
      },
      "text/plain": [
       "  0%|          | 0/454 [00:00<?, ?it/s]"
      ]
     },
     "metadata": {},
     "output_type": "display_data"
    },
    {
     "name": "stdout",
     "output_type": "stream",
     "text": [
      "Epoch 4 val loss: 1.6623\n",
      "Training epoch 5...\n",
      "Current LR: 0.01\n"
     ]
    },
    {
     "data": {
      "application/vnd.jupyter.widget-view+json": {
       "model_id": "",
       "version_major": 2,
       "version_minor": 0
      },
      "text/plain": [
       "  0%|          | 0/1121 [00:00<?, ?it/s]"
      ]
     },
     "metadata": {},
     "output_type": "display_data"
    },
    {
     "name": "stdout",
     "output_type": "stream",
     "text": [
      "Epoch 5 train loss: 1.9233\n",
      "Validating epoch 5\n"
     ]
    },
    {
     "data": {
      "application/vnd.jupyter.widget-view+json": {
       "model_id": "",
       "version_major": 2,
       "version_minor": 0
      },
      "text/plain": [
       "  0%|          | 0/454 [00:00<?, ?it/s]"
      ]
     },
     "metadata": {},
     "output_type": "display_data"
    },
    {
     "name": "stdout",
     "output_type": "stream",
     "text": [
      "Epoch 5 val loss: 1.6608\n",
      "Training epoch 6...\n",
      "Current LR: 0.01\n"
     ]
    },
    {
     "data": {
      "application/vnd.jupyter.widget-view+json": {
       "model_id": "",
       "version_major": 2,
       "version_minor": 0
      },
      "text/plain": [
       "  0%|          | 0/1121 [00:00<?, ?it/s]"
      ]
     },
     "metadata": {},
     "output_type": "display_data"
    },
    {
     "name": "stdout",
     "output_type": "stream",
     "text": [
      "Epoch 6 train loss: 1.9235\n",
      "Validating epoch 6\n"
     ]
    },
    {
     "data": {
      "application/vnd.jupyter.widget-view+json": {
       "model_id": "",
       "version_major": 2,
       "version_minor": 0
      },
      "text/plain": [
       "  0%|          | 0/454 [00:00<?, ?it/s]"
      ]
     },
     "metadata": {},
     "output_type": "display_data"
    },
    {
     "name": "stdout",
     "output_type": "stream",
     "text": [
      "Epoch 6 val loss: 1.6610\n",
      "Training epoch 7...\n",
      "Current LR: 0.002\n"
     ]
    },
    {
     "data": {
      "application/vnd.jupyter.widget-view+json": {
       "model_id": "",
       "version_major": 2,
       "version_minor": 0
      },
      "text/plain": [
       "  0%|          | 0/1121 [00:00<?, ?it/s]"
      ]
     },
     "metadata": {},
     "output_type": "display_data"
    },
    {
     "name": "stdout",
     "output_type": "stream",
     "text": [
      "Epoch 7 train loss: 1.9233\n",
      "Validating epoch 7\n"
     ]
    },
    {
     "data": {
      "application/vnd.jupyter.widget-view+json": {
       "model_id": "",
       "version_major": 2,
       "version_minor": 0
      },
      "text/plain": [
       "  0%|          | 0/454 [00:00<?, ?it/s]"
      ]
     },
     "metadata": {},
     "output_type": "display_data"
    },
    {
     "name": "stdout",
     "output_type": "stream",
     "text": [
      "Epoch 7 val loss: 1.6610\n",
      "Training epoch 8...\n",
      "Current LR: 0.002\n"
     ]
    },
    {
     "data": {
      "application/vnd.jupyter.widget-view+json": {
       "model_id": "",
       "version_major": 2,
       "version_minor": 0
      },
      "text/plain": [
       "  0%|          | 0/1121 [00:00<?, ?it/s]"
      ]
     },
     "metadata": {},
     "output_type": "display_data"
    },
    {
     "name": "stdout",
     "output_type": "stream",
     "text": [
      "Epoch 8 train loss: 1.9239\n",
      "Validating epoch 8\n"
     ]
    },
    {
     "data": {
      "application/vnd.jupyter.widget-view+json": {
       "model_id": "",
       "version_major": 2,
       "version_minor": 0
      },
      "text/plain": [
       "  0%|          | 0/454 [00:00<?, ?it/s]"
      ]
     },
     "metadata": {},
     "output_type": "display_data"
    },
    {
     "name": "stdout",
     "output_type": "stream",
     "text": [
      "Epoch 8 val loss: 1.6614\n",
      "Training epoch 9...\n",
      "Current LR: 0.002\n"
     ]
    },
    {
     "data": {
      "application/vnd.jupyter.widget-view+json": {
       "model_id": "",
       "version_major": 2,
       "version_minor": 0
      },
      "text/plain": [
       "  0%|          | 0/1121 [00:00<?, ?it/s]"
      ]
     },
     "metadata": {},
     "output_type": "display_data"
    },
    {
     "name": "stdout",
     "output_type": "stream",
     "text": [
      "Epoch 9 train loss: 1.9235\n",
      "Validating epoch 9\n"
     ]
    },
    {
     "data": {
      "application/vnd.jupyter.widget-view+json": {
       "model_id": "",
       "version_major": 2,
       "version_minor": 0
      },
      "text/plain": [
       "  0%|          | 0/454 [00:00<?, ?it/s]"
      ]
     },
     "metadata": {},
     "output_type": "display_data"
    },
    {
     "name": "stdout",
     "output_type": "stream",
     "text": [
      "Epoch 9 val loss: 1.6612\n",
      "Training epoch 10...\n",
      "Current LR: 0.0004\n"
     ]
    },
    {
     "data": {
      "application/vnd.jupyter.widget-view+json": {
       "model_id": "",
       "version_major": 2,
       "version_minor": 0
      },
      "text/plain": [
       "  0%|          | 0/1121 [00:00<?, ?it/s]"
      ]
     },
     "metadata": {},
     "output_type": "display_data"
    },
    {
     "name": "stdout",
     "output_type": "stream",
     "text": [
      "Epoch 10 train loss: 1.9233\n",
      "Validating epoch 10\n"
     ]
    },
    {
     "data": {
      "application/vnd.jupyter.widget-view+json": {
       "model_id": "",
       "version_major": 2,
       "version_minor": 0
      },
      "text/plain": [
       "  0%|          | 0/454 [00:00<?, ?it/s]"
      ]
     },
     "metadata": {},
     "output_type": "display_data"
    },
    {
     "name": "stdout",
     "output_type": "stream",
     "text": [
      "Epoch 10 val loss: 1.6613\n"
     ]
    },
    {
     "data": {
      "application/vnd.jupyter.widget-view+json": {
       "model_id": "",
       "version_major": 2,
       "version_minor": 0
      },
      "text/plain": [
       "VBox(children=(Label(value='0.003 MB of 0.003 MB uploaded\\r'), FloatProgress(value=1.0, max=1.0)))"
      ]
     },
     "metadata": {},
     "output_type": "display_data"
    },
    {
     "data": {
      "text/html": [
       "W&B sync reduced upload amount by 7.8%             "
      ],
      "text/plain": [
       "<IPython.core.display.HTML object>"
      ]
     },
     "metadata": {},
     "output_type": "display_data"
    },
    {
     "data": {
      "text/html": [
       "<style>\n",
       "    table.wandb td:nth-child(1) { padding: 0 10px; text-align: left ; width: auto;} td:nth-child(2) {text-align: left ; width: 100%}\n",
       "    .wandb-row { display: flex; flex-direction: row; flex-wrap: wrap; justify-content: flex-start; width: 100% }\n",
       "    .wandb-col { display: flex; flex-direction: column; flex-basis: 100%; flex: 1; padding: 10px; }\n",
       "    </style>\n",
       "<div class=\"wandb-row\"><div class=\"wandb-col\"><h3>Run history:</h3><br/><table class=\"wandb\"><tr><td>lr</td><td>██████▂▂▂▁</td></tr><tr><td>train_loss</td><td>█▂▁▁▁▁▁▂▁▁</td></tr><tr><td>val_loss</td><td>▄█▁▇▄▄▄▅▅▅</td></tr></table><br/></div><div class=\"wandb-col\"><h3>Run summary:</h3><br/><table class=\"wandb\"><tr><td>lr</td><td>0.0004</td></tr><tr><td>train_loss</td><td>1.92328</td></tr><tr><td>val_loss</td><td>1.66131</td></tr></table><br/></div></div>"
      ],
      "text/plain": [
       "<IPython.core.display.HTML object>"
      ]
     },
     "metadata": {},
     "output_type": "display_data"
    },
    {
     "data": {
      "text/html": [
       " View run <strong style=\"color:#cdcd00\">fiery-energy-3</strong> at: <a href='https://wandb.ai/naratip-18257/precipitation-nowcasting/runs/89kv364d' target=\"_blank\">https://wandb.ai/naratip-18257/precipitation-nowcasting/runs/89kv364d</a><br/> View job at <a href='https://wandb.ai/naratip-18257/precipitation-nowcasting/jobs/QXJ0aWZhY3RDb2xsZWN0aW9uOjE1MDAwMjAxMQ==/version_details/v2' target=\"_blank\">https://wandb.ai/naratip-18257/precipitation-nowcasting/jobs/QXJ0aWZhY3RDb2xsZWN0aW9uOjE1MDAwMjAxMQ==/version_details/v2</a><br/>Synced 5 W&B file(s), 0 media file(s), 2 artifact file(s) and 0 other file(s)"
      ],
      "text/plain": [
       "<IPython.core.display.HTML object>"
      ]
     },
     "metadata": {},
     "output_type": "display_data"
    },
    {
     "data": {
      "text/html": [
       "Find logs at: <code>./wandb/run-20240319_224932-89kv364d/logs</code>"
      ],
      "text/plain": [
       "<IPython.core.display.HTML object>"
      ]
     },
     "metadata": {},
     "output_type": "display_data"
    },
    {
     "name": "stdout",
     "output_type": "stream",
     "text": [
      "Finished Training\n"
     ]
    }
   ],
   "source": [
    "train_losses = []\n",
    "val_losses = []\n",
    "learning_rates = []\n",
    "\n",
    "# Start wandb run\n",
    "wandb.init(\n",
    "    project='precipitation-nowcasting',\n",
    "    config=config,\n",
    ")\n",
    "\n",
    "# Log parameters and gradients\n",
    "wandb.watch(model_ff, log='all')\n",
    "\n",
    "for epoch in range(config['epochs']):  # loop over the dataset multiple times\n",
    "\n",
    "    # Training\n",
    "    train_loss = []\n",
    "    current_lr = optimizer.param_groups[0]['lr']\n",
    "    learning_rates.append(current_lr)\n",
    "\n",
    "    # Flag model as training. Some layers behave differently in training and\n",
    "    # inference modes, such as dropout, BN, etc.\n",
    "    model_ff.train()\n",
    "\n",
    "    print(f\"Training epoch {epoch+1}...\")\n",
    "    print(f\"Current LR: {current_lr}\")\n",
    "\n",
    "    for i, (inputs, y_true) in enumerate(tqdm(train_loader)):\n",
    "        # Transfer data from cpu to gpu\n",
    "        inputs = inputs.to(device)\n",
    "        y_true = y_true.to(device)\n",
    "\n",
    "        # Reset the gradient\n",
    "        optimizer.zero_grad()\n",
    "\n",
    "        # Predict\n",
    "        y_pred = model_ff(inputs)\n",
    "\n",
    "        # Calculate loss\n",
    "        loss = loss_fn(y_pred, y_true)\n",
    "\n",
    "        # Compute gradient\n",
    "        loss.backward()\n",
    "\n",
    "        # Update parameters\n",
    "        optimizer.step()\n",
    "\n",
    "        # Log stuff\n",
    "        train_loss.append(loss)\n",
    "\n",
    "    avg_train_loss = torch.stack(train_loss).mean().item()\n",
    "    train_losses.append(avg_train_loss)\n",
    "\n",
    "    print(f\"Epoch {epoch+1} train loss: {avg_train_loss:.4f}\")\n",
    "\n",
    "    # Validation\n",
    "    model_ff.eval()\n",
    "    with torch.no_grad(): # No gradient is required during validation\n",
    "        print(f\"Validating epoch {epoch+1}\")\n",
    "        val_loss = []\n",
    "        for i, (inputs, y_true) in enumerate(tqdm(val_loader)):\n",
    "            # Transfer data from cpu to gpu\n",
    "            inputs = inputs.to(device)\n",
    "            y_true = y_true.to(device)\n",
    "\n",
    "            # Predict\n",
    "            y_pred = model_ff(inputs)\n",
    "\n",
    "            # Calculate loss\n",
    "            loss = loss_fn(y_pred, y_true)\n",
    "\n",
    "            # Log stuff\n",
    "            val_loss.append(loss)\n",
    "\n",
    "        avg_val_loss = torch.stack(val_loss).mean().item()\n",
    "        val_losses.append(avg_val_loss)\n",
    "        print(f\"Epoch {epoch+1} val loss: {avg_val_loss:.4f}\")\n",
    "\n",
    "        # LR adjustment with scheduler\n",
    "        scheduler.step(avg_val_loss)\n",
    "\n",
    "        # Save checkpoint if val_loss is the best we got\n",
    "        best_val_loss = np.inf if epoch == 0 else min(val_losses[:-1])\n",
    "        if avg_val_loss < best_val_loss:\n",
    "            # Save whatever you want\n",
    "            state = {\n",
    "                'epoch': epoch,\n",
    "                'model': model_ff.state_dict(),\n",
    "                'optimizer': optimizer.state_dict(),\n",
    "                'scheduler': scheduler.state_dict(),\n",
    "                'train_loss': avg_train_loss,\n",
    "                'val_loss': avg_val_loss,\n",
    "                'best_val_loss': best_val_loss,\n",
    "            }\n",
    "\n",
    "            print(f\"Saving new best model..\")\n",
    "            torch.save(state, 'model_ff.pth.tar')\n",
    "\n",
    "    wandb.log({\n",
    "        'train_loss': avg_train_loss,\n",
    "        'val_loss': avg_val_loss,\n",
    "        'lr': current_lr,\n",
    "    })\n",
    "wandb.unwatch()\n",
    "wandb.finish()\n",
    "print('Finished Training')"
   ]
  },
  {
   "cell_type": "markdown",
   "metadata": {
    "id": "PeXGk-wHm9Nj"
   },
   "source": [
    "### TODO#5\n",
    "\n",
    "Plot loss and val_loss as a function of epochs."
   ]
  },
  {
   "cell_type": "code",
   "execution_count": 206,
   "metadata": {},
   "outputs": [],
   "source": [
    "import seaborn as sns"
   ]
  },
  {
   "cell_type": "code",
   "execution_count": 338,
   "metadata": {
    "id": "0iDWp6jqRRIT"
   },
   "outputs": [
    {
     "data": {
      "image/png": "[encoded data removed]",
      "text/plain": [
       "<Figure size 640x480 with 1 Axes>"
      ]
     },
     "metadata": {},
     "output_type": "display_data"
    },
    {
     "data": {
      "image/png": "[encoded data removed]",
      "text/plain": [
       "<Figure size 640x480 with 1 Axes>"
      ]
     },
     "metadata": {},
     "output_type": "display_data"
    }
   ],
   "source": [
    "sns.lineplot(y= train_losses, x = [i for i in range(1,11)]).set_title('train loss')\n",
    "plt.show()\n",
    "sns.lineplot(y= val_losses, x = [i for i in range(1,11)]).set_title('val loss')\n",
    "plt.show()"
   ]
  },
  {
   "cell_type": "markdown",
   "metadata": {
    "id": "jXmuk1a2nRSA"
   },
   "source": [
    "### TODO#6\n",
    "\n",
    "When does the model start to overfit?\n",
    "\n",
    "**Ans:** after epoch 5"
   ]
  },
  {
   "cell_type": "markdown",
   "metadata": {
    "id": "UXQgJYrTne0o"
   },
   "source": [
    "### TODO#7\n",
    "\n",
    "Plot the learning rate as a function of the epochs."
   ]
  },
  {
   "cell_type": "code",
   "execution_count": 44,
   "metadata": {
    "id": "i5ZdGDjJnka7"
   },
   "outputs": [
    {
     "data": {
      "text/plain": [
       "Text(0.5, 1.0, 'learning rate')"
      ]
     },
     "execution_count": 44,
     "metadata": {},
     "output_type": "execute_result"
    },
    {
     "data": {
      "image/png": "[encoded data removed]",
      "text/plain": [
       "<Figure size 640x480 with 1 Axes>"
      ]
     },
     "metadata": {},
     "output_type": "display_data"
    }
   ],
   "source": [
    "sns.lineplot(y = learning_rates, x = [i for i in range(1,11)]).set_title('learning rate')"
   ]
  },
  {
   "cell_type": "markdown",
   "metadata": {
    "id": "mKjTiHm4o4ba"
   },
   "source": [
    "### TODO#8\n",
    "\n",
    "What makes the learning rate change?\n",
    "(hint: try to understand the scheduler [ReduceLROnPlateau](https://pytorch.org/docs/stable/generated/torch.optim.lr_scheduler.ReduceLROnPlateau.html))\n",
    "\n",
    "\n",
    "**Ans:** I think it is because of increasing of validation loss"
   ]
  },
  {
   "cell_type": "markdown",
   "metadata": {
    "id": "Mdf-mv_v7Nl8"
   },
   "source": [
    "# Load Model\n",
    "\n",
    "Use the code snippet below to load the model you just trained"
   ]
  },
  {
   "cell_type": "code",
   "execution_count": 45,
   "metadata": {
    "id": "CipUyLZ07PKd"
   },
   "outputs": [
    {
     "name": "stdout",
     "output_type": "stream",
     "text": [
      "Loaded epoch 4 model\n"
     ]
    }
   ],
   "source": [
    "checkpoint = torch.load('model_ff.pth.tar')\n",
    "loaded_model = FeedForwardNN(hidden_size=config['hidden_size']) # Create model object\n",
    "loaded_model.load_state_dict(checkpoint['model']) # Load weights\n",
    "print(f\"Loaded epoch {checkpoint['epoch']} model\")"
   ]
  },
  {
   "cell_type": "markdown",
   "metadata": {
    "id": "JhLdhEr2ZLWL"
   },
   "source": [
    "# A more complex scheduling\n",
    "\n",
    "The scheduler can be very complicated and you can write your own heuristic for it.\n",
    "\n",
    "### TODO#9\n",
    "\n",
    "Implement a custom learning rate scheduler that behaves like the following graph.\n",
    "\n",
    "You might want to learn how to use [PyTorch's built-in learning rate schedulers](https://pytorch.org/docs/stable/optim.html#how-to-adjust-learning-rate) in order to build your own.\n",
    "\n",
    "Learning rate should be function of epoch.\n",
    "\n",
    "![](https://raw.githubusercontent.com/pjumruspun/ComProg2021-Workshop/main/graph.png)"
   ]
  },
  {
   "cell_type": "code",
   "execution_count": 110,
   "metadata": {},
   "outputs": [
    {
     "data": {
      "text/plain": [
       "0.31622776601683794"
      ]
     },
     "execution_count": 110,
     "metadata": {},
     "output_type": "execute_result"
    }
   ],
   "source": [
    "np.sqrt(0.1)"
   ]
  },
  {
   "cell_type": "code",
   "execution_count": 158,
   "metadata": {
    "id": "YkUFFRjsaMK_"
   },
   "outputs": [],
   "source": [
    "# Implement scheduler here\n",
    "from torch.optim.lr_scheduler import LinearLR, MultiStepLR, ConstantLR, MultiplicativeLR, StepLR\n",
    "class MyScheduler():\n",
    "    def __init__(self, optimizer: torch.optim.Optimizer):\n",
    "        self.optimizer = optimizer\n",
    "        self.scheduler1 = LinearLR(self.optimizer, start_factor=0.01, end_factor=0.1, total_iters=3)\n",
    "        self.scheduler2 = LinearLR(self.optimizer, start_factor=1, end_factor=0.5, total_iters=3)\n",
    "        self.scheduler3 = MultiplicativeLR(self.optimizer, lr_lambda= lambda epoch: 2)\n",
    "        self.scheduler4 = LinearLR(self.optimizer, start_factor=1, end_factor=0.1, total_iters=2)\n",
    "\n",
    "    def step(self, epoch):\n",
    "        # Changes the learning rate here\n",
    "        if 0 <= epoch < 3 :\n",
    "            self.scheduler1.step()\n",
    "        elif 3 <= epoch < 6:\n",
    "            self.scheduler2.step()\n",
    "        elif 6 <= epoch < 7:\n",
    "            self.scheduler3.step()\n",
    "        elif 7 <= epoch < 9:\n",
    "            self.scheduler4.step()"
   ]
  },
  {
   "cell_type": "code",
   "execution_count": 159,
   "metadata": {},
   "outputs": [],
   "source": [
    "config2 = {\n",
    "    'architecture': 'feedforward',\n",
    "    'lr': 0.01,\n",
    "    'hidden_size': 200,\n",
    "    'scheduler_factor': 0.2,\n",
    "    'scheduler_patience': 2,\n",
    "    'scheduler_min_lr': 1e-4,\n",
    "    'epochs': 10\n",
    "}\n",
    "model_ff2 = FeedForwardNN(hidden_size=config2['hidden_size'])\n",
    "model_ff2 = model_ff2.to(device)\n",
    "optimizer2 = torch.optim.Adam(model_ff2.parameters(), lr=config2['lr'])\n",
    "my_scheduler = MyScheduler(optimizer2)"
   ]
  },
  {
   "cell_type": "code",
   "execution_count": 160,
   "metadata": {
    "id": "3XbxPkzyaSQ3",
    "scrolled": true
   },
   "outputs": [
    {
     "data": {
      "text/html": [
       "Finishing last run (ID:0gyy3i70) before initializing another..."
      ],
      "text/plain": [
       "<IPython.core.display.HTML object>"
      ]
     },
     "metadata": {},
     "output_type": "display_data"
    },
    {
     "data": {
      "application/vnd.jupyter.widget-view+json": {
       "model_id": "",
       "version_major": 2,
       "version_minor": 0
      },
      "text/plain": [
       "VBox(children=(Label(value='0.003 MB of 0.003 MB uploaded\\r'), FloatProgress(value=1.0, max=1.0)))"
      ]
     },
     "metadata": {},
     "output_type": "display_data"
    },
    {
     "data": {
      "text/html": [
       " View run <strong style=\"color:#cdcd00\">frosty-rain-24</strong> at: <a href='https://wandb.ai/naratip-18257/precipitation-nowcasting-with-my-scheduler/runs/0gyy3i70' target=\"_blank\">https://wandb.ai/naratip-18257/precipitation-nowcasting-with-my-scheduler/runs/0gyy3i70</a><br/> View job at <a href='https://wandb.ai/naratip-18257/precipitation-nowcasting-with-my-scheduler/jobs/QXJ0aWZhY3RDb2xsZWN0aW9uOjE1MDA2MDUzMQ==/version_details/v22' target=\"_blank\">https://wandb.ai/naratip-18257/precipitation-nowcasting-with-my-scheduler/jobs/QXJ0aWZhY3RDb2xsZWN0aW9uOjE1MDA2MDUzMQ==/version_details/v22</a><br/>Synced 5 W&B file(s), 0 media file(s), 0 artifact file(s) and 0 other file(s)"
      ],
      "text/plain": [
       "<IPython.core.display.HTML object>"
      ]
     },
     "metadata": {},
     "output_type": "display_data"
    },
    {
     "data": {
      "text/html": [
       "Find logs at: <code>./wandb/run-20240319_203724-0gyy3i70/logs</code>"
      ],
      "text/plain": [
       "<IPython.core.display.HTML object>"
      ]
     },
     "metadata": {},
     "output_type": "display_data"
    },
    {
     "data": {
      "text/html": [
       "Successfully finished last run (ID:0gyy3i70). Initializing new run:<br/>"
      ],
      "text/plain": [
       "<IPython.core.display.HTML object>"
      ]
     },
     "metadata": {},
     "output_type": "display_data"
    },
    {
     "data": {
      "application/vnd.jupyter.widget-view+json": {
       "model_id": "",
       "version_major": 2,
       "version_minor": 0
      },
      "text/plain": [
       "VBox(children=(Label(value='Waiting for wandb.init()...\\r'), FloatProgress(value=0.011112463522133314, max=1.0…"
      ]
     },
     "metadata": {},
     "output_type": "display_data"
    },
    {
     "data": {
      "text/html": [
       "wandb version 0.16.4 is available!  To upgrade, please run:\n",
       " $ pip install wandb --upgrade"
      ],
      "text/plain": [
       "<IPython.core.display.HTML object>"
      ]
     },
     "metadata": {},
     "output_type": "display_data"
    },
    {
     "data": {
      "text/html": [
       "Tracking run with wandb version 0.16.3"
      ],
      "text/plain": [
       "<IPython.core.display.HTML object>"
      ]
     },
     "metadata": {},
     "output_type": "display_data"
    },
    {
     "data": {
      "text/html": [
       "Run data is saved locally in <code>/home/naratip/chula/2024/Pattern/Code/HW5/wandb/run-20240319_203750-2rbg2rni</code>"
      ],
      "text/plain": [
       "<IPython.core.display.HTML object>"
      ]
     },
     "metadata": {},
     "output_type": "display_data"
    },
    {
     "data": {
      "text/html": [
       "Syncing run <strong><a href='https://wandb.ai/naratip-18257/precipitation-nowcasting-with-my-scheduler/runs/2rbg2rni' target=\"_blank\">likely-universe-25</a></strong> to <a href='https://wandb.ai/naratip-18257/precipitation-nowcasting-with-my-scheduler' target=\"_blank\">Weights & Biases</a> (<a href='https://wandb.me/run' target=\"_blank\">docs</a>)<br/>"
      ],
      "text/plain": [
       "<IPython.core.display.HTML object>"
      ]
     },
     "metadata": {},
     "output_type": "display_data"
    },
    {
     "data": {
      "text/html": [
       " View project at <a href='https://wandb.ai/naratip-18257/precipitation-nowcasting-with-my-scheduler' target=\"_blank\">https://wandb.ai/naratip-18257/precipitation-nowcasting-with-my-scheduler</a>"
      ],
      "text/plain": [
       "<IPython.core.display.HTML object>"
      ]
     },
     "metadata": {},
     "output_type": "display_data"
    },
    {
     "data": {
      "text/html": [
       " View run at <a href='https://wandb.ai/naratip-18257/precipitation-nowcasting-with-my-scheduler/runs/2rbg2rni' target=\"_blank\">https://wandb.ai/naratip-18257/precipitation-nowcasting-with-my-scheduler/runs/2rbg2rni</a>"
      ],
      "text/plain": [
       "<IPython.core.display.HTML object>"
      ]
     },
     "metadata": {},
     "output_type": "display_data"
    },
    {
     "name": "stdout",
     "output_type": "stream",
     "text": [
      "Training epoch 1...\n",
      "Current LR: 0.0001\n"
     ]
    },
    {
     "data": {
      "application/vnd.jupyter.widget-view+json": {
       "model_id": "",
       "version_major": 2,
       "version_minor": 0
      },
      "text/plain": [
       "  0%|          | 0/1121 [00:00<?, ?it/s]"
      ]
     },
     "metadata": {},
     "output_type": "display_data"
    },
    {
     "name": "stdout",
     "output_type": "stream",
     "text": [
      "Epoch 1 train loss: 1.9203\n",
      "Validating epoch 1\n"
     ]
    },
    {
     "data": {
      "application/vnd.jupyter.widget-view+json": {
       "model_id": "",
       "version_major": 2,
       "version_minor": 0
      },
      "text/plain": [
       "  0%|          | 0/454 [00:00<?, ?it/s]"
      ]
     },
     "metadata": {},
     "output_type": "display_data"
    },
    {
     "name": "stdout",
     "output_type": "stream",
     "text": [
      "Epoch 1 val loss: 1.6565\n",
      "Saving new best model..\n",
      "Training epoch 2...\n",
      "Current LR: 0.0004\n"
     ]
    },
    {
     "data": {
      "application/vnd.jupyter.widget-view+json": {
       "model_id": "",
       "version_major": 2,
       "version_minor": 0
      },
      "text/plain": [
       "  0%|          | 0/1121 [00:00<?, ?it/s]"
      ]
     },
     "metadata": {},
     "output_type": "display_data"
    },
    {
     "name": "stdout",
     "output_type": "stream",
     "text": [
      "Epoch 2 train loss: 1.9186\n",
      "Validating epoch 2\n"
     ]
    },
    {
     "data": {
      "application/vnd.jupyter.widget-view+json": {
       "model_id": "",
       "version_major": 2,
       "version_minor": 0
      },
      "text/plain": [
       "  0%|          | 0/454 [00:00<?, ?it/s]"
      ]
     },
     "metadata": {},
     "output_type": "display_data"
    },
    {
     "name": "stdout",
     "output_type": "stream",
     "text": [
      "Epoch 2 val loss: 1.6559\n",
      "Saving new best model..\n",
      "Training epoch 3...\n",
      "Current LR: 0.0007\n"
     ]
    },
    {
     "data": {
      "application/vnd.jupyter.widget-view+json": {
       "model_id": "",
       "version_major": 2,
       "version_minor": 0
      },
      "text/plain": [
       "  0%|          | 0/1121 [00:00<?, ?it/s]"
      ]
     },
     "metadata": {},
     "output_type": "display_data"
    },
    {
     "name": "stdout",
     "output_type": "stream",
     "text": [
      "Epoch 3 train loss: 1.9185\n",
      "Validating epoch 3\n"
     ]
    },
    {
     "data": {
      "application/vnd.jupyter.widget-view+json": {
       "model_id": "",
       "version_major": 2,
       "version_minor": 0
      },
      "text/plain": [
       "  0%|          | 0/454 [00:00<?, ?it/s]"
      ]
     },
     "metadata": {},
     "output_type": "display_data"
    },
    {
     "name": "stdout",
     "output_type": "stream",
     "text": [
      "Epoch 3 val loss: 1.6570\n",
      "Training epoch 4...\n",
      "Current LR: 0.001\n"
     ]
    },
    {
     "data": {
      "application/vnd.jupyter.widget-view+json": {
       "model_id": "",
       "version_major": 2,
       "version_minor": 0
      },
      "text/plain": [
       "  0%|          | 0/1121 [00:00<?, ?it/s]"
      ]
     },
     "metadata": {},
     "output_type": "display_data"
    },
    {
     "name": "stdout",
     "output_type": "stream",
     "text": [
      "Epoch 4 train loss: 1.9184\n",
      "Validating epoch 4\n"
     ]
    },
    {
     "data": {
      "application/vnd.jupyter.widget-view+json": {
       "model_id": "",
       "version_major": 2,
       "version_minor": 0
      },
      "text/plain": [
       "  0%|          | 0/454 [00:00<?, ?it/s]"
      ]
     },
     "metadata": {},
     "output_type": "display_data"
    },
    {
     "name": "stdout",
     "output_type": "stream",
     "text": [
      "Epoch 4 val loss: 1.6562\n",
      "Training epoch 5...\n",
      "Current LR: 0.0008333333333333334\n"
     ]
    },
    {
     "data": {
      "application/vnd.jupyter.widget-view+json": {
       "model_id": "",
       "version_major": 2,
       "version_minor": 0
      },
      "text/plain": [
       "  0%|          | 0/1121 [00:00<?, ?it/s]"
      ]
     },
     "metadata": {},
     "output_type": "display_data"
    },
    {
     "name": "stdout",
     "output_type": "stream",
     "text": [
      "Epoch 5 train loss: 1.9182\n",
      "Validating epoch 5\n"
     ]
    },
    {
     "data": {
      "application/vnd.jupyter.widget-view+json": {
       "model_id": "",
       "version_major": 2,
       "version_minor": 0
      },
      "text/plain": [
       "  0%|          | 0/454 [00:00<?, ?it/s]"
      ]
     },
     "metadata": {},
     "output_type": "display_data"
    },
    {
     "name": "stdout",
     "output_type": "stream",
     "text": [
      "Epoch 5 val loss: 1.6567\n",
      "Training epoch 6...\n",
      "Current LR: 0.0006666666666666668\n"
     ]
    },
    {
     "data": {
      "application/vnd.jupyter.widget-view+json": {
       "model_id": "",
       "version_major": 2,
       "version_minor": 0
      },
      "text/plain": [
       "  0%|          | 0/1121 [00:00<?, ?it/s]"
      ]
     },
     "metadata": {},
     "output_type": "display_data"
    },
    {
     "name": "stdout",
     "output_type": "stream",
     "text": [
      "Epoch 6 train loss: 1.9178\n",
      "Validating epoch 6\n"
     ]
    },
    {
     "data": {
      "application/vnd.jupyter.widget-view+json": {
       "model_id": "",
       "version_major": 2,
       "version_minor": 0
      },
      "text/plain": [
       "  0%|          | 0/454 [00:00<?, ?it/s]"
      ]
     },
     "metadata": {},
     "output_type": "display_data"
    },
    {
     "name": "stdout",
     "output_type": "stream",
     "text": [
      "Epoch 6 val loss: 1.6569\n",
      "Training epoch 7...\n",
      "Current LR: 0.0005\n"
     ]
    },
    {
     "data": {
      "application/vnd.jupyter.widget-view+json": {
       "model_id": "",
       "version_major": 2,
       "version_minor": 0
      },
      "text/plain": [
       "  0%|          | 0/1121 [00:00<?, ?it/s]"
      ]
     },
     "metadata": {},
     "output_type": "display_data"
    },
    {
     "name": "stdout",
     "output_type": "stream",
     "text": [
      "Epoch 7 train loss: 1.9179\n",
      "Validating epoch 7\n"
     ]
    },
    {
     "data": {
      "application/vnd.jupyter.widget-view+json": {
       "model_id": "",
       "version_major": 2,
       "version_minor": 0
      },
      "text/plain": [
       "  0%|          | 0/454 [00:00<?, ?it/s]"
      ]
     },
     "metadata": {},
     "output_type": "display_data"
    },
    {
     "name": "stdout",
     "output_type": "stream",
     "text": [
      "Epoch 7 val loss: 1.6570\n",
      "Training epoch 8...\n",
      "Current LR: 0.001\n"
     ]
    },
    {
     "data": {
      "application/vnd.jupyter.widget-view+json": {
       "model_id": "",
       "version_major": 2,
       "version_minor": 0
      },
      "text/plain": [
       "  0%|          | 0/1121 [00:00<?, ?it/s]"
      ]
     },
     "metadata": {},
     "output_type": "display_data"
    },
    {
     "name": "stdout",
     "output_type": "stream",
     "text": [
      "Epoch 8 train loss: 1.9185\n",
      "Validating epoch 8\n"
     ]
    },
    {
     "data": {
      "application/vnd.jupyter.widget-view+json": {
       "model_id": "",
       "version_major": 2,
       "version_minor": 0
      },
      "text/plain": [
       "  0%|          | 0/454 [00:00<?, ?it/s]"
      ]
     },
     "metadata": {},
     "output_type": "display_data"
    },
    {
     "name": "stdout",
     "output_type": "stream",
     "text": [
      "Epoch 8 val loss: 1.6588\n",
      "Training epoch 9...\n",
      "Current LR: 0.00055\n"
     ]
    },
    {
     "data": {
      "application/vnd.jupyter.widget-view+json": {
       "model_id": "",
       "version_major": 2,
       "version_minor": 0
      },
      "text/plain": [
       "  0%|          | 0/1121 [00:00<?, ?it/s]"
      ]
     },
     "metadata": {},
     "output_type": "display_data"
    },
    {
     "name": "stdout",
     "output_type": "stream",
     "text": [
      "Epoch 9 train loss: 1.9178\n",
      "Validating epoch 9\n"
     ]
    },
    {
     "data": {
      "application/vnd.jupyter.widget-view+json": {
       "model_id": "",
       "version_major": 2,
       "version_minor": 0
      },
      "text/plain": [
       "  0%|          | 0/454 [00:00<?, ?it/s]"
      ]
     },
     "metadata": {},
     "output_type": "display_data"
    },
    {
     "name": "stdout",
     "output_type": "stream",
     "text": [
      "Epoch 9 val loss: 1.6554\n",
      "Saving new best model..\n",
      "Training epoch 10...\n",
      "Current LR: 0.00010000000000000005\n"
     ]
    },
    {
     "data": {
      "application/vnd.jupyter.widget-view+json": {
       "model_id": "",
       "version_major": 2,
       "version_minor": 0
      },
      "text/plain": [
       "  0%|          | 0/1121 [00:00<?, ?it/s]"
      ]
     },
     "metadata": {},
     "output_type": "display_data"
    },
    {
     "name": "stdout",
     "output_type": "stream",
     "text": [
      "Epoch 10 train loss: 1.9175\n",
      "Validating epoch 10\n"
     ]
    },
    {
     "data": {
      "application/vnd.jupyter.widget-view+json": {
       "model_id": "ef8d499fd2bf4fb6b1d6e550dec77e6c",
       "version_major": 2,
       "version_minor": 0
      },
      "text/plain": [
       "  0%|          | 0/454 [00:00<?, ?it/s]"
      ]
     },
     "metadata": {},
     "output_type": "display_data"
    },
    {
     "name": "stdout",
     "output_type": "stream",
     "text": [
      "Epoch 10 val loss: 1.6555\n"
     ]
    },
    {
     "data": {
      "application/vnd.jupyter.widget-view+json": {
       "model_id": "",
       "version_major": 2,
       "version_minor": 0
      },
      "text/plain": [
       "VBox(children=(Label(value='0.003 MB of 0.003 MB uploaded\\r'), FloatProgress(value=1.0, max=1.0)))"
      ]
     },
     "metadata": {},
     "output_type": "display_data"
    },
    {
     "data": {
      "text/html": [
       "W&B sync reduced upload amount by 6.6%             "
      ],
      "text/plain": [
       "<IPython.core.display.HTML object>"
      ]
     },
     "metadata": {},
     "output_type": "display_data"
    },
    {
     "data": {
      "text/html": [
       "<style>\n",
       "    table.wandb td:nth-child(1) { padding: 0 10px; text-align: left ; width: auto;} td:nth-child(2) {text-align: left ; width: 100%}\n",
       "    .wandb-row { display: flex; flex-direction: row; flex-wrap: wrap; justify-content: flex-start; width: 100% }\n",
       "    .wandb-col { display: flex; flex-direction: column; flex-basis: 100%; flex: 1; padding: 10px; }\n",
       "    </style>\n",
       "<div class=\"wandb-row\"><div class=\"wandb-col\"><h3>Run history:</h3><br/><table class=\"wandb\"><tr><td>lr</td><td>▁▃▆█▇▅▄█▄▁</td></tr><tr><td>train_loss</td><td>█▄▄▃▃▂▂▃▂▁</td></tr><tr><td>val_loss</td><td>▃▂▄▃▄▄▄█▁▁</td></tr></table><br/></div><div class=\"wandb-col\"><h3>Run summary:</h3><br/><table class=\"wandb\"><tr><td>lr</td><td>0.0001</td></tr><tr><td>train_loss</td><td>1.91747</td></tr><tr><td>val_loss</td><td>1.65545</td></tr></table><br/></div></div>"
      ],
      "text/plain": [
       "<IPython.core.display.HTML object>"
      ]
     },
     "metadata": {},
     "output_type": "display_data"
    },
    {
     "data": {
      "text/html": [
       " View run <strong style=\"color:#cdcd00\">likely-universe-25</strong> at: <a href='https://wandb.ai/naratip-18257/precipitation-nowcasting-with-my-scheduler/runs/2rbg2rni' target=\"_blank\">https://wandb.ai/naratip-18257/precipitation-nowcasting-with-my-scheduler/runs/2rbg2rni</a><br/> View job at <a href='https://wandb.ai/naratip-18257/precipitation-nowcasting-with-my-scheduler/jobs/QXJ0aWZhY3RDb2xsZWN0aW9uOjE1MDA2MDUzMQ==/version_details/v22' target=\"_blank\">https://wandb.ai/naratip-18257/precipitation-nowcasting-with-my-scheduler/jobs/QXJ0aWZhY3RDb2xsZWN0aW9uOjE1MDA2MDUzMQ==/version_details/v22</a><br/>Synced 5 W&B file(s), 0 media file(s), 2 artifact file(s) and 0 other file(s)"
      ],
      "text/plain": [
       "<IPython.core.display.HTML object>"
      ]
     },
     "metadata": {},
     "output_type": "display_data"
    },
    {
     "data": {
      "text/html": [
       "Find logs at: <code>./wandb/run-20240319_203750-2rbg2rni/logs</code>"
      ],
      "text/plain": [
       "<IPython.core.display.HTML object>"
      ]
     },
     "metadata": {},
     "output_type": "display_data"
    },
    {
     "name": "stdout",
     "output_type": "stream",
     "text": [
      "Finished Training\n"
     ]
    }
   ],
   "source": [
    "# Now train with your scheduler\n",
    "train_losses_2 = []\n",
    "val_losses_2 = []\n",
    "learning_rates_2 = []\n",
    "\n",
    "# Start wandb run\n",
    "wandb.init(\n",
    "    project='precipitation-nowcasting-with-my-scheduler',\n",
    "    config=config2,\n",
    ")\n",
    "\n",
    "# Log parameters and gradients\n",
    "wandb.watch(model_ff2, log='all')\n",
    "\n",
    "for epoch in range(config2['epochs']):  # loop over the dataset multiple times\n",
    "\n",
    "    # Training\n",
    "    train_loss_2 = []\n",
    "    current_lr = optimizer2.param_groups[0]['lr']\n",
    "    learning_rates_2.append(current_lr)\n",
    "\n",
    "    # Flag model as training. Some layers behave differently in training and\n",
    "    # inference modes, such as dropout, BN, etc.\n",
    "    model_ff2.train()\n",
    "\n",
    "    print(f\"Training epoch {epoch+1}...\")\n",
    "    print(f\"Current LR: {current_lr}\")\n",
    "\n",
    "    for i, (inputs, y_true) in enumerate(tqdm(train_loader)):\n",
    "        # Transfer data from cpu to gpu\n",
    "        inputs = inputs.to(device)\n",
    "        y_true = y_true.to(device)\n",
    "\n",
    "        # Reset the gradient\n",
    "        optimizer2.zero_grad()\n",
    "\n",
    "        # Predict\n",
    "        y_pred = model_ff2(inputs)\n",
    "\n",
    "        # Calculate loss\n",
    "        loss = loss_fn(y_pred, y_true)\n",
    "\n",
    "        # Compute gradient\n",
    "        loss.backward()\n",
    "\n",
    "        # Update parameters\n",
    "        optimizer2.step()\n",
    "\n",
    "        # Log stuff\n",
    "        train_loss_2.append(loss)\n",
    "\n",
    "    avg_train_loss = torch.stack(train_loss_2).mean().item()\n",
    "    train_losses_2.append(avg_train_loss)\n",
    "\n",
    "    print(f\"Epoch {epoch+1} train loss: {avg_train_loss:.4f}\")\n",
    "\n",
    "    # Validation\n",
    "    model_ff2.eval()\n",
    "    with torch.no_grad(): # No gradient is required during validation\n",
    "        print(f\"Validating epoch {epoch+1}\")\n",
    "        val_loss_2 = []\n",
    "        for i, (inputs, y_true) in enumerate(tqdm(val_loader)):\n",
    "            # Transfer data from cpu to gpu\n",
    "            inputs = inputs.to(device)\n",
    "            y_true = y_true.to(device)\n",
    "\n",
    "            # Predict\n",
    "            y_pred = model_ff2(inputs)\n",
    "\n",
    "            # Calculate loss\n",
    "            loss = loss_fn(y_pred, y_true)\n",
    "\n",
    "            # Log stuff\n",
    "            val_loss_2.append(loss)\n",
    "\n",
    "        avg_val_loss = torch.stack(val_loss_2).mean().item()\n",
    "        val_losses_2.append(avg_val_loss)\n",
    "        print(f\"Epoch {epoch+1} val loss: {avg_val_loss:.4f}\")\n",
    "\n",
    "        # LR adjustment with scheduler\n",
    "        my_scheduler.step(epoch)\n",
    "\n",
    "        # Save checkpoint if val_loss is the best we got\n",
    "        best_val_loss = np.inf if epoch == 0 else min(val_losses_2[:-1])\n",
    "        if avg_val_loss < best_val_loss:\n",
    "            # Save whatever you want\n",
    "            state = {\n",
    "                'epoch': epoch,\n",
    "                'model': model_ff2.state_dict(),\n",
    "                'optimizer': optimizer2.state_dict(),\n",
    "                'train_loss': avg_train_loss,\n",
    "                'val_loss': avg_val_loss,\n",
    "                'best_val_loss': best_val_loss,\n",
    "            }\n",
    "\n",
    "            print(f\"Saving new best model..\")\n",
    "            torch.save(state, 'model_ff.pth.tar')\n",
    "\n",
    "    wandb.log({\n",
    "        'train_loss': avg_train_loss,\n",
    "        'val_loss': avg_val_loss,\n",
    "        'lr': current_lr,\n",
    "    })\n",
    "wandb.unwatch()\n",
    "wandb.finish()\n",
    "print('Finished Training')"
   ]
  },
  {
   "cell_type": "code",
   "execution_count": 161,
   "metadata": {},
   "outputs": [
    {
     "name": "stdout",
     "output_type": "stream",
     "text": [
      "[0.0001, 0.0004, 0.0007, 0.001, 0.0008333333333333334, 0.0006666666666666668, 0.0005, 0.001, 0.00055, 0.00010000000000000005]\n",
      "[1.6564747095108032, 1.655909538269043, 1.6569640636444092, 1.656205654144287, 1.6567081212997437, 1.6568599939346313, 1.657004714012146, 1.6587964296340942, 1.655377745628357, 1.655452013015747]\n",
      "[1.920270323753357, 1.9185711145401, 1.9185242652893066, 1.9183807373046875, 1.9181782007217407, 1.9177539348602295, 1.9178658723831177, 1.9184576272964478, 1.917771339416504, 1.9174716472625732]\n"
     ]
    }
   ],
   "source": [
    "print(learning_rates_2)\n",
    "print(val_losses_2)\n",
    "print(train_losses_2)"
   ]
  },
  {
   "cell_type": "markdown",
   "metadata": {
    "id": "2JguJELuFKvL"
   },
   "source": [
    "# [Optional] Wandb #\n",
    "\n",
    "You should now have a project in wandb with the name `precipitation-nowcasting`, which you should see the latest run you just finished inside the project. If you look into the run, you should be able to see plots of learning rate, train loss, val loss in the `Charts` section. Below it should be `Gradients` and `Parameters` section."
   ]
  },
  {
   "cell_type": "markdown",
   "metadata": {
    "id": "3TUMxeJvFKvM"
   },
   "source": [
    "# Wandb Observation #\n",
    "\n",
    "### Optional TODO#1\n",
    "\n",
    "Write your own interpretation of the logs from this example. A simple sentence or two for each section is sufficient.\n",
    "\n",
    "**Your answer:**"
   ]
  },
  {
   "cell_type": "markdown",
   "metadata": {
    "id": "4opfOdo5jpXf"
   },
   "source": [
    "# Evaluation"
   ]
  },
  {
   "cell_type": "code",
   "execution_count": 210,
   "metadata": {
    "id": "ymW77BubFKvC"
   },
   "outputs": [],
   "source": [
    "################################################################################\n",
    "# TODO#10:                                                                     #\n",
    "# Write a function to evaluate your model. Your function must predicts         #\n",
    "# using the input model and return mean square error of the model.             #\n",
    "#                                                                              #\n",
    "# Hint: Read how to use PyTorch's MSE Loss                                     #\n",
    "# https://pytorch.org/docs/stable/generated/torch.nn.MSELoss.html              #\n",
    "################################################################################\n",
    "#                            WRITE YOUR CODE BELOW                             #\n",
    "################################################################################\n",
    "def evaluate(data_loader, model):\n",
    "    \"\"\"\n",
    "    Evaluate model on validation data given by data_loader\n",
    "    \"\"\"\n",
    "    # write code here\n",
    "    model.eval()\n",
    "    with torch.no_grad(): # No gradient is required during validation\n",
    "        eval_loss = []\n",
    "        for i, (inputs, y_true) in enumerate(tqdm(data_loader)):\n",
    "            # Transfer data from cpu to gpu\n",
    "            inputs = inputs.to(device)\n",
    "            y_true = y_true.to(device)\n",
    "\n",
    "            # Predict\n",
    "            y_pred = model(inputs)\n",
    "\n",
    "            # Calculate loss\n",
    "            loss_fn2 = torch.nn.MSELoss()\n",
    "            loss = loss_fn2(y_pred, y_true)\n",
    "            eval_loss.append(loss)\n",
    "        mse = torch.stack(eval_loss).mean()\n",
    "    return mse"
   ]
  },
  {
   "cell_type": "code",
   "execution_count": 211,
   "metadata": {
    "id": "w7t7ks7vFKvF"
   },
   "outputs": [],
   "source": [
    "# We will use majority rule as a baseline.\n",
    "def majority_baseline(label_set):\n",
    "    unique, counts = np.unique(label_set, return_counts=True)\n",
    "    majority = unique[np.argmax(counts)]\n",
    "    baseline = 0\n",
    "    label_set = label_set.reshape(-1,1)\n",
    "    for r in label_set:\n",
    "        baseline += (majority - r) ** 2 / len(label_set)\n",
    "    return baseline"
   ]
  },
  {
   "cell_type": "code",
   "execution_count": 212,
   "metadata": {
    "id": "v_QU7h4lFKvJ"
   },
   "outputs": [
    {
     "name": "stdout",
     "output_type": "stream",
     "text": [
      "baseline\n",
      "train [1.94397725]\n",
      "validate [1.6746546]\n"
     ]
    }
   ],
   "source": [
    "print('baseline')\n",
    "print('train', majority_baseline(y_train))\n",
    "print('validate', majority_baseline(y_val))"
   ]
  },
  {
   "cell_type": "code",
   "execution_count": 213,
   "metadata": {
    "id": "0dUc0Y9_wHrx",
    "scrolled": true
   },
   "outputs": [
    {
     "name": "stdout",
     "output_type": "stream",
     "text": [
      "FF-model\n"
     ]
    },
    {
     "data": {
      "application/vnd.jupyter.widget-view+json": {
       "model_id": "",
       "version_major": 2,
       "version_minor": 0
      },
      "text/plain": [
       "  0%|          | 0/1121 [00:00<?, ?it/s]"
      ]
     },
     "metadata": {},
     "output_type": "display_data"
    },
    {
     "name": "stdout",
     "output_type": "stream",
     "text": [
      "train 1.9168013334274292\n"
     ]
    },
    {
     "data": {
      "application/vnd.jupyter.widget-view+json": {
       "model_id": "",
       "version_major": 2,
       "version_minor": 0
      },
      "text/plain": [
       "  0%|          | 0/454 [00:00<?, ?it/s]"
      ]
     },
     "metadata": {},
     "output_type": "display_data"
    },
    {
     "name": "stdout",
     "output_type": "stream",
     "text": [
      "validate 1.655452013015747\n"
     ]
    }
   ],
   "source": [
    "print('FF-model')\n",
    "print('train', evaluate(train_loader, model_ff2).item())\n",
    "print('validate', evaluate(val_loader, model_ff2).item())"
   ]
  },
  {
   "cell_type": "markdown",
   "metadata": {
    "id": "w0Ynr3VgFKvN"
   },
   "source": [
    "# Dropout #\n",
    "\n",
    "You might notice that the 3-layered feedforward does not use dropout at all. Now, try adding dropout (dropout rate of 20%) to the model, run, and report the result again.\n",
    "\n",
    "To access PyTorch's dropout, use `nn.Dropout`. Read more about PyTorch's built-in Dropout layer [here](https://pytorch.org/docs/stable/generated/torch.nn.Dropout.html)"
   ]
  },
  {
   "cell_type": "code",
   "execution_count": 233,
   "metadata": {
    "id": "rbnMbqT7FKvO"
   },
   "outputs": [],
   "source": [
    "################################################################################\n",
    "# TODO#11:                                                                     #\n",
    "# Write a feedforward model with dropout                                       #\n",
    "################################################################################\n",
    "#                            WRITE YOUR CODE BELOW                             #\n",
    "################################################################################\n",
    "class FeedForwardNNWithDropout(nn.Module):\n",
    "    def __init__(self, hidden_size=200):\n",
    "        super(FeedForwardNNWithDropout, self).__init__()\n",
    "        self.ff1 = nn.Linear(75, hidden_size)\n",
    "        self.ff2 = nn.Linear(hidden_size, hidden_size)\n",
    "        self.ff3 = nn.Linear(hidden_size, hidden_size)\n",
    "        self.dropout = nn.Dropout(p = 0.2)\n",
    "        self.out = nn.Linear(hidden_size, 1)\n",
    "\n",
    "    def forward(self, x):\n",
    "        hd1 = F.relu(self.ff1(x))\n",
    "        hd2 = F.relu(self.ff2(hd1))\n",
    "        hd3 = F.relu(self.ff3(hd2))\n",
    "        y = self.dropout(hd3)\n",
    "        y = self.out(y)\n",
    "        return y.reshape(-1, 1)"
   ]
  },
  {
   "cell_type": "code",
   "execution_count": 234,
   "metadata": {
    "id": "TJHG3fvMFKvU",
    "scrolled": true
   },
   "outputs": [
    {
     "name": "stdout",
     "output_type": "stream",
     "text": [
      "start training ff dropout\n"
     ]
    },
    {
     "data": {
      "text/html": [
       "Finishing last run (ID:zp2k9fq6) before initializing another..."
      ],
      "text/plain": [
       "<IPython.core.display.HTML object>"
      ]
     },
     "metadata": {},
     "output_type": "display_data"
    },
    {
     "data": {
      "application/vnd.jupyter.widget-view+json": {
       "model_id": "",
       "version_major": 2,
       "version_minor": 0
      },
      "text/plain": [
       "VBox(children=(Label(value='0.003 MB of 0.003 MB uploaded\\r'), FloatProgress(value=1.0, max=1.0)))"
      ]
     },
     "metadata": {},
     "output_type": "display_data"
    },
    {
     "data": {
      "text/html": [
       " View run <strong style=\"color:#cdcd00\">playful-spaceship-9</strong> at: <a href='https://wandb.ai/naratip-18257/precipitaion-nowcasting/runs/zp2k9fq6' target=\"_blank\">https://wandb.ai/naratip-18257/precipitaion-nowcasting/runs/zp2k9fq6</a><br/> View job at <a href='https://wandb.ai/naratip-18257/precipitaion-nowcasting/jobs/QXJ0aWZhY3RDb2xsZWN0aW9uOjE1MDQwODQwMg==/version_details/v8' target=\"_blank\">https://wandb.ai/naratip-18257/precipitaion-nowcasting/jobs/QXJ0aWZhY3RDb2xsZWN0aW9uOjE1MDQwODQwMg==/version_details/v8</a><br/>Synced 5 W&B file(s), 0 media file(s), 0 artifact file(s) and 0 other file(s)"
      ],
      "text/plain": [
       "<IPython.core.display.HTML object>"
      ]
     },
     "metadata": {},
     "output_type": "display_data"
    },
    {
     "data": {
      "text/html": [
       "Find logs at: <code>./wandb/run-20240320_001651-zp2k9fq6/logs</code>"
      ],
      "text/plain": [
       "<IPython.core.display.HTML object>"
      ]
     },
     "metadata": {},
     "output_type": "display_data"
    },
    {
     "data": {
      "text/html": [
       "Successfully finished last run (ID:zp2k9fq6). Initializing new run:<br/>"
      ],
      "text/plain": [
       "<IPython.core.display.HTML object>"
      ]
     },
     "metadata": {},
     "output_type": "display_data"
    },
    {
     "data": {
      "application/vnd.jupyter.widget-view+json": {
       "model_id": "",
       "version_major": 2,
       "version_minor": 0
      },
      "text/plain": [
       "VBox(children=(Label(value='Waiting for wandb.init()...\\r'), FloatProgress(value=0.011113256333434645, max=1.0…"
      ]
     },
     "metadata": {},
     "output_type": "display_data"
    },
    {
     "data": {
      "text/html": [
       "wandb version 0.16.4 is available!  To upgrade, please run:\n",
       " $ pip install wandb --upgrade"
      ],
      "text/plain": [
       "<IPython.core.display.HTML object>"
      ]
     },
     "metadata": {},
     "output_type": "display_data"
    },
    {
     "data": {
      "text/html": [
       "Tracking run with wandb version 0.16.3"
      ],
      "text/plain": [
       "<IPython.core.display.HTML object>"
      ]
     },
     "metadata": {},
     "output_type": "display_data"
    },
    {
     "data": {
      "text/html": [
       "Run data is saved locally in <code>/home/naratip/chula/2024/Pattern/Code/HW5/wandb/run-20240320_001719-pf9lwqh7</code>"
      ],
      "text/plain": [
       "<IPython.core.display.HTML object>"
      ]
     },
     "metadata": {},
     "output_type": "display_data"
    },
    {
     "data": {
      "text/html": [
       "Syncing run <strong><a href='https://wandb.ai/naratip-18257/precipitaion-nowcasting/runs/pf9lwqh7' target=\"_blank\">polished-frog-10</a></strong> to <a href='https://wandb.ai/naratip-18257/precipitaion-nowcasting' target=\"_blank\">Weights & Biases</a> (<a href='https://wandb.me/run' target=\"_blank\">docs</a>)<br/>"
      ],
      "text/plain": [
       "<IPython.core.display.HTML object>"
      ]
     },
     "metadata": {},
     "output_type": "display_data"
    },
    {
     "data": {
      "text/html": [
       " View project at <a href='https://wandb.ai/naratip-18257/precipitaion-nowcasting' target=\"_blank\">https://wandb.ai/naratip-18257/precipitaion-nowcasting</a>"
      ],
      "text/plain": [
       "<IPython.core.display.HTML object>"
      ]
     },
     "metadata": {},
     "output_type": "display_data"
    },
    {
     "data": {
      "text/html": [
       " View run at <a href='https://wandb.ai/naratip-18257/precipitaion-nowcasting/runs/pf9lwqh7' target=\"_blank\">https://wandb.ai/naratip-18257/precipitaion-nowcasting/runs/pf9lwqh7</a>"
      ],
      "text/plain": [
       "<IPython.core.display.HTML object>"
      ]
     },
     "metadata": {},
     "output_type": "display_data"
    },
    {
     "name": "stdout",
     "output_type": "stream",
     "text": [
      "Training epoch 1...\n",
      "Current LR: 0.0001\n"
     ]
    },
    {
     "data": {
      "application/vnd.jupyter.widget-view+json": {
       "model_id": "",
       "version_major": 2,
       "version_minor": 0
      },
      "text/plain": [
       "  0%|          | 0/1121 [00:00<?, ?it/s]"
      ]
     },
     "metadata": {},
     "output_type": "display_data"
    },
    {
     "name": "stdout",
     "output_type": "stream",
     "text": [
      "Epoch 1 train loss: 1.9202\n",
      "Validating epoch 1\n"
     ]
    },
    {
     "data": {
      "application/vnd.jupyter.widget-view+json": {
       "model_id": "",
       "version_major": 2,
       "version_minor": 0
      },
      "text/plain": [
       "  0%|          | 0/454 [00:00<?, ?it/s]"
      ]
     },
     "metadata": {},
     "output_type": "display_data"
    },
    {
     "name": "stdout",
     "output_type": "stream",
     "text": [
      "Epoch 1 validation loss: 1.6556\n",
      "Saving new best model...\n",
      "Training epoch 2...\n",
      "Current LR: 0.0004\n"
     ]
    },
    {
     "data": {
      "application/vnd.jupyter.widget-view+json": {
       "model_id": "",
       "version_major": 2,
       "version_minor": 0
      },
      "text/plain": [
       "  0%|          | 0/1121 [00:00<?, ?it/s]"
      ]
     },
     "metadata": {},
     "output_type": "display_data"
    },
    {
     "name": "stdout",
     "output_type": "stream",
     "text": [
      "Epoch 2 train loss: 1.9188\n",
      "Validating epoch 2\n"
     ]
    },
    {
     "data": {
      "application/vnd.jupyter.widget-view+json": {
       "model_id": "",
       "version_major": 2,
       "version_minor": 0
      },
      "text/plain": [
       "  0%|          | 0/454 [00:00<?, ?it/s]"
      ]
     },
     "metadata": {},
     "output_type": "display_data"
    },
    {
     "name": "stdout",
     "output_type": "stream",
     "text": [
      "Epoch 2 validation loss: 1.6564\n",
      "Training epoch 3...\n",
      "Current LR: 0.0007\n"
     ]
    },
    {
     "data": {
      "application/vnd.jupyter.widget-view+json": {
       "model_id": "",
       "version_major": 2,
       "version_minor": 0
      },
      "text/plain": [
       "  0%|          | 0/1121 [00:00<?, ?it/s]"
      ]
     },
     "metadata": {},
     "output_type": "display_data"
    },
    {
     "name": "stdout",
     "output_type": "stream",
     "text": [
      "Epoch 3 train loss: 1.9185\n",
      "Validating epoch 3\n"
     ]
    },
    {
     "data": {
      "application/vnd.jupyter.widget-view+json": {
       "model_id": "",
       "version_major": 2,
       "version_minor": 0
      },
      "text/plain": [
       "  0%|          | 0/454 [00:00<?, ?it/s]"
      ]
     },
     "metadata": {},
     "output_type": "display_data"
    },
    {
     "name": "stdout",
     "output_type": "stream",
     "text": [
      "Epoch 3 validation loss: 1.6565\n",
      "Training epoch 4...\n",
      "Current LR: 0.001\n"
     ]
    },
    {
     "data": {
      "application/vnd.jupyter.widget-view+json": {
       "model_id": "",
       "version_major": 2,
       "version_minor": 0
      },
      "text/plain": [
       "  0%|          | 0/1121 [00:00<?, ?it/s]"
      ]
     },
     "metadata": {},
     "output_type": "display_data"
    },
    {
     "name": "stdout",
     "output_type": "stream",
     "text": [
      "Epoch 4 train loss: 1.9184\n",
      "Validating epoch 4\n"
     ]
    },
    {
     "data": {
      "application/vnd.jupyter.widget-view+json": {
       "model_id": "",
       "version_major": 2,
       "version_minor": 0
      },
      "text/plain": [
       "  0%|          | 0/454 [00:00<?, ?it/s]"
      ]
     },
     "metadata": {},
     "output_type": "display_data"
    },
    {
     "name": "stdout",
     "output_type": "stream",
     "text": [
      "Epoch 4 validation loss: 1.6563\n",
      "Training epoch 5...\n",
      "Current LR: 0.0008333333333333334\n"
     ]
    },
    {
     "data": {
      "application/vnd.jupyter.widget-view+json": {
       "model_id": "",
       "version_major": 2,
       "version_minor": 0
      },
      "text/plain": [
       "  0%|          | 0/1121 [00:00<?, ?it/s]"
      ]
     },
     "metadata": {},
     "output_type": "display_data"
    },
    {
     "name": "stdout",
     "output_type": "stream",
     "text": [
      "Epoch 5 train loss: 1.9184\n",
      "Validating epoch 5\n"
     ]
    },
    {
     "data": {
      "application/vnd.jupyter.widget-view+json": {
       "model_id": "",
       "version_major": 2,
       "version_minor": 0
      },
      "text/plain": [
       "  0%|          | 0/454 [00:00<?, ?it/s]"
      ]
     },
     "metadata": {},
     "output_type": "display_data"
    },
    {
     "name": "stdout",
     "output_type": "stream",
     "text": [
      "Epoch 5 validation loss: 1.6565\n",
      "Training epoch 6...\n",
      "Current LR: 0.0006666666666666668\n"
     ]
    },
    {
     "data": {
      "application/vnd.jupyter.widget-view+json": {
       "model_id": "",
       "version_major": 2,
       "version_minor": 0
      },
      "text/plain": [
       "  0%|          | 0/1121 [00:00<?, ?it/s]"
      ]
     },
     "metadata": {},
     "output_type": "display_data"
    },
    {
     "name": "stdout",
     "output_type": "stream",
     "text": [
      "Epoch 6 train loss: 1.9182\n",
      "Validating epoch 6\n"
     ]
    },
    {
     "data": {
      "application/vnd.jupyter.widget-view+json": {
       "model_id": "",
       "version_major": 2,
       "version_minor": 0
      },
      "text/plain": [
       "  0%|          | 0/454 [00:00<?, ?it/s]"
      ]
     },
     "metadata": {},
     "output_type": "display_data"
    },
    {
     "name": "stdout",
     "output_type": "stream",
     "text": [
      "Epoch 6 validation loss: 1.6560\n",
      "Training epoch 7...\n",
      "Current LR: 0.0005\n"
     ]
    },
    {
     "data": {
      "application/vnd.jupyter.widget-view+json": {
       "model_id": "",
       "version_major": 2,
       "version_minor": 0
      },
      "text/plain": [
       "  0%|          | 0/1121 [00:00<?, ?it/s]"
      ]
     },
     "metadata": {},
     "output_type": "display_data"
    },
    {
     "name": "stdout",
     "output_type": "stream",
     "text": [
      "Epoch 7 train loss: 1.9176\n",
      "Validating epoch 7\n"
     ]
    },
    {
     "data": {
      "application/vnd.jupyter.widget-view+json": {
       "model_id": "",
       "version_major": 2,
       "version_minor": 0
      },
      "text/plain": [
       "  0%|          | 0/454 [00:00<?, ?it/s]"
      ]
     },
     "metadata": {},
     "output_type": "display_data"
    },
    {
     "name": "stdout",
     "output_type": "stream",
     "text": [
      "Epoch 7 validation loss: 1.6558\n",
      "Training epoch 8...\n",
      "Current LR: 0.001\n"
     ]
    },
    {
     "data": {
      "application/vnd.jupyter.widget-view+json": {
       "model_id": "",
       "version_major": 2,
       "version_minor": 0
      },
      "text/plain": [
       "  0%|          | 0/1121 [00:00<?, ?it/s]"
      ]
     },
     "metadata": {},
     "output_type": "display_data"
    },
    {
     "name": "stdout",
     "output_type": "stream",
     "text": [
      "Epoch 8 train loss: 1.9186\n",
      "Validating epoch 8\n"
     ]
    },
    {
     "data": {
      "application/vnd.jupyter.widget-view+json": {
       "model_id": "",
       "version_major": 2,
       "version_minor": 0
      },
      "text/plain": [
       "  0%|          | 0/454 [00:00<?, ?it/s]"
      ]
     },
     "metadata": {},
     "output_type": "display_data"
    },
    {
     "name": "stdout",
     "output_type": "stream",
     "text": [
      "Epoch 8 validation loss: 1.6567\n",
      "Training epoch 9...\n",
      "Current LR: 0.00055\n"
     ]
    },
    {
     "data": {
      "application/vnd.jupyter.widget-view+json": {
       "model_id": "",
       "version_major": 2,
       "version_minor": 0
      },
      "text/plain": [
       "  0%|          | 0/1121 [00:00<?, ?it/s]"
      ]
     },
     "metadata": {},
     "output_type": "display_data"
    },
    {
     "name": "stdout",
     "output_type": "stream",
     "text": [
      "Epoch 9 train loss: 1.9181\n",
      "Validating epoch 9\n"
     ]
    },
    {
     "data": {
      "application/vnd.jupyter.widget-view+json": {
       "model_id": "",
       "version_major": 2,
       "version_minor": 0
      },
      "text/plain": [
       "  0%|          | 0/454 [00:00<?, ?it/s]"
      ]
     },
     "metadata": {},
     "output_type": "display_data"
    },
    {
     "name": "stdout",
     "output_type": "stream",
     "text": [
      "Epoch 9 validation loss: 1.6555\n",
      "Saving new best model...\n",
      "Training epoch 10...\n",
      "Current LR: 0.00010000000000000005\n"
     ]
    },
    {
     "data": {
      "application/vnd.jupyter.widget-view+json": {
       "model_id": "15ca6da9f02a4d10ab4f973ff5b0dcdc",
       "version_major": 2,
       "version_minor": 0
      },
      "text/plain": [
       "  0%|          | 0/1121 [00:00<?, ?it/s]"
      ]
     },
     "metadata": {},
     "output_type": "display_data"
    },
    {
     "name": "stdout",
     "output_type": "stream",
     "text": [
      "Epoch 10 train loss: 1.9172\n",
      "Validating epoch 10\n"
     ]
    },
    {
     "data": {
      "application/vnd.jupyter.widget-view+json": {
       "model_id": "401218cd80824a2eb4702457086c6221",
       "version_major": 2,
       "version_minor": 0
      },
      "text/plain": [
       "  0%|          | 0/454 [00:00<?, ?it/s]"
      ]
     },
     "metadata": {},
     "output_type": "display_data"
    },
    {
     "name": "stdout",
     "output_type": "stream",
     "text": [
      "Epoch 10 validation loss: 1.6558\n"
     ]
    },
    {
     "data": {
      "application/vnd.jupyter.widget-view+json": {
       "model_id": "a325a72f45f2431cad4eaf8981a544bd",
       "version_major": 2,
       "version_minor": 0
      },
      "text/plain": [
       "VBox(children=(Label(value='0.003 MB of 0.003 MB uploaded\\r'), FloatProgress(value=1.0, max=1.0)))"
      ]
     },
     "metadata": {},
     "output_type": "display_data"
    },
    {
     "data": {
      "text/html": [
       "W&B sync reduced upload amount by 6.6%             "
      ],
      "text/plain": [
       "<IPython.core.display.HTML object>"
      ]
     },
     "metadata": {},
     "output_type": "display_data"
    },
    {
     "data": {
      "text/html": [
       "<style>\n",
       "    table.wandb td:nth-child(1) { padding: 0 10px; text-align: left ; width: auto;} td:nth-child(2) {text-align: left ; width: 100%}\n",
       "    .wandb-row { display: flex; flex-direction: row; flex-wrap: wrap; justify-content: flex-start; width: 100% }\n",
       "    .wandb-col { display: flex; flex-direction: column; flex-basis: 100%; flex: 1; padding: 10px; }\n",
       "    </style>\n",
       "<div class=\"wandb-row\"><div class=\"wandb-col\"><h3>Run history:</h3><br/><table class=\"wandb\"><tr><td>lr</td><td>▁▃▆█▇▅▄█▄▁</td></tr><tr><td>train_loss</td><td>█▅▄▄▄▃▂▄▃▁</td></tr><tr><td>val_loss</td><td>▁▆▇▅▇▄▂█▁▂</td></tr></table><br/></div><div class=\"wandb-col\"><h3>Run summary:</h3><br/><table class=\"wandb\"><tr><td>lr</td><td>0.0001</td></tr><tr><td>train_loss</td><td>1.91718</td></tr><tr><td>val_loss</td><td>1.65578</td></tr></table><br/></div></div>"
      ],
      "text/plain": [
       "<IPython.core.display.HTML object>"
      ]
     },
     "metadata": {},
     "output_type": "display_data"
    },
    {
     "data": {
      "text/html": [
       " View run <strong style=\"color:#cdcd00\">polished-frog-10</strong> at: <a href='https://wandb.ai/naratip-18257/precipitaion-nowcasting/runs/pf9lwqh7' target=\"_blank\">https://wandb.ai/naratip-18257/precipitaion-nowcasting/runs/pf9lwqh7</a><br/> View job at <a href='https://wandb.ai/naratip-18257/precipitaion-nowcasting/jobs/QXJ0aWZhY3RDb2xsZWN0aW9uOjE1MDQwODQwMg==/version_details/v8' target=\"_blank\">https://wandb.ai/naratip-18257/precipitaion-nowcasting/jobs/QXJ0aWZhY3RDb2xsZWN0aW9uOjE1MDQwODQwMg==/version_details/v8</a><br/>Synced 5 W&B file(s), 0 media file(s), 2 artifact file(s) and 0 other file(s)"
      ],
      "text/plain": [
       "<IPython.core.display.HTML object>"
      ]
     },
     "metadata": {},
     "output_type": "display_data"
    },
    {
     "data": {
      "text/html": [
       "Find logs at: <code>./wandb/run-20240320_001719-pf9lwqh7/logs</code>"
      ],
      "text/plain": [
       "<IPython.core.display.HTML object>"
      ]
     },
     "metadata": {},
     "output_type": "display_data"
    },
    {
     "name": "stdout",
     "output_type": "stream",
     "text": [
      "Finished Training\n"
     ]
    }
   ],
   "source": [
    "################################################################################\n",
    "# TODO#12:                                                                     #\n",
    "# Complete the code to train your dropout model                                #\n",
    "################################################################################\n",
    "print('start training ff dropout')\n",
    "################################################################################\n",
    "#                            WRITE YOUR CODE BELOW                             #\n",
    "################################################################################\n",
    "my_config = {\n",
    "    'architechture': 'dropout',\n",
    "    'lr': 0.01,\n",
    "    'hidden_size': 200,\n",
    "    'epochs':10\n",
    "}\n",
    "my_model = FeedForwardNNWithDropout(hidden_size=my_config['hidden_size'])\n",
    "my_model = my_model.to(device)\n",
    "my_optimizer = torch.optim.Adam(my_model.parameters(), lr = my_config['lr'])\n",
    "my_scheduler = MyScheduler(my_optimizer)\n",
    "\n",
    "#Training\n",
    "my_train_losses = []\n",
    "my_val_losses = []\n",
    "my_learning_rates = []\n",
    "\n",
    "# Strat wandb run\n",
    "wandb.init(\n",
    "    project='precipitaion-nowcasting',\n",
    "    config= my_config\n",
    ")\n",
    "\n",
    "#Log parameters and gradients\n",
    "wandb.watch(my_model, log='all')\n",
    "\n",
    "for epoch in range(my_config['epochs']):\n",
    "    #Training\n",
    "    train_loss = []\n",
    "    current_lr = my_optimizer.param_groups[0]['lr']\n",
    "    my_learning_rates.append(current_lr)\n",
    "\n",
    "    #Flag model as training\n",
    "    my_model.train()\n",
    "\n",
    "    print(f'Training epoch {epoch + 1}...')\n",
    "    print(f'Current LR: {current_lr}')\n",
    "\n",
    "    for i, (inputs, y_true) in enumerate(tqdm(train_loader)):\n",
    "        #tranfer data from cpu to gpu\n",
    "        inputs = inputs.to(device)\n",
    "        y_true = y_true.to(device)\n",
    "\n",
    "        #Reset gradient\n",
    "        my_optimizer.zero_grad()\n",
    "\n",
    "        #Predict\n",
    "        y_pred = my_model(inputs)\n",
    "\n",
    "        #Calculate loss\n",
    "        loss = loss_fn(y_pred, y_true)\n",
    "\n",
    "        #Calculate gradient\n",
    "        loss.backward()\n",
    "\n",
    "        #Update parameters\n",
    "        my_optimizer.step()\n",
    "\n",
    "        #Log\n",
    "        train_loss.append(loss)\n",
    "\n",
    "    avg_train_loss = torch.stack(train_loss).mean().item()\n",
    "    my_train_losses.append(avg_train_loss)\n",
    "\n",
    "    print(f'Epoch {epoch + 1} train loss: {avg_train_loss:.4f}')\n",
    "\n",
    "    #Validation\n",
    "    my_model.eval()\n",
    "    with torch.no_grad():\n",
    "        print(f'Validating epoch {epoch + 1}')\n",
    "        val_loss = []\n",
    "        for i, (inputs, y_true) in enumerate(tqdm(val_loader)):\n",
    "            #tranfer data from cpu to gpu\n",
    "            inputs = inputs.to(device)\n",
    "            y_true = y_true.to(device)\n",
    "\n",
    "            #Predict\n",
    "            y_pred = my_model(inputs)\n",
    "\n",
    "            #Calculate loss\n",
    "            loss = loss_fn(y_pred, y_true)\n",
    "\n",
    "            #log\n",
    "            val_loss.append(loss)\n",
    "\n",
    "        avg_val_loss = torch.stack(val_loss).mean().item()\n",
    "        my_val_losses.append(avg_val_loss)\n",
    "        \n",
    "        print(f'Epoch {epoch + 1} validation loss: {avg_val_loss:.4f}')\n",
    "\n",
    "        #LR scheduler\n",
    "        my_scheduler.step(epoch)\n",
    "\n",
    "        #Save Chechpoint if val_loss is the best we got\n",
    "        best_val_loss = np.inf if epoch == 0 else min(my_val_losses[:-1])\n",
    "        if avg_val_loss < best_val_loss:\n",
    "            state = {\n",
    "                'epoch': epoch,\n",
    "                'model': my_model.state_dict(),\n",
    "                'optimizer': my_optimizer.state_dict(),\n",
    "                'train_loss': avg_train_loss,\n",
    "                'validation_loss': avg_val_loss,\n",
    "                'best_val_loss': best_val_loss\n",
    "            }\n",
    "            print(f'Saving new best model...')\n",
    "            torch.save(state, 'my_model.pth.tar')\n",
    "\n",
    "    wandb.log({\n",
    "        'train_loss': avg_train_loss,\n",
    "        'val_loss': avg_val_loss,\n",
    "        'lr': current_lr\n",
    "    })\n",
    "\n",
    "wandb.unwatch()\n",
    "wandb.finish()\n",
    "print('Finished Training')"
   ]
  },
  {
   "cell_type": "code",
   "execution_count": 238,
   "metadata": {
    "scrolled": true
   },
   "outputs": [
    {
     "name": "stdout",
     "output_type": "stream",
     "text": [
      "start training ff dropout\n"
     ]
    },
    {
     "data": {
      "text/html": [
       "wandb version 0.16.4 is available!  To upgrade, please run:\n",
       " $ pip install wandb --upgrade"
      ],
      "text/plain": [
       "<IPython.core.display.HTML object>"
      ]
     },
     "metadata": {},
     "output_type": "display_data"
    },
    {
     "data": {
      "text/html": [
       "Tracking run with wandb version 0.16.3"
      ],
      "text/plain": [
       "<IPython.core.display.HTML object>"
      ]
     },
     "metadata": {},
     "output_type": "display_data"
    },
    {
     "data": {
      "text/html": [
       "Run data is saved locally in <code>/home/naratip/chula/2024/Pattern/Code/HW5/wandb/run-20240320_003042-cm9581cs</code>"
      ],
      "text/plain": [
       "<IPython.core.display.HTML object>"
      ]
     },
     "metadata": {},
     "output_type": "display_data"
    },
    {
     "data": {
      "text/html": [
       "Syncing run <strong><a href='https://wandb.ai/naratip-18257/precipitaion-nowcasting/runs/cm9581cs' target=\"_blank\">fast-lion-11</a></strong> to <a href='https://wandb.ai/naratip-18257/precipitaion-nowcasting' target=\"_blank\">Weights & Biases</a> (<a href='https://wandb.me/run' target=\"_blank\">docs</a>)<br/>"
      ],
      "text/plain": [
       "<IPython.core.display.HTML object>"
      ]
     },
     "metadata": {},
     "output_type": "display_data"
    },
    {
     "data": {
      "text/html": [
       " View project at <a href='https://wandb.ai/naratip-18257/precipitaion-nowcasting' target=\"_blank\">https://wandb.ai/naratip-18257/precipitaion-nowcasting</a>"
      ],
      "text/plain": [
       "<IPython.core.display.HTML object>"
      ]
     },
     "metadata": {},
     "output_type": "display_data"
    },
    {
     "data": {
      "text/html": [
       " View run at <a href='https://wandb.ai/naratip-18257/precipitaion-nowcasting/runs/cm9581cs' target=\"_blank\">https://wandb.ai/naratip-18257/precipitaion-nowcasting/runs/cm9581cs</a>"
      ],
      "text/plain": [
       "<IPython.core.display.HTML object>"
      ]
     },
     "metadata": {},
     "output_type": "display_data"
    },
    {
     "name": "stdout",
     "output_type": "stream",
     "text": [
      "Training epoch 1...\n",
      "Current LR: 0.01\n"
     ]
    },
    {
     "data": {
      "application/vnd.jupyter.widget-view+json": {
       "model_id": "",
       "version_major": 2,
       "version_minor": 0
      },
      "text/plain": [
       "  0%|          | 0/1121 [00:00<?, ?it/s]"
      ]
     },
     "metadata": {},
     "output_type": "display_data"
    },
    {
     "name": "stdout",
     "output_type": "stream",
     "text": [
      "Epoch 1 train loss: 1.9232\n",
      "Validating epoch 1\n"
     ]
    },
    {
     "data": {
      "application/vnd.jupyter.widget-view+json": {
       "model_id": "",
       "version_major": 2,
       "version_minor": 0
      },
      "text/plain": [
       "  0%|          | 0/454 [00:00<?, ?it/s]"
      ]
     },
     "metadata": {},
     "output_type": "display_data"
    },
    {
     "name": "stdout",
     "output_type": "stream",
     "text": [
      "Epoch 1 validation loss: 1.6607\n",
      "Saving new best model...\n",
      "Training epoch 2...\n",
      "Current LR: 0.01\n"
     ]
    },
    {
     "data": {
      "application/vnd.jupyter.widget-view+json": {
       "model_id": "",
       "version_major": 2,
       "version_minor": 0
      },
      "text/plain": [
       "  0%|          | 0/1121 [00:00<?, ?it/s]"
      ]
     },
     "metadata": {},
     "output_type": "display_data"
    },
    {
     "name": "stdout",
     "output_type": "stream",
     "text": [
      "Epoch 2 train loss: 1.9236\n",
      "Validating epoch 2\n"
     ]
    },
    {
     "data": {
      "application/vnd.jupyter.widget-view+json": {
       "model_id": "",
       "version_major": 2,
       "version_minor": 0
      },
      "text/plain": [
       "  0%|          | 0/454 [00:00<?, ?it/s]"
      ]
     },
     "metadata": {},
     "output_type": "display_data"
    },
    {
     "name": "stdout",
     "output_type": "stream",
     "text": [
      "Epoch 2 validation loss: 1.6595\n",
      "Saving new best model...\n",
      "Training epoch 3...\n",
      "Current LR: 0.01\n"
     ]
    },
    {
     "data": {
      "application/vnd.jupyter.widget-view+json": {
       "model_id": "",
       "version_major": 2,
       "version_minor": 0
      },
      "text/plain": [
       "  0%|          | 0/1121 [00:00<?, ?it/s]"
      ]
     },
     "metadata": {},
     "output_type": "display_data"
    },
    {
     "name": "stdout",
     "output_type": "stream",
     "text": [
      "Epoch 3 train loss: 3.9589\n",
      "Validating epoch 3\n"
     ]
    },
    {
     "data": {
      "application/vnd.jupyter.widget-view+json": {
       "model_id": "",
       "version_major": 2,
       "version_minor": 0
      },
      "text/plain": [
       "  0%|          | 0/454 [00:00<?, ?it/s]"
      ]
     },
     "metadata": {},
     "output_type": "display_data"
    },
    {
     "name": "stdout",
     "output_type": "stream",
     "text": [
      "Epoch 3 validation loss: 1.6835\n",
      "Training epoch 4...\n",
      "Current LR: 0.01\n"
     ]
    },
    {
     "data": {
      "application/vnd.jupyter.widget-view+json": {
       "model_id": "",
       "version_major": 2,
       "version_minor": 0
      },
      "text/plain": [
       "  0%|          | 0/1121 [00:00<?, ?it/s]"
      ]
     },
     "metadata": {},
     "output_type": "display_data"
    },
    {
     "name": "stdout",
     "output_type": "stream",
     "text": [
      "Epoch 4 train loss: 1.9271\n",
      "Validating epoch 4\n"
     ]
    },
    {
     "data": {
      "application/vnd.jupyter.widget-view+json": {
       "model_id": "",
       "version_major": 2,
       "version_minor": 0
      },
      "text/plain": [
       "  0%|          | 0/454 [00:00<?, ?it/s]"
      ]
     },
     "metadata": {},
     "output_type": "display_data"
    },
    {
     "name": "stdout",
     "output_type": "stream",
     "text": [
      "Epoch 4 validation loss: 1.6610\n",
      "Training epoch 5...\n",
      "Current LR: 0.01\n"
     ]
    },
    {
     "data": {
      "application/vnd.jupyter.widget-view+json": {
       "model_id": "",
       "version_major": 2,
       "version_minor": 0
      },
      "text/plain": [
       "  0%|          | 0/1121 [00:00<?, ?it/s]"
      ]
     },
     "metadata": {},
     "output_type": "display_data"
    },
    {
     "name": "stdout",
     "output_type": "stream",
     "text": [
      "Epoch 5 train loss: 1.9232\n",
      "Validating epoch 5\n"
     ]
    },
    {
     "data": {
      "application/vnd.jupyter.widget-view+json": {
       "model_id": "",
       "version_major": 2,
       "version_minor": 0
      },
      "text/plain": [
       "  0%|          | 0/454 [00:00<?, ?it/s]"
      ]
     },
     "metadata": {},
     "output_type": "display_data"
    },
    {
     "name": "stdout",
     "output_type": "stream",
     "text": [
      "Epoch 5 validation loss: 1.6611\n",
      "Training epoch 6...\n",
      "Current LR: 0.01\n"
     ]
    },
    {
     "data": {
      "application/vnd.jupyter.widget-view+json": {
       "model_id": "",
       "version_major": 2,
       "version_minor": 0
      },
      "text/plain": [
       "  0%|          | 0/1121 [00:00<?, ?it/s]"
      ]
     },
     "metadata": {},
     "output_type": "display_data"
    },
    {
     "name": "stdout",
     "output_type": "stream",
     "text": [
      "Epoch 6 train loss: 1.9235\n",
      "Validating epoch 6\n"
     ]
    },
    {
     "data": {
      "application/vnd.jupyter.widget-view+json": {
       "model_id": "",
       "version_major": 2,
       "version_minor": 0
      },
      "text/plain": [
       "  0%|          | 0/454 [00:00<?, ?it/s]"
      ]
     },
     "metadata": {},
     "output_type": "display_data"
    },
    {
     "name": "stdout",
     "output_type": "stream",
     "text": [
      "Epoch 6 validation loss: 1.6613\n",
      "Training epoch 7...\n",
      "Current LR: 0.01\n"
     ]
    },
    {
     "data": {
      "application/vnd.jupyter.widget-view+json": {
       "model_id": "",
       "version_major": 2,
       "version_minor": 0
      },
      "text/plain": [
       "  0%|          | 0/1121 [00:00<?, ?it/s]"
      ]
     },
     "metadata": {},
     "output_type": "display_data"
    },
    {
     "name": "stdout",
     "output_type": "stream",
     "text": [
      "Epoch 7 train loss: 1.9233\n",
      "Validating epoch 7\n"
     ]
    },
    {
     "data": {
      "application/vnd.jupyter.widget-view+json": {
       "model_id": "",
       "version_major": 2,
       "version_minor": 0
      },
      "text/plain": [
       "  0%|          | 0/454 [00:00<?, ?it/s]"
      ]
     },
     "metadata": {},
     "output_type": "display_data"
    },
    {
     "name": "stdout",
     "output_type": "stream",
     "text": [
      "Epoch 7 validation loss: 1.6611\n",
      "Training epoch 8...\n",
      "Current LR: 0.01\n"
     ]
    },
    {
     "data": {
      "application/vnd.jupyter.widget-view+json": {
       "model_id": "",
       "version_major": 2,
       "version_minor": 0
      },
      "text/plain": [
       "  0%|          | 0/1121 [00:00<?, ?it/s]"
      ]
     },
     "metadata": {},
     "output_type": "display_data"
    },
    {
     "name": "stdout",
     "output_type": "stream",
     "text": [
      "Epoch 8 train loss: 1.9234\n",
      "Validating epoch 8\n"
     ]
    },
    {
     "data": {
      "application/vnd.jupyter.widget-view+json": {
       "model_id": "",
       "version_major": 2,
       "version_minor": 0
      },
      "text/plain": [
       "  0%|          | 0/454 [00:00<?, ?it/s]"
      ]
     },
     "metadata": {},
     "output_type": "display_data"
    },
    {
     "name": "stdout",
     "output_type": "stream",
     "text": [
      "Epoch 8 validation loss: 1.6610\n",
      "Training epoch 9...\n",
      "Current LR: 0.01\n"
     ]
    },
    {
     "data": {
      "application/vnd.jupyter.widget-view+json": {
       "model_id": "",
       "version_major": 2,
       "version_minor": 0
      },
      "text/plain": [
       "  0%|          | 0/1121 [00:00<?, ?it/s]"
      ]
     },
     "metadata": {},
     "output_type": "display_data"
    },
    {
     "name": "stdout",
     "output_type": "stream",
     "text": [
      "Epoch 9 train loss: 1.9235\n",
      "Validating epoch 9\n"
     ]
    },
    {
     "data": {
      "application/vnd.jupyter.widget-view+json": {
       "model_id": "",
       "version_major": 2,
       "version_minor": 0
      },
      "text/plain": [
       "  0%|          | 0/454 [00:00<?, ?it/s]"
      ]
     },
     "metadata": {},
     "output_type": "display_data"
    },
    {
     "name": "stdout",
     "output_type": "stream",
     "text": [
      "Epoch 9 validation loss: 1.6609\n",
      "Training epoch 10...\n",
      "Current LR: 0.01\n"
     ]
    },
    {
     "data": {
      "application/vnd.jupyter.widget-view+json": {
       "model_id": "",
       "version_major": 2,
       "version_minor": 0
      },
      "text/plain": [
       "  0%|          | 0/1121 [00:00<?, ?it/s]"
      ]
     },
     "metadata": {},
     "output_type": "display_data"
    },
    {
     "name": "stdout",
     "output_type": "stream",
     "text": [
      "Epoch 10 train loss: 1.9236\n",
      "Validating epoch 10\n"
     ]
    },
    {
     "data": {
      "application/vnd.jupyter.widget-view+json": {
       "model_id": "",
       "version_major": 2,
       "version_minor": 0
      },
      "text/plain": [
       "  0%|          | 0/454 [00:00<?, ?it/s]"
      ]
     },
     "metadata": {},
     "output_type": "display_data"
    },
    {
     "name": "stdout",
     "output_type": "stream",
     "text": [
      "Epoch 10 validation loss: 1.6601\n"
     ]
    },
    {
     "data": {
      "application/vnd.jupyter.widget-view+json": {
       "model_id": "",
       "version_major": 2,
       "version_minor": 0
      },
      "text/plain": [
       "VBox(children=(Label(value='0.026 MB of 0.044 MB uploaded (0.004 MB deduped)\\r'), FloatProgress(value=0.592202…"
      ]
     },
     "metadata": {},
     "output_type": "display_data"
    },
    {
     "data": {
      "text/html": [
       "W&B sync reduced upload amount by 8.5%             "
      ],
      "text/plain": [
       "<IPython.core.display.HTML object>"
      ]
     },
     "metadata": {},
     "output_type": "display_data"
    },
    {
     "data": {
      "text/html": [
       "<style>\n",
       "    table.wandb td:nth-child(1) { padding: 0 10px; text-align: left ; width: auto;} td:nth-child(2) {text-align: left ; width: 100%}\n",
       "    .wandb-row { display: flex; flex-direction: row; flex-wrap: wrap; justify-content: flex-start; width: 100% }\n",
       "    .wandb-col { display: flex; flex-direction: column; flex-basis: 100%; flex: 1; padding: 10px; }\n",
       "    </style>\n",
       "<div class=\"wandb-row\"><div class=\"wandb-col\"><h3>Run history:</h3><br/><table class=\"wandb\"><tr><td>lr</td><td>▁▁▁▁▁▁▁▁▁▁</td></tr><tr><td>train_loss</td><td>▁▁█▁▁▁▁▁▁▁</td></tr><tr><td>val_loss</td><td>▁▁█▁▁▂▁▁▁▁</td></tr></table><br/></div><div class=\"wandb-col\"><h3>Run summary:</h3><br/><table class=\"wandb\"><tr><td>lr</td><td>0.01</td></tr><tr><td>train_loss</td><td>1.92361</td></tr><tr><td>val_loss</td><td>1.66012</td></tr></table><br/></div></div>"
      ],
      "text/plain": [
       "<IPython.core.display.HTML object>"
      ]
     },
     "metadata": {},
     "output_type": "display_data"
    },
    {
     "data": {
      "text/html": [
       " View run <strong style=\"color:#cdcd00\">fast-lion-11</strong> at: <a href='https://wandb.ai/naratip-18257/precipitaion-nowcasting/runs/cm9581cs' target=\"_blank\">https://wandb.ai/naratip-18257/precipitaion-nowcasting/runs/cm9581cs</a><br/> View job at <a href='https://wandb.ai/naratip-18257/precipitaion-nowcasting/jobs/QXJ0aWZhY3RDb2xsZWN0aW9uOjE1MDQwODQwMg==/version_details/v9' target=\"_blank\">https://wandb.ai/naratip-18257/precipitaion-nowcasting/jobs/QXJ0aWZhY3RDb2xsZWN0aW9uOjE1MDQwODQwMg==/version_details/v9</a><br/>Synced 5 W&B file(s), 0 media file(s), 2 artifact file(s) and 0 other file(s)"
      ],
      "text/plain": [
       "<IPython.core.display.HTML object>"
      ]
     },
     "metadata": {},
     "output_type": "display_data"
    },
    {
     "data": {
      "text/html": [
       "Find logs at: <code>./wandb/run-20240320_003042-cm9581cs/logs</code>"
      ],
      "text/plain": [
       "<IPython.core.display.HTML object>"
      ]
     },
     "metadata": {},
     "output_type": "display_data"
    },
    {
     "name": "stdout",
     "output_type": "stream",
     "text": [
      "Finished Training\n"
     ]
    }
   ],
   "source": [
    "################################################################################\n",
    "# TODO#12:                                                                     #\n",
    "# Complete the code to train your dropout model                                #\n",
    "################################################################################\n",
    "print('start training ff dropout')\n",
    "################################################################################\n",
    "#                            WRITE YOUR CODE BELOW                             #\n",
    "################################################################################\n",
    "my_config = {\n",
    "    'architechture': 'dropout',\n",
    "    'lr': 0.01,\n",
    "    'hidden_size': 200,\n",
    "    'epochs':10\n",
    "}\n",
    "my_model2 = FeedForwardNNWithDropout(hidden_size=my_config['hidden_size'])\n",
    "my_model2 = my_model.to(device)\n",
    "my_optimizer2 = torch.optim.Adam(my_model.parameters(), lr = my_config['lr'])\n",
    "my_scheduler2 = torch.optim.lr_scheduler.ReduceLROnPlateau(\n",
    "    optimizer,\n",
    "    'min',\n",
    "    factor=config['scheduler_factor'],\n",
    "    patience=config['scheduler_patience'],\n",
    "    min_lr=config['scheduler_min_lr']\n",
    ")\n",
    "\n",
    "#Training\n",
    "my_train_losses2 = []\n",
    "my_val_losses2 = []\n",
    "my_learning_rates2 = []\n",
    "\n",
    "# Strat wandb run\n",
    "wandb.init(\n",
    "    project='precipitaion-nowcasting',\n",
    "    config= my_config\n",
    ")\n",
    "\n",
    "#Log parameters and gradients\n",
    "wandb.watch(my_model2, log='all')\n",
    "\n",
    "for epoch in range(my_config['epochs']):\n",
    "    #Training\n",
    "    train_loss = []\n",
    "    current_lr = my_optimizer2.param_groups[0]['lr']\n",
    "    my_learning_rates2.append(current_lr)\n",
    "\n",
    "    #Flag model as training\n",
    "    my_model2.train()\n",
    "\n",
    "    print(f'Training epoch {epoch + 1}...')\n",
    "    print(f'Current LR: {current_lr}')\n",
    "\n",
    "    for i, (inputs, y_true) in enumerate(tqdm(train_loader)):\n",
    "        #tranfer data from cpu to gpu\n",
    "        inputs = inputs.to(device)\n",
    "        y_true = y_true.to(device)\n",
    "\n",
    "        #Reset gradient\n",
    "        my_optimizer2.zero_grad()\n",
    "\n",
    "        #Predict\n",
    "        y_pred = my_model2(inputs)\n",
    "\n",
    "        #Calculate loss\n",
    "        loss = loss_fn(y_pred, y_true)\n",
    "\n",
    "        #Calculate gradient\n",
    "        loss.backward()\n",
    "\n",
    "        #Update parameters\n",
    "        my_optimizer2.step()\n",
    "\n",
    "        #Log\n",
    "        train_loss.append(loss)\n",
    "\n",
    "    avg_train_loss = torch.stack(train_loss).mean().item()\n",
    "    my_train_losses2.append(avg_train_loss)\n",
    "\n",
    "    print(f'Epoch {epoch + 1} train loss: {avg_train_loss:.4f}')\n",
    "\n",
    "    #Validation\n",
    "    my_model2.eval()\n",
    "    with torch.no_grad():\n",
    "        print(f'Validating epoch {epoch + 1}')\n",
    "        val_loss = []\n",
    "        for i, (inputs, y_true) in enumerate(tqdm(val_loader)):\n",
    "            #tranfer data from cpu to gpu\n",
    "            inputs = inputs.to(device)\n",
    "            y_true = y_true.to(device)\n",
    "\n",
    "            #Predict\n",
    "            y_pred = my_model2(inputs)\n",
    "\n",
    "            #Calculate loss\n",
    "            loss = loss_fn(y_pred, y_true)\n",
    "\n",
    "            #log\n",
    "            val_loss.append(loss)\n",
    "\n",
    "        avg_val_loss = torch.stack(val_loss).mean().item()\n",
    "        my_val_losses2.append(avg_val_loss)\n",
    "        \n",
    "        print(f'Epoch {epoch + 1} validation loss: {avg_val_loss:.4f}')\n",
    "\n",
    "        #LR scheduler\n",
    "        my_scheduler2.step(avg_val_loss)\n",
    "\n",
    "        #Save Chechpoint if val_loss is the best we got\n",
    "        best_val_loss = np.inf if epoch == 0 else min(my_val_losses2[:-1])\n",
    "        if avg_val_loss < best_val_loss:\n",
    "            state = {\n",
    "                'epoch': epoch,\n",
    "                'model': my_model2.state_dict(),\n",
    "                'optimizer': my_optimizer2.state_dict(),\n",
    "                'train_loss': avg_train_loss,\n",
    "                'validation_loss': avg_val_loss,\n",
    "                'best_val_loss': best_val_loss\n",
    "            }\n",
    "            print(f'Saving new best model...')\n",
    "            torch.save(state, 'my_model.pth.tar')\n",
    "\n",
    "    wandb.log({\n",
    "        'train_loss': avg_train_loss,\n",
    "        'val_loss': avg_val_loss,\n",
    "        'lr': current_lr\n",
    "    })\n",
    "\n",
    "wandb.unwatch()\n",
    "wandb.finish()\n",
    "print('Finished Training')"
   ]
  },
  {
   "cell_type": "markdown",
   "metadata": {
    "id": "flM71KL-q9wI"
   },
   "source": [
    "### TODO#13\n",
    "\n",
    "Plot the losses and MSE of the training and validation as before. Evaluate the dropout model's performance"
   ]
  },
  {
   "cell_type": "code",
   "execution_count": 339,
   "metadata": {
    "id": "sAIRXOxTEcox",
    "scrolled": true
   },
   "outputs": [
    {
     "data": {
      "image/png": "[encoded data removed]",
      "text/plain": [
       "<Figure size 640x480 with 1 Axes>"
      ]
     },
     "metadata": {},
     "output_type": "display_data"
    },
    {
     "data": {
      "image/png": "[encoded data removed]",
      "text/plain": [
       "<Figure size 640x480 with 1 Axes>"
      ]
     },
     "metadata": {},
     "output_type": "display_data"
    },
    {
     "data": {
      "image/png": "[encoded data removed]",
      "text/plain": [
       "<Figure size 640x480 with 1 Axes>"
      ]
     },
     "metadata": {},
     "output_type": "display_data"
    },
    {
     "data": {
      "image/png": "[encoded data removed]",
      "text/plain": [
       "<Figure size 640x480 with 1 Axes>"
      ]
     },
     "metadata": {},
     "output_type": "display_data"
    }
   ],
   "source": [
    "# Plot here\n",
    "sns.lineplot(x=[i for i in range(1,11)], y= my_train_losses).set_title('Train Loss (my shcduler)')\n",
    "plt.show()\n",
    "sns.lineplot(x=[i for i in range(1,11)], y= my_val_losses).set_title('Val Loss (my shceduler)')\n",
    "plt.show()\n",
    "sns.lineplot(x=[i for i in range(1,11)], y= my_train_losses2).set_title('Train Loss (og shcduler)')\n",
    "plt.show()\n",
    "sns.lineplot(x=[i for i in range(1,11)], y= my_val_losses2).set_title('Val Loss (og shceduler)')\n",
    "plt.show()"
   ]
  },
  {
   "cell_type": "code",
   "execution_count": 236,
   "metadata": {
    "id": "JYJcKIDEon2c"
   },
   "outputs": [
    {
     "name": "stdout",
     "output_type": "stream",
     "text": [
      "Dropout my scheduler\n"
     ]
    },
    {
     "data": {
      "application/vnd.jupyter.widget-view+json": {
       "model_id": "",
       "version_major": 2,
       "version_minor": 0
      },
      "text/plain": [
       "  0%|          | 0/1121 [00:00<?, ?it/s]"
      ]
     },
     "metadata": {},
     "output_type": "display_data"
    },
    {
     "name": "stdout",
     "output_type": "stream",
     "text": [
      "evaluate training 1.916887640953064\n"
     ]
    },
    {
     "data": {
      "application/vnd.jupyter.widget-view+json": {
       "model_id": "",
       "version_major": 2,
       "version_minor": 0
      },
      "text/plain": [
       "  0%|          | 0/454 [00:00<?, ?it/s]"
      ]
     },
     "metadata": {},
     "output_type": "display_data"
    },
    {
     "name": "stdout",
     "output_type": "stream",
     "text": [
      "evaluate validation 1.6557823419570923\n"
     ]
    }
   ],
   "source": [
    "# Evaluate\n",
    "print('Dropout my scheduler')\n",
    "print('evaluate training', evaluate(train_loader, my_model).item())\n",
    "print('evaluate validation', evaluate(val_loader, my_model).item())"
   ]
  },
  {
   "cell_type": "code",
   "execution_count": 240,
   "metadata": {},
   "outputs": [
    {
     "name": "stdout",
     "output_type": "stream",
     "text": [
      "Dropout og scheduler\n"
     ]
    },
    {
     "data": {
      "application/vnd.jupyter.widget-view+json": {
       "model_id": "",
       "version_major": 2,
       "version_minor": 0
      },
      "text/plain": [
       "  0%|          | 0/1121 [00:00<?, ?it/s]"
      ]
     },
     "metadata": {},
     "output_type": "display_data"
    },
    {
     "name": "stdout",
     "output_type": "stream",
     "text": [
      "evaluate training 1.924614667892456\n"
     ]
    },
    {
     "data": {
      "application/vnd.jupyter.widget-view+json": {
       "model_id": "",
       "version_major": 2,
       "version_minor": 0
      },
      "text/plain": [
       "  0%|          | 0/454 [00:00<?, ?it/s]"
      ]
     },
     "metadata": {},
     "output_type": "display_data"
    },
    {
     "name": "stdout",
     "output_type": "stream",
     "text": [
      "evaluate validation 1.6601234674453735\n"
     ]
    }
   ],
   "source": [
    "print('Dropout og scheduler')\n",
    "print('evaluate training', evaluate(train_loader, my_model2).item())\n",
    "print('evaluate validation', evaluate(val_loader, my_model2).item())"
   ]
  },
  {
   "cell_type": "code",
   "execution_count": 241,
   "metadata": {},
   "outputs": [
    {
     "name": "stdout",
     "output_type": "stream",
     "text": [
      "FF model same scheduler\n"
     ]
    },
    {
     "data": {
      "application/vnd.jupyter.widget-view+json": {
       "model_id": "",
       "version_major": 2,
       "version_minor": 0
      },
      "text/plain": [
       "  0%|          | 0/1121 [00:00<?, ?it/s]"
      ]
     },
     "metadata": {},
     "output_type": "display_data"
    },
    {
     "name": "stdout",
     "output_type": "stream",
     "text": [
      "evaluate training 1.9236546754837036\n"
     ]
    },
    {
     "data": {
      "application/vnd.jupyter.widget-view+json": {
       "model_id": "",
       "version_major": 2,
       "version_minor": 0
      },
      "text/plain": [
       "  0%|          | 0/454 [00:00<?, ?it/s]"
      ]
     },
     "metadata": {},
     "output_type": "display_data"
    },
    {
     "name": "stdout",
     "output_type": "stream",
     "text": [
      "evaluate validation 1.6613097190856934\n"
     ]
    }
   ],
   "source": [
    "print('FF model same scheduler')\n",
    "print('evaluate training', evaluate(train_loader, model_ff).item())\n",
    "print('evaluate validation', evaluate(val_loader, model_ff).item())"
   ]
  },
  {
   "cell_type": "code",
   "execution_count": 237,
   "metadata": {},
   "outputs": [
    {
     "name": "stdout",
     "output_type": "stream",
     "text": [
      "FF model with my scheduler\n"
     ]
    },
    {
     "data": {
      "application/vnd.jupyter.widget-view+json": {
       "model_id": "",
       "version_major": 2,
       "version_minor": 0
      },
      "text/plain": [
       "  0%|          | 0/1121 [00:00<?, ?it/s]"
      ]
     },
     "metadata": {},
     "output_type": "display_data"
    },
    {
     "name": "stdout",
     "output_type": "stream",
     "text": [
      "evaluate training 1.9168813228607178\n"
     ]
    },
    {
     "data": {
      "application/vnd.jupyter.widget-view+json": {
       "model_id": "",
       "version_major": 2,
       "version_minor": 0
      },
      "text/plain": [
       "  0%|          | 0/454 [00:00<?, ?it/s]"
      ]
     },
     "metadata": {},
     "output_type": "display_data"
    },
    {
     "name": "stdout",
     "output_type": "stream",
     "text": [
      "evaluate validation 1.655452013015747\n"
     ]
    }
   ],
   "source": [
    "print('FF model with my scheduler')\n",
    "print('evaluate training', evaluate(train_loader, model_ff2).item())\n",
    "print('evaluate validation', evaluate(val_loader, model_ff2).item())"
   ]
  },
  {
   "cell_type": "markdown",
   "metadata": {
    "id": "nJFdUpD8FKvc"
   },
   "source": [
    "# Convolution Neural Networks\n",
    "Now let's try to incorporate the grid sturcture to your model. Instead of passing in vectors, we are going to pass in the 5x5 grid into the model (5lat x 5long x 3channel). You are going to implement you own 2d-convolution neural networks with the following structure.\n",
    "```\n",
    "==========================================================================================\n",
    "Layer (type:depth-idx)                   Output Shape              Param #\n",
    "==========================================================================================\n",
    "Conv2DNN                                 --                        --\n",
    "├─Conv2d: 1-1                            [1024, 200, 3, 3]         5,600\n",
    "├─Linear: 1-2                            [1024, 200]               360,200\n",
    "├─Linear: 1-3                            [1024, 200]               40,200\n",
    "├─Linear: 1-4                            [1024, 1]                 201\n",
    "==========================================================================================\n",
    "Total params: 406,201\n",
    "Trainable params: 406,201\n",
    "Non-trainable params: 0\n",
    "```\n",
    "These parameters are simple guidelines to save your time.    \n",
    "You can play with them in the final section which you can choose any normalization methods, activation function, as well as any hyperparameter the way you want.         \n",
    "\n",
    "Hint: You should read PyTorch documentation to see the list of available layers and options you can use.                         "
   ]
  },
  {
   "cell_type": "code",
   "execution_count": 242,
   "metadata": {
    "id": "U6vLD-bdFKvc"
   },
   "outputs": [
    {
     "name": "stdout",
     "output_type": "stream",
     "text": [
      "x_train shape: (229548, 5, 5, 5, 3)\n",
      "y_train shape: (229548, 5) \n",
      "\n",
      "x_val shape: (92839, 5, 5, 5, 3)\n",
      "y_val shape: (92839, 5) \n",
      "\n",
      "x_test shape: (111715, 5, 5, 5, 3)\n",
      "y_test shape: (111715, 5)\n"
     ]
    }
   ],
   "source": [
    "################################################################################\n",
    "# TODO#14:                                                                     #\n",
    "# Complete the code for preparing data for training CNN                        #\n",
    "# Input for CNN should not have time step.                                     #\n",
    "################################################################################\n",
    "#                            WRITE YOUR CODE BELOW                             #\n",
    "################################################################################\n",
    "print('x_train shape:',x_train.shape)\n",
    "print('y_train shape:', y_train.shape, '\\n')\n",
    "print('x_val shape:',x_val.shape)\n",
    "print('y_val shape:', y_val.shape, '\\n')\n",
    "print('x_test shape:',x_test.shape)\n",
    "print('y_test shape:', y_test.shape)"
   ]
  },
  {
   "cell_type": "code",
   "execution_count": 311,
   "metadata": {},
   "outputs": [
    {
     "name": "stdout",
     "output_type": "stream",
     "text": [
      "(1147740, 3, 5, 5) (1147740, 1)\n",
      "(464195, 3, 5, 5) (464195, 1)\n",
      "(558575, 3, 5, 5) (558575, 1)\n"
     ]
    }
   ],
   "source": [
    "def preprocess_for_cnn(x_train, y_train, x_val, y_val):\n",
    "    x_train_cnn = x_train.reshape((-1, 3, 5 , 5))\n",
    "    y_train_cnn = y_train.reshape((-1, 1))\n",
    "    x_val_cnn = x_val.reshape((-1, 3, 5,5))\n",
    "    y_val_cnn = y_val.reshape((-1, 1))\n",
    "    x_test_cnn = x_test.reshape((-1, 3, 5, 5))\n",
    "    y_test_cnn = y_test.reshape((-1, 1))\n",
    "\n",
    "    return x_train_cnn, y_train_cnn, x_val_cnn, y_val_cnn, x_test_cnn, y_test_cnn\n",
    "\n",
    "x_train_cnn, y_train_cnn, x_val_cnn, y_val_cnn, x_test_cnn, y_test_cnn = preprocess_for_cnn(x_train, y_train, x_val, y_val)\n",
    "print(x_train_cnn.shape, y_train_cnn.shape)\n",
    "print(x_val_cnn.shape, y_val_cnn.shape)\n",
    "print(x_test_cnn.shape, y_test_cnn.shape)"
   ]
  },
  {
   "cell_type": "code",
   "execution_count": 312,
   "metadata": {
    "scrolled": true
   },
   "outputs": [
    {
     "data": {
      "text/plain": [
       "(3, 5, 5)"
      ]
     },
     "execution_count": 312,
     "metadata": {},
     "output_type": "execute_result"
    }
   ],
   "source": [
    "x_train_cnn.mean(0).shape"
   ]
  },
  {
   "cell_type": "code",
   "execution_count": 313,
   "metadata": {},
   "outputs": [],
   "source": [
    "import torchvision.transforms as T\n",
    "def cnn_normalizer(X):\n",
    "    mean, std = X.mean(0), X.std(0)\n",
    "    norm = T.Normalize(mean=mean, std=std)\n",
    "    return norm"
   ]
  },
  {
   "cell_type": "code",
   "execution_count": 314,
   "metadata": {},
   "outputs": [],
   "source": [
    "class RainfallDatasetCNN(Dataset):\n",
    "    def __init__(self, x, y, normalizer):\n",
    "        self.x = x.astype(np.float32)\n",
    "        self.y = y.astype(np.float32)\n",
    "        self.normalizer = normalizer\n",
    "        print(self.x.shape)\n",
    "        print(self.y.shape)\n",
    "\n",
    "    def __getitem__(self, index):\n",
    "        x = self.x[index] # Retrieve data\n",
    "        x = self.normalizer(torch.Tensor(x)) # Normalize\n",
    "        y = self.y[index]\n",
    "        return x, y\n",
    "\n",
    "    def __len__(self):\n",
    "        return self.x.shape[0]"
   ]
  },
  {
   "cell_type": "code",
   "execution_count": 315,
   "metadata": {},
   "outputs": [
    {
     "name": "stdout",
     "output_type": "stream",
     "text": [
      "(1147740, 3, 5, 5)\n",
      "(1147740, 1)\n",
      "(464195, 3, 5, 5)\n",
      "(464195, 1)\n",
      "(558575, 3, 5, 5)\n",
      "(558575, 1)\n"
     ]
    }
   ],
   "source": [
    "cnn_normalizer = cnn_normalizer(x_train_cnn) # normalize everything based on x_train\n",
    "cnn_train_dataset = RainfallDatasetCNN(x_train_cnn, y_train_cnn, cnn_normalizer)\n",
    "cnn_val_dataset = RainfallDatasetCNN(x_val_cnn, y_val_cnn, cnn_normalizer)\n",
    "cnn_test_dataset = RainfallDatasetCNN(x_test_cnn, y_test_cnn, cnn_normalizer)"
   ]
  },
  {
   "cell_type": "code",
   "execution_count": 316,
   "metadata": {},
   "outputs": [],
   "source": [
    "cnn_train_loader = DataLoader(cnn_train_dataset, batch_size=2024, shuffle=True, pin_memory=True)\n",
    "cnn_val_loader = DataLoader(cnn_val_dataset, batch_size=2024, shuffle=True, pin_memory=True)\n",
    "cnn_test_loader = DataLoader(cnn_test_dataset, batch_size=1024, shuffle=True, pin_memory=True)"
   ]
  },
  {
   "cell_type": "code",
   "execution_count": 541,
   "metadata": {
    "id": "v1kmlOtfFKvg"
   },
   "outputs": [],
   "source": [
    "################################################################################\n",
    "# TODO#15:                                                                     #\n",
    "# Write a PyTorch convolutional neural network model.                          #\n",
    "# You might want to use the layer torch.flatten somewhere                      #\n",
    "################################################################################\n",
    "#                            WRITE YOUR CODE BELOW                             #\n",
    "################################################################################\n",
    "class MyCNN(nn.Module):\n",
    "    def __init__(self):\n",
    "        super().__init__()\n",
    "        self.conv1 = nn.Conv2d(in_channels=3, out_channels=200, kernel_size=3)\n",
    "        self.ff1 = nn.Linear(1800, 200)\n",
    "        self.ff2 = nn.Linear(200, 200)\n",
    "        self.ff3 = nn.Linear(200, 1)\n",
    "        \n",
    "    def forward(self, x):\n",
    "        x = (F.relu(self.conv1(x)))\n",
    "        x = torch.flatten(x, 1) # flatten all dimensions except batch\n",
    "        x = F.relu(self.ff1(x))\n",
    "        x = F.relu(self.ff2(x))\n",
    "        y = F.relu(self.ff3(x))\n",
    "        return y.reshape(-1, 1)"
   ]
  },
  {
   "cell_type": "code",
   "execution_count": 542,
   "metadata": {},
   "outputs": [
    {
     "data": {
      "text/plain": [
       "==========================================================================================\n",
       "Layer (type:depth-idx)                   Output Shape              Param #\n",
       "==========================================================================================\n",
       "MyCNN                                    [1024, 1]                 --\n",
       "├─Conv2d: 1-1                            [1024, 200, 3, 3]         5,600\n",
       "├─Linear: 1-2                            [1024, 200]               360,200\n",
       "├─Linear: 1-3                            [1024, 200]               40,200\n",
       "├─Linear: 1-4                            [1024, 1]                 201\n",
       "==========================================================================================\n",
       "Total params: 406,201\n",
       "Trainable params: 406,201\n",
       "Non-trainable params: 0\n",
       "Total mult-adds (M): 461.83\n",
       "==========================================================================================\n",
       "Input size (MB): 0.31\n",
       "Forward/backward pass size (MB): 18.03\n",
       "Params size (MB): 1.62\n",
       "Estimated Total Size (MB): 19.96\n",
       "=========================================================================================="
      ]
     },
     "execution_count": 542,
     "metadata": {},
     "output_type": "execute_result"
    }
   ],
   "source": [
    "cnn_model = MyCNN()\n",
    "summary(cnn_model, input_size=(1024, 3, 5,5))"
   ]
  },
  {
   "cell_type": "code",
   "execution_count": 393,
   "metadata": {
    "id": "2-bDQL3FFKvj",
    "scrolled": true
   },
   "outputs": [
    {
     "name": "stdout",
     "output_type": "stream",
     "text": [
      "start training conv2d\n"
     ]
    },
    {
     "data": {
      "application/vnd.jupyter.widget-view+json": {
       "model_id": "",
       "version_major": 2,
       "version_minor": 0
      },
      "text/plain": [
       "VBox(children=(Label(value='Waiting for wandb.init()...\\r'), FloatProgress(value=0.011113419144466105, max=1.0…"
      ]
     },
     "metadata": {},
     "output_type": "display_data"
    },
    {
     "data": {
      "text/html": [
       "wandb version 0.16.4 is available!  To upgrade, please run:\n",
       " $ pip install wandb --upgrade"
      ],
      "text/plain": [
       "<IPython.core.display.HTML object>"
      ]
     },
     "metadata": {},
     "output_type": "display_data"
    },
    {
     "data": {
      "text/html": [
       "Tracking run with wandb version 0.16.3"
      ],
      "text/plain": [
       "<IPython.core.display.HTML object>"
      ]
     },
     "metadata": {},
     "output_type": "display_data"
    },
    {
     "data": {
      "text/html": [
       "Run data is saved locally in <code>/home/naratip/chula/2024/Pattern/Code/HW5/wandb/run-20240320_200011-pzpms21i</code>"
      ],
      "text/plain": [
       "<IPython.core.display.HTML object>"
      ]
     },
     "metadata": {},
     "output_type": "display_data"
    },
    {
     "data": {
      "text/html": [
       "Syncing run <strong><a href='https://wandb.ai/naratip-18257/precipitaion-nowcasting/runs/pzpms21i' target=\"_blank\">usual-butterfly-14</a></strong> to <a href='https://wandb.ai/naratip-18257/precipitaion-nowcasting' target=\"_blank\">Weights & Biases</a> (<a href='https://wandb.me/run' target=\"_blank\">docs</a>)<br/>"
      ],
      "text/plain": [
       "<IPython.core.display.HTML object>"
      ]
     },
     "metadata": {},
     "output_type": "display_data"
    },
    {
     "data": {
      "text/html": [
       " View project at <a href='https://wandb.ai/naratip-18257/precipitaion-nowcasting' target=\"_blank\">https://wandb.ai/naratip-18257/precipitaion-nowcasting</a>"
      ],
      "text/plain": [
       "<IPython.core.display.HTML object>"
      ]
     },
     "metadata": {},
     "output_type": "display_data"
    },
    {
     "data": {
      "text/html": [
       " View run at <a href='https://wandb.ai/naratip-18257/precipitaion-nowcasting/runs/pzpms21i' target=\"_blank\">https://wandb.ai/naratip-18257/precipitaion-nowcasting/runs/pzpms21i</a>"
      ],
      "text/plain": [
       "<IPython.core.display.HTML object>"
      ]
     },
     "metadata": {},
     "output_type": "display_data"
    },
    {
     "name": "stdout",
     "output_type": "stream",
     "text": [
      "Training epoch 1...\n",
      "Current LR: 0.0001\n"
     ]
    },
    {
     "data": {
      "application/vnd.jupyter.widget-view+json": {
       "model_id": "",
       "version_major": 2,
       "version_minor": 0
      },
      "text/plain": [
       "  0%|          | 0/1121 [00:00<?, ?it/s]"
      ]
     },
     "metadata": {},
     "output_type": "display_data"
    },
    {
     "name": "stdout",
     "output_type": "stream",
     "text": [
      "Epoch 1 train loss: 1.9441\n",
      "Validating epoch 1\n"
     ]
    },
    {
     "data": {
      "application/vnd.jupyter.widget-view+json": {
       "model_id": "",
       "version_major": 2,
       "version_minor": 0
      },
      "text/plain": [
       "  0%|          | 0/454 [00:00<?, ?it/s]"
      ]
     },
     "metadata": {},
     "output_type": "display_data"
    },
    {
     "name": "stdout",
     "output_type": "stream",
     "text": [
      "Epoch 1 validation loss: 1.6836\n",
      "Saving new best model...\n",
      "Training epoch 2...\n",
      "Current LR: 0.0004\n"
     ]
    },
    {
     "data": {
      "application/vnd.jupyter.widget-view+json": {
       "model_id": "",
       "version_major": 2,
       "version_minor": 0
      },
      "text/plain": [
       "  0%|          | 0/1121 [00:00<?, ?it/s]"
      ]
     },
     "metadata": {},
     "output_type": "display_data"
    },
    {
     "name": "stdout",
     "output_type": "stream",
     "text": [
      "Epoch 2 train loss: 1.9440\n",
      "Validating epoch 2\n"
     ]
    },
    {
     "data": {
      "application/vnd.jupyter.widget-view+json": {
       "model_id": "",
       "version_major": 2,
       "version_minor": 0
      },
      "text/plain": [
       "  0%|          | 0/454 [00:00<?, ?it/s]"
      ]
     },
     "metadata": {},
     "output_type": "display_data"
    },
    {
     "name": "stdout",
     "output_type": "stream",
     "text": [
      "Epoch 2 validation loss: 1.6723\n",
      "Saving new best model...\n",
      "Training epoch 3...\n",
      "Current LR: 0.0007\n"
     ]
    },
    {
     "data": {
      "application/vnd.jupyter.widget-view+json": {
       "model_id": "",
       "version_major": 2,
       "version_minor": 0
      },
      "text/plain": [
       "  0%|          | 0/1121 [00:00<?, ?it/s]"
      ]
     },
     "metadata": {},
     "output_type": "display_data"
    },
    {
     "name": "stdout",
     "output_type": "stream",
     "text": [
      "Epoch 3 train loss: 1.9440\n",
      "Validating epoch 3\n"
     ]
    },
    {
     "data": {
      "application/vnd.jupyter.widget-view+json": {
       "model_id": "",
       "version_major": 2,
       "version_minor": 0
      },
      "text/plain": [
       "  0%|          | 0/454 [00:00<?, ?it/s]"
      ]
     },
     "metadata": {},
     "output_type": "display_data"
    },
    {
     "name": "stdout",
     "output_type": "stream",
     "text": [
      "Epoch 3 validation loss: 1.6750\n",
      "Training epoch 4...\n",
      "Current LR: 0.001\n"
     ]
    },
    {
     "data": {
      "application/vnd.jupyter.widget-view+json": {
       "model_id": "",
       "version_major": 2,
       "version_minor": 0
      },
      "text/plain": [
       "  0%|          | 0/1121 [00:00<?, ?it/s]"
      ]
     },
     "metadata": {},
     "output_type": "display_data"
    },
    {
     "name": "stdout",
     "output_type": "stream",
     "text": [
      "Epoch 4 train loss: 1.9440\n",
      "Validating epoch 4\n"
     ]
    },
    {
     "data": {
      "application/vnd.jupyter.widget-view+json": {
       "model_id": "",
       "version_major": 2,
       "version_minor": 0
      },
      "text/plain": [
       "  0%|          | 0/454 [00:00<?, ?it/s]"
      ]
     },
     "metadata": {},
     "output_type": "display_data"
    },
    {
     "name": "stdout",
     "output_type": "stream",
     "text": [
      "Epoch 4 validation loss: 1.6727\n",
      "Training epoch 5...\n",
      "Current LR: 0.0008333333333333334\n"
     ]
    },
    {
     "data": {
      "application/vnd.jupyter.widget-view+json": {
       "model_id": "",
       "version_major": 2,
       "version_minor": 0
      },
      "text/plain": [
       "  0%|          | 0/1121 [00:00<?, ?it/s]"
      ]
     },
     "metadata": {},
     "output_type": "display_data"
    },
    {
     "name": "stdout",
     "output_type": "stream",
     "text": [
      "Epoch 5 train loss: 1.9439\n",
      "Validating epoch 5\n"
     ]
    },
    {
     "data": {
      "application/vnd.jupyter.widget-view+json": {
       "model_id": "",
       "version_major": 2,
       "version_minor": 0
      },
      "text/plain": [
       "  0%|          | 0/454 [00:00<?, ?it/s]"
      ]
     },
     "metadata": {},
     "output_type": "display_data"
    },
    {
     "name": "stdout",
     "output_type": "stream",
     "text": [
      "Epoch 5 validation loss: 1.6794\n",
      "Training epoch 6...\n",
      "Current LR: 0.0006666666666666668\n"
     ]
    },
    {
     "data": {
      "application/vnd.jupyter.widget-view+json": {
       "model_id": "",
       "version_major": 2,
       "version_minor": 0
      },
      "text/plain": [
       "  0%|          | 0/1121 [00:00<?, ?it/s]"
      ]
     },
     "metadata": {},
     "output_type": "display_data"
    },
    {
     "name": "stdout",
     "output_type": "stream",
     "text": [
      "Epoch 6 train loss: 1.9456\n",
      "Validating epoch 6\n"
     ]
    },
    {
     "data": {
      "application/vnd.jupyter.widget-view+json": {
       "model_id": "",
       "version_major": 2,
       "version_minor": 0
      },
      "text/plain": [
       "  0%|          | 0/454 [00:00<?, ?it/s]"
      ]
     },
     "metadata": {},
     "output_type": "display_data"
    },
    {
     "name": "stdout",
     "output_type": "stream",
     "text": [
      "Epoch 6 validation loss: 1.6722\n",
      "Saving new best model...\n",
      "Training epoch 7...\n",
      "Current LR: 0.0005\n"
     ]
    },
    {
     "data": {
      "application/vnd.jupyter.widget-view+json": {
       "model_id": "",
       "version_major": 2,
       "version_minor": 0
      },
      "text/plain": [
       "  0%|          | 0/1121 [00:00<?, ?it/s]"
      ]
     },
     "metadata": {},
     "output_type": "display_data"
    },
    {
     "name": "stdout",
     "output_type": "stream",
     "text": [
      "Epoch 7 train loss: 1.9443\n",
      "Validating epoch 7\n"
     ]
    },
    {
     "data": {
      "application/vnd.jupyter.widget-view+json": {
       "model_id": "",
       "version_major": 2,
       "version_minor": 0
      },
      "text/plain": [
       "  0%|          | 0/454 [00:00<?, ?it/s]"
      ]
     },
     "metadata": {},
     "output_type": "display_data"
    },
    {
     "name": "stdout",
     "output_type": "stream",
     "text": [
      "Epoch 7 validation loss: 1.6731\n",
      "Training epoch 8...\n",
      "Current LR: 0.001\n"
     ]
    },
    {
     "data": {
      "application/vnd.jupyter.widget-view+json": {
       "model_id": "",
       "version_major": 2,
       "version_minor": 0
      },
      "text/plain": [
       "  0%|          | 0/1121 [00:00<?, ?it/s]"
      ]
     },
     "metadata": {},
     "output_type": "display_data"
    },
    {
     "name": "stdout",
     "output_type": "stream",
     "text": [
      "Epoch 8 train loss: 1.9438\n",
      "Validating epoch 8\n"
     ]
    },
    {
     "data": {
      "application/vnd.jupyter.widget-view+json": {
       "model_id": "",
       "version_major": 2,
       "version_minor": 0
      },
      "text/plain": [
       "  0%|          | 0/454 [00:00<?, ?it/s]"
      ]
     },
     "metadata": {},
     "output_type": "display_data"
    },
    {
     "name": "stdout",
     "output_type": "stream",
     "text": [
      "Epoch 8 validation loss: 1.6721\n",
      "Saving new best model...\n",
      "Training epoch 9...\n",
      "Current LR: 0.00055\n"
     ]
    },
    {
     "data": {
      "application/vnd.jupyter.widget-view+json": {
       "model_id": "",
       "version_major": 2,
       "version_minor": 0
      },
      "text/plain": [
       "  0%|          | 0/1121 [00:00<?, ?it/s]"
      ]
     },
     "metadata": {},
     "output_type": "display_data"
    },
    {
     "name": "stdout",
     "output_type": "stream",
     "text": [
      "Epoch 9 train loss: 1.9438\n",
      "Validating epoch 9\n"
     ]
    },
    {
     "data": {
      "application/vnd.jupyter.widget-view+json": {
       "model_id": "",
       "version_major": 2,
       "version_minor": 0
      },
      "text/plain": [
       "  0%|          | 0/454 [00:00<?, ?it/s]"
      ]
     },
     "metadata": {},
     "output_type": "display_data"
    },
    {
     "name": "stdout",
     "output_type": "stream",
     "text": [
      "Epoch 9 validation loss: 1.6830\n",
      "Training epoch 10...\n",
      "Current LR: 0.00010000000000000005\n"
     ]
    },
    {
     "data": {
      "application/vnd.jupyter.widget-view+json": {
       "model_id": "",
       "version_major": 2,
       "version_minor": 0
      },
      "text/plain": [
       "  0%|          | 0/1121 [00:00<?, ?it/s]"
      ]
     },
     "metadata": {},
     "output_type": "display_data"
    },
    {
     "name": "stdout",
     "output_type": "stream",
     "text": [
      "Epoch 10 train loss: 1.9443\n",
      "Validating epoch 10\n"
     ]
    },
    {
     "data": {
      "application/vnd.jupyter.widget-view+json": {
       "model_id": "",
       "version_major": 2,
       "version_minor": 0
      },
      "text/plain": [
       "  0%|          | 0/454 [00:00<?, ?it/s]"
      ]
     },
     "metadata": {},
     "output_type": "display_data"
    },
    {
     "name": "stdout",
     "output_type": "stream",
     "text": [
      "Epoch 10 validation loss: 1.6726\n"
     ]
    },
    {
     "data": {
      "application/vnd.jupyter.widget-view+json": {
       "model_id": "",
       "version_major": 2,
       "version_minor": 0
      },
      "text/plain": [
       "VBox(children=(Label(value='0.003 MB of 0.003 MB uploaded\\r'), FloatProgress(value=1.0, max=1.0)))"
      ]
     },
     "metadata": {},
     "output_type": "display_data"
    },
    {
     "data": {
      "text/html": [
       "W&B sync reduced upload amount by 8.4%             "
      ],
      "text/plain": [
       "<IPython.core.display.HTML object>"
      ]
     },
     "metadata": {},
     "output_type": "display_data"
    },
    {
     "data": {
      "text/html": [
       "<style>\n",
       "    table.wandb td:nth-child(1) { padding: 0 10px; text-align: left ; width: auto;} td:nth-child(2) {text-align: left ; width: 100%}\n",
       "    .wandb-row { display: flex; flex-direction: row; flex-wrap: wrap; justify-content: flex-start; width: 100% }\n",
       "    .wandb-col { display: flex; flex-direction: column; flex-basis: 100%; flex: 1; padding: 10px; }\n",
       "    </style>\n",
       "<div class=\"wandb-row\"><div class=\"wandb-col\"><h3>Run history:</h3><br/><table class=\"wandb\"><tr><td>lr</td><td>▁▃▆█▇▅▄█▄▁</td></tr><tr><td>train_loss</td><td>▂▂▂▂▂█▃▁▁▃</td></tr><tr><td>val_loss</td><td>█▁▃▁▅▁▂▁█▁</td></tr></table><br/></div><div class=\"wandb-col\"><h3>Run summary:</h3><br/><table class=\"wandb\"><tr><td>lr</td><td>0.0001</td></tr><tr><td>train_loss</td><td>1.9443</td></tr><tr><td>val_loss</td><td>1.67261</td></tr></table><br/></div></div>"
      ],
      "text/plain": [
       "<IPython.core.display.HTML object>"
      ]
     },
     "metadata": {},
     "output_type": "display_data"
    },
    {
     "data": {
      "text/html": [
       " View run <strong style=\"color:#cdcd00\">usual-butterfly-14</strong> at: <a href='https://wandb.ai/naratip-18257/precipitaion-nowcasting/runs/pzpms21i' target=\"_blank\">https://wandb.ai/naratip-18257/precipitaion-nowcasting/runs/pzpms21i</a><br/> View job at <a href='https://wandb.ai/naratip-18257/precipitaion-nowcasting/jobs/QXJ0aWZhY3RDb2xsZWN0aW9uOjE1MDQwODQwMg==/version_details/v12' target=\"_blank\">https://wandb.ai/naratip-18257/precipitaion-nowcasting/jobs/QXJ0aWZhY3RDb2xsZWN0aW9uOjE1MDQwODQwMg==/version_details/v12</a><br/>Synced 5 W&B file(s), 0 media file(s), 2 artifact file(s) and 0 other file(s)"
      ],
      "text/plain": [
       "<IPython.core.display.HTML object>"
      ]
     },
     "metadata": {},
     "output_type": "display_data"
    },
    {
     "data": {
      "text/html": [
       "Find logs at: <code>./wandb/run-20240320_200011-pzpms21i/logs</code>"
      ],
      "text/plain": [
       "<IPython.core.display.HTML object>"
      ]
     },
     "metadata": {},
     "output_type": "display_data"
    },
    {
     "name": "stdout",
     "output_type": "stream",
     "text": [
      "Finished Training\n"
     ]
    }
   ],
   "source": [
    "################################################################################\n",
    "# TODO#16:                                                                     #\n",
    "# Complete the code to train your cnn model                                    #\n",
    "################################################################################\n",
    "print('start training conv2d')\n",
    "################################################################################\n",
    "#                            WRITE YOUR CODE BELOW                             #\n",
    "################################################################################\n",
    "cnn_config = {\n",
    "    'architechture': 'dropout',\n",
    "    'lr': 0.01,\n",
    "    'hidden_size': 200,\n",
    "    'epochs':10\n",
    "}\n",
    "cnn_model = MyCNN()\n",
    "cnn_model = cnn_model.to(device)\n",
    "cnn_optimizer = torch.optim.Adam(cnn_model.parameters(), lr = my_config['lr'])\n",
    "cnn_scheduler = MyScheduler(cnn_optimizer)\n",
    "#Training\n",
    "cnn_train_losses = []\n",
    "cnn_val_losses = []\n",
    "cnn_learning_rates = []\n",
    "\n",
    "# Strat wandb run\n",
    "wandb.init(\n",
    "    project='precipitaion-nowcasting',\n",
    "    config= cnn_config\n",
    ")\n",
    "\n",
    "#Log parameters and gradients\n",
    "wandb.watch(cnn_model, log='all')\n",
    "\n",
    "for epoch in range(cnn_config['epochs']):\n",
    "    #Training\n",
    "    train_loss = []\n",
    "    current_lr = cnn_optimizer.param_groups[0]['lr']\n",
    "    cnn_learning_rates.append(current_lr)\n",
    "\n",
    "    #Flag model as training\n",
    "    cnn_model.train()\n",
    "\n",
    "    print(f'Training epoch {epoch + 1}...')\n",
    "    print(f'Current LR: {current_lr}')\n",
    "\n",
    "    for i, (inputs, y_true) in enumerate(tqdm(cnn_train_loader)):\n",
    "        #tranfer data from cpu to gpu\n",
    "        inputs = inputs.to(device)\n",
    "        y_true = y_true.to(device)\n",
    "\n",
    "        #Reset gradient\n",
    "        cnn_optimizer.zero_grad()\n",
    "\n",
    "        #Predict\n",
    "        y_pred = cnn_model(inputs)\n",
    "\n",
    "        #Calculate loss\n",
    "        loss = loss_fn(y_pred, y_true)\n",
    "\n",
    "        #Calculate gradient\n",
    "        loss.backward()\n",
    "\n",
    "        #Update parameters\n",
    "        cnn_optimizer.step()\n",
    "\n",
    "        #Log\n",
    "        train_loss.append(loss)\n",
    "\n",
    "    avg_train_loss = torch.stack(train_loss).mean().item()\n",
    "    cnn_train_losses.append(avg_train_loss)\n",
    "\n",
    "    print(f'Epoch {epoch + 1} train loss: {avg_train_loss:.4f}')\n",
    "\n",
    "    #Validation\n",
    "    cnn_model.eval()\n",
    "    with torch.no_grad():\n",
    "        print(f'Validating epoch {epoch + 1}')\n",
    "        val_loss = []\n",
    "        for i, (inputs, y_true) in enumerate(tqdm(cnn_val_loader)):\n",
    "            #tranfer data from cpu to gpu\n",
    "            inputs = inputs.to(device)\n",
    "            y_true = y_true.to(device)\n",
    "\n",
    "            #Predict\n",
    "            y_pred = cnn_model(inputs)\n",
    "\n",
    "            #Calculate loss\n",
    "            loss = loss_fn(y_pred, y_true)\n",
    "\n",
    "            #log\n",
    "            val_loss.append(loss)\n",
    "\n",
    "        avg_val_loss = torch.stack(val_loss).mean().item()\n",
    "        cnn_val_losses.append(avg_val_loss)\n",
    "        \n",
    "        print(f'Epoch {epoch + 1} validation loss: {avg_val_loss:.4f}')\n",
    "\n",
    "        #LR scheduler\n",
    "        cnn_scheduler.step(epoch)\n",
    "\n",
    "        #Save Chechpoint if val_loss is the best we got\n",
    "        best_val_loss = np.inf if epoch == 0 else min(cnn_val_losses[:-1])\n",
    "        if avg_val_loss < best_val_loss:\n",
    "            state = {\n",
    "                'epoch': epoch,\n",
    "                'model': cnn_model.state_dict(),\n",
    "                'optimizer': cnn_optimizer.state_dict(),\n",
    "                'train_loss': avg_train_loss,\n",
    "                'validation_loss': avg_val_loss,\n",
    "                'best_val_loss': best_val_loss\n",
    "            }\n",
    "            print(f'Saving new best model...')\n",
    "            torch.save(state, 'cnn_model.pth.tar')\n",
    "\n",
    "    wandb.log({\n",
    "        'train_loss': avg_train_loss,\n",
    "        'val_loss': avg_val_loss,\n",
    "        'lr': current_lr\n",
    "    })\n",
    "\n",
    "wandb.unwatch()\n",
    "wandb.finish()\n",
    "print('Finished Training')"
   ]
  },
  {
   "cell_type": "code",
   "execution_count": 394,
   "metadata": {
    "id": "6FcmyjxLPrxG"
   },
   "outputs": [
    {
     "data": {
      "image/png": "[encoded data removed]",
      "text/plain": [
       "<Figure size 640x480 with 1 Axes>"
      ]
     },
     "metadata": {},
     "output_type": "display_data"
    },
    {
     "data": {
      "image/png": "[encoded data removed]",
      "text/plain": [
       "<Figure size 640x480 with 1 Axes>"
      ]
     },
     "metadata": {},
     "output_type": "display_data"
    }
   ],
   "source": [
    "# Plot losses\n",
    "sns.lineplot(x= [i for i in range(1,11)], y = cnn_train_losses).set_title('Train Loss')\n",
    "plt.show()\n",
    "sns.lineplot(x= [i for i in range(1,11)], y = cnn_val_losses).set_title('Val Loss')\n",
    "plt.show()"
   ]
  },
  {
   "cell_type": "code",
   "execution_count": 395,
   "metadata": {
    "id": "jOGI2ll7xMU5"
   },
   "outputs": [
    {
     "name": "stdout",
     "output_type": "stream",
     "text": [
      "CNN Model\n"
     ]
    },
    {
     "data": {
      "application/vnd.jupyter.widget-view+json": {
       "model_id": "",
       "version_major": 2,
       "version_minor": 0
      },
      "text/plain": [
       "  0%|          | 0/1121 [00:00<?, ?it/s]"
      ]
     },
     "metadata": {},
     "output_type": "display_data"
    },
    {
     "name": "stdout",
     "output_type": "stream",
     "text": [
      "training 1.9438626766204834\n"
     ]
    },
    {
     "data": {
      "application/vnd.jupyter.widget-view+json": {
       "model_id": "",
       "version_major": 2,
       "version_minor": 0
      },
      "text/plain": [
       "  0%|          | 0/454 [00:00<?, ?it/s]"
      ]
     },
     "metadata": {},
     "output_type": "display_data"
    },
    {
     "name": "stdout",
     "output_type": "stream",
     "text": [
      "validation 1.6746329069137573\n"
     ]
    }
   ],
   "source": [
    "# Evaluate\n",
    "print('CNN Model')\n",
    "print('training', evaluate(model=cnn_model, data_loader=cnn_train_loader).item())\n",
    "print('validation', evaluate(model=cnn_model, data_loader=cnn_val_loader).item())"
   ]
  },
  {
   "cell_type": "markdown",
   "metadata": {
    "id": "WEARLiH0FKvo"
   },
   "source": [
    "# Gated Recurrent Units\n",
    "\n",
    "Now, you want to add time steps into your model. Recall the original data has 5 time steps per item. You are going to pass in a data of the form 5 timesteps x 75data. This can be done using a GRU layer. Implement you own GRU network with the following structure.\n",
    "```\n",
    "==========================================================================================\n",
    "Layer (type:depth-idx)                   Output Shape              Param #\n",
    "==========================================================================================\n",
    "GRUModel                                 --                        --\n",
    "├─GRU: 1-1                               [1024, 5, 200]            166,200\n",
    "├─Linear: 1-2                            [1024, 5, 200]            40,200\n",
    "├─Linear: 1-3                            [1024, 5, 1]              201\n",
    "==========================================================================================\n",
    "Total params: 206,601\n",
    "Trainable params: 206,601\n",
    "Non-trainable params: 0\n",
    "```\n",
    "\n",
    "\n",
    "These parameters are simple guidelines to save your time.    \n",
    "You can play with them in the final section which you can choose any normalization methods, activation function, as well as any hyperparameter the way you want.         \n",
    "The result should be better than the feedforward model and at least on par with your CNN model.    \n",
    "\n",
    "Do consult PyTorch documentation on how to use [GRUs](https://pytorch.org/docs/stable/generated/torch.nn.GRU.html).\n"
   ]
  },
  {
   "cell_type": "code",
   "execution_count": 396,
   "metadata": {
    "id": "q53iJttkFKvo"
   },
   "outputs": [
    {
     "name": "stdout",
     "output_type": "stream",
     "text": [
      "x_train shape: (229548, 5, 5, 5, 3)\n",
      "y_train shape: (229548, 5) \n",
      "\n",
      "x_val shape: (92839, 5, 5, 5, 3)\n",
      "y_val shape: (92839, 5) \n",
      "\n",
      "x_test shape: (111715, 5, 5, 5, 3)\n",
      "y_test shape: (111715, 5)\n"
     ]
    }
   ],
   "source": [
    "################################################################################\n",
    "# TODO#17:                                                                     #\n",
    "# Complete the code for preparing data for training GRU                        #\n",
    "# GRU's input should has 3 dimensions.                                         #\n",
    "# The dimensions should compose of entries, time-step, and features.           #\n",
    "################################################################################\n",
    "#                            WRITE YOUR CODE BELOW                             #\n",
    "################################################################################\n",
    "print('x_train shape:',x_train.shape)\n",
    "print('y_train shape:', y_train.shape, '\\n')\n",
    "print('x_val shape:',x_val.shape)\n",
    "print('y_val shape:', y_val.shape, '\\n')\n",
    "print('x_test shape:',x_test.shape)\n",
    "print('y_test shape:', y_test.shape)"
   ]
  },
  {
   "cell_type": "code",
   "execution_count": 499,
   "metadata": {},
   "outputs": [
    {
     "name": "stdout",
     "output_type": "stream",
     "text": [
      "(229548, 5, 75) (229548, 5, 1)\n",
      "(92839, 5, 75) (92839, 5, 1)\n",
      "(111715, 5, 75) (111715, 5, 1)\n"
     ]
    }
   ],
   "source": [
    "def preprocess_for_gru(x_train, y_train, x_val, y_val):\n",
    "    x_train_gru = x_train.reshape((-1, 5, 5*5*3))\n",
    "    y_train_gru = y_train.reshape((-1, 5,1))\n",
    "    x_val_gru = x_val.reshape((-1, 5, 5*5*3))\n",
    "    y_val_gru = y_val.reshape((-1, 5,1))\n",
    "    x_test_gru = x_test.reshape((-1, 5, 5*5*3))\n",
    "    y_test_gru = y_test.reshape((-1, 5,1))\n",
    "\n",
    "    return x_train_gru, y_train_gru, x_val_gru, y_val_gru, x_test_gru, y_test_gru\n",
    "\n",
    "x_train_gru, y_train_gru, x_val_gru, y_val_gru, x_test_gru, y_test_gru = preprocess_for_gru(x_train, y_train, x_val, y_val)\n",
    "print(x_train_gru.shape, y_train_gru.shape)\n",
    "print(x_val_gru.shape, y_val_gru.shape)\n",
    "print(x_test_gru.shape, y_test_gru.shape)"
   ]
  },
  {
   "cell_type": "code",
   "execution_count": 500,
   "metadata": {},
   "outputs": [],
   "source": [
    "class RainfallDatasetGRU(Dataset):\n",
    "    def __init__(self, x, y):\n",
    "        self.x = x.astype(np.float32)\n",
    "        self.y = y.astype(np.float32)\n",
    "        print(self.x.shape)\n",
    "        print(self.y.shape)\n",
    "\n",
    "    def __getitem__(self, index):\n",
    "        x = self.x[index] # Retrieve data\n",
    "        y = self.y[index]\n",
    "        return x, y\n",
    "\n",
    "    def __len__(self):\n",
    "        return self.x.shape[0]"
   ]
  },
  {
   "cell_type": "code",
   "execution_count": 501,
   "metadata": {},
   "outputs": [
    {
     "name": "stdout",
     "output_type": "stream",
     "text": [
      "(229548, 5, 75)\n",
      "(229548, 5, 1)\n",
      "(92839, 5, 75)\n",
      "(92839, 5, 1)\n",
      "(111715, 5, 75)\n",
      "(111715, 5, 1)\n"
     ]
    }
   ],
   "source": [
    "gru_train_dataset = RainfallDatasetGRU(x_train_gru, y_train_gru)\n",
    "gru_val_dataset = RainfallDatasetGRU(x_val_gru, y_val_gru)\n",
    "gru_test_dataset = RainfallDatasetGRU(x_test_gru, y_test_gru)"
   ]
  },
  {
   "cell_type": "code",
   "execution_count": 600,
   "metadata": {},
   "outputs": [],
   "source": [
    "gru_train_loader = DataLoader(gru_train_dataset, batch_size=2048, shuffle=True, pin_memory=True)\n",
    "gru_val_loader = DataLoader(gru_val_dataset, batch_size=2048, shuffle=True, pin_memory=True)\n",
    "gru_test_loader = DataLoader(gru_test_dataset, batch_size=2048, shuffle=True, pin_memory=True)"
   ]
  },
  {
   "cell_type": "code",
   "execution_count": 544,
   "metadata": {},
   "outputs": [
    {
     "data": {
      "text/plain": [
       "(torch.Size([2048, 5, 75]), torch.Size([2048, 5, 1]))"
      ]
     },
     "execution_count": 544,
     "metadata": {},
     "output_type": "execute_result"
    }
   ],
   "source": [
    "a,b = next(iter(gru_train_loader))\n",
    "a.shape, b.shape"
   ]
  },
  {
   "cell_type": "code",
   "execution_count": 601,
   "metadata": {
    "id": "Dk6hF98mFKvq"
   },
   "outputs": [],
   "source": [
    "################################################################################\n",
    "# TODO#18                                                                      #\n",
    "# Write a PyTorch GRU model.                                                   #\n",
    "# Your goal is to predict a precipitation of every time step.                  #\n",
    "#                                                                              #\n",
    "# Hint: You should read PyTorch documentation to see the list of available     #\n",
    "# layers and options you can use.                                              #\n",
    "################################################################################\n",
    "#                            WRITE YOUR CODE BELOW                             #\n",
    "################################################################################\n",
    "class MyGRU(nn.Module):\n",
    "    def __init__(self):\n",
    "        super().__init__()\n",
    "        self.gru = nn.GRU(input_size=75,hidden_size=200,batch_first = True,num_layers = 5)\n",
    "        self.norm = nn.GroupNorm(5,5)\n",
    "        self.hn = torch.randn(5,2048,200).to(device)\n",
    "        self.ff0 = nn.Linear(75,200)\n",
    "        self.ff1 = nn.Linear(200,200)\n",
    "        self.ff2 = nn.Linear(200,1)\n",
    "    def forward(self, x):\n",
    "        if(x.shape[0] == 2048):\n",
    "            x, hn = self.gru(x,self.hn)\n",
    "            x = F.relu(self.norm(x))\n",
    "        else:\n",
    "            x = F.relu(self.ff0(x))\n",
    "        x = F.relu(self.ff1(x))\n",
    "        y = F.relu(self.ff2(x))\n",
    "        return y"
   ]
  },
  {
   "cell_type": "code",
   "execution_count": 602,
   "metadata": {},
   "outputs": [
    {
     "data": {
      "text/plain": [
       "==========================================================================================\n",
       "Layer (type:depth-idx)                   Output Shape              Param #\n",
       "==========================================================================================\n",
       "MyGRU                                    [2048, 5, 1]              15,200\n",
       "├─GRU: 1-1                               [2048, 5, 200]            1,131,000\n",
       "├─GroupNorm: 1-2                         [2048, 5, 200]            10\n",
       "├─Linear: 1-3                            [2048, 5, 200]            40,200\n",
       "├─Linear: 1-4                            [2048, 5, 1]              201\n",
       "==========================================================================================\n",
       "Total params: 1,186,611\n",
       "Trainable params: 1,186,611\n",
       "Non-trainable params: 0\n",
       "Total mult-adds (G): 11.66\n",
       "==========================================================================================\n",
       "Input size (MB): 3.07\n",
       "Forward/backward pass size (MB): 49.23\n",
       "Params size (MB): 4.69\n",
       "Estimated Total Size (MB): 56.99\n",
       "=========================================================================================="
      ]
     },
     "execution_count": 602,
     "metadata": {},
     "output_type": "execute_result"
    }
   ],
   "source": [
    "gru_model = MyGRU()\n",
    "summary(gru_model, input_size=(2048, 5, 75))"
   ]
  },
  {
   "cell_type": "code",
   "execution_count": 619,
   "metadata": {
    "id": "f02waLbMFKvx",
    "scrolled": true
   },
   "outputs": [
    {
     "name": "stdout",
     "output_type": "stream",
     "text": [
      "start training gru\n"
     ]
    },
    {
     "data": {
      "application/vnd.jupyter.widget-view+json": {
       "model_id": "c302a4dfd7d8410fa2495c754628854f",
       "version_major": 2,
       "version_minor": 0
      },
      "text/plain": [
       "VBox(children=(Label(value='Waiting for wandb.init()...\\r'), FloatProgress(value=0.011112038833218523, max=1.0…"
      ]
     },
     "metadata": {},
     "output_type": "display_data"
    },
    {
     "data": {
      "text/html": [
       "wandb version 0.16.4 is available!  To upgrade, please run:\n",
       " $ pip install wandb --upgrade"
      ],
      "text/plain": [
       "<IPython.core.display.HTML object>"
      ]
     },
     "metadata": {},
     "output_type": "display_data"
    },
    {
     "data": {
      "text/html": [
       "Tracking run with wandb version 0.16.3"
      ],
      "text/plain": [
       "<IPython.core.display.HTML object>"
      ]
     },
     "metadata": {},
     "output_type": "display_data"
    },
    {
     "data": {
      "text/html": [
       "Run data is saved locally in <code>/home/naratip/chula/2024/Pattern/Code/HW5/wandb/run-20240321_083425-i74ccpiy</code>"
      ],
      "text/plain": [
       "<IPython.core.display.HTML object>"
      ]
     },
     "metadata": {},
     "output_type": "display_data"
    },
    {
     "data": {
      "text/html": [
       "Syncing run <strong><a href='https://wandb.ai/naratip-18257/precipitaion-nowcasting/runs/i74ccpiy' target=\"_blank\">lunar-bee-58</a></strong> to <a href='https://wandb.ai/naratip-18257/precipitaion-nowcasting' target=\"_blank\">Weights & Biases</a> (<a href='https://wandb.me/run' target=\"_blank\">docs</a>)<br/>"
      ],
      "text/plain": [
       "<IPython.core.display.HTML object>"
      ]
     },
     "metadata": {},
     "output_type": "display_data"
    },
    {
     "data": {
      "text/html": [
       " View project at <a href='https://wandb.ai/naratip-18257/precipitaion-nowcasting' target=\"_blank\">https://wandb.ai/naratip-18257/precipitaion-nowcasting</a>"
      ],
      "text/plain": [
       "<IPython.core.display.HTML object>"
      ]
     },
     "metadata": {},
     "output_type": "display_data"
    },
    {
     "data": {
      "text/html": [
       " View run at <a href='https://wandb.ai/naratip-18257/precipitaion-nowcasting/runs/i74ccpiy' target=\"_blank\">https://wandb.ai/naratip-18257/precipitaion-nowcasting/runs/i74ccpiy</a>"
      ],
      "text/plain": [
       "<IPython.core.display.HTML object>"
      ]
     },
     "metadata": {},
     "output_type": "display_data"
    },
    {
     "name": "stdout",
     "output_type": "stream",
     "text": [
      "Training epoch 1...\n",
      "Current LR: 0.01245\n"
     ]
    },
    {
     "data": {
      "application/vnd.jupyter.widget-view+json": {
       "model_id": "b258c4e49ff44c408dfa3114d7f5ea92",
       "version_major": 2,
       "version_minor": 0
      },
      "text/plain": [
       "  0%|          | 0/113 [00:00<?, ?it/s]"
      ]
     },
     "metadata": {},
     "output_type": "display_data"
    },
    {
     "name": "stdout",
     "output_type": "stream",
     "text": [
      "Epoch 1 train loss: 5.8938\n",
      "Validating epoch 1\n"
     ]
    },
    {
     "data": {
      "application/vnd.jupyter.widget-view+json": {
       "model_id": "74ba3cb391884753b56888dda1fdde70",
       "version_major": 2,
       "version_minor": 0
      },
      "text/plain": [
       "  0%|          | 0/46 [00:00<?, ?it/s]"
      ]
     },
     "metadata": {},
     "output_type": "display_data"
    },
    {
     "name": "stdout",
     "output_type": "stream",
     "text": [
      "Epoch 1 validation loss: 1.7492\n",
      "Saving new best model...\n",
      "Training epoch 2...\n",
      "Current LR: 0.01245\n"
     ]
    },
    {
     "name": "stderr",
     "output_type": "stream",
     "text": [
      "/home/naratip/micromamba/envs/test/lib/python3.10/site-packages/torch/optim/lr_scheduler.py:143: UserWarning: Detected call of `lr_scheduler.step()` before `optimizer.step()`. In PyTorch 1.1.0 and later, you should call them in the opposite order: `optimizer.step()` before `lr_scheduler.step()`.  Failure to do this will result in PyTorch skipping the first value of the learning rate schedule. See more details at https://pytorch.org/docs/stable/optim.html#how-to-adjust-learning-rate\n",
      "  warnings.warn(\"Detected call of `lr_scheduler.step()` before `optimizer.step()`. \"\n"
     ]
    },
    {
     "data": {
      "application/vnd.jupyter.widget-view+json": {
       "model_id": "abae809fff3c4b1f9f7759cc3c1a0d6b",
       "version_major": 2,
       "version_minor": 0
      },
      "text/plain": [
       "  0%|          | 0/113 [00:00<?, ?it/s]"
      ]
     },
     "metadata": {},
     "output_type": "display_data"
    },
    {
     "name": "stdout",
     "output_type": "stream",
     "text": [
      "Epoch 2 train loss: 3.8067\n",
      "Validating epoch 2\n"
     ]
    },
    {
     "data": {
      "application/vnd.jupyter.widget-view+json": {
       "model_id": "8c4daa8cf9364d428cb44d8f1bb6d265",
       "version_major": 2,
       "version_minor": 0
      },
      "text/plain": [
       "  0%|          | 0/46 [00:00<?, ?it/s]"
      ]
     },
     "metadata": {},
     "output_type": "display_data"
    },
    {
     "name": "stdout",
     "output_type": "stream",
     "text": [
      "Epoch 2 validation loss: 1.6632\n",
      "Saving new best model...\n",
      "Training epoch 3...\n",
      "Current LR: 0.01245\n"
     ]
    },
    {
     "data": {
      "application/vnd.jupyter.widget-view+json": {
       "model_id": "d0ce42f0fc7844019482d5efe72607a0",
       "version_major": 2,
       "version_minor": 0
      },
      "text/plain": [
       "  0%|          | 0/113 [00:00<?, ?it/s]"
      ]
     },
     "metadata": {},
     "output_type": "display_data"
    },
    {
     "name": "stdout",
     "output_type": "stream",
     "text": [
      "Epoch 3 train loss: 3.7743\n",
      "Validating epoch 3\n"
     ]
    },
    {
     "data": {
      "application/vnd.jupyter.widget-view+json": {
       "model_id": "c6fb653a5f164ab7bfe3387abc7ab8c8",
       "version_major": 2,
       "version_minor": 0
      },
      "text/plain": [
       "  0%|          | 0/46 [00:00<?, ?it/s]"
      ]
     },
     "metadata": {},
     "output_type": "display_data"
    },
    {
     "name": "stdout",
     "output_type": "stream",
     "text": [
      "Epoch 3 validation loss: 104.3284\n",
      "Training epoch 4...\n",
      "Current LR: 0.01245\n"
     ]
    },
    {
     "data": {
      "application/vnd.jupyter.widget-view+json": {
       "model_id": "fd94baf21ad04e3d99c8c5196334abfd",
       "version_major": 2,
       "version_minor": 0
      },
      "text/plain": [
       "  0%|          | 0/113 [00:00<?, ?it/s]"
      ]
     },
     "metadata": {},
     "output_type": "display_data"
    },
    {
     "name": "stdout",
     "output_type": "stream",
     "text": [
      "Epoch 4 train loss: 3.8301\n",
      "Validating epoch 4\n"
     ]
    },
    {
     "data": {
      "application/vnd.jupyter.widget-view+json": {
       "model_id": "777276d3541f4aad80a31bbba3a1d76b",
       "version_major": 2,
       "version_minor": 0
      },
      "text/plain": [
       "  0%|          | 0/46 [00:00<?, ?it/s]"
      ]
     },
     "metadata": {},
     "output_type": "display_data"
    },
    {
     "name": "stdout",
     "output_type": "stream",
     "text": [
      "Epoch 4 validation loss: 1.7229\n",
      "Training epoch 5...\n",
      "Current LR: 0.01245\n"
     ]
    },
    {
     "data": {
      "application/vnd.jupyter.widget-view+json": {
       "model_id": "117110c7e6594d3e95b3eec5287fd853",
       "version_major": 2,
       "version_minor": 0
      },
      "text/plain": [
       "  0%|          | 0/113 [00:00<?, ?it/s]"
      ]
     },
     "metadata": {},
     "output_type": "display_data"
    },
    {
     "name": "stdout",
     "output_type": "stream",
     "text": [
      "Epoch 5 train loss: 4.2986\n",
      "Validating epoch 5\n"
     ]
    },
    {
     "data": {
      "application/vnd.jupyter.widget-view+json": {
       "model_id": "b233d115e77b46c89c4db963c017bbf6",
       "version_major": 2,
       "version_minor": 0
      },
      "text/plain": [
       "  0%|          | 0/46 [00:00<?, ?it/s]"
      ]
     },
     "metadata": {},
     "output_type": "display_data"
    },
    {
     "name": "stdout",
     "output_type": "stream",
     "text": [
      "Epoch 5 validation loss: 1.6669\n",
      "Training epoch 6...\n",
      "Current LR: 0.01245\n"
     ]
    },
    {
     "data": {
      "application/vnd.jupyter.widget-view+json": {
       "model_id": "7e41caa2fb8e4d92a334812a4a9aa4a9",
       "version_major": 2,
       "version_minor": 0
      },
      "text/plain": [
       "  0%|          | 0/113 [00:00<?, ?it/s]"
      ]
     },
     "metadata": {},
     "output_type": "display_data"
    },
    {
     "name": "stdout",
     "output_type": "stream",
     "text": [
      "Epoch 6 train loss: 3.7239\n",
      "Validating epoch 6\n"
     ]
    },
    {
     "data": {
      "application/vnd.jupyter.widget-view+json": {
       "model_id": "39237531620f4321af03ef4ce681ed9c",
       "version_major": 2,
       "version_minor": 0
      },
      "text/plain": [
       "  0%|          | 0/46 [00:00<?, ?it/s]"
      ]
     },
     "metadata": {},
     "output_type": "display_data"
    },
    {
     "name": "stdout",
     "output_type": "stream",
     "text": [
      "Epoch 6 validation loss: 1.6570\n",
      "Saving new best model...\n",
      "Training epoch 7...\n",
      "Current LR: 0.01245\n"
     ]
    },
    {
     "data": {
      "application/vnd.jupyter.widget-view+json": {
       "model_id": "63c4434c31a9404190d62d5e9671c024",
       "version_major": 2,
       "version_minor": 0
      },
      "text/plain": [
       "  0%|          | 0/113 [00:00<?, ?it/s]"
      ]
     },
     "metadata": {},
     "output_type": "display_data"
    },
    {
     "name": "stdout",
     "output_type": "stream",
     "text": [
      "Epoch 7 train loss: 3.6683\n",
      "Validating epoch 7\n"
     ]
    },
    {
     "data": {
      "application/vnd.jupyter.widget-view+json": {
       "model_id": "ff16ad7052d8423c95f7ee2f9ae1c35f",
       "version_major": 2,
       "version_minor": 0
      },
      "text/plain": [
       "  0%|          | 0/46 [00:00<?, ?it/s]"
      ]
     },
     "metadata": {},
     "output_type": "display_data"
    },
    {
     "name": "stdout",
     "output_type": "stream",
     "text": [
      "Epoch 7 validation loss: 1.6761\n",
      "Training epoch 8...\n",
      "Current LR: 0.01245\n"
     ]
    },
    {
     "data": {
      "application/vnd.jupyter.widget-view+json": {
       "model_id": "aa6ac644c4674066b899c764e3a69262",
       "version_major": 2,
       "version_minor": 0
      },
      "text/plain": [
       "  0%|          | 0/113 [00:00<?, ?it/s]"
      ]
     },
     "metadata": {},
     "output_type": "display_data"
    },
    {
     "name": "stdout",
     "output_type": "stream",
     "text": [
      "Epoch 8 train loss: 4.4690\n",
      "Validating epoch 8\n"
     ]
    },
    {
     "data": {
      "application/vnd.jupyter.widget-view+json": {
       "model_id": "687139a1982d4b4a8763cbb8574ad2e2",
       "version_major": 2,
       "version_minor": 0
      },
      "text/plain": [
       "  0%|          | 0/46 [00:00<?, ?it/s]"
      ]
     },
     "metadata": {},
     "output_type": "display_data"
    },
    {
     "name": "stdout",
     "output_type": "stream",
     "text": [
      "Epoch 8 validation loss: 1.6645\n",
      "Training epoch 9...\n",
      "Current LR: 0.01245\n"
     ]
    },
    {
     "data": {
      "application/vnd.jupyter.widget-view+json": {
       "model_id": "e5d6d3cec3184cdf9e2ccf386babd615",
       "version_major": 2,
       "version_minor": 0
      },
      "text/plain": [
       "  0%|          | 0/113 [00:00<?, ?it/s]"
      ]
     },
     "metadata": {},
     "output_type": "display_data"
    },
    {
     "name": "stdout",
     "output_type": "stream",
     "text": [
      "Epoch 9 train loss: 3.6763\n",
      "Validating epoch 9\n"
     ]
    },
    {
     "data": {
      "application/vnd.jupyter.widget-view+json": {
       "model_id": "b9e8f1bd905f4e8186ece78936642c6b",
       "version_major": 2,
       "version_minor": 0
      },
      "text/plain": [
       "  0%|          | 0/46 [00:00<?, ?it/s]"
      ]
     },
     "metadata": {},
     "output_type": "display_data"
    },
    {
     "name": "stdout",
     "output_type": "stream",
     "text": [
      "Epoch 9 validation loss: 1.6565\n",
      "Saving new best model...\n",
      "Training epoch 10...\n",
      "Current LR: 0.01245\n"
     ]
    },
    {
     "data": {
      "application/vnd.jupyter.widget-view+json": {
       "model_id": "0c818d6ef05242478840473a4f5c3aae",
       "version_major": 2,
       "version_minor": 0
      },
      "text/plain": [
       "  0%|          | 0/113 [00:00<?, ?it/s]"
      ]
     },
     "metadata": {},
     "output_type": "display_data"
    },
    {
     "name": "stdout",
     "output_type": "stream",
     "text": [
      "Epoch 10 train loss: 3.6718\n",
      "Validating epoch 10\n"
     ]
    },
    {
     "data": {
      "application/vnd.jupyter.widget-view+json": {
       "model_id": "17a9dd2599bb4794b2b549dfbb318de5",
       "version_major": 2,
       "version_minor": 0
      },
      "text/plain": [
       "  0%|          | 0/46 [00:00<?, ?it/s]"
      ]
     },
     "metadata": {},
     "output_type": "display_data"
    },
    {
     "name": "stdout",
     "output_type": "stream",
     "text": [
      "Epoch 10 validation loss: 2663.8352\n",
      "Training epoch 11...\n",
      "Current LR: 0.01245\n"
     ]
    },
    {
     "data": {
      "application/vnd.jupyter.widget-view+json": {
       "model_id": "73b41232fe6d45e593639ee74a6b93db",
       "version_major": 2,
       "version_minor": 0
      },
      "text/plain": [
       "  0%|          | 0/113 [00:00<?, ?it/s]"
      ]
     },
     "metadata": {},
     "output_type": "display_data"
    },
    {
     "name": "stdout",
     "output_type": "stream",
     "text": [
      "Epoch 11 train loss: 7.7173\n",
      "Validating epoch 11\n"
     ]
    },
    {
     "data": {
      "application/vnd.jupyter.widget-view+json": {
       "model_id": "9b559ffa3ad1480aabf547ffa402275f",
       "version_major": 2,
       "version_minor": 0
      },
      "text/plain": [
       "  0%|          | 0/46 [00:00<?, ?it/s]"
      ]
     },
     "metadata": {},
     "output_type": "display_data"
    },
    {
     "name": "stdout",
     "output_type": "stream",
     "text": [
      "Epoch 11 validation loss: 1.6752\n",
      "Training epoch 12...\n",
      "Current LR: 0.01245\n"
     ]
    },
    {
     "data": {
      "application/vnd.jupyter.widget-view+json": {
       "model_id": "85bf6dd6c3044e6189b3cf58c8f40435",
       "version_major": 2,
       "version_minor": 0
      },
      "text/plain": [
       "  0%|          | 0/113 [00:00<?, ?it/s]"
      ]
     },
     "metadata": {},
     "output_type": "display_data"
    },
    {
     "name": "stdout",
     "output_type": "stream",
     "text": [
      "Epoch 12 train loss: 33.8650\n",
      "Validating epoch 12\n"
     ]
    },
    {
     "data": {
      "application/vnd.jupyter.widget-view+json": {
       "model_id": "5ac2fa18544b4c9cb25d76c605546560",
       "version_major": 2,
       "version_minor": 0
      },
      "text/plain": [
       "  0%|          | 0/46 [00:00<?, ?it/s]"
      ]
     },
     "metadata": {},
     "output_type": "display_data"
    },
    {
     "name": "stdout",
     "output_type": "stream",
     "text": [
      "Epoch 12 validation loss: 1.6891\n",
      "Training epoch 13...\n",
      "Current LR: 0.01245\n"
     ]
    },
    {
     "data": {
      "application/vnd.jupyter.widget-view+json": {
       "model_id": "73b7ae64b6e34ad98b246b1e12190132",
       "version_major": 2,
       "version_minor": 0
      },
      "text/plain": [
       "  0%|          | 0/113 [00:00<?, ?it/s]"
      ]
     },
     "metadata": {},
     "output_type": "display_data"
    },
    {
     "name": "stdout",
     "output_type": "stream",
     "text": [
      "Epoch 13 train loss: 29.8740\n",
      "Validating epoch 13\n"
     ]
    },
    {
     "data": {
      "application/vnd.jupyter.widget-view+json": {
       "model_id": "63a4e86dc6584db99fe1bf7edfeef94b",
       "version_major": 2,
       "version_minor": 0
      },
      "text/plain": [
       "  0%|          | 0/46 [00:00<?, ?it/s]"
      ]
     },
     "metadata": {},
     "output_type": "display_data"
    },
    {
     "name": "stdout",
     "output_type": "stream",
     "text": [
      "Epoch 13 validation loss: 1.6660\n",
      "Training epoch 14...\n",
      "Current LR: 0.01245\n"
     ]
    },
    {
     "data": {
      "application/vnd.jupyter.widget-view+json": {
       "model_id": "dd2dafe6e4684cdb8f7f27c75d70265a",
       "version_major": 2,
       "version_minor": 0
      },
      "text/plain": [
       "  0%|          | 0/113 [00:00<?, ?it/s]"
      ]
     },
     "metadata": {},
     "output_type": "display_data"
    },
    {
     "name": "stdout",
     "output_type": "stream",
     "text": [
      "Epoch 14 train loss: 25.4843\n",
      "Validating epoch 14\n"
     ]
    },
    {
     "data": {
      "application/vnd.jupyter.widget-view+json": {
       "model_id": "e7e256aa94ce403ca4add65632de94c8",
       "version_major": 2,
       "version_minor": 0
      },
      "text/plain": [
       "  0%|          | 0/46 [00:00<?, ?it/s]"
      ]
     },
     "metadata": {},
     "output_type": "display_data"
    },
    {
     "name": "stdout",
     "output_type": "stream",
     "text": [
      "Epoch 14 validation loss: 1.6647\n",
      "Training epoch 15...\n",
      "Current LR: 0.01245\n"
     ]
    },
    {
     "data": {
      "application/vnd.jupyter.widget-view+json": {
       "model_id": "1ff8b7b4ca1b46db8db88e4da324bd47",
       "version_major": 2,
       "version_minor": 0
      },
      "text/plain": [
       "  0%|          | 0/113 [00:00<?, ?it/s]"
      ]
     },
     "metadata": {},
     "output_type": "display_data"
    },
    {
     "name": "stdout",
     "output_type": "stream",
     "text": [
      "Epoch 15 train loss: 22.4049\n",
      "Validating epoch 15\n"
     ]
    },
    {
     "data": {
      "application/vnd.jupyter.widget-view+json": {
       "model_id": "d3b5078ea4d6439391b98fe5c4f4d327",
       "version_major": 2,
       "version_minor": 0
      },
      "text/plain": [
       "  0%|          | 0/46 [00:00<?, ?it/s]"
      ]
     },
     "metadata": {},
     "output_type": "display_data"
    },
    {
     "name": "stdout",
     "output_type": "stream",
     "text": [
      "Epoch 15 validation loss: 1.6931\n",
      "Training epoch 16...\n",
      "Current LR: 0.01245\n"
     ]
    },
    {
     "data": {
      "application/vnd.jupyter.widget-view+json": {
       "model_id": "eaabeec8972d44e8b6b2bcdcd9041e0b",
       "version_major": 2,
       "version_minor": 0
      },
      "text/plain": [
       "  0%|          | 0/113 [00:00<?, ?it/s]"
      ]
     },
     "metadata": {},
     "output_type": "display_data"
    },
    {
     "name": "stdout",
     "output_type": "stream",
     "text": [
      "Epoch 16 train loss: 19.9704\n",
      "Validating epoch 16\n"
     ]
    },
    {
     "data": {
      "application/vnd.jupyter.widget-view+json": {
       "model_id": "43a8ddefe4ea4a31ad29601f4b7aced6",
       "version_major": 2,
       "version_minor": 0
      },
      "text/plain": [
       "  0%|          | 0/46 [00:00<?, ?it/s]"
      ]
     },
     "metadata": {},
     "output_type": "display_data"
    },
    {
     "name": "stdout",
     "output_type": "stream",
     "text": [
      "Epoch 16 validation loss: 1.6987\n",
      "Training epoch 17...\n",
      "Current LR: 0.01245\n"
     ]
    },
    {
     "data": {
      "application/vnd.jupyter.widget-view+json": {
       "model_id": "35c70d06601d47709a673b835817e5e4",
       "version_major": 2,
       "version_minor": 0
      },
      "text/plain": [
       "  0%|          | 0/113 [00:00<?, ?it/s]"
      ]
     },
     "metadata": {},
     "output_type": "display_data"
    },
    {
     "name": "stdout",
     "output_type": "stream",
     "text": [
      "Epoch 17 train loss: 18.0718\n",
      "Validating epoch 17\n"
     ]
    },
    {
     "data": {
      "application/vnd.jupyter.widget-view+json": {
       "model_id": "166a3338512a4e6592358d2651f6acc9",
       "version_major": 2,
       "version_minor": 0
      },
      "text/plain": [
       "  0%|          | 0/46 [00:00<?, ?it/s]"
      ]
     },
     "metadata": {},
     "output_type": "display_data"
    },
    {
     "name": "stdout",
     "output_type": "stream",
     "text": [
      "Epoch 17 validation loss: 1.6609\n",
      "Training epoch 18...\n",
      "Current LR: 0.01245\n"
     ]
    },
    {
     "data": {
      "application/vnd.jupyter.widget-view+json": {
       "model_id": "1acb8c0637104a7b9ec63d4de434f413",
       "version_major": 2,
       "version_minor": 0
      },
      "text/plain": [
       "  0%|          | 0/113 [00:00<?, ?it/s]"
      ]
     },
     "metadata": {},
     "output_type": "display_data"
    },
    {
     "name": "stdout",
     "output_type": "stream",
     "text": [
      "Epoch 18 train loss: 16.6177\n",
      "Validating epoch 18\n"
     ]
    },
    {
     "data": {
      "application/vnd.jupyter.widget-view+json": {
       "model_id": "5aa41fd3f01b433e8a12fbe8d546341a",
       "version_major": 2,
       "version_minor": 0
      },
      "text/plain": [
       "  0%|          | 0/46 [00:00<?, ?it/s]"
      ]
     },
     "metadata": {},
     "output_type": "display_data"
    },
    {
     "name": "stdout",
     "output_type": "stream",
     "text": [
      "Epoch 18 validation loss: 1.6814\n",
      "Training epoch 19...\n",
      "Current LR: 0.01245\n"
     ]
    },
    {
     "data": {
      "application/vnd.jupyter.widget-view+json": {
       "model_id": "e88b3a85ad2d492da1217342c3f20330",
       "version_major": 2,
       "version_minor": 0
      },
      "text/plain": [
       "  0%|          | 0/113 [00:00<?, ?it/s]"
      ]
     },
     "metadata": {},
     "output_type": "display_data"
    },
    {
     "name": "stdout",
     "output_type": "stream",
     "text": [
      "Epoch 19 train loss: 15.4330\n",
      "Validating epoch 19\n"
     ]
    },
    {
     "data": {
      "application/vnd.jupyter.widget-view+json": {
       "model_id": "69932c46c3b246e0b4d60b67791356ca",
       "version_major": 2,
       "version_minor": 0
      },
      "text/plain": [
       "  0%|          | 0/46 [00:00<?, ?it/s]"
      ]
     },
     "metadata": {},
     "output_type": "display_data"
    },
    {
     "name": "stdout",
     "output_type": "stream",
     "text": [
      "Epoch 19 validation loss: 1.6791\n",
      "Training epoch 20...\n",
      "Current LR: 0.01245\n"
     ]
    },
    {
     "data": {
      "application/vnd.jupyter.widget-view+json": {
       "model_id": "2a3de9daed4b4bcabcd2cce7a813e808",
       "version_major": 2,
       "version_minor": 0
      },
      "text/plain": [
       "  0%|          | 0/113 [00:00<?, ?it/s]"
      ]
     },
     "metadata": {},
     "output_type": "display_data"
    },
    {
     "name": "stdout",
     "output_type": "stream",
     "text": [
      "Epoch 20 train loss: 14.5088\n",
      "Validating epoch 20\n"
     ]
    },
    {
     "data": {
      "application/vnd.jupyter.widget-view+json": {
       "model_id": "d804c628113c48f0bac0813d4d9115cc",
       "version_major": 2,
       "version_minor": 0
      },
      "text/plain": [
       "  0%|          | 0/46 [00:00<?, ?it/s]"
      ]
     },
     "metadata": {},
     "output_type": "display_data"
    },
    {
     "name": "stdout",
     "output_type": "stream",
     "text": [
      "Epoch 20 validation loss: 1.6706\n",
      "Training epoch 21...\n",
      "Current LR: 0.01245\n"
     ]
    },
    {
     "data": {
      "application/vnd.jupyter.widget-view+json": {
       "model_id": "e2705520ceb2492c952e75527efc1459",
       "version_major": 2,
       "version_minor": 0
      },
      "text/plain": [
       "  0%|          | 0/113 [00:00<?, ?it/s]"
      ]
     },
     "metadata": {},
     "output_type": "display_data"
    },
    {
     "name": "stdout",
     "output_type": "stream",
     "text": [
      "Epoch 21 train loss: 13.7443\n",
      "Validating epoch 21\n"
     ]
    },
    {
     "data": {
      "application/vnd.jupyter.widget-view+json": {
       "model_id": "0340c732816f48ea819ddfdab2d48099",
       "version_major": 2,
       "version_minor": 0
      },
      "text/plain": [
       "  0%|          | 0/46 [00:00<?, ?it/s]"
      ]
     },
     "metadata": {},
     "output_type": "display_data"
    },
    {
     "name": "stdout",
     "output_type": "stream",
     "text": [
      "Epoch 21 validation loss: 1.6800\n",
      "Training epoch 22...\n",
      "Current LR: 0.01245\n"
     ]
    },
    {
     "data": {
      "application/vnd.jupyter.widget-view+json": {
       "model_id": "1fb3a1c055cd458f968c110b884b52e4",
       "version_major": 2,
       "version_minor": 0
      },
      "text/plain": [
       "  0%|          | 0/113 [00:00<?, ?it/s]"
      ]
     },
     "metadata": {},
     "output_type": "display_data"
    },
    {
     "name": "stdout",
     "output_type": "stream",
     "text": [
      "Epoch 22 train loss: 13.1094\n",
      "Validating epoch 22\n"
     ]
    },
    {
     "data": {
      "application/vnd.jupyter.widget-view+json": {
       "model_id": "ce5791f670f94925808a82f842d5654d",
       "version_major": 2,
       "version_minor": 0
      },
      "text/plain": [
       "  0%|          | 0/46 [00:00<?, ?it/s]"
      ]
     },
     "metadata": {},
     "output_type": "display_data"
    },
    {
     "name": "stdout",
     "output_type": "stream",
     "text": [
      "Epoch 22 validation loss: 1.6760\n",
      "Training epoch 23...\n",
      "Current LR: 0.01245\n"
     ]
    },
    {
     "data": {
      "application/vnd.jupyter.widget-view+json": {
       "model_id": "fc5809578f2a4d328955881d1281be30",
       "version_major": 2,
       "version_minor": 0
      },
      "text/plain": [
       "  0%|          | 0/113 [00:00<?, ?it/s]"
      ]
     },
     "metadata": {},
     "output_type": "display_data"
    },
    {
     "name": "stdout",
     "output_type": "stream",
     "text": [
      "Epoch 23 train loss: 12.6000\n",
      "Validating epoch 23\n"
     ]
    },
    {
     "data": {
      "application/vnd.jupyter.widget-view+json": {
       "model_id": "b1fd909efff445cfbf52a233e33adb59",
       "version_major": 2,
       "version_minor": 0
      },
      "text/plain": [
       "  0%|          | 0/46 [00:00<?, ?it/s]"
      ]
     },
     "metadata": {},
     "output_type": "display_data"
    },
    {
     "name": "stdout",
     "output_type": "stream",
     "text": [
      "Epoch 23 validation loss: 1.6730\n",
      "Training epoch 24...\n",
      "Current LR: 0.01245\n"
     ]
    },
    {
     "data": {
      "application/vnd.jupyter.widget-view+json": {
       "model_id": "c79fdf30ee7845cc861ac73ef1983391",
       "version_major": 2,
       "version_minor": 0
      },
      "text/plain": [
       "  0%|          | 0/113 [00:00<?, ?it/s]"
      ]
     },
     "metadata": {},
     "output_type": "display_data"
    },
    {
     "name": "stdout",
     "output_type": "stream",
     "text": [
      "Epoch 24 train loss: 12.1694\n",
      "Validating epoch 24\n"
     ]
    },
    {
     "data": {
      "application/vnd.jupyter.widget-view+json": {
       "model_id": "25e6cf89ea76476bbadb14e9371b54f0",
       "version_major": 2,
       "version_minor": 0
      },
      "text/plain": [
       "  0%|          | 0/46 [00:00<?, ?it/s]"
      ]
     },
     "metadata": {},
     "output_type": "display_data"
    },
    {
     "name": "stdout",
     "output_type": "stream",
     "text": [
      "Epoch 24 validation loss: 1.6681\n",
      "Training epoch 25...\n",
      "Current LR: 0.01245\n"
     ]
    },
    {
     "data": {
      "application/vnd.jupyter.widget-view+json": {
       "model_id": "8cc6a623ec4543cf9ac10d8a0938ac67",
       "version_major": 2,
       "version_minor": 0
      },
      "text/plain": [
       "  0%|          | 0/113 [00:00<?, ?it/s]"
      ]
     },
     "metadata": {},
     "output_type": "display_data"
    },
    {
     "name": "stdout",
     "output_type": "stream",
     "text": [
      "Epoch 25 train loss: 11.8105\n",
      "Validating epoch 25\n"
     ]
    },
    {
     "data": {
      "application/vnd.jupyter.widget-view+json": {
       "model_id": "d6b50aba7a794396be1506b32637e49b",
       "version_major": 2,
       "version_minor": 0
      },
      "text/plain": [
       "  0%|          | 0/46 [00:00<?, ?it/s]"
      ]
     },
     "metadata": {},
     "output_type": "display_data"
    },
    {
     "name": "stdout",
     "output_type": "stream",
     "text": [
      "Epoch 25 validation loss: 1.6711\n",
      "Training epoch 26...\n",
      "Current LR: 0.01245\n"
     ]
    },
    {
     "data": {
      "application/vnd.jupyter.widget-view+json": {
       "model_id": "6587625b6c244eef995308b7458fe8e3",
       "version_major": 2,
       "version_minor": 0
      },
      "text/plain": [
       "  0%|          | 0/113 [00:00<?, ?it/s]"
      ]
     },
     "metadata": {},
     "output_type": "display_data"
    },
    {
     "name": "stdout",
     "output_type": "stream",
     "text": [
      "Epoch 26 train loss: 11.5227\n",
      "Validating epoch 26\n"
     ]
    },
    {
     "data": {
      "application/vnd.jupyter.widget-view+json": {
       "model_id": "6858d489c62c4dfd854038851216d3d4",
       "version_major": 2,
       "version_minor": 0
      },
      "text/plain": [
       "  0%|          | 0/46 [00:00<?, ?it/s]"
      ]
     },
     "metadata": {},
     "output_type": "display_data"
    },
    {
     "name": "stdout",
     "output_type": "stream",
     "text": [
      "Epoch 26 validation loss: 1.6740\n",
      "Training epoch 27...\n",
      "Current LR: 0.01245\n"
     ]
    },
    {
     "data": {
      "application/vnd.jupyter.widget-view+json": {
       "model_id": "e6384c051a9c4a13b667473698dcef2f",
       "version_major": 2,
       "version_minor": 0
      },
      "text/plain": [
       "  0%|          | 0/113 [00:00<?, ?it/s]"
      ]
     },
     "metadata": {},
     "output_type": "display_data"
    },
    {
     "name": "stdout",
     "output_type": "stream",
     "text": [
      "Epoch 27 train loss: 11.2495\n",
      "Validating epoch 27\n"
     ]
    },
    {
     "data": {
      "application/vnd.jupyter.widget-view+json": {
       "model_id": "79d45fa465114f88bdc846eeb2606496",
       "version_major": 2,
       "version_minor": 0
      },
      "text/plain": [
       "  0%|          | 0/46 [00:00<?, ?it/s]"
      ]
     },
     "metadata": {},
     "output_type": "display_data"
    },
    {
     "name": "stdout",
     "output_type": "stream",
     "text": [
      "Epoch 27 validation loss: 1.6766\n",
      "Training epoch 28...\n",
      "Current LR: 0.01245\n"
     ]
    },
    {
     "data": {
      "application/vnd.jupyter.widget-view+json": {
       "model_id": "8eae5b09bf2c439391d0793e298096a1",
       "version_major": 2,
       "version_minor": 0
      },
      "text/plain": [
       "  0%|          | 0/113 [00:00<?, ?it/s]"
      ]
     },
     "metadata": {},
     "output_type": "display_data"
    },
    {
     "name": "stdout",
     "output_type": "stream",
     "text": [
      "Epoch 28 train loss: 11.0333\n",
      "Validating epoch 28\n"
     ]
    },
    {
     "data": {
      "application/vnd.jupyter.widget-view+json": {
       "model_id": "8838b62ab7e1464c8cb4c65ff10c2405",
       "version_major": 2,
       "version_minor": 0
      },
      "text/plain": [
       "  0%|          | 0/46 [00:00<?, ?it/s]"
      ]
     },
     "metadata": {},
     "output_type": "display_data"
    },
    {
     "name": "stdout",
     "output_type": "stream",
     "text": [
      "Epoch 28 validation loss: 1.6704\n",
      "Training epoch 29...\n",
      "Current LR: 0.01245\n"
     ]
    },
    {
     "data": {
      "application/vnd.jupyter.widget-view+json": {
       "model_id": "d21c47be6db14cdca0d37cba53d49a7a",
       "version_major": 2,
       "version_minor": 0
      },
      "text/plain": [
       "  0%|          | 0/113 [00:00<?, ?it/s]"
      ]
     },
     "metadata": {},
     "output_type": "display_data"
    },
    {
     "name": "stdout",
     "output_type": "stream",
     "text": [
      "Epoch 29 train loss: 10.8272\n",
      "Validating epoch 29\n"
     ]
    },
    {
     "data": {
      "application/vnd.jupyter.widget-view+json": {
       "model_id": "901b2b6190154a5cabfc1c5e11e5677d",
       "version_major": 2,
       "version_minor": 0
      },
      "text/plain": [
       "  0%|          | 0/46 [00:00<?, ?it/s]"
      ]
     },
     "metadata": {},
     "output_type": "display_data"
    },
    {
     "name": "stdout",
     "output_type": "stream",
     "text": [
      "Epoch 29 validation loss: 1.6629\n",
      "Training epoch 30...\n",
      "Current LR: 0.01245\n"
     ]
    },
    {
     "data": {
      "application/vnd.jupyter.widget-view+json": {
       "model_id": "e96e1b41d9904ef681c2acdb890717f9",
       "version_major": 2,
       "version_minor": 0
      },
      "text/plain": [
       "  0%|          | 0/113 [00:00<?, ?it/s]"
      ]
     },
     "metadata": {},
     "output_type": "display_data"
    },
    {
     "name": "stdout",
     "output_type": "stream",
     "text": [
      "Epoch 30 train loss: 10.6705\n",
      "Validating epoch 30\n"
     ]
    },
    {
     "data": {
      "application/vnd.jupyter.widget-view+json": {
       "model_id": "6ebde25c55e44f1c8e0171dca98d1ee6",
       "version_major": 2,
       "version_minor": 0
      },
      "text/plain": [
       "  0%|          | 0/46 [00:00<?, ?it/s]"
      ]
     },
     "metadata": {},
     "output_type": "display_data"
    },
    {
     "name": "stdout",
     "output_type": "stream",
     "text": [
      "Epoch 30 validation loss: 1.6846\n",
      "Training epoch 31...\n",
      "Current LR: 0.01245\n"
     ]
    },
    {
     "data": {
      "application/vnd.jupyter.widget-view+json": {
       "model_id": "c0dd483405ce4e2a85026b5e8fcff675",
       "version_major": 2,
       "version_minor": 0
      },
      "text/plain": [
       "  0%|          | 0/113 [00:00<?, ?it/s]"
      ]
     },
     "metadata": {},
     "output_type": "display_data"
    },
    {
     "name": "stdout",
     "output_type": "stream",
     "text": [
      "Epoch 31 train loss: 10.4857\n",
      "Validating epoch 31\n"
     ]
    },
    {
     "data": {
      "application/vnd.jupyter.widget-view+json": {
       "model_id": "8d3e0b2c57a543738c9d349722b151b5",
       "version_major": 2,
       "version_minor": 0
      },
      "text/plain": [
       "  0%|          | 0/46 [00:00<?, ?it/s]"
      ]
     },
     "metadata": {},
     "output_type": "display_data"
    },
    {
     "name": "stdout",
     "output_type": "stream",
     "text": [
      "Epoch 31 validation loss: 1.6671\n",
      "Training epoch 32...\n",
      "Current LR: 0.01245\n"
     ]
    },
    {
     "data": {
      "application/vnd.jupyter.widget-view+json": {
       "model_id": "79c79a8934a747b8ae2863b6ea469d25",
       "version_major": 2,
       "version_minor": 0
      },
      "text/plain": [
       "  0%|          | 0/113 [00:00<?, ?it/s]"
      ]
     },
     "metadata": {},
     "output_type": "display_data"
    },
    {
     "name": "stdout",
     "output_type": "stream",
     "text": [
      "Epoch 32 train loss: 10.3715\n",
      "Validating epoch 32\n"
     ]
    },
    {
     "data": {
      "application/vnd.jupyter.widget-view+json": {
       "model_id": "ccc4c29105f94439a999bc500cd4bad4",
       "version_major": 2,
       "version_minor": 0
      },
      "text/plain": [
       "  0%|          | 0/46 [00:00<?, ?it/s]"
      ]
     },
     "metadata": {},
     "output_type": "display_data"
    },
    {
     "name": "stdout",
     "output_type": "stream",
     "text": [
      "Epoch 32 validation loss: 1.6668\n",
      "Training epoch 33...\n",
      "Current LR: 0.01245\n"
     ]
    },
    {
     "data": {
      "application/vnd.jupyter.widget-view+json": {
       "model_id": "4480903cef4744da88b79330dca00697",
       "version_major": 2,
       "version_minor": 0
      },
      "text/plain": [
       "  0%|          | 0/113 [00:00<?, ?it/s]"
      ]
     },
     "metadata": {},
     "output_type": "display_data"
    },
    {
     "name": "stdout",
     "output_type": "stream",
     "text": [
      "Epoch 33 train loss: 10.2158\n",
      "Validating epoch 33\n"
     ]
    },
    {
     "data": {
      "application/vnd.jupyter.widget-view+json": {
       "model_id": "5a1b3e09bf2a4a1bbd745d9627ee5982",
       "version_major": 2,
       "version_minor": 0
      },
      "text/plain": [
       "  0%|          | 0/46 [00:00<?, ?it/s]"
      ]
     },
     "metadata": {},
     "output_type": "display_data"
    },
    {
     "name": "stdout",
     "output_type": "stream",
     "text": [
      "Epoch 33 validation loss: 1.6806\n",
      "Training epoch 34...\n",
      "Current LR: 0.01245\n"
     ]
    },
    {
     "data": {
      "application/vnd.jupyter.widget-view+json": {
       "model_id": "0de234cb7e1e4fdbaf1658e59d5e13a5",
       "version_major": 2,
       "version_minor": 0
      },
      "text/plain": [
       "  0%|          | 0/113 [00:00<?, ?it/s]"
      ]
     },
     "metadata": {},
     "output_type": "display_data"
    },
    {
     "name": "stdout",
     "output_type": "stream",
     "text": [
      "Epoch 34 train loss: 10.1091\n",
      "Validating epoch 34\n"
     ]
    },
    {
     "data": {
      "application/vnd.jupyter.widget-view+json": {
       "model_id": "85d51ceeeb804494b8715850218b4f3e",
       "version_major": 2,
       "version_minor": 0
      },
      "text/plain": [
       "  0%|          | 0/46 [00:00<?, ?it/s]"
      ]
     },
     "metadata": {},
     "output_type": "display_data"
    },
    {
     "name": "stdout",
     "output_type": "stream",
     "text": [
      "Epoch 34 validation loss: 1.6877\n",
      "Training epoch 35...\n",
      "Current LR: 0.01245\n"
     ]
    },
    {
     "data": {
      "application/vnd.jupyter.widget-view+json": {
       "model_id": "8f1446b9fdcc4396a540b71faecb7d9e",
       "version_major": 2,
       "version_minor": 0
      },
      "text/plain": [
       "  0%|          | 0/113 [00:00<?, ?it/s]"
      ]
     },
     "metadata": {},
     "output_type": "display_data"
    },
    {
     "name": "stdout",
     "output_type": "stream",
     "text": [
      "Epoch 35 train loss: 9.9673\n",
      "Validating epoch 35\n"
     ]
    },
    {
     "data": {
      "application/vnd.jupyter.widget-view+json": {
       "model_id": "73c0cb47dc024751ac3d4a5999dee17b",
       "version_major": 2,
       "version_minor": 0
      },
      "text/plain": [
       "  0%|          | 0/46 [00:00<?, ?it/s]"
      ]
     },
     "metadata": {},
     "output_type": "display_data"
    },
    {
     "name": "stdout",
     "output_type": "stream",
     "text": [
      "Epoch 35 validation loss: 1.6825\n",
      "Training epoch 36...\n",
      "Current LR: 0.01245\n"
     ]
    },
    {
     "data": {
      "application/vnd.jupyter.widget-view+json": {
       "model_id": "42e0cf0c20934ee3ad6d4861f5935e18",
       "version_major": 2,
       "version_minor": 0
      },
      "text/plain": [
       "  0%|          | 0/113 [00:00<?, ?it/s]"
      ]
     },
     "metadata": {},
     "output_type": "display_data"
    },
    {
     "name": "stdout",
     "output_type": "stream",
     "text": [
      "Epoch 36 train loss: 9.8659\n",
      "Validating epoch 36\n"
     ]
    },
    {
     "data": {
      "application/vnd.jupyter.widget-view+json": {
       "model_id": "cb1bee2c2c094b0b80b20cd5b202500a",
       "version_major": 2,
       "version_minor": 0
      },
      "text/plain": [
       "  0%|          | 0/46 [00:00<?, ?it/s]"
      ]
     },
     "metadata": {},
     "output_type": "display_data"
    },
    {
     "name": "stdout",
     "output_type": "stream",
     "text": [
      "Epoch 36 validation loss: 1.6614\n",
      "Training epoch 37...\n",
      "Current LR: 0.01245\n"
     ]
    },
    {
     "data": {
      "application/vnd.jupyter.widget-view+json": {
       "model_id": "1ec4d9f4c71c497a9dd2ae642f409267",
       "version_major": 2,
       "version_minor": 0
      },
      "text/plain": [
       "  0%|          | 0/113 [00:00<?, ?it/s]"
      ]
     },
     "metadata": {},
     "output_type": "display_data"
    },
    {
     "name": "stdout",
     "output_type": "stream",
     "text": [
      "Epoch 37 train loss: 9.7832\n",
      "Validating epoch 37\n"
     ]
    },
    {
     "data": {
      "application/vnd.jupyter.widget-view+json": {
       "model_id": "614f21e574654207b2940980c007726e",
       "version_major": 2,
       "version_minor": 0
      },
      "text/plain": [
       "  0%|          | 0/46 [00:00<?, ?it/s]"
      ]
     },
     "metadata": {},
     "output_type": "display_data"
    },
    {
     "name": "stdout",
     "output_type": "stream",
     "text": [
      "Epoch 37 validation loss: 1.6783\n",
      "Training epoch 38...\n",
      "Current LR: 0.01245\n"
     ]
    },
    {
     "data": {
      "application/vnd.jupyter.widget-view+json": {
       "model_id": "2455056caeb449b196436593095b6e6e",
       "version_major": 2,
       "version_minor": 0
      },
      "text/plain": [
       "  0%|          | 0/113 [00:00<?, ?it/s]"
      ]
     },
     "metadata": {},
     "output_type": "display_data"
    },
    {
     "name": "stdout",
     "output_type": "stream",
     "text": [
      "Epoch 38 train loss: 9.6294\n",
      "Validating epoch 38\n"
     ]
    },
    {
     "data": {
      "application/vnd.jupyter.widget-view+json": {
       "model_id": "51213c826c3b45978e5431237b56289e",
       "version_major": 2,
       "version_minor": 0
      },
      "text/plain": [
       "  0%|          | 0/46 [00:00<?, ?it/s]"
      ]
     },
     "metadata": {},
     "output_type": "display_data"
    },
    {
     "name": "stdout",
     "output_type": "stream",
     "text": [
      "Epoch 38 validation loss: 1.6764\n",
      "Training epoch 39...\n",
      "Current LR: 0.01245\n"
     ]
    },
    {
     "data": {
      "application/vnd.jupyter.widget-view+json": {
       "model_id": "d6297c61c16f4e459fd72f0d5f2802d8",
       "version_major": 2,
       "version_minor": 0
      },
      "text/plain": [
       "  0%|          | 0/113 [00:00<?, ?it/s]"
      ]
     },
     "metadata": {},
     "output_type": "display_data"
    },
    {
     "name": "stdout",
     "output_type": "stream",
     "text": [
      "Epoch 39 train loss: 9.5419\n",
      "Validating epoch 39\n"
     ]
    },
    {
     "data": {
      "application/vnd.jupyter.widget-view+json": {
       "model_id": "78ff0cedc88f41c990ebcf854cb55f11",
       "version_major": 2,
       "version_minor": 0
      },
      "text/plain": [
       "  0%|          | 0/46 [00:00<?, ?it/s]"
      ]
     },
     "metadata": {},
     "output_type": "display_data"
    },
    {
     "name": "stdout",
     "output_type": "stream",
     "text": [
      "Epoch 39 validation loss: 1.6599\n",
      "Training epoch 40...\n",
      "Current LR: 0.01245\n"
     ]
    },
    {
     "data": {
      "application/vnd.jupyter.widget-view+json": {
       "model_id": "80194e2b3c544950a4198a18985759e4",
       "version_major": 2,
       "version_minor": 0
      },
      "text/plain": [
       "  0%|          | 0/113 [00:00<?, ?it/s]"
      ]
     },
     "metadata": {},
     "output_type": "display_data"
    },
    {
     "name": "stdout",
     "output_type": "stream",
     "text": [
      "Epoch 40 train loss: 9.4483\n",
      "Validating epoch 40\n"
     ]
    },
    {
     "data": {
      "application/vnd.jupyter.widget-view+json": {
       "model_id": "48a7ce5293e24980aa9e9e7b5f70a3d7",
       "version_major": 2,
       "version_minor": 0
      },
      "text/plain": [
       "  0%|          | 0/46 [00:00<?, ?it/s]"
      ]
     },
     "metadata": {},
     "output_type": "display_data"
    },
    {
     "name": "stdout",
     "output_type": "stream",
     "text": [
      "Epoch 40 validation loss: 1.6923\n",
      "Training epoch 41...\n",
      "Current LR: 0.01245\n"
     ]
    },
    {
     "data": {
      "application/vnd.jupyter.widget-view+json": {
       "model_id": "8066b4bd5b7e45f1a5272a8f6deeb200",
       "version_major": 2,
       "version_minor": 0
      },
      "text/plain": [
       "  0%|          | 0/113 [00:00<?, ?it/s]"
      ]
     },
     "metadata": {},
     "output_type": "display_data"
    },
    {
     "name": "stdout",
     "output_type": "stream",
     "text": [
      "Epoch 41 train loss: 9.3330\n",
      "Validating epoch 41\n"
     ]
    },
    {
     "data": {
      "application/vnd.jupyter.widget-view+json": {
       "model_id": "242dfe62f26f49bd84ab71acf3408c05",
       "version_major": 2,
       "version_minor": 0
      },
      "text/plain": [
       "  0%|          | 0/46 [00:00<?, ?it/s]"
      ]
     },
     "metadata": {},
     "output_type": "display_data"
    },
    {
     "name": "stdout",
     "output_type": "stream",
     "text": [
      "Epoch 41 validation loss: 1.6632\n",
      "Training epoch 42...\n",
      "Current LR: 0.01245\n"
     ]
    },
    {
     "data": {
      "application/vnd.jupyter.widget-view+json": {
       "model_id": "631e5aef866b4f97ad85d97b979ea559",
       "version_major": 2,
       "version_minor": 0
      },
      "text/plain": [
       "  0%|          | 0/113 [00:00<?, ?it/s]"
      ]
     },
     "metadata": {},
     "output_type": "display_data"
    },
    {
     "name": "stdout",
     "output_type": "stream",
     "text": [
      "Epoch 42 train loss: 9.2129\n",
      "Validating epoch 42\n"
     ]
    },
    {
     "data": {
      "application/vnd.jupyter.widget-view+json": {
       "model_id": "d88fb878405d4cf28fb49d52e1061a07",
       "version_major": 2,
       "version_minor": 0
      },
      "text/plain": [
       "  0%|          | 0/46 [00:00<?, ?it/s]"
      ]
     },
     "metadata": {},
     "output_type": "display_data"
    },
    {
     "name": "stdout",
     "output_type": "stream",
     "text": [
      "Epoch 42 validation loss: 1.6707\n",
      "Training epoch 43...\n",
      "Current LR: 0.01245\n"
     ]
    },
    {
     "data": {
      "application/vnd.jupyter.widget-view+json": {
       "model_id": "0a7c656cdc984170a4dcec314809ec4d",
       "version_major": 2,
       "version_minor": 0
      },
      "text/plain": [
       "  0%|          | 0/113 [00:00<?, ?it/s]"
      ]
     },
     "metadata": {},
     "output_type": "display_data"
    },
    {
     "name": "stdout",
     "output_type": "stream",
     "text": [
      "Epoch 43 train loss: 9.1067\n",
      "Validating epoch 43\n"
     ]
    },
    {
     "data": {
      "application/vnd.jupyter.widget-view+json": {
       "model_id": "ad51c568895b4c32ab560d75dcadab83",
       "version_major": 2,
       "version_minor": 0
      },
      "text/plain": [
       "  0%|          | 0/46 [00:00<?, ?it/s]"
      ]
     },
     "metadata": {},
     "output_type": "display_data"
    },
    {
     "name": "stdout",
     "output_type": "stream",
     "text": [
      "Epoch 43 validation loss: 1.6923\n",
      "Training epoch 44...\n",
      "Current LR: 0.01245\n"
     ]
    },
    {
     "data": {
      "application/vnd.jupyter.widget-view+json": {
       "model_id": "fed597e056e74f308a9e4b6166608f9b",
       "version_major": 2,
       "version_minor": 0
      },
      "text/plain": [
       "  0%|          | 0/113 [00:00<?, ?it/s]"
      ]
     },
     "metadata": {},
     "output_type": "display_data"
    },
    {
     "name": "stdout",
     "output_type": "stream",
     "text": [
      "Epoch 44 train loss: 9.0348\n",
      "Validating epoch 44\n"
     ]
    },
    {
     "data": {
      "application/vnd.jupyter.widget-view+json": {
       "model_id": "699a7747684e4818bd1e046f8d44ac1f",
       "version_major": 2,
       "version_minor": 0
      },
      "text/plain": [
       "  0%|          | 0/46 [00:00<?, ?it/s]"
      ]
     },
     "metadata": {},
     "output_type": "display_data"
    },
    {
     "name": "stdout",
     "output_type": "stream",
     "text": [
      "Epoch 44 validation loss: 1.6560\n",
      "Saving new best model...\n",
      "Training epoch 45...\n",
      "Current LR: 0.01245\n"
     ]
    },
    {
     "data": {
      "application/vnd.jupyter.widget-view+json": {
       "model_id": "cc242460497d45a987fae703dd52573c",
       "version_major": 2,
       "version_minor": 0
      },
      "text/plain": [
       "  0%|          | 0/113 [00:00<?, ?it/s]"
      ]
     },
     "metadata": {},
     "output_type": "display_data"
    },
    {
     "name": "stdout",
     "output_type": "stream",
     "text": [
      "Epoch 45 train loss: 8.8782\n",
      "Validating epoch 45\n"
     ]
    },
    {
     "data": {
      "application/vnd.jupyter.widget-view+json": {
       "model_id": "7f7d806a1ba9496dba5a62f707e68dcc",
       "version_major": 2,
       "version_minor": 0
      },
      "text/plain": [
       "  0%|          | 0/46 [00:00<?, ?it/s]"
      ]
     },
     "metadata": {},
     "output_type": "display_data"
    },
    {
     "name": "stdout",
     "output_type": "stream",
     "text": [
      "Epoch 45 validation loss: 1.6782\n",
      "Training epoch 46...\n",
      "Current LR: 0.01245\n"
     ]
    },
    {
     "data": {
      "application/vnd.jupyter.widget-view+json": {
       "model_id": "daabc6b5ef31475ca406c2b3c1704e3b",
       "version_major": 2,
       "version_minor": 0
      },
      "text/plain": [
       "  0%|          | 0/113 [00:00<?, ?it/s]"
      ]
     },
     "metadata": {},
     "output_type": "display_data"
    },
    {
     "name": "stdout",
     "output_type": "stream",
     "text": [
      "Epoch 46 train loss: 8.7981\n",
      "Validating epoch 46\n"
     ]
    },
    {
     "data": {
      "application/vnd.jupyter.widget-view+json": {
       "model_id": "3374800559ab48f8ad3e44b4582001f3",
       "version_major": 2,
       "version_minor": 0
      },
      "text/plain": [
       "  0%|          | 0/46 [00:00<?, ?it/s]"
      ]
     },
     "metadata": {},
     "output_type": "display_data"
    },
    {
     "name": "stdout",
     "output_type": "stream",
     "text": [
      "Epoch 46 validation loss: 1.6780\n",
      "Training epoch 47...\n",
      "Current LR: 0.01245\n"
     ]
    },
    {
     "data": {
      "application/vnd.jupyter.widget-view+json": {
       "model_id": "c9b6e12ae39b43519c213a657f1cbd42",
       "version_major": 2,
       "version_minor": 0
      },
      "text/plain": [
       "  0%|          | 0/113 [00:00<?, ?it/s]"
      ]
     },
     "metadata": {},
     "output_type": "display_data"
    },
    {
     "name": "stdout",
     "output_type": "stream",
     "text": [
      "Epoch 47 train loss: 8.6584\n",
      "Validating epoch 47\n"
     ]
    },
    {
     "data": {
      "application/vnd.jupyter.widget-view+json": {
       "model_id": "5ee8635e22fa428689110f2435d13d71",
       "version_major": 2,
       "version_minor": 0
      },
      "text/plain": [
       "  0%|          | 0/46 [00:00<?, ?it/s]"
      ]
     },
     "metadata": {},
     "output_type": "display_data"
    },
    {
     "name": "stdout",
     "output_type": "stream",
     "text": [
      "Epoch 47 validation loss: 1.6691\n",
      "Training epoch 48...\n",
      "Current LR: 0.01245\n"
     ]
    },
    {
     "data": {
      "application/vnd.jupyter.widget-view+json": {
       "model_id": "019764aec4d04c1a877662bff570c63f",
       "version_major": 2,
       "version_minor": 0
      },
      "text/plain": [
       "  0%|          | 0/113 [00:00<?, ?it/s]"
      ]
     },
     "metadata": {},
     "output_type": "display_data"
    },
    {
     "name": "stdout",
     "output_type": "stream",
     "text": [
      "Epoch 48 train loss: 8.5298\n",
      "Validating epoch 48\n"
     ]
    },
    {
     "data": {
      "application/vnd.jupyter.widget-view+json": {
       "model_id": "b4329efae0874b90a6790a36b56aecb5",
       "version_major": 2,
       "version_minor": 0
      },
      "text/plain": [
       "  0%|          | 0/46 [00:00<?, ?it/s]"
      ]
     },
     "metadata": {},
     "output_type": "display_data"
    },
    {
     "name": "stdout",
     "output_type": "stream",
     "text": [
      "Epoch 48 validation loss: 1.6932\n",
      "Training epoch 49...\n",
      "Current LR: 0.01245\n"
     ]
    },
    {
     "data": {
      "application/vnd.jupyter.widget-view+json": {
       "model_id": "cd0672cca38b44ce86f3a4591876549c",
       "version_major": 2,
       "version_minor": 0
      },
      "text/plain": [
       "  0%|          | 0/113 [00:00<?, ?it/s]"
      ]
     },
     "metadata": {},
     "output_type": "display_data"
    },
    {
     "name": "stdout",
     "output_type": "stream",
     "text": [
      "Epoch 49 train loss: 8.4023\n",
      "Validating epoch 49\n"
     ]
    },
    {
     "data": {
      "application/vnd.jupyter.widget-view+json": {
       "model_id": "399dc50bddfc4ca6a779d2229f84b79c",
       "version_major": 2,
       "version_minor": 0
      },
      "text/plain": [
       "  0%|          | 0/46 [00:00<?, ?it/s]"
      ]
     },
     "metadata": {},
     "output_type": "display_data"
    },
    {
     "name": "stdout",
     "output_type": "stream",
     "text": [
      "Epoch 49 validation loss: 1.6895\n",
      "Training epoch 50...\n",
      "Current LR: 0.01245\n"
     ]
    },
    {
     "data": {
      "application/vnd.jupyter.widget-view+json": {
       "model_id": "3cb61b2868b54b3ebc5fab016b3bc251",
       "version_major": 2,
       "version_minor": 0
      },
      "text/plain": [
       "  0%|          | 0/113 [00:00<?, ?it/s]"
      ]
     },
     "metadata": {},
     "output_type": "display_data"
    },
    {
     "name": "stdout",
     "output_type": "stream",
     "text": [
      "Epoch 50 train loss: 8.2748\n",
      "Validating epoch 50\n"
     ]
    },
    {
     "data": {
      "application/vnd.jupyter.widget-view+json": {
       "model_id": "fae0229e76c0438f87f351a346abd7e6",
       "version_major": 2,
       "version_minor": 0
      },
      "text/plain": [
       "  0%|          | 0/46 [00:00<?, ?it/s]"
      ]
     },
     "metadata": {},
     "output_type": "display_data"
    },
    {
     "name": "stdout",
     "output_type": "stream",
     "text": [
      "Epoch 50 validation loss: 1.6750\n",
      "Training epoch 51...\n",
      "Current LR: 0.01245\n"
     ]
    },
    {
     "data": {
      "application/vnd.jupyter.widget-view+json": {
       "model_id": "48ce1a2a488048d2822ee66bebe1fa25",
       "version_major": 2,
       "version_minor": 0
      },
      "text/plain": [
       "  0%|          | 0/113 [00:00<?, ?it/s]"
      ]
     },
     "metadata": {},
     "output_type": "display_data"
    },
    {
     "name": "stdout",
     "output_type": "stream",
     "text": [
      "Epoch 51 train loss: 8.1499\n",
      "Validating epoch 51\n"
     ]
    },
    {
     "data": {
      "application/vnd.jupyter.widget-view+json": {
       "model_id": "cd352dfa9976426bbbd8eb1fb8dd1888",
       "version_major": 2,
       "version_minor": 0
      },
      "text/plain": [
       "  0%|          | 0/46 [00:00<?, ?it/s]"
      ]
     },
     "metadata": {},
     "output_type": "display_data"
    },
    {
     "name": "stdout",
     "output_type": "stream",
     "text": [
      "Epoch 51 validation loss: 1.6622\n",
      "Training epoch 52...\n",
      "Current LR: 0.01245\n"
     ]
    },
    {
     "data": {
      "application/vnd.jupyter.widget-view+json": {
       "model_id": "c49eb975bc734228afc1f10cf33005cf",
       "version_major": 2,
       "version_minor": 0
      },
      "text/plain": [
       "  0%|          | 0/113 [00:00<?, ?it/s]"
      ]
     },
     "metadata": {},
     "output_type": "display_data"
    },
    {
     "name": "stdout",
     "output_type": "stream",
     "text": [
      "Epoch 52 train loss: 8.0151\n",
      "Validating epoch 52\n"
     ]
    },
    {
     "data": {
      "application/vnd.jupyter.widget-view+json": {
       "model_id": "283abe6ed1a843618ef7eadfd925eb53",
       "version_major": 2,
       "version_minor": 0
      },
      "text/plain": [
       "  0%|          | 0/46 [00:00<?, ?it/s]"
      ]
     },
     "metadata": {},
     "output_type": "display_data"
    },
    {
     "name": "stdout",
     "output_type": "stream",
     "text": [
      "Epoch 52 validation loss: 1.6580\n",
      "Training epoch 53...\n",
      "Current LR: 0.01245\n"
     ]
    },
    {
     "data": {
      "application/vnd.jupyter.widget-view+json": {
       "model_id": "11e03e85608c49dab80fb3e40500ec2f",
       "version_major": 2,
       "version_minor": 0
      },
      "text/plain": [
       "  0%|          | 0/113 [00:00<?, ?it/s]"
      ]
     },
     "metadata": {},
     "output_type": "display_data"
    },
    {
     "name": "stdout",
     "output_type": "stream",
     "text": [
      "Epoch 53 train loss: 7.8635\n",
      "Validating epoch 53\n"
     ]
    },
    {
     "data": {
      "application/vnd.jupyter.widget-view+json": {
       "model_id": "25058f20844d418d93a05de641f4efec",
       "version_major": 2,
       "version_minor": 0
      },
      "text/plain": [
       "  0%|          | 0/46 [00:00<?, ?it/s]"
      ]
     },
     "metadata": {},
     "output_type": "display_data"
    },
    {
     "name": "stdout",
     "output_type": "stream",
     "text": [
      "Epoch 53 validation loss: 1.6628\n",
      "Training epoch 54...\n",
      "Current LR: 0.01245\n"
     ]
    },
    {
     "data": {
      "application/vnd.jupyter.widget-view+json": {
       "model_id": "f2cb01bd7e2345a997534f81fce3b0c9",
       "version_major": 2,
       "version_minor": 0
      },
      "text/plain": [
       "  0%|          | 0/113 [00:00<?, ?it/s]"
      ]
     },
     "metadata": {},
     "output_type": "display_data"
    },
    {
     "name": "stdout",
     "output_type": "stream",
     "text": [
      "Epoch 54 train loss: 7.7316\n",
      "Validating epoch 54\n"
     ]
    },
    {
     "data": {
      "application/vnd.jupyter.widget-view+json": {
       "model_id": "03520ed6a8fe44aab3c54f14b53cb224",
       "version_major": 2,
       "version_minor": 0
      },
      "text/plain": [
       "  0%|          | 0/46 [00:00<?, ?it/s]"
      ]
     },
     "metadata": {},
     "output_type": "display_data"
    },
    {
     "name": "stdout",
     "output_type": "stream",
     "text": [
      "Epoch 54 validation loss: 1.6628\n",
      "Training epoch 55...\n",
      "Current LR: 0.01245\n"
     ]
    },
    {
     "data": {
      "application/vnd.jupyter.widget-view+json": {
       "model_id": "62b0eda6892f440a97a9f19e4b83245a",
       "version_major": 2,
       "version_minor": 0
      },
      "text/plain": [
       "  0%|          | 0/113 [00:00<?, ?it/s]"
      ]
     },
     "metadata": {},
     "output_type": "display_data"
    },
    {
     "name": "stdout",
     "output_type": "stream",
     "text": [
      "Epoch 55 train loss: 7.6020\n",
      "Validating epoch 55\n"
     ]
    },
    {
     "data": {
      "application/vnd.jupyter.widget-view+json": {
       "model_id": "d8b939f35d8848e3a632fbb37b006850",
       "version_major": 2,
       "version_minor": 0
      },
      "text/plain": [
       "  0%|          | 0/46 [00:00<?, ?it/s]"
      ]
     },
     "metadata": {},
     "output_type": "display_data"
    },
    {
     "name": "stdout",
     "output_type": "stream",
     "text": [
      "Epoch 55 validation loss: 1.6685\n",
      "Training epoch 56...\n",
      "Current LR: 0.01245\n"
     ]
    },
    {
     "data": {
      "application/vnd.jupyter.widget-view+json": {
       "model_id": "cfab8370b4264375afa9f0338a4eb75f",
       "version_major": 2,
       "version_minor": 0
      },
      "text/plain": [
       "  0%|          | 0/113 [00:00<?, ?it/s]"
      ]
     },
     "metadata": {},
     "output_type": "display_data"
    },
    {
     "name": "stdout",
     "output_type": "stream",
     "text": [
      "Epoch 56 train loss: 7.4653\n",
      "Validating epoch 56\n"
     ]
    },
    {
     "data": {
      "application/vnd.jupyter.widget-view+json": {
       "model_id": "7d678ff6e7e648ceb5687afc7f4aed8e",
       "version_major": 2,
       "version_minor": 0
      },
      "text/plain": [
       "  0%|          | 0/46 [00:00<?, ?it/s]"
      ]
     },
     "metadata": {},
     "output_type": "display_data"
    },
    {
     "name": "stdout",
     "output_type": "stream",
     "text": [
      "Epoch 56 validation loss: 259.6118\n",
      "Training epoch 57...\n",
      "Current LR: 0.01245\n"
     ]
    },
    {
     "data": {
      "application/vnd.jupyter.widget-view+json": {
       "model_id": "a50b020b6f944890a0f527e1349c3de2",
       "version_major": 2,
       "version_minor": 0
      },
      "text/plain": [
       "  0%|          | 0/113 [00:00<?, ?it/s]"
      ]
     },
     "metadata": {},
     "output_type": "display_data"
    },
    {
     "name": "stdout",
     "output_type": "stream",
     "text": [
      "Epoch 57 train loss: 7.5478\n",
      "Validating epoch 57\n"
     ]
    },
    {
     "data": {
      "application/vnd.jupyter.widget-view+json": {
       "model_id": "4ee19ef2b314492f9f37e8fc1f19dba4",
       "version_major": 2,
       "version_minor": 0
      },
      "text/plain": [
       "  0%|          | 0/46 [00:00<?, ?it/s]"
      ]
     },
     "metadata": {},
     "output_type": "display_data"
    },
    {
     "name": "stdout",
     "output_type": "stream",
     "text": [
      "Epoch 57 validation loss: 1.6797\n",
      "Training epoch 58...\n",
      "Current LR: 0.01245\n"
     ]
    },
    {
     "data": {
      "application/vnd.jupyter.widget-view+json": {
       "model_id": "98b410d92ce14704aef0d9d2a54a496e",
       "version_major": 2,
       "version_minor": 0
      },
      "text/plain": [
       "  0%|          | 0/113 [00:00<?, ?it/s]"
      ]
     },
     "metadata": {},
     "output_type": "display_data"
    },
    {
     "name": "stdout",
     "output_type": "stream",
     "text": [
      "Epoch 58 train loss: 7.2681\n",
      "Validating epoch 58\n"
     ]
    },
    {
     "data": {
      "application/vnd.jupyter.widget-view+json": {
       "model_id": "33dc8580b5a3448b8caf15f71a044b52",
       "version_major": 2,
       "version_minor": 0
      },
      "text/plain": [
       "  0%|          | 0/46 [00:00<?, ?it/s]"
      ]
     },
     "metadata": {},
     "output_type": "display_data"
    },
    {
     "name": "stdout",
     "output_type": "stream",
     "text": [
      "Epoch 58 validation loss: 1.6652\n",
      "Training epoch 59...\n",
      "Current LR: 0.01245\n"
     ]
    },
    {
     "data": {
      "application/vnd.jupyter.widget-view+json": {
       "model_id": "1babad1db67a48dabcd68c166b298ca9",
       "version_major": 2,
       "version_minor": 0
      },
      "text/plain": [
       "  0%|          | 0/113 [00:00<?, ?it/s]"
      ]
     },
     "metadata": {},
     "output_type": "display_data"
    },
    {
     "name": "stdout",
     "output_type": "stream",
     "text": [
      "Epoch 59 train loss: 7.0405\n",
      "Validating epoch 59\n"
     ]
    },
    {
     "data": {
      "application/vnd.jupyter.widget-view+json": {
       "model_id": "364121528852461a9f6f50b44a8bd737",
       "version_major": 2,
       "version_minor": 0
      },
      "text/plain": [
       "  0%|          | 0/46 [00:00<?, ?it/s]"
      ]
     },
     "metadata": {},
     "output_type": "display_data"
    },
    {
     "name": "stdout",
     "output_type": "stream",
     "text": [
      "Epoch 59 validation loss: 1.6629\n",
      "Training epoch 60...\n",
      "Current LR: 0.01245\n"
     ]
    },
    {
     "data": {
      "application/vnd.jupyter.widget-view+json": {
       "model_id": "ff6d6ae4ece74c928cbe4ec69c795e63",
       "version_major": 2,
       "version_minor": 0
      },
      "text/plain": [
       "  0%|          | 0/113 [00:00<?, ?it/s]"
      ]
     },
     "metadata": {},
     "output_type": "display_data"
    },
    {
     "name": "stdout",
     "output_type": "stream",
     "text": [
      "Epoch 60 train loss: 7.2030\n",
      "Validating epoch 60\n"
     ]
    },
    {
     "data": {
      "application/vnd.jupyter.widget-view+json": {
       "model_id": "28111e3eced54ca1b5509206222a87e8",
       "version_major": 2,
       "version_minor": 0
      },
      "text/plain": [
       "  0%|          | 0/46 [00:00<?, ?it/s]"
      ]
     },
     "metadata": {},
     "output_type": "display_data"
    },
    {
     "name": "stdout",
     "output_type": "stream",
     "text": [
      "Epoch 60 validation loss: 1.6802\n",
      "Training epoch 61...\n",
      "Current LR: 0.01245\n"
     ]
    },
    {
     "data": {
      "application/vnd.jupyter.widget-view+json": {
       "model_id": "be8dec2b59864c869238bdf3722a992c",
       "version_major": 2,
       "version_minor": 0
      },
      "text/plain": [
       "  0%|          | 0/113 [00:00<?, ?it/s]"
      ]
     },
     "metadata": {},
     "output_type": "display_data"
    },
    {
     "name": "stdout",
     "output_type": "stream",
     "text": [
      "Epoch 61 train loss: 6.7664\n",
      "Validating epoch 61\n"
     ]
    },
    {
     "data": {
      "application/vnd.jupyter.widget-view+json": {
       "model_id": "0a3af179001541edaa4efe479d44d559",
       "version_major": 2,
       "version_minor": 0
      },
      "text/plain": [
       "  0%|          | 0/46 [00:00<?, ?it/s]"
      ]
     },
     "metadata": {},
     "output_type": "display_data"
    },
    {
     "name": "stdout",
     "output_type": "stream",
     "text": [
      "Epoch 61 validation loss: 1.6737\n",
      "Training epoch 62...\n",
      "Current LR: 0.01245\n"
     ]
    },
    {
     "data": {
      "application/vnd.jupyter.widget-view+json": {
       "model_id": "91e0b7d5ed1a4a5abfe1a06e8be4b5c6",
       "version_major": 2,
       "version_minor": 0
      },
      "text/plain": [
       "  0%|          | 0/113 [00:00<?, ?it/s]"
      ]
     },
     "metadata": {},
     "output_type": "display_data"
    },
    {
     "name": "stdout",
     "output_type": "stream",
     "text": [
      "Epoch 62 train loss: 6.6115\n",
      "Validating epoch 62\n"
     ]
    },
    {
     "data": {
      "application/vnd.jupyter.widget-view+json": {
       "model_id": "b2b02de1e364411e81258292ff56c188",
       "version_major": 2,
       "version_minor": 0
      },
      "text/plain": [
       "  0%|          | 0/46 [00:00<?, ?it/s]"
      ]
     },
     "metadata": {},
     "output_type": "display_data"
    },
    {
     "name": "stdout",
     "output_type": "stream",
     "text": [
      "Epoch 62 validation loss: 1.6718\n",
      "Training epoch 63...\n",
      "Current LR: 0.01245\n"
     ]
    },
    {
     "data": {
      "application/vnd.jupyter.widget-view+json": {
       "model_id": "e25227ab2cc74a94a14999ad0d115d6a",
       "version_major": 2,
       "version_minor": 0
      },
      "text/plain": [
       "  0%|          | 0/113 [00:00<?, ?it/s]"
      ]
     },
     "metadata": {},
     "output_type": "display_data"
    },
    {
     "name": "stdout",
     "output_type": "stream",
     "text": [
      "Epoch 63 train loss: 6.4932\n",
      "Validating epoch 63\n"
     ]
    },
    {
     "data": {
      "application/vnd.jupyter.widget-view+json": {
       "model_id": "056e6faa6ea3473fa9252e82bd5c3d81",
       "version_major": 2,
       "version_minor": 0
      },
      "text/plain": [
       "  0%|          | 0/46 [00:00<?, ?it/s]"
      ]
     },
     "metadata": {},
     "output_type": "display_data"
    },
    {
     "name": "stdout",
     "output_type": "stream",
     "text": [
      "Epoch 63 validation loss: 728.4777\n",
      "Training epoch 64...\n",
      "Current LR: 0.01245\n"
     ]
    },
    {
     "data": {
      "application/vnd.jupyter.widget-view+json": {
       "model_id": "c0aae2fef1264e658df6c12d3f9267e9",
       "version_major": 2,
       "version_minor": 0
      },
      "text/plain": [
       "  0%|          | 0/113 [00:00<?, ?it/s]"
      ]
     },
     "metadata": {},
     "output_type": "display_data"
    },
    {
     "name": "stdout",
     "output_type": "stream",
     "text": [
      "Epoch 64 train loss: 6.6577\n",
      "Validating epoch 64\n"
     ]
    },
    {
     "data": {
      "application/vnd.jupyter.widget-view+json": {
       "model_id": "7f0a72d1f93e4eaebdc5bd27b69c50dc",
       "version_major": 2,
       "version_minor": 0
      },
      "text/plain": [
       "  0%|          | 0/46 [00:00<?, ?it/s]"
      ]
     },
     "metadata": {},
     "output_type": "display_data"
    },
    {
     "name": "stdout",
     "output_type": "stream",
     "text": [
      "Epoch 64 validation loss: 1.6578\n",
      "Training epoch 65...\n",
      "Current LR: 0.01245\n"
     ]
    },
    {
     "data": {
      "application/vnd.jupyter.widget-view+json": {
       "model_id": "41a10e2b213040e6bc69a4ad50cea0bc",
       "version_major": 2,
       "version_minor": 0
      },
      "text/plain": [
       "  0%|          | 0/113 [00:00<?, ?it/s]"
      ]
     },
     "metadata": {},
     "output_type": "display_data"
    },
    {
     "name": "stdout",
     "output_type": "stream",
     "text": [
      "Epoch 65 train loss: 6.7196\n",
      "Validating epoch 65\n"
     ]
    },
    {
     "data": {
      "application/vnd.jupyter.widget-view+json": {
       "model_id": "498871e9caac45fe91699266714c09b3",
       "version_major": 2,
       "version_minor": 0
      },
      "text/plain": [
       "  0%|          | 0/46 [00:00<?, ?it/s]"
      ]
     },
     "metadata": {},
     "output_type": "display_data"
    },
    {
     "name": "stdout",
     "output_type": "stream",
     "text": [
      "Epoch 65 validation loss: 1.6496\n",
      "Saving new best model...\n",
      "Training epoch 66...\n",
      "Current LR: 0.01245\n"
     ]
    },
    {
     "data": {
      "application/vnd.jupyter.widget-view+json": {
       "model_id": "c2b6ec74aa2a44a9b6ebbb8afba28c5f",
       "version_major": 2,
       "version_minor": 0
      },
      "text/plain": [
       "  0%|          | 0/113 [00:00<?, ?it/s]"
      ]
     },
     "metadata": {},
     "output_type": "display_data"
    },
    {
     "name": "stdout",
     "output_type": "stream",
     "text": [
      "Epoch 66 train loss: 6.2229\n",
      "Validating epoch 66\n"
     ]
    },
    {
     "data": {
      "application/vnd.jupyter.widget-view+json": {
       "model_id": "7accf1fac5f04300bcdd5dab8cd47395",
       "version_major": 2,
       "version_minor": 0
      },
      "text/plain": [
       "  0%|          | 0/46 [00:00<?, ?it/s]"
      ]
     },
     "metadata": {},
     "output_type": "display_data"
    },
    {
     "name": "stdout",
     "output_type": "stream",
     "text": [
      "Epoch 66 validation loss: 1.6608\n",
      "Training epoch 67...\n",
      "Current LR: 0.01245\n"
     ]
    },
    {
     "data": {
      "application/vnd.jupyter.widget-view+json": {
       "model_id": "4103dcfdf2bd4e88ad8a43cd7494e7f5",
       "version_major": 2,
       "version_minor": 0
      },
      "text/plain": [
       "  0%|          | 0/113 [00:00<?, ?it/s]"
      ]
     },
     "metadata": {},
     "output_type": "display_data"
    },
    {
     "name": "stdout",
     "output_type": "stream",
     "text": [
      "Epoch 67 train loss: 5.9679\n",
      "Validating epoch 67\n"
     ]
    },
    {
     "data": {
      "application/vnd.jupyter.widget-view+json": {
       "model_id": "b4e60161951d4b50a5c8c6d6c6295972",
       "version_major": 2,
       "version_minor": 0
      },
      "text/plain": [
       "  0%|          | 0/46 [00:00<?, ?it/s]"
      ]
     },
     "metadata": {},
     "output_type": "display_data"
    },
    {
     "name": "stdout",
     "output_type": "stream",
     "text": [
      "Epoch 67 validation loss: 1.6771\n",
      "Training epoch 68...\n",
      "Current LR: 0.01245\n"
     ]
    },
    {
     "data": {
      "application/vnd.jupyter.widget-view+json": {
       "model_id": "0c778cb1415347739db0fba904d3af7d",
       "version_major": 2,
       "version_minor": 0
      },
      "text/plain": [
       "  0%|          | 0/113 [00:00<?, ?it/s]"
      ]
     },
     "metadata": {},
     "output_type": "display_data"
    },
    {
     "name": "stdout",
     "output_type": "stream",
     "text": [
      "Epoch 68 train loss: 6.0494\n",
      "Validating epoch 68\n"
     ]
    },
    {
     "data": {
      "application/vnd.jupyter.widget-view+json": {
       "model_id": "789dc0b279e644429dbee9aa525f5bf3",
       "version_major": 2,
       "version_minor": 0
      },
      "text/plain": [
       "  0%|          | 0/46 [00:00<?, ?it/s]"
      ]
     },
     "metadata": {},
     "output_type": "display_data"
    },
    {
     "name": "stdout",
     "output_type": "stream",
     "text": [
      "Epoch 68 validation loss: 1.6543\n",
      "Training epoch 69...\n",
      "Current LR: 0.01245\n"
     ]
    },
    {
     "data": {
      "application/vnd.jupyter.widget-view+json": {
       "model_id": "2d8070645ab04a1882f9c169b2881e7c",
       "version_major": 2,
       "version_minor": 0
      },
      "text/plain": [
       "  0%|          | 0/113 [00:00<?, ?it/s]"
      ]
     },
     "metadata": {},
     "output_type": "display_data"
    },
    {
     "name": "stdout",
     "output_type": "stream",
     "text": [
      "Epoch 69 train loss: 5.6253\n",
      "Validating epoch 69\n"
     ]
    },
    {
     "data": {
      "application/vnd.jupyter.widget-view+json": {
       "model_id": "066f094f896b49a3a2266935bd6faaa9",
       "version_major": 2,
       "version_minor": 0
      },
      "text/plain": [
       "  0%|          | 0/46 [00:00<?, ?it/s]"
      ]
     },
     "metadata": {},
     "output_type": "display_data"
    },
    {
     "name": "stdout",
     "output_type": "stream",
     "text": [
      "Epoch 69 validation loss: 1.6501\n",
      "Training epoch 70...\n",
      "Current LR: 0.01245\n"
     ]
    },
    {
     "data": {
      "application/vnd.jupyter.widget-view+json": {
       "model_id": "1f33ae5054a74c5ab1b93aeb1cd46a90",
       "version_major": 2,
       "version_minor": 0
      },
      "text/plain": [
       "  0%|          | 0/113 [00:00<?, ?it/s]"
      ]
     },
     "metadata": {},
     "output_type": "display_data"
    },
    {
     "name": "stdout",
     "output_type": "stream",
     "text": [
      "Epoch 70 train loss: 5.5382\n",
      "Validating epoch 70\n"
     ]
    },
    {
     "data": {
      "application/vnd.jupyter.widget-view+json": {
       "model_id": "1368c2b8f8134e68bd3e14061a6bd59a",
       "version_major": 2,
       "version_minor": 0
      },
      "text/plain": [
       "  0%|          | 0/46 [00:00<?, ?it/s]"
      ]
     },
     "metadata": {},
     "output_type": "display_data"
    },
    {
     "name": "stdout",
     "output_type": "stream",
     "text": [
      "Epoch 70 validation loss: 176.2889\n",
      "Training epoch 71...\n",
      "Current LR: 0.01245\n"
     ]
    },
    {
     "data": {
      "application/vnd.jupyter.widget-view+json": {
       "model_id": "ee5ee8325c47417696fcf4b97ffa5c59",
       "version_major": 2,
       "version_minor": 0
      },
      "text/plain": [
       "  0%|          | 0/113 [00:00<?, ?it/s]"
      ]
     },
     "metadata": {},
     "output_type": "display_data"
    },
    {
     "name": "stdout",
     "output_type": "stream",
     "text": [
      "Epoch 71 train loss: 5.4810\n",
      "Validating epoch 71\n"
     ]
    },
    {
     "data": {
      "application/vnd.jupyter.widget-view+json": {
       "model_id": "c2e37aa719ce4ef9b0191f616ddd8c02",
       "version_major": 2,
       "version_minor": 0
      },
      "text/plain": [
       "  0%|          | 0/46 [00:00<?, ?it/s]"
      ]
     },
     "metadata": {},
     "output_type": "display_data"
    },
    {
     "name": "stdout",
     "output_type": "stream",
     "text": [
      "Epoch 71 validation loss: 1.7286\n",
      "Training epoch 72...\n",
      "Current LR: 0.01245\n"
     ]
    },
    {
     "data": {
      "application/vnd.jupyter.widget-view+json": {
       "model_id": "a2990f6ad30f4ee18c308826a888094e",
       "version_major": 2,
       "version_minor": 0
      },
      "text/plain": [
       "  0%|          | 0/113 [00:00<?, ?it/s]"
      ]
     },
     "metadata": {},
     "output_type": "display_data"
    },
    {
     "name": "stdout",
     "output_type": "stream",
     "text": [
      "Epoch 72 train loss: 5.2579\n",
      "Validating epoch 72\n"
     ]
    },
    {
     "data": {
      "application/vnd.jupyter.widget-view+json": {
       "model_id": "70bac018c4d24e2b8569b78634f5a16e",
       "version_major": 2,
       "version_minor": 0
      },
      "text/plain": [
       "  0%|          | 0/46 [00:00<?, ?it/s]"
      ]
     },
     "metadata": {},
     "output_type": "display_data"
    },
    {
     "name": "stdout",
     "output_type": "stream",
     "text": [
      "Epoch 72 validation loss: 1.6729\n",
      "Training epoch 73...\n",
      "Current LR: 0.01245\n"
     ]
    },
    {
     "data": {
      "application/vnd.jupyter.widget-view+json": {
       "model_id": "161a31853dd04f7284b4fa8d2a9c0103",
       "version_major": 2,
       "version_minor": 0
      },
      "text/plain": [
       "  0%|          | 0/113 [00:00<?, ?it/s]"
      ]
     },
     "metadata": {},
     "output_type": "display_data"
    },
    {
     "name": "stdout",
     "output_type": "stream",
     "text": [
      "Epoch 73 train loss: 5.7665\n",
      "Validating epoch 73\n"
     ]
    },
    {
     "data": {
      "application/vnd.jupyter.widget-view+json": {
       "model_id": "5a8c7b8f9e6142f5a9152988b13318c4",
       "version_major": 2,
       "version_minor": 0
      },
      "text/plain": [
       "  0%|          | 0/46 [00:00<?, ?it/s]"
      ]
     },
     "metadata": {},
     "output_type": "display_data"
    },
    {
     "name": "stdout",
     "output_type": "stream",
     "text": [
      "Epoch 73 validation loss: 1.6555\n",
      "Training epoch 74...\n",
      "Current LR: 0.01245\n"
     ]
    },
    {
     "data": {
      "application/vnd.jupyter.widget-view+json": {
       "model_id": "f5dd834d54e3490182d54cf597331772",
       "version_major": 2,
       "version_minor": 0
      },
      "text/plain": [
       "  0%|          | 0/113 [00:00<?, ?it/s]"
      ]
     },
     "metadata": {},
     "output_type": "display_data"
    },
    {
     "name": "stdout",
     "output_type": "stream",
     "text": [
      "Epoch 74 train loss: 5.0784\n",
      "Validating epoch 74\n"
     ]
    },
    {
     "data": {
      "application/vnd.jupyter.widget-view+json": {
       "model_id": "eb1618b5778742a881f20ec0afd4e528",
       "version_major": 2,
       "version_minor": 0
      },
      "text/plain": [
       "  0%|          | 0/46 [00:00<?, ?it/s]"
      ]
     },
     "metadata": {},
     "output_type": "display_data"
    },
    {
     "name": "stdout",
     "output_type": "stream",
     "text": [
      "Epoch 74 validation loss: 1.6568\n",
      "Training epoch 75...\n",
      "Current LR: 0.01245\n"
     ]
    },
    {
     "data": {
      "application/vnd.jupyter.widget-view+json": {
       "model_id": "8072d4ce006c40f8bad4763eba6dca6b",
       "version_major": 2,
       "version_minor": 0
      },
      "text/plain": [
       "  0%|          | 0/113 [00:00<?, ?it/s]"
      ]
     },
     "metadata": {},
     "output_type": "display_data"
    },
    {
     "name": "stdout",
     "output_type": "stream",
     "text": [
      "Epoch 75 train loss: 4.8797\n",
      "Validating epoch 75\n"
     ]
    },
    {
     "data": {
      "application/vnd.jupyter.widget-view+json": {
       "model_id": "ba8ca93cb8db42aeb1cd46333530d39e",
       "version_major": 2,
       "version_minor": 0
      },
      "text/plain": [
       "  0%|          | 0/46 [00:00<?, ?it/s]"
      ]
     },
     "metadata": {},
     "output_type": "display_data"
    },
    {
     "name": "stdout",
     "output_type": "stream",
     "text": [
      "Epoch 75 validation loss: 1.6721\n",
      "Training epoch 76...\n",
      "Current LR: 0.01245\n"
     ]
    },
    {
     "data": {
      "application/vnd.jupyter.widget-view+json": {
       "model_id": "f460b64e3f464119bcbb9fc6227be7d0",
       "version_major": 2,
       "version_minor": 0
      },
      "text/plain": [
       "  0%|          | 0/113 [00:00<?, ?it/s]"
      ]
     },
     "metadata": {},
     "output_type": "display_data"
    },
    {
     "name": "stdout",
     "output_type": "stream",
     "text": [
      "Epoch 76 train loss: 4.7495\n",
      "Validating epoch 76\n"
     ]
    },
    {
     "data": {
      "application/vnd.jupyter.widget-view+json": {
       "model_id": "53333edd0e15417880485e4a447552bd",
       "version_major": 2,
       "version_minor": 0
      },
      "text/plain": [
       "  0%|          | 0/46 [00:00<?, ?it/s]"
      ]
     },
     "metadata": {},
     "output_type": "display_data"
    },
    {
     "name": "stdout",
     "output_type": "stream",
     "text": [
      "Epoch 76 validation loss: 1.6835\n",
      "Training epoch 77...\n",
      "Current LR: 0.01245\n"
     ]
    },
    {
     "data": {
      "application/vnd.jupyter.widget-view+json": {
       "model_id": "9c797e17ca5a45d68964c7590176cad3",
       "version_major": 2,
       "version_minor": 0
      },
      "text/plain": [
       "  0%|          | 0/113 [00:00<?, ?it/s]"
      ]
     },
     "metadata": {},
     "output_type": "display_data"
    },
    {
     "name": "stdout",
     "output_type": "stream",
     "text": [
      "Epoch 77 train loss: 4.6693\n",
      "Validating epoch 77\n"
     ]
    },
    {
     "data": {
      "application/vnd.jupyter.widget-view+json": {
       "model_id": "177d8a4ef7c24f778e908a771eb5e6d6",
       "version_major": 2,
       "version_minor": 0
      },
      "text/plain": [
       "  0%|          | 0/46 [00:00<?, ?it/s]"
      ]
     },
     "metadata": {},
     "output_type": "display_data"
    },
    {
     "name": "stdout",
     "output_type": "stream",
     "text": [
      "Epoch 77 validation loss: 2.9633\n",
      "Training epoch 78...\n",
      "Current LR: 0.01245\n"
     ]
    },
    {
     "data": {
      "application/vnd.jupyter.widget-view+json": {
       "model_id": "69bedbe400944bd2b36be5b6a0fd4cc4",
       "version_major": 2,
       "version_minor": 0
      },
      "text/plain": [
       "  0%|          | 0/113 [00:00<?, ?it/s]"
      ]
     },
     "metadata": {},
     "output_type": "display_data"
    },
    {
     "name": "stdout",
     "output_type": "stream",
     "text": [
      "Epoch 78 train loss: 4.5460\n",
      "Validating epoch 78\n"
     ]
    },
    {
     "data": {
      "application/vnd.jupyter.widget-view+json": {
       "model_id": "a2d0217217ba44a38a93f39dd371a535",
       "version_major": 2,
       "version_minor": 0
      },
      "text/plain": [
       "  0%|          | 0/46 [00:00<?, ?it/s]"
      ]
     },
     "metadata": {},
     "output_type": "display_data"
    },
    {
     "name": "stdout",
     "output_type": "stream",
     "text": [
      "Epoch 78 validation loss: 1.6848\n",
      "Training epoch 79...\n",
      "Current LR: 0.01245\n"
     ]
    },
    {
     "data": {
      "application/vnd.jupyter.widget-view+json": {
       "model_id": "a8e0653cc7e54df098acc13ce779a888",
       "version_major": 2,
       "version_minor": 0
      },
      "text/plain": [
       "  0%|          | 0/113 [00:00<?, ?it/s]"
      ]
     },
     "metadata": {},
     "output_type": "display_data"
    },
    {
     "name": "stdout",
     "output_type": "stream",
     "text": [
      "Epoch 79 train loss: 4.5631\n",
      "Validating epoch 79\n"
     ]
    },
    {
     "data": {
      "application/vnd.jupyter.widget-view+json": {
       "model_id": "ac60df98c4b14145abe877fa0287b6e5",
       "version_major": 2,
       "version_minor": 0
      },
      "text/plain": [
       "  0%|          | 0/46 [00:00<?, ?it/s]"
      ]
     },
     "metadata": {},
     "output_type": "display_data"
    },
    {
     "name": "stdout",
     "output_type": "stream",
     "text": [
      "Epoch 79 validation loss: 1.6945\n",
      "Training epoch 80...\n",
      "Current LR: 0.01245\n"
     ]
    },
    {
     "data": {
      "application/vnd.jupyter.widget-view+json": {
       "model_id": "863a19c902af42a591dd7a90f2b62648",
       "version_major": 2,
       "version_minor": 0
      },
      "text/plain": [
       "  0%|          | 0/113 [00:00<?, ?it/s]"
      ]
     },
     "metadata": {},
     "output_type": "display_data"
    },
    {
     "name": "stdout",
     "output_type": "stream",
     "text": [
      "Epoch 80 train loss: 4.3775\n",
      "Validating epoch 80\n"
     ]
    },
    {
     "data": {
      "application/vnd.jupyter.widget-view+json": {
       "model_id": "63e0522262454277bb37517970c835ec",
       "version_major": 2,
       "version_minor": 0
      },
      "text/plain": [
       "  0%|          | 0/46 [00:00<?, ?it/s]"
      ]
     },
     "metadata": {},
     "output_type": "display_data"
    },
    {
     "name": "stdout",
     "output_type": "stream",
     "text": [
      "Epoch 80 validation loss: 1.6690\n",
      "Training epoch 81...\n",
      "Current LR: 0.01245\n"
     ]
    },
    {
     "data": {
      "application/vnd.jupyter.widget-view+json": {
       "model_id": "d495cb27ec89492a97ad7c8ffab87bd4",
       "version_major": 2,
       "version_minor": 0
      },
      "text/plain": [
       "  0%|          | 0/113 [00:00<?, ?it/s]"
      ]
     },
     "metadata": {},
     "output_type": "display_data"
    },
    {
     "name": "stdout",
     "output_type": "stream",
     "text": [
      "Epoch 81 train loss: 4.4864\n",
      "Validating epoch 81\n"
     ]
    },
    {
     "data": {
      "application/vnd.jupyter.widget-view+json": {
       "model_id": "0deaaf93c09a4e7c896a5c5ee6c9cb4a",
       "version_major": 2,
       "version_minor": 0
      },
      "text/plain": [
       "  0%|          | 0/46 [00:00<?, ?it/s]"
      ]
     },
     "metadata": {},
     "output_type": "display_data"
    },
    {
     "name": "stdout",
     "output_type": "stream",
     "text": [
      "Epoch 81 validation loss: 1.6733\n",
      "Training epoch 82...\n",
      "Current LR: 0.01245\n"
     ]
    },
    {
     "data": {
      "application/vnd.jupyter.widget-view+json": {
       "model_id": "ef83fcb316d14e8fabc08f2afc0d38f0",
       "version_major": 2,
       "version_minor": 0
      },
      "text/plain": [
       "  0%|          | 0/113 [00:00<?, ?it/s]"
      ]
     },
     "metadata": {},
     "output_type": "display_data"
    },
    {
     "name": "stdout",
     "output_type": "stream",
     "text": [
      "Epoch 82 train loss: 4.1904\n",
      "Validating epoch 82\n"
     ]
    },
    {
     "data": {
      "application/vnd.jupyter.widget-view+json": {
       "model_id": "3aaa38f8b87f496598d6491872aa97ee",
       "version_major": 2,
       "version_minor": 0
      },
      "text/plain": [
       "  0%|          | 0/46 [00:00<?, ?it/s]"
      ]
     },
     "metadata": {},
     "output_type": "display_data"
    },
    {
     "name": "stdout",
     "output_type": "stream",
     "text": [
      "Epoch 82 validation loss: 1.6555\n",
      "Training epoch 83...\n",
      "Current LR: 0.01245\n"
     ]
    },
    {
     "data": {
      "application/vnd.jupyter.widget-view+json": {
       "model_id": "d656011e7e7f41ba8bb36238da779bd9",
       "version_major": 2,
       "version_minor": 0
      },
      "text/plain": [
       "  0%|          | 0/113 [00:00<?, ?it/s]"
      ]
     },
     "metadata": {},
     "output_type": "display_data"
    },
    {
     "name": "stdout",
     "output_type": "stream",
     "text": [
      "Epoch 83 train loss: 4.2185\n",
      "Validating epoch 83\n"
     ]
    },
    {
     "data": {
      "application/vnd.jupyter.widget-view+json": {
       "model_id": "1473e6d16ff44ee585c913174bb94b0b",
       "version_major": 2,
       "version_minor": 0
      },
      "text/plain": [
       "  0%|          | 0/46 [00:00<?, ?it/s]"
      ]
     },
     "metadata": {},
     "output_type": "display_data"
    },
    {
     "name": "stdout",
     "output_type": "stream",
     "text": [
      "Epoch 83 validation loss: 1.6603\n",
      "Training epoch 84...\n",
      "Current LR: 0.01245\n"
     ]
    },
    {
     "data": {
      "application/vnd.jupyter.widget-view+json": {
       "model_id": "ce5941390e084789a23de5e35c1f89fc",
       "version_major": 2,
       "version_minor": 0
      },
      "text/plain": [
       "  0%|          | 0/113 [00:00<?, ?it/s]"
      ]
     },
     "metadata": {},
     "output_type": "display_data"
    },
    {
     "name": "stdout",
     "output_type": "stream",
     "text": [
      "Epoch 84 train loss: 4.0491\n",
      "Validating epoch 84\n"
     ]
    },
    {
     "data": {
      "application/vnd.jupyter.widget-view+json": {
       "model_id": "41ef616fdf2e46648c039aaf04601c3c",
       "version_major": 2,
       "version_minor": 0
      },
      "text/plain": [
       "  0%|          | 0/46 [00:00<?, ?it/s]"
      ]
     },
     "metadata": {},
     "output_type": "display_data"
    },
    {
     "name": "stdout",
     "output_type": "stream",
     "text": [
      "Epoch 84 validation loss: 33.5397\n",
      "Training epoch 85...\n",
      "Current LR: 0.01245\n"
     ]
    },
    {
     "data": {
      "application/vnd.jupyter.widget-view+json": {
       "model_id": "738784bde69d4635b90b91e448e12ea2",
       "version_major": 2,
       "version_minor": 0
      },
      "text/plain": [
       "  0%|          | 0/113 [00:00<?, ?it/s]"
      ]
     },
     "metadata": {},
     "output_type": "display_data"
    },
    {
     "name": "stdout",
     "output_type": "stream",
     "text": [
      "Epoch 85 train loss: 4.0808\n",
      "Validating epoch 85\n"
     ]
    },
    {
     "data": {
      "application/vnd.jupyter.widget-view+json": {
       "model_id": "8dfe858b08d145aca77b6d74a0ae7a5a",
       "version_major": 2,
       "version_minor": 0
      },
      "text/plain": [
       "  0%|          | 0/46 [00:00<?, ?it/s]"
      ]
     },
     "metadata": {},
     "output_type": "display_data"
    },
    {
     "name": "stdout",
     "output_type": "stream",
     "text": [
      "Epoch 85 validation loss: 1.6644\n",
      "Training epoch 86...\n",
      "Current LR: 0.01245\n"
     ]
    },
    {
     "data": {
      "application/vnd.jupyter.widget-view+json": {
       "model_id": "1649d2d4b21d43159bcf497e8c7f3ff9",
       "version_major": 2,
       "version_minor": 0
      },
      "text/plain": [
       "  0%|          | 0/113 [00:00<?, ?it/s]"
      ]
     },
     "metadata": {},
     "output_type": "display_data"
    },
    {
     "name": "stdout",
     "output_type": "stream",
     "text": [
      "Epoch 86 train loss: 4.2715\n",
      "Validating epoch 86\n"
     ]
    },
    {
     "data": {
      "application/vnd.jupyter.widget-view+json": {
       "model_id": "abc3e4c9e918448b84135c48cf4e66de",
       "version_major": 2,
       "version_minor": 0
      },
      "text/plain": [
       "  0%|          | 0/46 [00:00<?, ?it/s]"
      ]
     },
     "metadata": {},
     "output_type": "display_data"
    },
    {
     "name": "stdout",
     "output_type": "stream",
     "text": [
      "Epoch 86 validation loss: 1.6580\n",
      "Training epoch 87...\n",
      "Current LR: 0.01245\n"
     ]
    },
    {
     "data": {
      "application/vnd.jupyter.widget-view+json": {
       "model_id": "db37ac81f48042eca82a40800efff042",
       "version_major": 2,
       "version_minor": 0
      },
      "text/plain": [
       "  0%|          | 0/113 [00:00<?, ?it/s]"
      ]
     },
     "metadata": {},
     "output_type": "display_data"
    },
    {
     "name": "stdout",
     "output_type": "stream",
     "text": [
      "Epoch 87 train loss: 3.9018\n",
      "Validating epoch 87\n"
     ]
    },
    {
     "data": {
      "application/vnd.jupyter.widget-view+json": {
       "model_id": "4e0c92f3a01843948baddbdf5c06b7ad",
       "version_major": 2,
       "version_minor": 0
      },
      "text/plain": [
       "  0%|          | 0/46 [00:00<?, ?it/s]"
      ]
     },
     "metadata": {},
     "output_type": "display_data"
    },
    {
     "name": "stdout",
     "output_type": "stream",
     "text": [
      "Epoch 87 validation loss: 1.6520\n",
      "Training epoch 88...\n",
      "Current LR: 0.01245\n"
     ]
    },
    {
     "data": {
      "application/vnd.jupyter.widget-view+json": {
       "model_id": "4142cc74c9524ed4b26dd2bbd40efff1",
       "version_major": 2,
       "version_minor": 0
      },
      "text/plain": [
       "  0%|          | 0/113 [00:00<?, ?it/s]"
      ]
     },
     "metadata": {},
     "output_type": "display_data"
    },
    {
     "name": "stdout",
     "output_type": "stream",
     "text": [
      "Epoch 88 train loss: 3.9812\n",
      "Validating epoch 88\n"
     ]
    },
    {
     "data": {
      "application/vnd.jupyter.widget-view+json": {
       "model_id": "1444e0a772304805bb1c606238b90da6",
       "version_major": 2,
       "version_minor": 0
      },
      "text/plain": [
       "  0%|          | 0/46 [00:00<?, ?it/s]"
      ]
     },
     "metadata": {},
     "output_type": "display_data"
    },
    {
     "name": "stdout",
     "output_type": "stream",
     "text": [
      "Epoch 88 validation loss: 1.6935\n",
      "Training epoch 89...\n",
      "Current LR: 0.01245\n"
     ]
    },
    {
     "data": {
      "application/vnd.jupyter.widget-view+json": {
       "model_id": "aac19323aeab40c69bb855e634aab9e4",
       "version_major": 2,
       "version_minor": 0
      },
      "text/plain": [
       "  0%|          | 0/113 [00:00<?, ?it/s]"
      ]
     },
     "metadata": {},
     "output_type": "display_data"
    },
    {
     "name": "stdout",
     "output_type": "stream",
     "text": [
      "Epoch 89 train loss: 3.9125\n",
      "Validating epoch 89\n"
     ]
    },
    {
     "data": {
      "application/vnd.jupyter.widget-view+json": {
       "model_id": "350cd697e4e6484ca388485375c376f0",
       "version_major": 2,
       "version_minor": 0
      },
      "text/plain": [
       "  0%|          | 0/46 [00:00<?, ?it/s]"
      ]
     },
     "metadata": {},
     "output_type": "display_data"
    },
    {
     "name": "stdout",
     "output_type": "stream",
     "text": [
      "Epoch 89 validation loss: 10.1942\n",
      "Training epoch 90...\n",
      "Current LR: 0.01245\n"
     ]
    },
    {
     "data": {
      "application/vnd.jupyter.widget-view+json": {
       "model_id": "083d0f38397c4835ae5f25722ee76f74",
       "version_major": 2,
       "version_minor": 0
      },
      "text/plain": [
       "  0%|          | 0/113 [00:00<?, ?it/s]"
      ]
     },
     "metadata": {},
     "output_type": "display_data"
    },
    {
     "name": "stdout",
     "output_type": "stream",
     "text": [
      "Epoch 90 train loss: 3.8145\n",
      "Validating epoch 90\n"
     ]
    },
    {
     "data": {
      "application/vnd.jupyter.widget-view+json": {
       "model_id": "8222eaa317a3475398233232819044ac",
       "version_major": 2,
       "version_minor": 0
      },
      "text/plain": [
       "  0%|          | 0/46 [00:00<?, ?it/s]"
      ]
     },
     "metadata": {},
     "output_type": "display_data"
    },
    {
     "name": "stdout",
     "output_type": "stream",
     "text": [
      "Epoch 90 validation loss: 117.6637\n",
      "Training epoch 91...\n",
      "Current LR: 0.01245\n"
     ]
    },
    {
     "data": {
      "application/vnd.jupyter.widget-view+json": {
       "model_id": "9721aeff42134e2595267854880512f2",
       "version_major": 2,
       "version_minor": 0
      },
      "text/plain": [
       "  0%|          | 0/113 [00:00<?, ?it/s]"
      ]
     },
     "metadata": {},
     "output_type": "display_data"
    },
    {
     "name": "stdout",
     "output_type": "stream",
     "text": [
      "Epoch 91 train loss: 3.8736\n",
      "Validating epoch 91\n"
     ]
    },
    {
     "data": {
      "application/vnd.jupyter.widget-view+json": {
       "model_id": "3e156e4a0c7f4ac892804422d0aeac0c",
       "version_major": 2,
       "version_minor": 0
      },
      "text/plain": [
       "  0%|          | 0/46 [00:00<?, ?it/s]"
      ]
     },
     "metadata": {},
     "output_type": "display_data"
    },
    {
     "name": "stdout",
     "output_type": "stream",
     "text": [
      "Epoch 91 validation loss: 1.6542\n",
      "Training epoch 92...\n",
      "Current LR: 0.01245\n"
     ]
    },
    {
     "data": {
      "application/vnd.jupyter.widget-view+json": {
       "model_id": "165e05703b984f4ab535c888d77da4ee",
       "version_major": 2,
       "version_minor": 0
      },
      "text/plain": [
       "  0%|          | 0/113 [00:00<?, ?it/s]"
      ]
     },
     "metadata": {},
     "output_type": "display_data"
    },
    {
     "name": "stdout",
     "output_type": "stream",
     "text": [
      "Epoch 92 train loss: 5.8451\n",
      "Validating epoch 92\n"
     ]
    },
    {
     "data": {
      "application/vnd.jupyter.widget-view+json": {
       "model_id": "8282cbc5fc6b461f911a5ba6fa264f64",
       "version_major": 2,
       "version_minor": 0
      },
      "text/plain": [
       "  0%|          | 0/46 [00:00<?, ?it/s]"
      ]
     },
     "metadata": {},
     "output_type": "display_data"
    },
    {
     "name": "stdout",
     "output_type": "stream",
     "text": [
      "Epoch 92 validation loss: 1.6780\n",
      "Training epoch 93...\n",
      "Current LR: 0.01245\n"
     ]
    },
    {
     "data": {
      "application/vnd.jupyter.widget-view+json": {
       "model_id": "b2c56d8b9e4445ae89e5352e87a849a1",
       "version_major": 2,
       "version_minor": 0
      },
      "text/plain": [
       "  0%|          | 0/113 [00:00<?, ?it/s]"
      ]
     },
     "metadata": {},
     "output_type": "display_data"
    },
    {
     "name": "stdout",
     "output_type": "stream",
     "text": [
      "Epoch 93 train loss: 4.3227\n",
      "Validating epoch 93\n"
     ]
    },
    {
     "data": {
      "application/vnd.jupyter.widget-view+json": {
       "model_id": "0409c59d7dda4dcb8306b9de24cc1461",
       "version_major": 2,
       "version_minor": 0
      },
      "text/plain": [
       "  0%|          | 0/46 [00:00<?, ?it/s]"
      ]
     },
     "metadata": {},
     "output_type": "display_data"
    },
    {
     "name": "stdout",
     "output_type": "stream",
     "text": [
      "Epoch 93 validation loss: 1.6531\n",
      "Training epoch 94...\n",
      "Current LR: 0.01245\n"
     ]
    },
    {
     "data": {
      "application/vnd.jupyter.widget-view+json": {
       "model_id": "53c69a2b91b04d6c834a4975368b0e00",
       "version_major": 2,
       "version_minor": 0
      },
      "text/plain": [
       "  0%|          | 0/113 [00:00<?, ?it/s]"
      ]
     },
     "metadata": {},
     "output_type": "display_data"
    },
    {
     "name": "stdout",
     "output_type": "stream",
     "text": [
      "Epoch 94 train loss: 4.0365\n",
      "Validating epoch 94\n"
     ]
    },
    {
     "data": {
      "application/vnd.jupyter.widget-view+json": {
       "model_id": "7bae06be596640f3be7eb857c10b02a2",
       "version_major": 2,
       "version_minor": 0
      },
      "text/plain": [
       "  0%|          | 0/46 [00:00<?, ?it/s]"
      ]
     },
     "metadata": {},
     "output_type": "display_data"
    },
    {
     "name": "stdout",
     "output_type": "stream",
     "text": [
      "Epoch 94 validation loss: 1.6736\n",
      "Training epoch 95...\n",
      "Current LR: 0.01245\n"
     ]
    },
    {
     "data": {
      "application/vnd.jupyter.widget-view+json": {
       "model_id": "307676592e1440b0a7846dbd61a98f50",
       "version_major": 2,
       "version_minor": 0
      },
      "text/plain": [
       "  0%|          | 0/113 [00:00<?, ?it/s]"
      ]
     },
     "metadata": {},
     "output_type": "display_data"
    },
    {
     "name": "stdout",
     "output_type": "stream",
     "text": [
      "Epoch 95 train loss: 3.8971\n",
      "Validating epoch 95\n"
     ]
    },
    {
     "data": {
      "application/vnd.jupyter.widget-view+json": {
       "model_id": "9f50ffb31fa941238439774b73c916db",
       "version_major": 2,
       "version_minor": 0
      },
      "text/plain": [
       "  0%|          | 0/46 [00:00<?, ?it/s]"
      ]
     },
     "metadata": {},
     "output_type": "display_data"
    },
    {
     "name": "stdout",
     "output_type": "stream",
     "text": [
      "Epoch 95 validation loss: 1.6658\n",
      "Training epoch 96...\n",
      "Current LR: 0.01245\n"
     ]
    },
    {
     "data": {
      "application/vnd.jupyter.widget-view+json": {
       "model_id": "8b04f90ad48840bea7757fa9fa74189b",
       "version_major": 2,
       "version_minor": 0
      },
      "text/plain": [
       "  0%|          | 0/113 [00:00<?, ?it/s]"
      ]
     },
     "metadata": {},
     "output_type": "display_data"
    },
    {
     "name": "stdout",
     "output_type": "stream",
     "text": [
      "Epoch 96 train loss: 3.8194\n",
      "Validating epoch 96\n"
     ]
    },
    {
     "data": {
      "application/vnd.jupyter.widget-view+json": {
       "model_id": "5376fd1cf8eb4d91932d8477d6cd90ae",
       "version_major": 2,
       "version_minor": 0
      },
      "text/plain": [
       "  0%|          | 0/46 [00:00<?, ?it/s]"
      ]
     },
     "metadata": {},
     "output_type": "display_data"
    },
    {
     "name": "stdout",
     "output_type": "stream",
     "text": [
      "Epoch 96 validation loss: 1.6702\n",
      "Training epoch 97...\n",
      "Current LR: 0.01245\n"
     ]
    },
    {
     "data": {
      "application/vnd.jupyter.widget-view+json": {
       "model_id": "fdbdaf2fdf964d09b90d7d0228eefa36",
       "version_major": 2,
       "version_minor": 0
      },
      "text/plain": [
       "  0%|          | 0/113 [00:00<?, ?it/s]"
      ]
     },
     "metadata": {},
     "output_type": "display_data"
    },
    {
     "name": "stdout",
     "output_type": "stream",
     "text": [
      "Epoch 97 train loss: 3.7687\n",
      "Validating epoch 97\n"
     ]
    },
    {
     "data": {
      "application/vnd.jupyter.widget-view+json": {
       "model_id": "4eb1c71f73c94a6db2b31a7c0d5ab3d0",
       "version_major": 2,
       "version_minor": 0
      },
      "text/plain": [
       "  0%|          | 0/46 [00:00<?, ?it/s]"
      ]
     },
     "metadata": {},
     "output_type": "display_data"
    },
    {
     "name": "stdout",
     "output_type": "stream",
     "text": [
      "Epoch 97 validation loss: 1.6671\n",
      "Training epoch 98...\n",
      "Current LR: 0.01245\n"
     ]
    },
    {
     "data": {
      "application/vnd.jupyter.widget-view+json": {
       "model_id": "55f514990ab94c93aa877275995beee7",
       "version_major": 2,
       "version_minor": 0
      },
      "text/plain": [
       "  0%|          | 0/113 [00:00<?, ?it/s]"
      ]
     },
     "metadata": {},
     "output_type": "display_data"
    },
    {
     "name": "stdout",
     "output_type": "stream",
     "text": [
      "Epoch 98 train loss: 3.7334\n",
      "Validating epoch 98\n"
     ]
    },
    {
     "data": {
      "application/vnd.jupyter.widget-view+json": {
       "model_id": "2343d730b930415fa2b581dc4ac2fcc9",
       "version_major": 2,
       "version_minor": 0
      },
      "text/plain": [
       "  0%|          | 0/46 [00:00<?, ?it/s]"
      ]
     },
     "metadata": {},
     "output_type": "display_data"
    },
    {
     "name": "stdout",
     "output_type": "stream",
     "text": [
      "Epoch 98 validation loss: 1.6585\n",
      "Training epoch 99...\n",
      "Current LR: 0.01245\n"
     ]
    },
    {
     "data": {
      "application/vnd.jupyter.widget-view+json": {
       "model_id": "b1b35a78d982404b9f82a152409ce550",
       "version_major": 2,
       "version_minor": 0
      },
      "text/plain": [
       "  0%|          | 0/113 [00:00<?, ?it/s]"
      ]
     },
     "metadata": {},
     "output_type": "display_data"
    },
    {
     "name": "stdout",
     "output_type": "stream",
     "text": [
      "Epoch 99 train loss: 3.8419\n",
      "Validating epoch 99\n"
     ]
    },
    {
     "data": {
      "application/vnd.jupyter.widget-view+json": {
       "model_id": "162fc08177a7472384876abc0749b0bc",
       "version_major": 2,
       "version_minor": 0
      },
      "text/plain": [
       "  0%|          | 0/46 [00:00<?, ?it/s]"
      ]
     },
     "metadata": {},
     "output_type": "display_data"
    },
    {
     "name": "stdout",
     "output_type": "stream",
     "text": [
      "Epoch 99 validation loss: 1.6520\n",
      "Training epoch 100...\n",
      "Current LR: 0.01245\n"
     ]
    },
    {
     "data": {
      "application/vnd.jupyter.widget-view+json": {
       "model_id": "b40d06cdb5094b50a31b38ec88415bbf",
       "version_major": 2,
       "version_minor": 0
      },
      "text/plain": [
       "  0%|          | 0/113 [00:00<?, ?it/s]"
      ]
     },
     "metadata": {},
     "output_type": "display_data"
    },
    {
     "name": "stdout",
     "output_type": "stream",
     "text": [
      "Epoch 100 train loss: 3.6838\n",
      "Validating epoch 100\n"
     ]
    },
    {
     "data": {
      "application/vnd.jupyter.widget-view+json": {
       "model_id": "de0a7bae0b3c4d7786488ed6117b9511",
       "version_major": 2,
       "version_minor": 0
      },
      "text/plain": [
       "  0%|          | 0/46 [00:00<?, ?it/s]"
      ]
     },
     "metadata": {},
     "output_type": "display_data"
    },
    {
     "name": "stdout",
     "output_type": "stream",
     "text": [
      "Epoch 100 validation loss: 1.6678\n",
      "Training epoch 101...\n",
      "Current LR: 0.01245\n"
     ]
    },
    {
     "data": {
      "application/vnd.jupyter.widget-view+json": {
       "model_id": "ebbfdd34b38c45db98e9cb900edb2530",
       "version_major": 2,
       "version_minor": 0
      },
      "text/plain": [
       "  0%|          | 0/113 [00:00<?, ?it/s]"
      ]
     },
     "metadata": {},
     "output_type": "display_data"
    },
    {
     "name": "stdout",
     "output_type": "stream",
     "text": [
      "Epoch 101 train loss: 4.1154\n",
      "Validating epoch 101\n"
     ]
    },
    {
     "data": {
      "application/vnd.jupyter.widget-view+json": {
       "model_id": "17356ae6eb184f02b586c69be5c3461c",
       "version_major": 2,
       "version_minor": 0
      },
      "text/plain": [
       "  0%|          | 0/46 [00:00<?, ?it/s]"
      ]
     },
     "metadata": {},
     "output_type": "display_data"
    },
    {
     "name": "stdout",
     "output_type": "stream",
     "text": [
      "Epoch 101 validation loss: 1.6626\n",
      "Training epoch 102...\n",
      "Current LR: 0.01245\n"
     ]
    },
    {
     "data": {
      "application/vnd.jupyter.widget-view+json": {
       "model_id": "d29ccaf397f44ad5ac30a9dfd7c70456",
       "version_major": 2,
       "version_minor": 0
      },
      "text/plain": [
       "  0%|          | 0/113 [00:00<?, ?it/s]"
      ]
     },
     "metadata": {},
     "output_type": "display_data"
    },
    {
     "name": "stdout",
     "output_type": "stream",
     "text": [
      "Epoch 102 train loss: 3.6985\n",
      "Validating epoch 102\n"
     ]
    },
    {
     "data": {
      "application/vnd.jupyter.widget-view+json": {
       "model_id": "98278fb2ea2946d0b6c480d7bac010c9",
       "version_major": 2,
       "version_minor": 0
      },
      "text/plain": [
       "  0%|          | 0/46 [00:00<?, ?it/s]"
      ]
     },
     "metadata": {},
     "output_type": "display_data"
    },
    {
     "name": "stdout",
     "output_type": "stream",
     "text": [
      "Epoch 102 validation loss: 1.6489\n",
      "Saving new best model...\n",
      "Training epoch 103...\n",
      "Current LR: 0.01245\n"
     ]
    },
    {
     "data": {
      "application/vnd.jupyter.widget-view+json": {
       "model_id": "aab74b4119fe41378a14de86eb270289",
       "version_major": 2,
       "version_minor": 0
      },
      "text/plain": [
       "  0%|          | 0/113 [00:00<?, ?it/s]"
      ]
     },
     "metadata": {},
     "output_type": "display_data"
    },
    {
     "name": "stdout",
     "output_type": "stream",
     "text": [
      "Epoch 103 train loss: 3.6539\n",
      "Validating epoch 103\n"
     ]
    },
    {
     "data": {
      "application/vnd.jupyter.widget-view+json": {
       "model_id": "04f8b59d1e8b4b94909b24a9e14504a8",
       "version_major": 2,
       "version_minor": 0
      },
      "text/plain": [
       "  0%|          | 0/46 [00:00<?, ?it/s]"
      ]
     },
     "metadata": {},
     "output_type": "display_data"
    },
    {
     "name": "stdout",
     "output_type": "stream",
     "text": [
      "Epoch 103 validation loss: 1.6501\n",
      "Training epoch 104...\n",
      "Current LR: 0.01245\n"
     ]
    },
    {
     "data": {
      "application/vnd.jupyter.widget-view+json": {
       "model_id": "b6ac1142447a4dd2a27b972e17981a53",
       "version_major": 2,
       "version_minor": 0
      },
      "text/plain": [
       "  0%|          | 0/113 [00:00<?, ?it/s]"
      ]
     },
     "metadata": {},
     "output_type": "display_data"
    },
    {
     "name": "stdout",
     "output_type": "stream",
     "text": [
      "Epoch 104 train loss: 3.6394\n",
      "Validating epoch 104\n"
     ]
    },
    {
     "data": {
      "application/vnd.jupyter.widget-view+json": {
       "model_id": "600e0e6948d140549319a5c13301abd2",
       "version_major": 2,
       "version_minor": 0
      },
      "text/plain": [
       "  0%|          | 0/46 [00:00<?, ?it/s]"
      ]
     },
     "metadata": {},
     "output_type": "display_data"
    },
    {
     "name": "stdout",
     "output_type": "stream",
     "text": [
      "Epoch 104 validation loss: 1.6701\n",
      "Training epoch 105...\n",
      "Current LR: 0.01245\n"
     ]
    },
    {
     "data": {
      "application/vnd.jupyter.widget-view+json": {
       "model_id": "66bf2bf56d334c4d952e2061a6ee017a",
       "version_major": 2,
       "version_minor": 0
      },
      "text/plain": [
       "  0%|          | 0/113 [00:00<?, ?it/s]"
      ]
     },
     "metadata": {},
     "output_type": "display_data"
    },
    {
     "name": "stdout",
     "output_type": "stream",
     "text": [
      "Epoch 105 train loss: 3.8422\n",
      "Validating epoch 105\n"
     ]
    },
    {
     "data": {
      "application/vnd.jupyter.widget-view+json": {
       "model_id": "32ff7d462fea49f68b1d65de292ee55f",
       "version_major": 2,
       "version_minor": 0
      },
      "text/plain": [
       "  0%|          | 0/46 [00:00<?, ?it/s]"
      ]
     },
     "metadata": {},
     "output_type": "display_data"
    },
    {
     "name": "stdout",
     "output_type": "stream",
     "text": [
      "Epoch 105 validation loss: 1.6454\n",
      "Saving new best model...\n",
      "Training epoch 106...\n",
      "Current LR: 0.01245\n"
     ]
    },
    {
     "data": {
      "application/vnd.jupyter.widget-view+json": {
       "model_id": "335b229e517246919342d5e526a61f74",
       "version_major": 2,
       "version_minor": 0
      },
      "text/plain": [
       "  0%|          | 0/113 [00:00<?, ?it/s]"
      ]
     },
     "metadata": {},
     "output_type": "display_data"
    },
    {
     "name": "stdout",
     "output_type": "stream",
     "text": [
      "Epoch 106 train loss: 4.5346\n",
      "Validating epoch 106\n"
     ]
    },
    {
     "data": {
      "application/vnd.jupyter.widget-view+json": {
       "model_id": "33efb6f6f9444d6487cdde32059ac880",
       "version_major": 2,
       "version_minor": 0
      },
      "text/plain": [
       "  0%|          | 0/46 [00:00<?, ?it/s]"
      ]
     },
     "metadata": {},
     "output_type": "display_data"
    },
    {
     "name": "stdout",
     "output_type": "stream",
     "text": [
      "Epoch 106 validation loss: 1.6768\n",
      "Training epoch 107...\n",
      "Current LR: 0.01245\n"
     ]
    },
    {
     "data": {
      "application/vnd.jupyter.widget-view+json": {
       "model_id": "9456098b767147649a75103ec8c4b5b6",
       "version_major": 2,
       "version_minor": 0
      },
      "text/plain": [
       "  0%|          | 0/113 [00:00<?, ?it/s]"
      ]
     },
     "metadata": {},
     "output_type": "display_data"
    },
    {
     "name": "stdout",
     "output_type": "stream",
     "text": [
      "Epoch 107 train loss: 3.8876\n",
      "Validating epoch 107\n"
     ]
    },
    {
     "data": {
      "application/vnd.jupyter.widget-view+json": {
       "model_id": "b9683134b5ae4d0882844e577159ad6f",
       "version_major": 2,
       "version_minor": 0
      },
      "text/plain": [
       "  0%|          | 0/46 [00:00<?, ?it/s]"
      ]
     },
     "metadata": {},
     "output_type": "display_data"
    },
    {
     "name": "stdout",
     "output_type": "stream",
     "text": [
      "Epoch 107 validation loss: 1.6655\n",
      "Training epoch 108...\n",
      "Current LR: 0.01245\n"
     ]
    },
    {
     "data": {
      "application/vnd.jupyter.widget-view+json": {
       "model_id": "e9f226cfe5e14610a7bb6753f39b4ba8",
       "version_major": 2,
       "version_minor": 0
      },
      "text/plain": [
       "  0%|          | 0/113 [00:00<?, ?it/s]"
      ]
     },
     "metadata": {},
     "output_type": "display_data"
    },
    {
     "name": "stdout",
     "output_type": "stream",
     "text": [
      "Epoch 108 train loss: 3.8007\n",
      "Validating epoch 108\n"
     ]
    },
    {
     "data": {
      "application/vnd.jupyter.widget-view+json": {
       "model_id": "c72b8591a8224c46b5443df8fe7b1dc7",
       "version_major": 2,
       "version_minor": 0
      },
      "text/plain": [
       "  0%|          | 0/46 [00:00<?, ?it/s]"
      ]
     },
     "metadata": {},
     "output_type": "display_data"
    },
    {
     "name": "stdout",
     "output_type": "stream",
     "text": [
      "Epoch 108 validation loss: 1.6672\n",
      "Training epoch 109...\n",
      "Current LR: 0.01245\n"
     ]
    },
    {
     "data": {
      "application/vnd.jupyter.widget-view+json": {
       "model_id": "eaf4017710f4431c8fa0229be03f98f5",
       "version_major": 2,
       "version_minor": 0
      },
      "text/plain": [
       "  0%|          | 0/113 [00:00<?, ?it/s]"
      ]
     },
     "metadata": {},
     "output_type": "display_data"
    },
    {
     "name": "stdout",
     "output_type": "stream",
     "text": [
      "Epoch 109 train loss: 6.2939\n",
      "Validating epoch 109\n"
     ]
    },
    {
     "data": {
      "application/vnd.jupyter.widget-view+json": {
       "model_id": "6e7d8ff983a6479196d8fa267d3207b8",
       "version_major": 2,
       "version_minor": 0
      },
      "text/plain": [
       "  0%|          | 0/46 [00:00<?, ?it/s]"
      ]
     },
     "metadata": {},
     "output_type": "display_data"
    },
    {
     "name": "stdout",
     "output_type": "stream",
     "text": [
      "Epoch 109 validation loss: 1.6656\n",
      "Training epoch 110...\n",
      "Current LR: 0.01245\n"
     ]
    },
    {
     "data": {
      "application/vnd.jupyter.widget-view+json": {
       "model_id": "a0e5fce2600c421b9fbd7947df7f91ea",
       "version_major": 2,
       "version_minor": 0
      },
      "text/plain": [
       "  0%|          | 0/113 [00:00<?, ?it/s]"
      ]
     },
     "metadata": {},
     "output_type": "display_data"
    },
    {
     "name": "stdout",
     "output_type": "stream",
     "text": [
      "Epoch 110 train loss: 4.3540\n",
      "Validating epoch 110\n"
     ]
    },
    {
     "data": {
      "application/vnd.jupyter.widget-view+json": {
       "model_id": "0f1996726ec64c728c4cc499e97a2bbc",
       "version_major": 2,
       "version_minor": 0
      },
      "text/plain": [
       "  0%|          | 0/46 [00:00<?, ?it/s]"
      ]
     },
     "metadata": {},
     "output_type": "display_data"
    },
    {
     "name": "stdout",
     "output_type": "stream",
     "text": [
      "Epoch 110 validation loss: 1.6621\n",
      "Training epoch 111...\n",
      "Current LR: 0.01245\n"
     ]
    },
    {
     "data": {
      "application/vnd.jupyter.widget-view+json": {
       "model_id": "2f7bf73548854c3d80ce1a1cbabef211",
       "version_major": 2,
       "version_minor": 0
      },
      "text/plain": [
       "  0%|          | 0/113 [00:00<?, ?it/s]"
      ]
     },
     "metadata": {},
     "output_type": "display_data"
    },
    {
     "name": "stdout",
     "output_type": "stream",
     "text": [
      "Epoch 111 train loss: 4.0968\n",
      "Validating epoch 111\n"
     ]
    },
    {
     "data": {
      "application/vnd.jupyter.widget-view+json": {
       "model_id": "309151316f224c18924674078e55cc5f",
       "version_major": 2,
       "version_minor": 0
      },
      "text/plain": [
       "  0%|          | 0/46 [00:00<?, ?it/s]"
      ]
     },
     "metadata": {},
     "output_type": "display_data"
    },
    {
     "name": "stdout",
     "output_type": "stream",
     "text": [
      "Epoch 111 validation loss: 1.6975\n",
      "Training epoch 112...\n",
      "Current LR: 0.01245\n"
     ]
    },
    {
     "data": {
      "application/vnd.jupyter.widget-view+json": {
       "model_id": "6c97d3f548df440b90f517bf286d7e72",
       "version_major": 2,
       "version_minor": 0
      },
      "text/plain": [
       "  0%|          | 0/113 [00:00<?, ?it/s]"
      ]
     },
     "metadata": {},
     "output_type": "display_data"
    },
    {
     "name": "stdout",
     "output_type": "stream",
     "text": [
      "Epoch 112 train loss: 3.9448\n",
      "Validating epoch 112\n"
     ]
    },
    {
     "data": {
      "application/vnd.jupyter.widget-view+json": {
       "model_id": "b8152cc505ea44bfbef8d1d6e8eeb123",
       "version_major": 2,
       "version_minor": 0
      },
      "text/plain": [
       "  0%|          | 0/46 [00:00<?, ?it/s]"
      ]
     },
     "metadata": {},
     "output_type": "display_data"
    },
    {
     "name": "stdout",
     "output_type": "stream",
     "text": [
      "Epoch 112 validation loss: 1.6706\n",
      "Training epoch 113...\n",
      "Current LR: 0.01245\n"
     ]
    },
    {
     "data": {
      "application/vnd.jupyter.widget-view+json": {
       "model_id": "93a700537ca14b4e803f789ff95e5ab2",
       "version_major": 2,
       "version_minor": 0
      },
      "text/plain": [
       "  0%|          | 0/113 [00:00<?, ?it/s]"
      ]
     },
     "metadata": {},
     "output_type": "display_data"
    },
    {
     "name": "stdout",
     "output_type": "stream",
     "text": [
      "Epoch 113 train loss: 3.8508\n",
      "Validating epoch 113\n"
     ]
    },
    {
     "data": {
      "application/vnd.jupyter.widget-view+json": {
       "model_id": "ff7f0942f2dd49b481418fb03bcf376b",
       "version_major": 2,
       "version_minor": 0
      },
      "text/plain": [
       "  0%|          | 0/46 [00:00<?, ?it/s]"
      ]
     },
     "metadata": {},
     "output_type": "display_data"
    },
    {
     "name": "stdout",
     "output_type": "stream",
     "text": [
      "Epoch 113 validation loss: 1.6615\n",
      "Training epoch 114...\n",
      "Current LR: 0.01245\n"
     ]
    },
    {
     "data": {
      "application/vnd.jupyter.widget-view+json": {
       "model_id": "f4e2fe555a414227b2cd8f09412e3b5f",
       "version_major": 2,
       "version_minor": 0
      },
      "text/plain": [
       "  0%|          | 0/113 [00:00<?, ?it/s]"
      ]
     },
     "metadata": {},
     "output_type": "display_data"
    },
    {
     "name": "stdout",
     "output_type": "stream",
     "text": [
      "Epoch 114 train loss: 3.8007\n",
      "Validating epoch 114\n"
     ]
    },
    {
     "data": {
      "application/vnd.jupyter.widget-view+json": {
       "model_id": "8306b0a10a5044f4886b21ca15946503",
       "version_major": 2,
       "version_minor": 0
      },
      "text/plain": [
       "  0%|          | 0/46 [00:00<?, ?it/s]"
      ]
     },
     "metadata": {},
     "output_type": "display_data"
    },
    {
     "name": "stdout",
     "output_type": "stream",
     "text": [
      "Epoch 114 validation loss: 1.6596\n",
      "Training epoch 115...\n",
      "Current LR: 0.01245\n"
     ]
    },
    {
     "data": {
      "application/vnd.jupyter.widget-view+json": {
       "model_id": "b0940ca1a9f2458d951fb86f90d3811d",
       "version_major": 2,
       "version_minor": 0
      },
      "text/plain": [
       "  0%|          | 0/113 [00:00<?, ?it/s]"
      ]
     },
     "metadata": {},
     "output_type": "display_data"
    },
    {
     "name": "stdout",
     "output_type": "stream",
     "text": [
      "Epoch 115 train loss: 3.7464\n",
      "Validating epoch 115\n"
     ]
    },
    {
     "data": {
      "application/vnd.jupyter.widget-view+json": {
       "model_id": "2e3879fbef584749b41d442e06bb2054",
       "version_major": 2,
       "version_minor": 0
      },
      "text/plain": [
       "  0%|          | 0/46 [00:00<?, ?it/s]"
      ]
     },
     "metadata": {},
     "output_type": "display_data"
    },
    {
     "name": "stdout",
     "output_type": "stream",
     "text": [
      "Epoch 115 validation loss: 1.6628\n",
      "Training epoch 116...\n",
      "Current LR: 0.01245\n"
     ]
    },
    {
     "data": {
      "application/vnd.jupyter.widget-view+json": {
       "model_id": "87303813788f4f2090b3e36c754dc54f",
       "version_major": 2,
       "version_minor": 0
      },
      "text/plain": [
       "  0%|          | 0/113 [00:00<?, ?it/s]"
      ]
     },
     "metadata": {},
     "output_type": "display_data"
    },
    {
     "name": "stdout",
     "output_type": "stream",
     "text": [
      "Epoch 116 train loss: 3.7188\n",
      "Validating epoch 116\n"
     ]
    },
    {
     "data": {
      "application/vnd.jupyter.widget-view+json": {
       "model_id": "a0250145da414d83b3c4153fd32add9e",
       "version_major": 2,
       "version_minor": 0
      },
      "text/plain": [
       "  0%|          | 0/46 [00:00<?, ?it/s]"
      ]
     },
     "metadata": {},
     "output_type": "display_data"
    },
    {
     "name": "stdout",
     "output_type": "stream",
     "text": [
      "Epoch 116 validation loss: 1.6544\n",
      "Training epoch 117...\n",
      "Current LR: 0.01245\n"
     ]
    },
    {
     "data": {
      "application/vnd.jupyter.widget-view+json": {
       "model_id": "5802c45cff8e42d595e859d67d4529f9",
       "version_major": 2,
       "version_minor": 0
      },
      "text/plain": [
       "  0%|          | 0/113 [00:00<?, ?it/s]"
      ]
     },
     "metadata": {},
     "output_type": "display_data"
    },
    {
     "name": "stdout",
     "output_type": "stream",
     "text": [
      "Epoch 117 train loss: 3.7119\n",
      "Validating epoch 117\n"
     ]
    },
    {
     "data": {
      "application/vnd.jupyter.widget-view+json": {
       "model_id": "6f4822f4075d44dab6b8cd9302584a22",
       "version_major": 2,
       "version_minor": 0
      },
      "text/plain": [
       "  0%|          | 0/46 [00:00<?, ?it/s]"
      ]
     },
     "metadata": {},
     "output_type": "display_data"
    },
    {
     "name": "stdout",
     "output_type": "stream",
     "text": [
      "Epoch 117 validation loss: 1.6750\n",
      "Training epoch 118...\n",
      "Current LR: 0.01245\n"
     ]
    },
    {
     "data": {
      "application/vnd.jupyter.widget-view+json": {
       "model_id": "2c2d07e687bd423ab4ec2a1d5964eaf0",
       "version_major": 2,
       "version_minor": 0
      },
      "text/plain": [
       "  0%|          | 0/113 [00:00<?, ?it/s]"
      ]
     },
     "metadata": {},
     "output_type": "display_data"
    },
    {
     "name": "stdout",
     "output_type": "stream",
     "text": [
      "Epoch 118 train loss: 3.6902\n",
      "Validating epoch 118\n"
     ]
    },
    {
     "data": {
      "application/vnd.jupyter.widget-view+json": {
       "model_id": "2da2d41f243744efa3d23fa420fef578",
       "version_major": 2,
       "version_minor": 0
      },
      "text/plain": [
       "  0%|          | 0/46 [00:00<?, ?it/s]"
      ]
     },
     "metadata": {},
     "output_type": "display_data"
    },
    {
     "name": "stdout",
     "output_type": "stream",
     "text": [
      "Epoch 118 validation loss: 1.6626\n",
      "Training epoch 119...\n",
      "Current LR: 0.01245\n"
     ]
    },
    {
     "data": {
      "application/vnd.jupyter.widget-view+json": {
       "model_id": "a47d9e65ecbd4f6f845f61a001dcd5ca",
       "version_major": 2,
       "version_minor": 0
      },
      "text/plain": [
       "  0%|          | 0/113 [00:00<?, ?it/s]"
      ]
     },
     "metadata": {},
     "output_type": "display_data"
    },
    {
     "name": "stdout",
     "output_type": "stream",
     "text": [
      "Epoch 119 train loss: 3.7034\n",
      "Validating epoch 119\n"
     ]
    },
    {
     "data": {
      "application/vnd.jupyter.widget-view+json": {
       "model_id": "9012f4dfcc814f34967e716a521fc808",
       "version_major": 2,
       "version_minor": 0
      },
      "text/plain": [
       "  0%|          | 0/46 [00:00<?, ?it/s]"
      ]
     },
     "metadata": {},
     "output_type": "display_data"
    },
    {
     "name": "stdout",
     "output_type": "stream",
     "text": [
      "Epoch 119 validation loss: 1.6572\n",
      "Training epoch 120...\n",
      "Current LR: 0.01245\n"
     ]
    },
    {
     "data": {
      "application/vnd.jupyter.widget-view+json": {
       "model_id": "d0956238909e4568a5ae7af15d9d12e4",
       "version_major": 2,
       "version_minor": 0
      },
      "text/plain": [
       "  0%|          | 0/113 [00:00<?, ?it/s]"
      ]
     },
     "metadata": {},
     "output_type": "display_data"
    },
    {
     "name": "stdout",
     "output_type": "stream",
     "text": [
      "Epoch 120 train loss: 3.6789\n",
      "Validating epoch 120\n"
     ]
    },
    {
     "data": {
      "application/vnd.jupyter.widget-view+json": {
       "model_id": "a43e6553351b4b929788a409fb73fee5",
       "version_major": 2,
       "version_minor": 0
      },
      "text/plain": [
       "  0%|          | 0/46 [00:00<?, ?it/s]"
      ]
     },
     "metadata": {},
     "output_type": "display_data"
    },
    {
     "name": "stdout",
     "output_type": "stream",
     "text": [
      "Epoch 120 validation loss: 1.6508\n",
      "Training epoch 121...\n",
      "Current LR: 0.01245\n"
     ]
    },
    {
     "data": {
      "application/vnd.jupyter.widget-view+json": {
       "model_id": "fdce0b1d4f6f46e5a166e9db055ce663",
       "version_major": 2,
       "version_minor": 0
      },
      "text/plain": [
       "  0%|          | 0/113 [00:00<?, ?it/s]"
      ]
     },
     "metadata": {},
     "output_type": "display_data"
    },
    {
     "name": "stdout",
     "output_type": "stream",
     "text": [
      "Epoch 121 train loss: 3.6999\n",
      "Validating epoch 121\n"
     ]
    },
    {
     "data": {
      "application/vnd.jupyter.widget-view+json": {
       "model_id": "a2066f3f361e484a83b0eb27fe637312",
       "version_major": 2,
       "version_minor": 0
      },
      "text/plain": [
       "  0%|          | 0/46 [00:00<?, ?it/s]"
      ]
     },
     "metadata": {},
     "output_type": "display_data"
    },
    {
     "name": "stdout",
     "output_type": "stream",
     "text": [
      "Epoch 121 validation loss: 1.6598\n",
      "Training epoch 122...\n",
      "Current LR: 0.01245\n"
     ]
    },
    {
     "data": {
      "application/vnd.jupyter.widget-view+json": {
       "model_id": "c347e9b021c242a4a38b4776c4b6ab73",
       "version_major": 2,
       "version_minor": 0
      },
      "text/plain": [
       "  0%|          | 0/113 [00:00<?, ?it/s]"
      ]
     },
     "metadata": {},
     "output_type": "display_data"
    },
    {
     "name": "stdout",
     "output_type": "stream",
     "text": [
      "Epoch 122 train loss: 3.6759\n",
      "Validating epoch 122\n"
     ]
    },
    {
     "data": {
      "application/vnd.jupyter.widget-view+json": {
       "model_id": "ec3e6381f1ae49a6950cd2d8e5795ce3",
       "version_major": 2,
       "version_minor": 0
      },
      "text/plain": [
       "  0%|          | 0/46 [00:00<?, ?it/s]"
      ]
     },
     "metadata": {},
     "output_type": "display_data"
    },
    {
     "name": "stdout",
     "output_type": "stream",
     "text": [
      "Epoch 122 validation loss: 1.6700\n",
      "Training epoch 123...\n",
      "Current LR: 0.01245\n"
     ]
    },
    {
     "data": {
      "application/vnd.jupyter.widget-view+json": {
       "model_id": "9d5a0905fc634fbea757d48b332c4567",
       "version_major": 2,
       "version_minor": 0
      },
      "text/plain": [
       "  0%|          | 0/113 [00:00<?, ?it/s]"
      ]
     },
     "metadata": {},
     "output_type": "display_data"
    },
    {
     "name": "stdout",
     "output_type": "stream",
     "text": [
      "Epoch 123 train loss: 3.7046\n",
      "Validating epoch 123\n"
     ]
    },
    {
     "data": {
      "application/vnd.jupyter.widget-view+json": {
       "model_id": "014c95af53444716bfae895681370dae",
       "version_major": 2,
       "version_minor": 0
      },
      "text/plain": [
       "  0%|          | 0/46 [00:00<?, ?it/s]"
      ]
     },
     "metadata": {},
     "output_type": "display_data"
    },
    {
     "name": "stdout",
     "output_type": "stream",
     "text": [
      "Epoch 123 validation loss: 1.6564\n",
      "Training epoch 124...\n",
      "Current LR: 0.01245\n"
     ]
    },
    {
     "data": {
      "application/vnd.jupyter.widget-view+json": {
       "model_id": "1044a88f4a3e417e929fd85533a8b283",
       "version_major": 2,
       "version_minor": 0
      },
      "text/plain": [
       "  0%|          | 0/113 [00:00<?, ?it/s]"
      ]
     },
     "metadata": {},
     "output_type": "display_data"
    },
    {
     "name": "stdout",
     "output_type": "stream",
     "text": [
      "Epoch 124 train loss: 3.6579\n",
      "Validating epoch 124\n"
     ]
    },
    {
     "data": {
      "application/vnd.jupyter.widget-view+json": {
       "model_id": "9dc360efd2674bf2b7cf4e98ce3b771d",
       "version_major": 2,
       "version_minor": 0
      },
      "text/plain": [
       "  0%|          | 0/46 [00:00<?, ?it/s]"
      ]
     },
     "metadata": {},
     "output_type": "display_data"
    },
    {
     "name": "stdout",
     "output_type": "stream",
     "text": [
      "Epoch 124 validation loss: 1.6714\n",
      "Training epoch 125...\n",
      "Current LR: 0.01245\n"
     ]
    },
    {
     "data": {
      "application/vnd.jupyter.widget-view+json": {
       "model_id": "207c68a8f8b04d45a4129152af3712bb",
       "version_major": 2,
       "version_minor": 0
      },
      "text/plain": [
       "  0%|          | 0/113 [00:00<?, ?it/s]"
      ]
     },
     "metadata": {},
     "output_type": "display_data"
    },
    {
     "name": "stdout",
     "output_type": "stream",
     "text": [
      "Epoch 125 train loss: 3.6651\n",
      "Validating epoch 125\n"
     ]
    },
    {
     "data": {
      "application/vnd.jupyter.widget-view+json": {
       "model_id": "32a92bdbe3f745e0920d4afa1205e1b1",
       "version_major": 2,
       "version_minor": 0
      },
      "text/plain": [
       "  0%|          | 0/46 [00:00<?, ?it/s]"
      ]
     },
     "metadata": {},
     "output_type": "display_data"
    },
    {
     "name": "stdout",
     "output_type": "stream",
     "text": [
      "Epoch 125 validation loss: 1.6738\n",
      "Training epoch 126...\n",
      "Current LR: 0.01245\n"
     ]
    },
    {
     "data": {
      "application/vnd.jupyter.widget-view+json": {
       "model_id": "56173c22e4d44ce0ab24550aec9af86d",
       "version_major": 2,
       "version_minor": 0
      },
      "text/plain": [
       "  0%|          | 0/113 [00:00<?, ?it/s]"
      ]
     },
     "metadata": {},
     "output_type": "display_data"
    },
    {
     "name": "stdout",
     "output_type": "stream",
     "text": [
      "Epoch 126 train loss: 3.6641\n",
      "Validating epoch 126\n"
     ]
    },
    {
     "data": {
      "application/vnd.jupyter.widget-view+json": {
       "model_id": "96d33970c19e4731820555a4d0ef236a",
       "version_major": 2,
       "version_minor": 0
      },
      "text/plain": [
       "  0%|          | 0/46 [00:00<?, ?it/s]"
      ]
     },
     "metadata": {},
     "output_type": "display_data"
    },
    {
     "name": "stdout",
     "output_type": "stream",
     "text": [
      "Epoch 126 validation loss: 1.6704\n",
      "Training epoch 127...\n",
      "Current LR: 0.01245\n"
     ]
    },
    {
     "data": {
      "application/vnd.jupyter.widget-view+json": {
       "model_id": "363dbe92d8814ced96b2a26b59f1da09",
       "version_major": 2,
       "version_minor": 0
      },
      "text/plain": [
       "  0%|          | 0/113 [00:00<?, ?it/s]"
      ]
     },
     "metadata": {},
     "output_type": "display_data"
    },
    {
     "name": "stdout",
     "output_type": "stream",
     "text": [
      "Epoch 127 train loss: 3.6523\n",
      "Validating epoch 127\n"
     ]
    },
    {
     "data": {
      "application/vnd.jupyter.widget-view+json": {
       "model_id": "e88d44b66957462eab6f02a7b1e832f4",
       "version_major": 2,
       "version_minor": 0
      },
      "text/plain": [
       "  0%|          | 0/46 [00:00<?, ?it/s]"
      ]
     },
     "metadata": {},
     "output_type": "display_data"
    },
    {
     "name": "stdout",
     "output_type": "stream",
     "text": [
      "Epoch 127 validation loss: 1.6479\n",
      "Training epoch 128...\n",
      "Current LR: 0.01245\n"
     ]
    },
    {
     "data": {
      "application/vnd.jupyter.widget-view+json": {
       "model_id": "77ef208e08ad4bf1bf990a9c49b9e1f5",
       "version_major": 2,
       "version_minor": 0
      },
      "text/plain": [
       "  0%|          | 0/113 [00:00<?, ?it/s]"
      ]
     },
     "metadata": {},
     "output_type": "display_data"
    },
    {
     "name": "stdout",
     "output_type": "stream",
     "text": [
      "Epoch 128 train loss: 6.8166\n",
      "Validating epoch 128\n"
     ]
    },
    {
     "data": {
      "application/vnd.jupyter.widget-view+json": {
       "model_id": "52c3fab4a2324e11bfa076354d55075b",
       "version_major": 2,
       "version_minor": 0
      },
      "text/plain": [
       "  0%|          | 0/46 [00:00<?, ?it/s]"
      ]
     },
     "metadata": {},
     "output_type": "display_data"
    },
    {
     "name": "stdout",
     "output_type": "stream",
     "text": [
      "Epoch 128 validation loss: 1.6596\n",
      "Training epoch 129...\n",
      "Current LR: 0.01245\n"
     ]
    },
    {
     "data": {
      "application/vnd.jupyter.widget-view+json": {
       "model_id": "68b9a87da46a40989f8b85897a796b51",
       "version_major": 2,
       "version_minor": 0
      },
      "text/plain": [
       "  0%|          | 0/113 [00:00<?, ?it/s]"
      ]
     },
     "metadata": {},
     "output_type": "display_data"
    },
    {
     "name": "stdout",
     "output_type": "stream",
     "text": [
      "Epoch 129 train loss: 4.3697\n",
      "Validating epoch 129\n"
     ]
    },
    {
     "data": {
      "application/vnd.jupyter.widget-view+json": {
       "model_id": "716728d1a150452fac938a27e8f1ce16",
       "version_major": 2,
       "version_minor": 0
      },
      "text/plain": [
       "  0%|          | 0/46 [00:00<?, ?it/s]"
      ]
     },
     "metadata": {},
     "output_type": "display_data"
    },
    {
     "name": "stdout",
     "output_type": "stream",
     "text": [
      "Epoch 129 validation loss: 1.6760\n",
      "Training epoch 130...\n",
      "Current LR: 0.01245\n"
     ]
    },
    {
     "data": {
      "application/vnd.jupyter.widget-view+json": {
       "model_id": "90194b7651664e92839675eb9ba6c307",
       "version_major": 2,
       "version_minor": 0
      },
      "text/plain": [
       "  0%|          | 0/113 [00:00<?, ?it/s]"
      ]
     },
     "metadata": {},
     "output_type": "display_data"
    },
    {
     "name": "stdout",
     "output_type": "stream",
     "text": [
      "Epoch 130 train loss: 3.9750\n",
      "Validating epoch 130\n"
     ]
    },
    {
     "data": {
      "application/vnd.jupyter.widget-view+json": {
       "model_id": "0b4710abdfec437fb01d235a57184317",
       "version_major": 2,
       "version_minor": 0
      },
      "text/plain": [
       "  0%|          | 0/46 [00:00<?, ?it/s]"
      ]
     },
     "metadata": {},
     "output_type": "display_data"
    },
    {
     "name": "stdout",
     "output_type": "stream",
     "text": [
      "Epoch 130 validation loss: 1.6582\n",
      "Training epoch 131...\n",
      "Current LR: 0.01245\n"
     ]
    },
    {
     "data": {
      "application/vnd.jupyter.widget-view+json": {
       "model_id": "811b92d57ad74a159be1bffbf1033173",
       "version_major": 2,
       "version_minor": 0
      },
      "text/plain": [
       "  0%|          | 0/113 [00:00<?, ?it/s]"
      ]
     },
     "metadata": {},
     "output_type": "display_data"
    },
    {
     "name": "stdout",
     "output_type": "stream",
     "text": [
      "Epoch 131 train loss: 3.8383\n",
      "Validating epoch 131\n"
     ]
    },
    {
     "data": {
      "application/vnd.jupyter.widget-view+json": {
       "model_id": "ae8501663baa49d59c83891695458690",
       "version_major": 2,
       "version_minor": 0
      },
      "text/plain": [
       "  0%|          | 0/46 [00:00<?, ?it/s]"
      ]
     },
     "metadata": {},
     "output_type": "display_data"
    },
    {
     "name": "stdout",
     "output_type": "stream",
     "text": [
      "Epoch 131 validation loss: 1.6665\n",
      "Training epoch 132...\n",
      "Current LR: 0.01245\n"
     ]
    },
    {
     "data": {
      "application/vnd.jupyter.widget-view+json": {
       "model_id": "94b08ba7263740b29aa5dab749c0f1d6",
       "version_major": 2,
       "version_minor": 0
      },
      "text/plain": [
       "  0%|          | 0/113 [00:00<?, ?it/s]"
      ]
     },
     "metadata": {},
     "output_type": "display_data"
    },
    {
     "name": "stdout",
     "output_type": "stream",
     "text": [
      "Epoch 132 train loss: 3.7481\n",
      "Validating epoch 132\n"
     ]
    },
    {
     "data": {
      "application/vnd.jupyter.widget-view+json": {
       "model_id": "765d79de7880401d923bd355f2f6fbed",
       "version_major": 2,
       "version_minor": 0
      },
      "text/plain": [
       "  0%|          | 0/46 [00:00<?, ?it/s]"
      ]
     },
     "metadata": {},
     "output_type": "display_data"
    },
    {
     "name": "stdout",
     "output_type": "stream",
     "text": [
      "Epoch 132 validation loss: 1.6539\n",
      "Training epoch 133...\n",
      "Current LR: 0.01245\n"
     ]
    },
    {
     "data": {
      "application/vnd.jupyter.widget-view+json": {
       "model_id": "9c2eba89468c47698e293abb4ca17205",
       "version_major": 2,
       "version_minor": 0
      },
      "text/plain": [
       "  0%|          | 0/113 [00:00<?, ?it/s]"
      ]
     },
     "metadata": {},
     "output_type": "display_data"
    },
    {
     "name": "stdout",
     "output_type": "stream",
     "text": [
      "Epoch 133 train loss: 3.7149\n",
      "Validating epoch 133\n"
     ]
    },
    {
     "data": {
      "application/vnd.jupyter.widget-view+json": {
       "model_id": "be8ebc86e1ad464f9375e3e64f5b5e87",
       "version_major": 2,
       "version_minor": 0
      },
      "text/plain": [
       "  0%|          | 0/46 [00:00<?, ?it/s]"
      ]
     },
     "metadata": {},
     "output_type": "display_data"
    },
    {
     "name": "stdout",
     "output_type": "stream",
     "text": [
      "Epoch 133 validation loss: 1.6588\n",
      "Training epoch 134...\n",
      "Current LR: 0.01245\n"
     ]
    },
    {
     "data": {
      "application/vnd.jupyter.widget-view+json": {
       "model_id": "819970ddb2f545978351da7cc6dbfb7b",
       "version_major": 2,
       "version_minor": 0
      },
      "text/plain": [
       "  0%|          | 0/113 [00:00<?, ?it/s]"
      ]
     },
     "metadata": {},
     "output_type": "display_data"
    },
    {
     "name": "stdout",
     "output_type": "stream",
     "text": [
      "Epoch 134 train loss: 3.6642\n",
      "Validating epoch 134\n"
     ]
    },
    {
     "data": {
      "application/vnd.jupyter.widget-view+json": {
       "model_id": "df089bf6e7e64ff9a29e277069cc2ac3",
       "version_major": 2,
       "version_minor": 0
      },
      "text/plain": [
       "  0%|          | 0/46 [00:00<?, ?it/s]"
      ]
     },
     "metadata": {},
     "output_type": "display_data"
    },
    {
     "name": "stdout",
     "output_type": "stream",
     "text": [
      "Epoch 134 validation loss: 1.6598\n",
      "Training epoch 135...\n",
      "Current LR: 0.01245\n"
     ]
    },
    {
     "data": {
      "application/vnd.jupyter.widget-view+json": {
       "model_id": "037a84e7348b412c9a9956d02f64cea1",
       "version_major": 2,
       "version_minor": 0
      },
      "text/plain": [
       "  0%|          | 0/113 [00:00<?, ?it/s]"
      ]
     },
     "metadata": {},
     "output_type": "display_data"
    },
    {
     "name": "stdout",
     "output_type": "stream",
     "text": [
      "Epoch 135 train loss: 3.6431\n",
      "Validating epoch 135\n"
     ]
    },
    {
     "data": {
      "application/vnd.jupyter.widget-view+json": {
       "model_id": "89f66557d569479fbb07fca539226131",
       "version_major": 2,
       "version_minor": 0
      },
      "text/plain": [
       "  0%|          | 0/46 [00:00<?, ?it/s]"
      ]
     },
     "metadata": {},
     "output_type": "display_data"
    },
    {
     "name": "stdout",
     "output_type": "stream",
     "text": [
      "Epoch 135 validation loss: 1.6528\n",
      "Training epoch 136...\n",
      "Current LR: 0.01245\n"
     ]
    },
    {
     "data": {
      "application/vnd.jupyter.widget-view+json": {
       "model_id": "2e9a2fa4d65e48d6a0b8e5ca3d924df8",
       "version_major": 2,
       "version_minor": 0
      },
      "text/plain": [
       "  0%|          | 0/113 [00:00<?, ?it/s]"
      ]
     },
     "metadata": {},
     "output_type": "display_data"
    },
    {
     "name": "stdout",
     "output_type": "stream",
     "text": [
      "Epoch 136 train loss: 3.6306\n",
      "Validating epoch 136\n"
     ]
    },
    {
     "data": {
      "application/vnd.jupyter.widget-view+json": {
       "model_id": "ec59894da82b43a585ceecc853c7b7ed",
       "version_major": 2,
       "version_minor": 0
      },
      "text/plain": [
       "  0%|          | 0/46 [00:00<?, ?it/s]"
      ]
     },
     "metadata": {},
     "output_type": "display_data"
    },
    {
     "name": "stdout",
     "output_type": "stream",
     "text": [
      "Epoch 136 validation loss: 1.6524\n",
      "Training epoch 137...\n",
      "Current LR: 0.01245\n"
     ]
    },
    {
     "data": {
      "application/vnd.jupyter.widget-view+json": {
       "model_id": "e879dc4fbd6d4cdca207382102516792",
       "version_major": 2,
       "version_minor": 0
      },
      "text/plain": [
       "  0%|          | 0/113 [00:00<?, ?it/s]"
      ]
     },
     "metadata": {},
     "output_type": "display_data"
    },
    {
     "name": "stdout",
     "output_type": "stream",
     "text": [
      "Epoch 137 train loss: 3.6350\n",
      "Validating epoch 137\n"
     ]
    },
    {
     "data": {
      "application/vnd.jupyter.widget-view+json": {
       "model_id": "e843fa072ce74b8d810f595e25969039",
       "version_major": 2,
       "version_minor": 0
      },
      "text/plain": [
       "  0%|          | 0/46 [00:00<?, ?it/s]"
      ]
     },
     "metadata": {},
     "output_type": "display_data"
    },
    {
     "name": "stdout",
     "output_type": "stream",
     "text": [
      "Epoch 137 validation loss: 1.6536\n",
      "Training epoch 138...\n",
      "Current LR: 0.01245\n"
     ]
    },
    {
     "data": {
      "application/vnd.jupyter.widget-view+json": {
       "model_id": "7ee82727d25d435cab3a8a9f1de02617",
       "version_major": 2,
       "version_minor": 0
      },
      "text/plain": [
       "  0%|          | 0/113 [00:00<?, ?it/s]"
      ]
     },
     "metadata": {},
     "output_type": "display_data"
    },
    {
     "name": "stdout",
     "output_type": "stream",
     "text": [
      "Epoch 138 train loss: 3.6335\n",
      "Validating epoch 138\n"
     ]
    },
    {
     "data": {
      "application/vnd.jupyter.widget-view+json": {
       "model_id": "704243cbb7134a1aa081b386b74d645a",
       "version_major": 2,
       "version_minor": 0
      },
      "text/plain": [
       "  0%|          | 0/46 [00:00<?, ?it/s]"
      ]
     },
     "metadata": {},
     "output_type": "display_data"
    },
    {
     "name": "stdout",
     "output_type": "stream",
     "text": [
      "Epoch 138 validation loss: 1.6606\n",
      "Training epoch 139...\n",
      "Current LR: 0.01245\n"
     ]
    },
    {
     "data": {
      "application/vnd.jupyter.widget-view+json": {
       "model_id": "bfcda3104f6847178805e968e32b7b02",
       "version_major": 2,
       "version_minor": 0
      },
      "text/plain": [
       "  0%|          | 0/113 [00:00<?, ?it/s]"
      ]
     },
     "metadata": {},
     "output_type": "display_data"
    },
    {
     "name": "stdout",
     "output_type": "stream",
     "text": [
      "Epoch 139 train loss: 3.6254\n",
      "Validating epoch 139\n"
     ]
    },
    {
     "data": {
      "application/vnd.jupyter.widget-view+json": {
       "model_id": "3f251a430f1c4ec2b223964423f380df",
       "version_major": 2,
       "version_minor": 0
      },
      "text/plain": [
       "  0%|          | 0/46 [00:00<?, ?it/s]"
      ]
     },
     "metadata": {},
     "output_type": "display_data"
    },
    {
     "name": "stdout",
     "output_type": "stream",
     "text": [
      "Epoch 139 validation loss: 1.6645\n",
      "Training epoch 140...\n",
      "Current LR: 0.01245\n"
     ]
    },
    {
     "data": {
      "application/vnd.jupyter.widget-view+json": {
       "model_id": "8f8f7fc74c7744269bdec70f18185451",
       "version_major": 2,
       "version_minor": 0
      },
      "text/plain": [
       "  0%|          | 0/113 [00:00<?, ?it/s]"
      ]
     },
     "metadata": {},
     "output_type": "display_data"
    },
    {
     "name": "stdout",
     "output_type": "stream",
     "text": [
      "Epoch 140 train loss: 3.6263\n",
      "Validating epoch 140\n"
     ]
    },
    {
     "data": {
      "application/vnd.jupyter.widget-view+json": {
       "model_id": "3a55f9c0b9874e7b994abdb0638d15cf",
       "version_major": 2,
       "version_minor": 0
      },
      "text/plain": [
       "  0%|          | 0/46 [00:00<?, ?it/s]"
      ]
     },
     "metadata": {},
     "output_type": "display_data"
    },
    {
     "name": "stdout",
     "output_type": "stream",
     "text": [
      "Epoch 140 validation loss: 124.2152\n",
      "Training epoch 141...\n",
      "Current LR: 0.01245\n"
     ]
    },
    {
     "data": {
      "application/vnd.jupyter.widget-view+json": {
       "model_id": "c5c54e4dfdfb4396b045020aae71c736",
       "version_major": 2,
       "version_minor": 0
      },
      "text/plain": [
       "  0%|          | 0/113 [00:00<?, ?it/s]"
      ]
     },
     "metadata": {},
     "output_type": "display_data"
    },
    {
     "name": "stdout",
     "output_type": "stream",
     "text": [
      "Epoch 141 train loss: 3.8712\n",
      "Validating epoch 141\n"
     ]
    },
    {
     "data": {
      "application/vnd.jupyter.widget-view+json": {
       "model_id": "0b2dcbcaf8e74f7786815c9eba35a0cc",
       "version_major": 2,
       "version_minor": 0
      },
      "text/plain": [
       "  0%|          | 0/46 [00:00<?, ?it/s]"
      ]
     },
     "metadata": {},
     "output_type": "display_data"
    },
    {
     "name": "stdout",
     "output_type": "stream",
     "text": [
      "Epoch 141 validation loss: 1959.8856\n",
      "Training epoch 142...\n",
      "Current LR: 0.01245\n"
     ]
    },
    {
     "data": {
      "application/vnd.jupyter.widget-view+json": {
       "model_id": "02d7ca1f6f8544e2a012d64ff503f8ad",
       "version_major": 2,
       "version_minor": 0
      },
      "text/plain": [
       "  0%|          | 0/113 [00:00<?, ?it/s]"
      ]
     },
     "metadata": {},
     "output_type": "display_data"
    },
    {
     "name": "stdout",
     "output_type": "stream",
     "text": [
      "Epoch 142 train loss: 7.1577\n",
      "Validating epoch 142\n"
     ]
    },
    {
     "data": {
      "application/vnd.jupyter.widget-view+json": {
       "model_id": "93d8660c14674213b406b28021deabde",
       "version_major": 2,
       "version_minor": 0
      },
      "text/plain": [
       "  0%|          | 0/46 [00:00<?, ?it/s]"
      ]
     },
     "metadata": {},
     "output_type": "display_data"
    },
    {
     "name": "stdout",
     "output_type": "stream",
     "text": [
      "Epoch 142 validation loss: 1.6521\n",
      "Training epoch 143...\n",
      "Current LR: 0.01245\n"
     ]
    },
    {
     "data": {
      "application/vnd.jupyter.widget-view+json": {
       "model_id": "576b9c76eef84107b9e8f6cbf9ef7ebf",
       "version_major": 2,
       "version_minor": 0
      },
      "text/plain": [
       "  0%|          | 0/113 [00:00<?, ?it/s]"
      ]
     },
     "metadata": {},
     "output_type": "display_data"
    },
    {
     "name": "stdout",
     "output_type": "stream",
     "text": [
      "Epoch 143 train loss: 17.9066\n",
      "Validating epoch 143\n"
     ]
    },
    {
     "data": {
      "application/vnd.jupyter.widget-view+json": {
       "model_id": "dcf47acec9514c0982a02530920d9e19",
       "version_major": 2,
       "version_minor": 0
      },
      "text/plain": [
       "  0%|          | 0/46 [00:00<?, ?it/s]"
      ]
     },
     "metadata": {},
     "output_type": "display_data"
    },
    {
     "name": "stdout",
     "output_type": "stream",
     "text": [
      "Epoch 143 validation loss: 1.6641\n",
      "Training epoch 144...\n",
      "Current LR: 0.01245\n"
     ]
    },
    {
     "data": {
      "application/vnd.jupyter.widget-view+json": {
       "model_id": "c86bc50c43584de69de826b9b0b84afe",
       "version_major": 2,
       "version_minor": 0
      },
      "text/plain": [
       "  0%|          | 0/113 [00:00<?, ?it/s]"
      ]
     },
     "metadata": {},
     "output_type": "display_data"
    },
    {
     "name": "stdout",
     "output_type": "stream",
     "text": [
      "Epoch 144 train loss: 15.5992\n",
      "Validating epoch 144\n"
     ]
    },
    {
     "data": {
      "application/vnd.jupyter.widget-view+json": {
       "model_id": "dd7fbb3e10e946558ab40702aa9ea747",
       "version_major": 2,
       "version_minor": 0
      },
      "text/plain": [
       "  0%|          | 0/46 [00:00<?, ?it/s]"
      ]
     },
     "metadata": {},
     "output_type": "display_data"
    },
    {
     "name": "stdout",
     "output_type": "stream",
     "text": [
      "Epoch 144 validation loss: 1.6651\n",
      "Training epoch 145...\n",
      "Current LR: 0.01245\n"
     ]
    },
    {
     "data": {
      "application/vnd.jupyter.widget-view+json": {
       "model_id": "778a51f05a564cc78cb00f85c63d4b45",
       "version_major": 2,
       "version_minor": 0
      },
      "text/plain": [
       "  0%|          | 0/113 [00:00<?, ?it/s]"
      ]
     },
     "metadata": {},
     "output_type": "display_data"
    },
    {
     "name": "stdout",
     "output_type": "stream",
     "text": [
      "Epoch 145 train loss: 13.8282\n",
      "Validating epoch 145\n"
     ]
    },
    {
     "data": {
      "application/vnd.jupyter.widget-view+json": {
       "model_id": "08ca4594366c4925a0a90e390dc4d816",
       "version_major": 2,
       "version_minor": 0
      },
      "text/plain": [
       "  0%|          | 0/46 [00:00<?, ?it/s]"
      ]
     },
     "metadata": {},
     "output_type": "display_data"
    },
    {
     "name": "stdout",
     "output_type": "stream",
     "text": [
      "Epoch 145 validation loss: 1.6627\n",
      "Training epoch 146...\n",
      "Current LR: 0.01245\n"
     ]
    },
    {
     "data": {
      "application/vnd.jupyter.widget-view+json": {
       "model_id": "8da9745aab8845e6876934580908ace3",
       "version_major": 2,
       "version_minor": 0
      },
      "text/plain": [
       "  0%|          | 0/113 [00:00<?, ?it/s]"
      ]
     },
     "metadata": {},
     "output_type": "display_data"
    },
    {
     "name": "stdout",
     "output_type": "stream",
     "text": [
      "Epoch 146 train loss: 12.6870\n",
      "Validating epoch 146\n"
     ]
    },
    {
     "data": {
      "application/vnd.jupyter.widget-view+json": {
       "model_id": "1427ec2739704c6da993909e74f6aa5f",
       "version_major": 2,
       "version_minor": 0
      },
      "text/plain": [
       "  0%|          | 0/46 [00:00<?, ?it/s]"
      ]
     },
     "metadata": {},
     "output_type": "display_data"
    },
    {
     "name": "stdout",
     "output_type": "stream",
     "text": [
      "Epoch 146 validation loss: 1.6743\n",
      "Training epoch 147...\n",
      "Current LR: 0.01245\n"
     ]
    },
    {
     "data": {
      "application/vnd.jupyter.widget-view+json": {
       "model_id": "41f969c693eb4472aa7342781ecfc939",
       "version_major": 2,
       "version_minor": 0
      },
      "text/plain": [
       "  0%|          | 0/113 [00:00<?, ?it/s]"
      ]
     },
     "metadata": {},
     "output_type": "display_data"
    },
    {
     "name": "stdout",
     "output_type": "stream",
     "text": [
      "Epoch 147 train loss: 11.8076\n",
      "Validating epoch 147\n"
     ]
    },
    {
     "data": {
      "application/vnd.jupyter.widget-view+json": {
       "model_id": "769690402b634dd2bc13099105b8c7af",
       "version_major": 2,
       "version_minor": 0
      },
      "text/plain": [
       "  0%|          | 0/46 [00:00<?, ?it/s]"
      ]
     },
     "metadata": {},
     "output_type": "display_data"
    },
    {
     "name": "stdout",
     "output_type": "stream",
     "text": [
      "Epoch 147 validation loss: 1.6684\n",
      "Training epoch 148...\n",
      "Current LR: 0.01245\n"
     ]
    },
    {
     "data": {
      "application/vnd.jupyter.widget-view+json": {
       "model_id": "4ed3f8a0db7448ab94c1869609df20c7",
       "version_major": 2,
       "version_minor": 0
      },
      "text/plain": [
       "  0%|          | 0/113 [00:00<?, ?it/s]"
      ]
     },
     "metadata": {},
     "output_type": "display_data"
    },
    {
     "name": "stdout",
     "output_type": "stream",
     "text": [
      "Epoch 148 train loss: 11.1499\n",
      "Validating epoch 148\n"
     ]
    },
    {
     "data": {
      "application/vnd.jupyter.widget-view+json": {
       "model_id": "511219a5f9cf46f0ab35528ae235ea54",
       "version_major": 2,
       "version_minor": 0
      },
      "text/plain": [
       "  0%|          | 0/46 [00:00<?, ?it/s]"
      ]
     },
     "metadata": {},
     "output_type": "display_data"
    },
    {
     "name": "stdout",
     "output_type": "stream",
     "text": [
      "Epoch 148 validation loss: 1.7316\n",
      "Training epoch 149...\n",
      "Current LR: 0.01245\n"
     ]
    },
    {
     "data": {
      "application/vnd.jupyter.widget-view+json": {
       "model_id": "a5ee69717aff4fa3ba551e9e2ea6e0db",
       "version_major": 2,
       "version_minor": 0
      },
      "text/plain": [
       "  0%|          | 0/113 [00:00<?, ?it/s]"
      ]
     },
     "metadata": {},
     "output_type": "display_data"
    },
    {
     "name": "stdout",
     "output_type": "stream",
     "text": [
      "Epoch 149 train loss: 10.5436\n",
      "Validating epoch 149\n"
     ]
    },
    {
     "data": {
      "application/vnd.jupyter.widget-view+json": {
       "model_id": "fdce53d1bea94f45b2d6edfe09c3f37c",
       "version_major": 2,
       "version_minor": 0
      },
      "text/plain": [
       "  0%|          | 0/46 [00:00<?, ?it/s]"
      ]
     },
     "metadata": {},
     "output_type": "display_data"
    },
    {
     "name": "stdout",
     "output_type": "stream",
     "text": [
      "Epoch 149 validation loss: 1.6581\n",
      "Training epoch 150...\n",
      "Current LR: 0.01245\n"
     ]
    },
    {
     "data": {
      "application/vnd.jupyter.widget-view+json": {
       "model_id": "d7444e5360f3412d9b517def0468de0f",
       "version_major": 2,
       "version_minor": 0
      },
      "text/plain": [
       "  0%|          | 0/113 [00:00<?, ?it/s]"
      ]
     },
     "metadata": {},
     "output_type": "display_data"
    },
    {
     "name": "stdout",
     "output_type": "stream",
     "text": [
      "Epoch 150 train loss: 10.0300\n",
      "Validating epoch 150\n"
     ]
    },
    {
     "data": {
      "application/vnd.jupyter.widget-view+json": {
       "model_id": "b2cbe9272d194b508e3254160520d64d",
       "version_major": 2,
       "version_minor": 0
      },
      "text/plain": [
       "  0%|          | 0/46 [00:00<?, ?it/s]"
      ]
     },
     "metadata": {},
     "output_type": "display_data"
    },
    {
     "name": "stdout",
     "output_type": "stream",
     "text": [
      "Epoch 150 validation loss: 1.6566\n",
      "Training epoch 151...\n",
      "Current LR: 0.01245\n"
     ]
    },
    {
     "data": {
      "application/vnd.jupyter.widget-view+json": {
       "model_id": "ea2cc07b6b824ab4bf22ae65365caa5c",
       "version_major": 2,
       "version_minor": 0
      },
      "text/plain": [
       "  0%|          | 0/113 [00:00<?, ?it/s]"
      ]
     },
     "metadata": {},
     "output_type": "display_data"
    },
    {
     "name": "stdout",
     "output_type": "stream",
     "text": [
      "Epoch 151 train loss: 9.5808\n",
      "Validating epoch 151\n"
     ]
    },
    {
     "data": {
      "application/vnd.jupyter.widget-view+json": {
       "model_id": "dc3563a2d2304d82865454773abc0541",
       "version_major": 2,
       "version_minor": 0
      },
      "text/plain": [
       "  0%|          | 0/46 [00:00<?, ?it/s]"
      ]
     },
     "metadata": {},
     "output_type": "display_data"
    },
    {
     "name": "stdout",
     "output_type": "stream",
     "text": [
      "Epoch 151 validation loss: 1.7176\n",
      "Training epoch 152...\n",
      "Current LR: 0.01245\n"
     ]
    },
    {
     "data": {
      "application/vnd.jupyter.widget-view+json": {
       "model_id": "e5990bb76201414d8fca810b4eb3a7b3",
       "version_major": 2,
       "version_minor": 0
      },
      "text/plain": [
       "  0%|          | 0/113 [00:00<?, ?it/s]"
      ]
     },
     "metadata": {},
     "output_type": "display_data"
    },
    {
     "name": "stdout",
     "output_type": "stream",
     "text": [
      "Epoch 152 train loss: 9.1798\n",
      "Validating epoch 152\n"
     ]
    },
    {
     "data": {
      "application/vnd.jupyter.widget-view+json": {
       "model_id": "e47e6153d06c4834b5c38ecb876362b4",
       "version_major": 2,
       "version_minor": 0
      },
      "text/plain": [
       "  0%|          | 0/46 [00:00<?, ?it/s]"
      ]
     },
     "metadata": {},
     "output_type": "display_data"
    },
    {
     "name": "stdout",
     "output_type": "stream",
     "text": [
      "Epoch 152 validation loss: 1.6750\n",
      "Training epoch 153...\n",
      "Current LR: 0.01245\n"
     ]
    },
    {
     "data": {
      "application/vnd.jupyter.widget-view+json": {
       "model_id": "a0803c219af04fb58536e2643cb8c9f1",
       "version_major": 2,
       "version_minor": 0
      },
      "text/plain": [
       "  0%|          | 0/113 [00:00<?, ?it/s]"
      ]
     },
     "metadata": {},
     "output_type": "display_data"
    },
    {
     "name": "stdout",
     "output_type": "stream",
     "text": [
      "Epoch 153 train loss: 8.8352\n",
      "Validating epoch 153\n"
     ]
    },
    {
     "data": {
      "application/vnd.jupyter.widget-view+json": {
       "model_id": "12f424d767d6479a8dcae80104a4451d",
       "version_major": 2,
       "version_minor": 0
      },
      "text/plain": [
       "  0%|          | 0/46 [00:00<?, ?it/s]"
      ]
     },
     "metadata": {},
     "output_type": "display_data"
    },
    {
     "name": "stdout",
     "output_type": "stream",
     "text": [
      "Epoch 153 validation loss: 1.6599\n",
      "Training epoch 154...\n",
      "Current LR: 0.01245\n"
     ]
    },
    {
     "data": {
      "application/vnd.jupyter.widget-view+json": {
       "model_id": "6769a63d24a24c798e3302fbf4ffb955",
       "version_major": 2,
       "version_minor": 0
      },
      "text/plain": [
       "  0%|          | 0/113 [00:00<?, ?it/s]"
      ]
     },
     "metadata": {},
     "output_type": "display_data"
    },
    {
     "name": "stdout",
     "output_type": "stream",
     "text": [
      "Epoch 154 train loss: 8.5360\n",
      "Validating epoch 154\n"
     ]
    },
    {
     "data": {
      "application/vnd.jupyter.widget-view+json": {
       "model_id": "941cc18a6f3947b5ae216678410c0576",
       "version_major": 2,
       "version_minor": 0
      },
      "text/plain": [
       "  0%|          | 0/46 [00:00<?, ?it/s]"
      ]
     },
     "metadata": {},
     "output_type": "display_data"
    },
    {
     "name": "stdout",
     "output_type": "stream",
     "text": [
      "Epoch 154 validation loss: 1.6616\n",
      "Training epoch 155...\n",
      "Current LR: 0.01245\n"
     ]
    },
    {
     "data": {
      "application/vnd.jupyter.widget-view+json": {
       "model_id": "f6045102e5cf473694784fc0d3e92fe3",
       "version_major": 2,
       "version_minor": 0
      },
      "text/plain": [
       "  0%|          | 0/113 [00:00<?, ?it/s]"
      ]
     },
     "metadata": {},
     "output_type": "display_data"
    },
    {
     "name": "stdout",
     "output_type": "stream",
     "text": [
      "Epoch 155 train loss: 8.2928\n",
      "Validating epoch 155\n"
     ]
    },
    {
     "data": {
      "application/vnd.jupyter.widget-view+json": {
       "model_id": "a7c8e549fb9044a1995bd76c7afd4d3e",
       "version_major": 2,
       "version_minor": 0
      },
      "text/plain": [
       "  0%|          | 0/46 [00:00<?, ?it/s]"
      ]
     },
     "metadata": {},
     "output_type": "display_data"
    },
    {
     "name": "stdout",
     "output_type": "stream",
     "text": [
      "Epoch 155 validation loss: 1.6798\n",
      "Training epoch 156...\n",
      "Current LR: 0.01245\n"
     ]
    },
    {
     "data": {
      "application/vnd.jupyter.widget-view+json": {
       "model_id": "b07c60d8392b4ed9b35242dc5a6f15dd",
       "version_major": 2,
       "version_minor": 0
      },
      "text/plain": [
       "  0%|          | 0/113 [00:00<?, ?it/s]"
      ]
     },
     "metadata": {},
     "output_type": "display_data"
    },
    {
     "name": "stdout",
     "output_type": "stream",
     "text": [
      "Epoch 156 train loss: 8.0681\n",
      "Validating epoch 156\n"
     ]
    },
    {
     "data": {
      "application/vnd.jupyter.widget-view+json": {
       "model_id": "f292b804238b40639b83cb78c3da1bbf",
       "version_major": 2,
       "version_minor": 0
      },
      "text/plain": [
       "  0%|          | 0/46 [00:00<?, ?it/s]"
      ]
     },
     "metadata": {},
     "output_type": "display_data"
    },
    {
     "name": "stdout",
     "output_type": "stream",
     "text": [
      "Epoch 156 validation loss: 1.6891\n",
      "Training epoch 157...\n",
      "Current LR: 0.01245\n"
     ]
    },
    {
     "data": {
      "application/vnd.jupyter.widget-view+json": {
       "model_id": "11792eae3bb443679e107669819d4d98",
       "version_major": 2,
       "version_minor": 0
      },
      "text/plain": [
       "  0%|          | 0/113 [00:00<?, ?it/s]"
      ]
     },
     "metadata": {},
     "output_type": "display_data"
    },
    {
     "name": "stdout",
     "output_type": "stream",
     "text": [
      "Epoch 157 train loss: 7.8718\n",
      "Validating epoch 157\n"
     ]
    },
    {
     "data": {
      "application/vnd.jupyter.widget-view+json": {
       "model_id": "d5a2e18598a24c2ebdf41439e82d2540",
       "version_major": 2,
       "version_minor": 0
      },
      "text/plain": [
       "  0%|          | 0/46 [00:00<?, ?it/s]"
      ]
     },
     "metadata": {},
     "output_type": "display_data"
    },
    {
     "name": "stdout",
     "output_type": "stream",
     "text": [
      "Epoch 157 validation loss: 1.6834\n",
      "Training epoch 158...\n",
      "Current LR: 0.01245\n"
     ]
    },
    {
     "data": {
      "application/vnd.jupyter.widget-view+json": {
       "model_id": "26cdaa6131ca4330a34959e7ee774266",
       "version_major": 2,
       "version_minor": 0
      },
      "text/plain": [
       "  0%|          | 0/113 [00:00<?, ?it/s]"
      ]
     },
     "metadata": {},
     "output_type": "display_data"
    },
    {
     "name": "stdout",
     "output_type": "stream",
     "text": [
      "Epoch 158 train loss: 7.6906\n",
      "Validating epoch 158\n"
     ]
    },
    {
     "data": {
      "application/vnd.jupyter.widget-view+json": {
       "model_id": "cd7d6bb5c1d44ada8f26479bf712befb",
       "version_major": 2,
       "version_minor": 0
      },
      "text/plain": [
       "  0%|          | 0/46 [00:00<?, ?it/s]"
      ]
     },
     "metadata": {},
     "output_type": "display_data"
    },
    {
     "name": "stdout",
     "output_type": "stream",
     "text": [
      "Epoch 158 validation loss: 1.6757\n",
      "Training epoch 159...\n",
      "Current LR: 0.01245\n"
     ]
    },
    {
     "data": {
      "application/vnd.jupyter.widget-view+json": {
       "model_id": "bb9d09a584ca42f0ae7338916b02dcbe",
       "version_major": 2,
       "version_minor": 0
      },
      "text/plain": [
       "  0%|          | 0/113 [00:00<?, ?it/s]"
      ]
     },
     "metadata": {},
     "output_type": "display_data"
    },
    {
     "name": "stdout",
     "output_type": "stream",
     "text": [
      "Epoch 159 train loss: 7.5217\n",
      "Validating epoch 159\n"
     ]
    },
    {
     "data": {
      "application/vnd.jupyter.widget-view+json": {
       "model_id": "964f6a538a6d4f39ab860d62cf1195cd",
       "version_major": 2,
       "version_minor": 0
      },
      "text/plain": [
       "  0%|          | 0/46 [00:00<?, ?it/s]"
      ]
     },
     "metadata": {},
     "output_type": "display_data"
    },
    {
     "name": "stdout",
     "output_type": "stream",
     "text": [
      "Epoch 159 validation loss: 1.6684\n",
      "Training epoch 160...\n",
      "Current LR: 0.01245\n"
     ]
    },
    {
     "data": {
      "application/vnd.jupyter.widget-view+json": {
       "model_id": "d7e6821f12f14d4daac357587e485b4b",
       "version_major": 2,
       "version_minor": 0
      },
      "text/plain": [
       "  0%|          | 0/113 [00:00<?, ?it/s]"
      ]
     },
     "metadata": {},
     "output_type": "display_data"
    },
    {
     "name": "stdout",
     "output_type": "stream",
     "text": [
      "Epoch 160 train loss: 7.3684\n",
      "Validating epoch 160\n"
     ]
    },
    {
     "data": {
      "application/vnd.jupyter.widget-view+json": {
       "model_id": "0fe455539e5c4186b5f732655da9bd55",
       "version_major": 2,
       "version_minor": 0
      },
      "text/plain": [
       "  0%|          | 0/46 [00:00<?, ?it/s]"
      ]
     },
     "metadata": {},
     "output_type": "display_data"
    },
    {
     "name": "stdout",
     "output_type": "stream",
     "text": [
      "Epoch 160 validation loss: 1.6606\n",
      "Training epoch 161...\n",
      "Current LR: 0.01245\n"
     ]
    },
    {
     "data": {
      "application/vnd.jupyter.widget-view+json": {
       "model_id": "9850152c134b4bc8bc0a4aa819d5a49e",
       "version_major": 2,
       "version_minor": 0
      },
      "text/plain": [
       "  0%|          | 0/113 [00:00<?, ?it/s]"
      ]
     },
     "metadata": {},
     "output_type": "display_data"
    },
    {
     "name": "stdout",
     "output_type": "stream",
     "text": [
      "Epoch 161 train loss: 7.2387\n",
      "Validating epoch 161\n"
     ]
    },
    {
     "data": {
      "application/vnd.jupyter.widget-view+json": {
       "model_id": "d9dfb6fe73c6412cacd5e1049a6141de",
       "version_major": 2,
       "version_minor": 0
      },
      "text/plain": [
       "  0%|          | 0/46 [00:00<?, ?it/s]"
      ]
     },
     "metadata": {},
     "output_type": "display_data"
    },
    {
     "name": "stdout",
     "output_type": "stream",
     "text": [
      "Epoch 161 validation loss: 1.6757\n",
      "Training epoch 162...\n",
      "Current LR: 0.01245\n"
     ]
    },
    {
     "data": {
      "application/vnd.jupyter.widget-view+json": {
       "model_id": "5c934738566842b194a713414c8396a7",
       "version_major": 2,
       "version_minor": 0
      },
      "text/plain": [
       "  0%|          | 0/113 [00:00<?, ?it/s]"
      ]
     },
     "metadata": {},
     "output_type": "display_data"
    },
    {
     "name": "stdout",
     "output_type": "stream",
     "text": [
      "Epoch 162 train loss: 7.1607\n",
      "Validating epoch 162\n"
     ]
    },
    {
     "data": {
      "application/vnd.jupyter.widget-view+json": {
       "model_id": "771cd6ca3ea24af997b263031ed0a763",
       "version_major": 2,
       "version_minor": 0
      },
      "text/plain": [
       "  0%|          | 0/46 [00:00<?, ?it/s]"
      ]
     },
     "metadata": {},
     "output_type": "display_data"
    },
    {
     "name": "stdout",
     "output_type": "stream",
     "text": [
      "Epoch 162 validation loss: 1.6903\n",
      "Training epoch 163...\n",
      "Current LR: 0.01245\n"
     ]
    },
    {
     "data": {
      "application/vnd.jupyter.widget-view+json": {
       "model_id": "738aa5aeb7c2407db635744b74405631",
       "version_major": 2,
       "version_minor": 0
      },
      "text/plain": [
       "  0%|          | 0/113 [00:00<?, ?it/s]"
      ]
     },
     "metadata": {},
     "output_type": "display_data"
    },
    {
     "name": "stdout",
     "output_type": "stream",
     "text": [
      "Epoch 163 train loss: 7.0126\n",
      "Validating epoch 163\n"
     ]
    },
    {
     "data": {
      "application/vnd.jupyter.widget-view+json": {
       "model_id": "77fb31980675459fa0876afefb4a9441",
       "version_major": 2,
       "version_minor": 0
      },
      "text/plain": [
       "  0%|          | 0/46 [00:00<?, ?it/s]"
      ]
     },
     "metadata": {},
     "output_type": "display_data"
    },
    {
     "name": "stdout",
     "output_type": "stream",
     "text": [
      "Epoch 163 validation loss: 1.7059\n",
      "Training epoch 164...\n",
      "Current LR: 0.01245\n"
     ]
    },
    {
     "data": {
      "application/vnd.jupyter.widget-view+json": {
       "model_id": "1f902b1ca85c4d73834ecf551771fce4",
       "version_major": 2,
       "version_minor": 0
      },
      "text/plain": [
       "  0%|          | 0/113 [00:00<?, ?it/s]"
      ]
     },
     "metadata": {},
     "output_type": "display_data"
    },
    {
     "name": "stdout",
     "output_type": "stream",
     "text": [
      "Epoch 164 train loss: 6.9232\n",
      "Validating epoch 164\n"
     ]
    },
    {
     "data": {
      "application/vnd.jupyter.widget-view+json": {
       "model_id": "aa9d997d5aaf4e2b91dd1cbdfd27e380",
       "version_major": 2,
       "version_minor": 0
      },
      "text/plain": [
       "  0%|          | 0/46 [00:00<?, ?it/s]"
      ]
     },
     "metadata": {},
     "output_type": "display_data"
    },
    {
     "name": "stdout",
     "output_type": "stream",
     "text": [
      "Epoch 164 validation loss: 1.6855\n",
      "Training epoch 165...\n",
      "Current LR: 0.01245\n"
     ]
    },
    {
     "data": {
      "application/vnd.jupyter.widget-view+json": {
       "model_id": "c6c714e52158440ba4233eaa7834989e",
       "version_major": 2,
       "version_minor": 0
      },
      "text/plain": [
       "  0%|          | 0/113 [00:00<?, ?it/s]"
      ]
     },
     "metadata": {},
     "output_type": "display_data"
    },
    {
     "name": "stdout",
     "output_type": "stream",
     "text": [
      "Epoch 165 train loss: 6.8085\n",
      "Validating epoch 165\n"
     ]
    },
    {
     "data": {
      "application/vnd.jupyter.widget-view+json": {
       "model_id": "739dbb577a8244459a8a656d76b597a3",
       "version_major": 2,
       "version_minor": 0
      },
      "text/plain": [
       "  0%|          | 0/46 [00:00<?, ?it/s]"
      ]
     },
     "metadata": {},
     "output_type": "display_data"
    },
    {
     "name": "stdout",
     "output_type": "stream",
     "text": [
      "Epoch 165 validation loss: 1.6730\n",
      "Training epoch 166...\n",
      "Current LR: 0.01245\n"
     ]
    },
    {
     "data": {
      "application/vnd.jupyter.widget-view+json": {
       "model_id": "82a1e268e74a4d0dbe977a9f7ac7ae57",
       "version_major": 2,
       "version_minor": 0
      },
      "text/plain": [
       "  0%|          | 0/113 [00:00<?, ?it/s]"
      ]
     },
     "metadata": {},
     "output_type": "display_data"
    },
    {
     "name": "stdout",
     "output_type": "stream",
     "text": [
      "Epoch 166 train loss: 6.7200\n",
      "Validating epoch 166\n"
     ]
    },
    {
     "data": {
      "application/vnd.jupyter.widget-view+json": {
       "model_id": "6dc8ca10bb8b4e7bb9f782397f219e69",
       "version_major": 2,
       "version_minor": 0
      },
      "text/plain": [
       "  0%|          | 0/46 [00:00<?, ?it/s]"
      ]
     },
     "metadata": {},
     "output_type": "display_data"
    },
    {
     "name": "stdout",
     "output_type": "stream",
     "text": [
      "Epoch 166 validation loss: 1.6635\n",
      "Training epoch 167...\n",
      "Current LR: 0.01245\n"
     ]
    },
    {
     "data": {
      "application/vnd.jupyter.widget-view+json": {
       "model_id": "793421543f8247cbaedab6bde28ad64e",
       "version_major": 2,
       "version_minor": 0
      },
      "text/plain": [
       "  0%|          | 0/113 [00:00<?, ?it/s]"
      ]
     },
     "metadata": {},
     "output_type": "display_data"
    },
    {
     "name": "stdout",
     "output_type": "stream",
     "text": [
      "Epoch 167 train loss: 6.6274\n",
      "Validating epoch 167\n"
     ]
    },
    {
     "data": {
      "application/vnd.jupyter.widget-view+json": {
       "model_id": "1993982eff9649ab9bf9091bafb36c4d",
       "version_major": 2,
       "version_minor": 0
      },
      "text/plain": [
       "  0%|          | 0/46 [00:00<?, ?it/s]"
      ]
     },
     "metadata": {},
     "output_type": "display_data"
    },
    {
     "name": "stdout",
     "output_type": "stream",
     "text": [
      "Epoch 167 validation loss: 1.6706\n",
      "Training epoch 168...\n",
      "Current LR: 0.01245\n"
     ]
    },
    {
     "data": {
      "application/vnd.jupyter.widget-view+json": {
       "model_id": "3a218c9085734135a99a8c44e9ef7510",
       "version_major": 2,
       "version_minor": 0
      },
      "text/plain": [
       "  0%|          | 0/113 [00:00<?, ?it/s]"
      ]
     },
     "metadata": {},
     "output_type": "display_data"
    },
    {
     "name": "stdout",
     "output_type": "stream",
     "text": [
      "Epoch 168 train loss: 6.5302\n",
      "Validating epoch 168\n"
     ]
    },
    {
     "data": {
      "application/vnd.jupyter.widget-view+json": {
       "model_id": "d7fb51328cf14f578e4aa323b18a9738",
       "version_major": 2,
       "version_minor": 0
      },
      "text/plain": [
       "  0%|          | 0/46 [00:00<?, ?it/s]"
      ]
     },
     "metadata": {},
     "output_type": "display_data"
    },
    {
     "name": "stdout",
     "output_type": "stream",
     "text": [
      "Epoch 168 validation loss: 1.6672\n",
      "Training epoch 169...\n",
      "Current LR: 0.01245\n"
     ]
    },
    {
     "data": {
      "application/vnd.jupyter.widget-view+json": {
       "model_id": "7095010dff494686bf6970e56f3a23f2",
       "version_major": 2,
       "version_minor": 0
      },
      "text/plain": [
       "  0%|          | 0/113 [00:00<?, ?it/s]"
      ]
     },
     "metadata": {},
     "output_type": "display_data"
    },
    {
     "name": "stdout",
     "output_type": "stream",
     "text": [
      "Epoch 169 train loss: 6.4454\n",
      "Validating epoch 169\n"
     ]
    },
    {
     "data": {
      "application/vnd.jupyter.widget-view+json": {
       "model_id": "8630918b07a04b6a90542f92101119f5",
       "version_major": 2,
       "version_minor": 0
      },
      "text/plain": [
       "  0%|          | 0/46 [00:00<?, ?it/s]"
      ]
     },
     "metadata": {},
     "output_type": "display_data"
    },
    {
     "name": "stdout",
     "output_type": "stream",
     "text": [
      "Epoch 169 validation loss: 1.6609\n",
      "Training epoch 170...\n",
      "Current LR: 0.01245\n"
     ]
    },
    {
     "data": {
      "application/vnd.jupyter.widget-view+json": {
       "model_id": "054fb679418b49e2b09fcb1e8c7bc0f6",
       "version_major": 2,
       "version_minor": 0
      },
      "text/plain": [
       "  0%|          | 0/113 [00:00<?, ?it/s]"
      ]
     },
     "metadata": {},
     "output_type": "display_data"
    },
    {
     "name": "stdout",
     "output_type": "stream",
     "text": [
      "Epoch 170 train loss: 6.3723\n",
      "Validating epoch 170\n"
     ]
    },
    {
     "data": {
      "application/vnd.jupyter.widget-view+json": {
       "model_id": "bf7d56460f484ae89e89575fbffca62b",
       "version_major": 2,
       "version_minor": 0
      },
      "text/plain": [
       "  0%|          | 0/46 [00:00<?, ?it/s]"
      ]
     },
     "metadata": {},
     "output_type": "display_data"
    },
    {
     "name": "stdout",
     "output_type": "stream",
     "text": [
      "Epoch 170 validation loss: 1.6545\n",
      "Training epoch 171...\n",
      "Current LR: 0.01245\n"
     ]
    },
    {
     "data": {
      "application/vnd.jupyter.widget-view+json": {
       "model_id": "6d6788036cc047239948befa4b115b3e",
       "version_major": 2,
       "version_minor": 0
      },
      "text/plain": [
       "  0%|          | 0/113 [00:00<?, ?it/s]"
      ]
     },
     "metadata": {},
     "output_type": "display_data"
    },
    {
     "name": "stdout",
     "output_type": "stream",
     "text": [
      "Epoch 171 train loss: 6.2965\n",
      "Validating epoch 171\n"
     ]
    },
    {
     "data": {
      "application/vnd.jupyter.widget-view+json": {
       "model_id": "93207a886a4447fa98b3fd378a96c198",
       "version_major": 2,
       "version_minor": 0
      },
      "text/plain": [
       "  0%|          | 0/46 [00:00<?, ?it/s]"
      ]
     },
     "metadata": {},
     "output_type": "display_data"
    },
    {
     "name": "stdout",
     "output_type": "stream",
     "text": [
      "Epoch 171 validation loss: 1.6800\n",
      "Training epoch 172...\n",
      "Current LR: 0.01245\n"
     ]
    },
    {
     "data": {
      "application/vnd.jupyter.widget-view+json": {
       "model_id": "286b8a06c63c4f9babed49ca72043501",
       "version_major": 2,
       "version_minor": 0
      },
      "text/plain": [
       "  0%|          | 0/113 [00:00<?, ?it/s]"
      ]
     },
     "metadata": {},
     "output_type": "display_data"
    },
    {
     "name": "stdout",
     "output_type": "stream",
     "text": [
      "Epoch 172 train loss: 6.2227\n",
      "Validating epoch 172\n"
     ]
    },
    {
     "data": {
      "application/vnd.jupyter.widget-view+json": {
       "model_id": "0828ff9838fc4e4794cd64f37ff6b627",
       "version_major": 2,
       "version_minor": 0
      },
      "text/plain": [
       "  0%|          | 0/46 [00:00<?, ?it/s]"
      ]
     },
     "metadata": {},
     "output_type": "display_data"
    },
    {
     "name": "stdout",
     "output_type": "stream",
     "text": [
      "Epoch 172 validation loss: 1.6709\n",
      "Training epoch 173...\n",
      "Current LR: 0.01245\n"
     ]
    },
    {
     "data": {
      "application/vnd.jupyter.widget-view+json": {
       "model_id": "b34e973a95c544f4975211222fe4f517",
       "version_major": 2,
       "version_minor": 0
      },
      "text/plain": [
       "  0%|          | 0/113 [00:00<?, ?it/s]"
      ]
     },
     "metadata": {},
     "output_type": "display_data"
    },
    {
     "name": "stdout",
     "output_type": "stream",
     "text": [
      "Epoch 173 train loss: 6.1825\n",
      "Validating epoch 173\n"
     ]
    },
    {
     "data": {
      "application/vnd.jupyter.widget-view+json": {
       "model_id": "29f21643122a4fd6aade8e1520ff4b9b",
       "version_major": 2,
       "version_minor": 0
      },
      "text/plain": [
       "  0%|          | 0/46 [00:00<?, ?it/s]"
      ]
     },
     "metadata": {},
     "output_type": "display_data"
    },
    {
     "name": "stdout",
     "output_type": "stream",
     "text": [
      "Epoch 173 validation loss: 1.6718\n",
      "Training epoch 174...\n",
      "Current LR: 0.01245\n"
     ]
    },
    {
     "data": {
      "application/vnd.jupyter.widget-view+json": {
       "model_id": "902d14f643074a50ba7d465dc9d9e7dd",
       "version_major": 2,
       "version_minor": 0
      },
      "text/plain": [
       "  0%|          | 0/113 [00:00<?, ?it/s]"
      ]
     },
     "metadata": {},
     "output_type": "display_data"
    },
    {
     "name": "stdout",
     "output_type": "stream",
     "text": [
      "Epoch 174 train loss: 6.0886\n",
      "Validating epoch 174\n"
     ]
    },
    {
     "data": {
      "application/vnd.jupyter.widget-view+json": {
       "model_id": "6391be79c0464d58ac12e3637644a44b",
       "version_major": 2,
       "version_minor": 0
      },
      "text/plain": [
       "  0%|          | 0/46 [00:00<?, ?it/s]"
      ]
     },
     "metadata": {},
     "output_type": "display_data"
    },
    {
     "name": "stdout",
     "output_type": "stream",
     "text": [
      "Epoch 174 validation loss: 1.6632\n",
      "Training epoch 175...\n",
      "Current LR: 0.01245\n"
     ]
    },
    {
     "data": {
      "application/vnd.jupyter.widget-view+json": {
       "model_id": "0d9f9b6c9fca45728b0780b7bf7ea0da",
       "version_major": 2,
       "version_minor": 0
      },
      "text/plain": [
       "  0%|          | 0/113 [00:00<?, ?it/s]"
      ]
     },
     "metadata": {},
     "output_type": "display_data"
    },
    {
     "name": "stdout",
     "output_type": "stream",
     "text": [
      "Epoch 175 train loss: 6.0088\n",
      "Validating epoch 175\n"
     ]
    },
    {
     "data": {
      "application/vnd.jupyter.widget-view+json": {
       "model_id": "3619c343f6d648c7b569b6b119c15116",
       "version_major": 2,
       "version_minor": 0
      },
      "text/plain": [
       "  0%|          | 0/46 [00:00<?, ?it/s]"
      ]
     },
     "metadata": {},
     "output_type": "display_data"
    },
    {
     "name": "stdout",
     "output_type": "stream",
     "text": [
      "Epoch 175 validation loss: 1.6621\n",
      "Training epoch 176...\n",
      "Current LR: 0.01245\n"
     ]
    },
    {
     "data": {
      "application/vnd.jupyter.widget-view+json": {
       "model_id": "7f418c75fa3f465883d7c640d6fb6572",
       "version_major": 2,
       "version_minor": 0
      },
      "text/plain": [
       "  0%|          | 0/113 [00:00<?, ?it/s]"
      ]
     },
     "metadata": {},
     "output_type": "display_data"
    },
    {
     "name": "stdout",
     "output_type": "stream",
     "text": [
      "Epoch 176 train loss: 5.9610\n",
      "Validating epoch 176\n"
     ]
    },
    {
     "data": {
      "application/vnd.jupyter.widget-view+json": {
       "model_id": "64ce3afd2d824b83af6f77db52a0ef51",
       "version_major": 2,
       "version_minor": 0
      },
      "text/plain": [
       "  0%|          | 0/46 [00:00<?, ?it/s]"
      ]
     },
     "metadata": {},
     "output_type": "display_data"
    },
    {
     "name": "stdout",
     "output_type": "stream",
     "text": [
      "Epoch 176 validation loss: 1.6792\n",
      "Training epoch 177...\n",
      "Current LR: 0.01245\n"
     ]
    },
    {
     "data": {
      "application/vnd.jupyter.widget-view+json": {
       "model_id": "2e156cd027f247d6bb877b316b9d91a6",
       "version_major": 2,
       "version_minor": 0
      },
      "text/plain": [
       "  0%|          | 0/113 [00:00<?, ?it/s]"
      ]
     },
     "metadata": {},
     "output_type": "display_data"
    },
    {
     "name": "stdout",
     "output_type": "stream",
     "text": [
      "Epoch 177 train loss: 5.9085\n",
      "Validating epoch 177\n"
     ]
    },
    {
     "data": {
      "application/vnd.jupyter.widget-view+json": {
       "model_id": "2c991fe0dc0c4d458d98d4bf24096995",
       "version_major": 2,
       "version_minor": 0
      },
      "text/plain": [
       "  0%|          | 0/46 [00:00<?, ?it/s]"
      ]
     },
     "metadata": {},
     "output_type": "display_data"
    },
    {
     "name": "stdout",
     "output_type": "stream",
     "text": [
      "Epoch 177 validation loss: 1.6822\n",
      "Training epoch 178...\n",
      "Current LR: 0.01245\n"
     ]
    },
    {
     "data": {
      "application/vnd.jupyter.widget-view+json": {
       "model_id": "3e5d2e5b556545bca04083136f963862",
       "version_major": 2,
       "version_minor": 0
      },
      "text/plain": [
       "  0%|          | 0/113 [00:00<?, ?it/s]"
      ]
     },
     "metadata": {},
     "output_type": "display_data"
    },
    {
     "name": "stdout",
     "output_type": "stream",
     "text": [
      "Epoch 178 train loss: 5.8426\n",
      "Validating epoch 178\n"
     ]
    },
    {
     "data": {
      "application/vnd.jupyter.widget-view+json": {
       "model_id": "da4f32ece1c3445aaa1feaebc3809755",
       "version_major": 2,
       "version_minor": 0
      },
      "text/plain": [
       "  0%|          | 0/46 [00:00<?, ?it/s]"
      ]
     },
     "metadata": {},
     "output_type": "display_data"
    },
    {
     "name": "stdout",
     "output_type": "stream",
     "text": [
      "Epoch 178 validation loss: 1.6880\n",
      "Training epoch 179...\n",
      "Current LR: 0.01245\n"
     ]
    },
    {
     "data": {
      "application/vnd.jupyter.widget-view+json": {
       "model_id": "43e1aa215c5544ce932df3a1abdc56e0",
       "version_major": 2,
       "version_minor": 0
      },
      "text/plain": [
       "  0%|          | 0/113 [00:00<?, ?it/s]"
      ]
     },
     "metadata": {},
     "output_type": "display_data"
    },
    {
     "name": "stdout",
     "output_type": "stream",
     "text": [
      "Epoch 179 train loss: 5.7725\n",
      "Validating epoch 179\n"
     ]
    },
    {
     "data": {
      "application/vnd.jupyter.widget-view+json": {
       "model_id": "a7a0e29dd4164010aa277c000e44b727",
       "version_major": 2,
       "version_minor": 0
      },
      "text/plain": [
       "  0%|          | 0/46 [00:00<?, ?it/s]"
      ]
     },
     "metadata": {},
     "output_type": "display_data"
    },
    {
     "name": "stdout",
     "output_type": "stream",
     "text": [
      "Epoch 179 validation loss: 1.6791\n",
      "Training epoch 180...\n",
      "Current LR: 0.01245\n"
     ]
    },
    {
     "data": {
      "application/vnd.jupyter.widget-view+json": {
       "model_id": "4cce1422ccb64339ab3997bf4a739015",
       "version_major": 2,
       "version_minor": 0
      },
      "text/plain": [
       "  0%|          | 0/113 [00:00<?, ?it/s]"
      ]
     },
     "metadata": {},
     "output_type": "display_data"
    },
    {
     "name": "stdout",
     "output_type": "stream",
     "text": [
      "Epoch 180 train loss: 5.7230\n",
      "Validating epoch 180\n"
     ]
    },
    {
     "data": {
      "application/vnd.jupyter.widget-view+json": {
       "model_id": "773826e1814b4fc3845e06422a197e7b",
       "version_major": 2,
       "version_minor": 0
      },
      "text/plain": [
       "  0%|          | 0/46 [00:00<?, ?it/s]"
      ]
     },
     "metadata": {},
     "output_type": "display_data"
    },
    {
     "name": "stdout",
     "output_type": "stream",
     "text": [
      "Epoch 180 validation loss: 1.6619\n",
      "Training epoch 181...\n",
      "Current LR: 0.01245\n"
     ]
    },
    {
     "data": {
      "application/vnd.jupyter.widget-view+json": {
       "model_id": "653b3e3e3c3f4d1db73a615646d26b06",
       "version_major": 2,
       "version_minor": 0
      },
      "text/plain": [
       "  0%|          | 0/113 [00:00<?, ?it/s]"
      ]
     },
     "metadata": {},
     "output_type": "display_data"
    },
    {
     "name": "stdout",
     "output_type": "stream",
     "text": [
      "Epoch 181 train loss: 5.6685\n",
      "Validating epoch 181\n"
     ]
    },
    {
     "data": {
      "application/vnd.jupyter.widget-view+json": {
       "model_id": "b06fb240c3184ddaab715c06021e92fa",
       "version_major": 2,
       "version_minor": 0
      },
      "text/plain": [
       "  0%|          | 0/46 [00:00<?, ?it/s]"
      ]
     },
     "metadata": {},
     "output_type": "display_data"
    },
    {
     "name": "stdout",
     "output_type": "stream",
     "text": [
      "Epoch 181 validation loss: 1.6826\n",
      "Training epoch 182...\n",
      "Current LR: 0.01245\n"
     ]
    },
    {
     "data": {
      "application/vnd.jupyter.widget-view+json": {
       "model_id": "0ea52db6578b45ecac60f3f6eed325e1",
       "version_major": 2,
       "version_minor": 0
      },
      "text/plain": [
       "  0%|          | 0/113 [00:00<?, ?it/s]"
      ]
     },
     "metadata": {},
     "output_type": "display_data"
    },
    {
     "name": "stdout",
     "output_type": "stream",
     "text": [
      "Epoch 182 train loss: 5.6158\n",
      "Validating epoch 182\n"
     ]
    },
    {
     "data": {
      "application/vnd.jupyter.widget-view+json": {
       "model_id": "40551bfb4e0d4a65ba3afa75d796b79a",
       "version_major": 2,
       "version_minor": 0
      },
      "text/plain": [
       "  0%|          | 0/46 [00:00<?, ?it/s]"
      ]
     },
     "metadata": {},
     "output_type": "display_data"
    },
    {
     "name": "stdout",
     "output_type": "stream",
     "text": [
      "Epoch 182 validation loss: 1.6715\n",
      "Training epoch 183...\n",
      "Current LR: 0.01245\n"
     ]
    },
    {
     "data": {
      "application/vnd.jupyter.widget-view+json": {
       "model_id": "16544ccb6cf04862aa3cd532a2f7434a",
       "version_major": 2,
       "version_minor": 0
      },
      "text/plain": [
       "  0%|          | 0/113 [00:00<?, ?it/s]"
      ]
     },
     "metadata": {},
     "output_type": "display_data"
    },
    {
     "name": "stdout",
     "output_type": "stream",
     "text": [
      "Epoch 183 train loss: 5.5680\n",
      "Validating epoch 183\n"
     ]
    },
    {
     "data": {
      "application/vnd.jupyter.widget-view+json": {
       "model_id": "298f4ddb2371449abc3d51b5d3adb977",
       "version_major": 2,
       "version_minor": 0
      },
      "text/plain": [
       "  0%|          | 0/46 [00:00<?, ?it/s]"
      ]
     },
     "metadata": {},
     "output_type": "display_data"
    },
    {
     "name": "stdout",
     "output_type": "stream",
     "text": [
      "Epoch 183 validation loss: 1.6703\n",
      "Training epoch 184...\n",
      "Current LR: 0.01245\n"
     ]
    },
    {
     "data": {
      "application/vnd.jupyter.widget-view+json": {
       "model_id": "20dfc6cd21054d9090d558279a4f1d0e",
       "version_major": 2,
       "version_minor": 0
      },
      "text/plain": [
       "  0%|          | 0/113 [00:00<?, ?it/s]"
      ]
     },
     "metadata": {},
     "output_type": "display_data"
    },
    {
     "name": "stdout",
     "output_type": "stream",
     "text": [
      "Epoch 184 train loss: 5.5393\n",
      "Validating epoch 184\n"
     ]
    },
    {
     "data": {
      "application/vnd.jupyter.widget-view+json": {
       "model_id": "3be32065200848ddb504f34f385d18a1",
       "version_major": 2,
       "version_minor": 0
      },
      "text/plain": [
       "  0%|          | 0/46 [00:00<?, ?it/s]"
      ]
     },
     "metadata": {},
     "output_type": "display_data"
    },
    {
     "name": "stdout",
     "output_type": "stream",
     "text": [
      "Epoch 184 validation loss: 1.6750\n",
      "Training epoch 185...\n",
      "Current LR: 0.01245\n"
     ]
    },
    {
     "data": {
      "application/vnd.jupyter.widget-view+json": {
       "model_id": "f67c0b74dd2540cb99d0b3a6c6542a5d",
       "version_major": 2,
       "version_minor": 0
      },
      "text/plain": [
       "  0%|          | 0/113 [00:00<?, ?it/s]"
      ]
     },
     "metadata": {},
     "output_type": "display_data"
    },
    {
     "name": "stdout",
     "output_type": "stream",
     "text": [
      "Epoch 185 train loss: 5.4966\n",
      "Validating epoch 185\n"
     ]
    },
    {
     "data": {
      "application/vnd.jupyter.widget-view+json": {
       "model_id": "16982e18cd324a23bf5296fd9131c195",
       "version_major": 2,
       "version_minor": 0
      },
      "text/plain": [
       "  0%|          | 0/46 [00:00<?, ?it/s]"
      ]
     },
     "metadata": {},
     "output_type": "display_data"
    },
    {
     "name": "stdout",
     "output_type": "stream",
     "text": [
      "Epoch 185 validation loss: 1.6561\n",
      "Training epoch 186...\n",
      "Current LR: 0.01245\n"
     ]
    },
    {
     "data": {
      "application/vnd.jupyter.widget-view+json": {
       "model_id": "ae76add8deb0419abf54f7a5f0333c30",
       "version_major": 2,
       "version_minor": 0
      },
      "text/plain": [
       "  0%|          | 0/113 [00:00<?, ?it/s]"
      ]
     },
     "metadata": {},
     "output_type": "display_data"
    },
    {
     "name": "stdout",
     "output_type": "stream",
     "text": [
      "Epoch 186 train loss: 5.4245\n",
      "Validating epoch 186\n"
     ]
    },
    {
     "data": {
      "application/vnd.jupyter.widget-view+json": {
       "model_id": "f44ce3d3731142a2b55e34afd0ced051",
       "version_major": 2,
       "version_minor": 0
      },
      "text/plain": [
       "  0%|          | 0/46 [00:00<?, ?it/s]"
      ]
     },
     "metadata": {},
     "output_type": "display_data"
    },
    {
     "name": "stdout",
     "output_type": "stream",
     "text": [
      "Epoch 186 validation loss: 1.6517\n",
      "Training epoch 187...\n",
      "Current LR: 0.01245\n"
     ]
    },
    {
     "data": {
      "application/vnd.jupyter.widget-view+json": {
       "model_id": "d3923f002dcc42d8965a021d5603c196",
       "version_major": 2,
       "version_minor": 0
      },
      "text/plain": [
       "  0%|          | 0/113 [00:00<?, ?it/s]"
      ]
     },
     "metadata": {},
     "output_type": "display_data"
    },
    {
     "name": "stdout",
     "output_type": "stream",
     "text": [
      "Epoch 187 train loss: 5.3897\n",
      "Validating epoch 187\n"
     ]
    },
    {
     "data": {
      "application/vnd.jupyter.widget-view+json": {
       "model_id": "4e87ae29423b4abaadff975f00ae8b9b",
       "version_major": 2,
       "version_minor": 0
      },
      "text/plain": [
       "  0%|          | 0/46 [00:00<?, ?it/s]"
      ]
     },
     "metadata": {},
     "output_type": "display_data"
    },
    {
     "name": "stdout",
     "output_type": "stream",
     "text": [
      "Epoch 187 validation loss: 1.6662\n",
      "Training epoch 188...\n",
      "Current LR: 0.01245\n"
     ]
    },
    {
     "data": {
      "application/vnd.jupyter.widget-view+json": {
       "model_id": "3bb10db3de5a4657b2505d5f4df46cf3",
       "version_major": 2,
       "version_minor": 0
      },
      "text/plain": [
       "  0%|          | 0/113 [00:00<?, ?it/s]"
      ]
     },
     "metadata": {},
     "output_type": "display_data"
    },
    {
     "name": "stdout",
     "output_type": "stream",
     "text": [
      "Epoch 188 train loss: 5.3397\n",
      "Validating epoch 188\n"
     ]
    },
    {
     "data": {
      "application/vnd.jupyter.widget-view+json": {
       "model_id": "db9ad7ceded34a029ae8bc2b28fdeff8",
       "version_major": 2,
       "version_minor": 0
      },
      "text/plain": [
       "  0%|          | 0/46 [00:00<?, ?it/s]"
      ]
     },
     "metadata": {},
     "output_type": "display_data"
    },
    {
     "name": "stdout",
     "output_type": "stream",
     "text": [
      "Epoch 188 validation loss: 1.6553\n",
      "Training epoch 189...\n",
      "Current LR: 0.01245\n"
     ]
    },
    {
     "data": {
      "application/vnd.jupyter.widget-view+json": {
       "model_id": "6c3c8daae9374bca8295120daadb2d99",
       "version_major": 2,
       "version_minor": 0
      },
      "text/plain": [
       "  0%|          | 0/113 [00:00<?, ?it/s]"
      ]
     },
     "metadata": {},
     "output_type": "display_data"
    },
    {
     "name": "stdout",
     "output_type": "stream",
     "text": [
      "Epoch 189 train loss: 5.2709\n",
      "Validating epoch 189\n"
     ]
    },
    {
     "data": {
      "application/vnd.jupyter.widget-view+json": {
       "model_id": "f4e43fa969ef434bbef8ef3e4ba7a808",
       "version_major": 2,
       "version_minor": 0
      },
      "text/plain": [
       "  0%|          | 0/46 [00:00<?, ?it/s]"
      ]
     },
     "metadata": {},
     "output_type": "display_data"
    },
    {
     "name": "stdout",
     "output_type": "stream",
     "text": [
      "Epoch 189 validation loss: 1.6570\n",
      "Training epoch 190...\n",
      "Current LR: 0.01245\n"
     ]
    },
    {
     "data": {
      "application/vnd.jupyter.widget-view+json": {
       "model_id": "58fb29b4b7ad49f898c6ce0358363d35",
       "version_major": 2,
       "version_minor": 0
      },
      "text/plain": [
       "  0%|          | 0/113 [00:00<?, ?it/s]"
      ]
     },
     "metadata": {},
     "output_type": "display_data"
    },
    {
     "name": "stdout",
     "output_type": "stream",
     "text": [
      "Epoch 190 train loss: 5.2460\n",
      "Validating epoch 190\n"
     ]
    },
    {
     "data": {
      "application/vnd.jupyter.widget-view+json": {
       "model_id": "d1212ae274f04756ada76c1b25cfddb5",
       "version_major": 2,
       "version_minor": 0
      },
      "text/plain": [
       "  0%|          | 0/46 [00:00<?, ?it/s]"
      ]
     },
     "metadata": {},
     "output_type": "display_data"
    },
    {
     "name": "stdout",
     "output_type": "stream",
     "text": [
      "Epoch 190 validation loss: 1.6655\n",
      "Training epoch 191...\n",
      "Current LR: 0.01245\n"
     ]
    },
    {
     "data": {
      "application/vnd.jupyter.widget-view+json": {
       "model_id": "973a011482e14cdbacd592a73b627444",
       "version_major": 2,
       "version_minor": 0
      },
      "text/plain": [
       "  0%|          | 0/113 [00:00<?, ?it/s]"
      ]
     },
     "metadata": {},
     "output_type": "display_data"
    },
    {
     "name": "stdout",
     "output_type": "stream",
     "text": [
      "Epoch 191 train loss: 5.2086\n",
      "Validating epoch 191\n"
     ]
    },
    {
     "data": {
      "application/vnd.jupyter.widget-view+json": {
       "model_id": "247eeff9052f4f4a9ca983f645c85641",
       "version_major": 2,
       "version_minor": 0
      },
      "text/plain": [
       "  0%|          | 0/46 [00:00<?, ?it/s]"
      ]
     },
     "metadata": {},
     "output_type": "display_data"
    },
    {
     "name": "stdout",
     "output_type": "stream",
     "text": [
      "Epoch 191 validation loss: 1.6650\n",
      "Training epoch 192...\n",
      "Current LR: 0.01245\n"
     ]
    },
    {
     "data": {
      "application/vnd.jupyter.widget-view+json": {
       "model_id": "fa33b736e0ef4e7faa7829d98ffbbb9a",
       "version_major": 2,
       "version_minor": 0
      },
      "text/plain": [
       "  0%|          | 0/113 [00:00<?, ?it/s]"
      ]
     },
     "metadata": {},
     "output_type": "display_data"
    },
    {
     "name": "stdout",
     "output_type": "stream",
     "text": [
      "Epoch 192 train loss: 5.1388\n",
      "Validating epoch 192\n"
     ]
    },
    {
     "data": {
      "application/vnd.jupyter.widget-view+json": {
       "model_id": "5c2d7639f73a41f4b42f53e1edc9f9ce",
       "version_major": 2,
       "version_minor": 0
      },
      "text/plain": [
       "  0%|          | 0/46 [00:00<?, ?it/s]"
      ]
     },
     "metadata": {},
     "output_type": "display_data"
    },
    {
     "name": "stdout",
     "output_type": "stream",
     "text": [
      "Epoch 192 validation loss: 1.6890\n",
      "Training epoch 193...\n",
      "Current LR: 0.01245\n"
     ]
    },
    {
     "data": {
      "application/vnd.jupyter.widget-view+json": {
       "model_id": "d17bd793335b4b34ad9442637a8941e2",
       "version_major": 2,
       "version_minor": 0
      },
      "text/plain": [
       "  0%|          | 0/113 [00:00<?, ?it/s]"
      ]
     },
     "metadata": {},
     "output_type": "display_data"
    },
    {
     "name": "stdout",
     "output_type": "stream",
     "text": [
      "Epoch 193 train loss: 5.1117\n",
      "Validating epoch 193\n"
     ]
    },
    {
     "data": {
      "application/vnd.jupyter.widget-view+json": {
       "model_id": "3c007da550f04239ad606f5c36f2576a",
       "version_major": 2,
       "version_minor": 0
      },
      "text/plain": [
       "  0%|          | 0/46 [00:00<?, ?it/s]"
      ]
     },
     "metadata": {},
     "output_type": "display_data"
    },
    {
     "name": "stdout",
     "output_type": "stream",
     "text": [
      "Epoch 193 validation loss: 1.6748\n",
      "Training epoch 194...\n",
      "Current LR: 0.01245\n"
     ]
    },
    {
     "data": {
      "application/vnd.jupyter.widget-view+json": {
       "model_id": "5879c5064dfd409c9d4c6ffd88577979",
       "version_major": 2,
       "version_minor": 0
      },
      "text/plain": [
       "  0%|          | 0/113 [00:00<?, ?it/s]"
      ]
     },
     "metadata": {},
     "output_type": "display_data"
    },
    {
     "name": "stdout",
     "output_type": "stream",
     "text": [
      "Epoch 194 train loss: 5.0576\n",
      "Validating epoch 194\n"
     ]
    },
    {
     "data": {
      "application/vnd.jupyter.widget-view+json": {
       "model_id": "cb39d94cc3434512805237ef06c5a96b",
       "version_major": 2,
       "version_minor": 0
      },
      "text/plain": [
       "  0%|          | 0/46 [00:00<?, ?it/s]"
      ]
     },
     "metadata": {},
     "output_type": "display_data"
    },
    {
     "name": "stdout",
     "output_type": "stream",
     "text": [
      "Epoch 194 validation loss: 1.6575\n",
      "Training epoch 195...\n",
      "Current LR: 0.01245\n"
     ]
    },
    {
     "data": {
      "application/vnd.jupyter.widget-view+json": {
       "model_id": "bcd791230d074bbaa6314016d2c40cac",
       "version_major": 2,
       "version_minor": 0
      },
      "text/plain": [
       "  0%|          | 0/113 [00:00<?, ?it/s]"
      ]
     },
     "metadata": {},
     "output_type": "display_data"
    },
    {
     "name": "stdout",
     "output_type": "stream",
     "text": [
      "Epoch 195 train loss: 5.0278\n",
      "Validating epoch 195\n"
     ]
    },
    {
     "data": {
      "application/vnd.jupyter.widget-view+json": {
       "model_id": "e1e138fd06c843ac8d5af46ab7380a49",
       "version_major": 2,
       "version_minor": 0
      },
      "text/plain": [
       "  0%|          | 0/46 [00:00<?, ?it/s]"
      ]
     },
     "metadata": {},
     "output_type": "display_data"
    },
    {
     "name": "stdout",
     "output_type": "stream",
     "text": [
      "Epoch 195 validation loss: 1.6448\n",
      "Saving new best model...\n",
      "Training epoch 196...\n",
      "Current LR: 0.01245\n"
     ]
    },
    {
     "data": {
      "application/vnd.jupyter.widget-view+json": {
       "model_id": "efefc3179f2c407387b8a9740734540b",
       "version_major": 2,
       "version_minor": 0
      },
      "text/plain": [
       "  0%|          | 0/113 [00:00<?, ?it/s]"
      ]
     },
     "metadata": {},
     "output_type": "display_data"
    },
    {
     "name": "stdout",
     "output_type": "stream",
     "text": [
      "Epoch 196 train loss: 5.6950\n",
      "Validating epoch 196\n"
     ]
    },
    {
     "data": {
      "application/vnd.jupyter.widget-view+json": {
       "model_id": "4f82aea42f4e4ebf86018aa17ffdd058",
       "version_major": 2,
       "version_minor": 0
      },
      "text/plain": [
       "  0%|          | 0/46 [00:00<?, ?it/s]"
      ]
     },
     "metadata": {},
     "output_type": "display_data"
    },
    {
     "name": "stdout",
     "output_type": "stream",
     "text": [
      "Epoch 196 validation loss: 1.6747\n",
      "Training epoch 197...\n",
      "Current LR: 0.01245\n"
     ]
    },
    {
     "data": {
      "application/vnd.jupyter.widget-view+json": {
       "model_id": "5ad89585fd694ee49cb36d2253a19246",
       "version_major": 2,
       "version_minor": 0
      },
      "text/plain": [
       "  0%|          | 0/113 [00:00<?, ?it/s]"
      ]
     },
     "metadata": {},
     "output_type": "display_data"
    },
    {
     "name": "stdout",
     "output_type": "stream",
     "text": [
      "Epoch 197 train loss: 5.0938\n",
      "Validating epoch 197\n"
     ]
    },
    {
     "data": {
      "application/vnd.jupyter.widget-view+json": {
       "model_id": "d46c071d340046478606409c2322e681",
       "version_major": 2,
       "version_minor": 0
      },
      "text/plain": [
       "  0%|          | 0/46 [00:00<?, ?it/s]"
      ]
     },
     "metadata": {},
     "output_type": "display_data"
    },
    {
     "name": "stdout",
     "output_type": "stream",
     "text": [
      "Epoch 197 validation loss: 1.6775\n",
      "Training epoch 198...\n",
      "Current LR: 0.01245\n"
     ]
    },
    {
     "data": {
      "application/vnd.jupyter.widget-view+json": {
       "model_id": "60b7dfc1a3a14fbc9e02254d9867935f",
       "version_major": 2,
       "version_minor": 0
      },
      "text/plain": [
       "  0%|          | 0/113 [00:00<?, ?it/s]"
      ]
     },
     "metadata": {},
     "output_type": "display_data"
    },
    {
     "name": "stdout",
     "output_type": "stream",
     "text": [
      "Epoch 198 train loss: 4.9825\n",
      "Validating epoch 198\n"
     ]
    },
    {
     "data": {
      "application/vnd.jupyter.widget-view+json": {
       "model_id": "34eb20c0a44249e0be2420adf9c65b95",
       "version_major": 2,
       "version_minor": 0
      },
      "text/plain": [
       "  0%|          | 0/46 [00:00<?, ?it/s]"
      ]
     },
     "metadata": {},
     "output_type": "display_data"
    },
    {
     "name": "stdout",
     "output_type": "stream",
     "text": [
      "Epoch 198 validation loss: 1.6907\n",
      "Training epoch 199...\n",
      "Current LR: 0.01245\n"
     ]
    },
    {
     "data": {
      "application/vnd.jupyter.widget-view+json": {
       "model_id": "f84b2df288524e2f8b7b5eb238146fe0",
       "version_major": 2,
       "version_minor": 0
      },
      "text/plain": [
       "  0%|          | 0/113 [00:00<?, ?it/s]"
      ]
     },
     "metadata": {},
     "output_type": "display_data"
    },
    {
     "name": "stdout",
     "output_type": "stream",
     "text": [
      "Epoch 199 train loss: 4.9856\n",
      "Validating epoch 199\n"
     ]
    },
    {
     "data": {
      "application/vnd.jupyter.widget-view+json": {
       "model_id": "00400a0cc23e4e77a6b5893ac4e9ba5d",
       "version_major": 2,
       "version_minor": 0
      },
      "text/plain": [
       "  0%|          | 0/46 [00:00<?, ?it/s]"
      ]
     },
     "metadata": {},
     "output_type": "display_data"
    },
    {
     "name": "stdout",
     "output_type": "stream",
     "text": [
      "Epoch 199 validation loss: 1.6556\n",
      "Training epoch 200...\n",
      "Current LR: 0.01245\n"
     ]
    },
    {
     "data": {
      "application/vnd.jupyter.widget-view+json": {
       "model_id": "662630a7a232496b8b401f0940921281",
       "version_major": 2,
       "version_minor": 0
      },
      "text/plain": [
       "  0%|          | 0/113 [00:00<?, ?it/s]"
      ]
     },
     "metadata": {},
     "output_type": "display_data"
    },
    {
     "name": "stdout",
     "output_type": "stream",
     "text": [
      "Epoch 200 train loss: 4.8979\n",
      "Validating epoch 200\n"
     ]
    },
    {
     "data": {
      "application/vnd.jupyter.widget-view+json": {
       "model_id": "ef9d7f2b32df47b88961a47a409bdae2",
       "version_major": 2,
       "version_minor": 0
      },
      "text/plain": [
       "  0%|          | 0/46 [00:00<?, ?it/s]"
      ]
     },
     "metadata": {},
     "output_type": "display_data"
    },
    {
     "name": "stdout",
     "output_type": "stream",
     "text": [
      "Epoch 200 validation loss: 1.6708\n",
      "Training epoch 201...\n",
      "Current LR: 0.01245\n"
     ]
    },
    {
     "data": {
      "application/vnd.jupyter.widget-view+json": {
       "model_id": "f11a70b99d09448587fc6869cd004643",
       "version_major": 2,
       "version_minor": 0
      },
      "text/plain": [
       "  0%|          | 0/113 [00:00<?, ?it/s]"
      ]
     },
     "metadata": {},
     "output_type": "display_data"
    },
    {
     "name": "stdout",
     "output_type": "stream",
     "text": [
      "Epoch 201 train loss: 4.8572\n",
      "Validating epoch 201\n"
     ]
    },
    {
     "data": {
      "application/vnd.jupyter.widget-view+json": {
       "model_id": "b5877d4662af462ea6aaee5bc6410cc7",
       "version_major": 2,
       "version_minor": 0
      },
      "text/plain": [
       "  0%|          | 0/46 [00:00<?, ?it/s]"
      ]
     },
     "metadata": {},
     "output_type": "display_data"
    },
    {
     "name": "stdout",
     "output_type": "stream",
     "text": [
      "Epoch 201 validation loss: 1.6565\n",
      "Training epoch 202...\n",
      "Current LR: 0.01245\n"
     ]
    },
    {
     "data": {
      "application/vnd.jupyter.widget-view+json": {
       "model_id": "7d40c98539e24108af6ccb2199cb162c",
       "version_major": 2,
       "version_minor": 0
      },
      "text/plain": [
       "  0%|          | 0/113 [00:00<?, ?it/s]"
      ]
     },
     "metadata": {},
     "output_type": "display_data"
    },
    {
     "name": "stdout",
     "output_type": "stream",
     "text": [
      "Epoch 202 train loss: 4.8276\n",
      "Validating epoch 202\n"
     ]
    },
    {
     "data": {
      "application/vnd.jupyter.widget-view+json": {
       "model_id": "8f280612a23548be94cf7569c6a3f488",
       "version_major": 2,
       "version_minor": 0
      },
      "text/plain": [
       "  0%|          | 0/46 [00:00<?, ?it/s]"
      ]
     },
     "metadata": {},
     "output_type": "display_data"
    },
    {
     "name": "stdout",
     "output_type": "stream",
     "text": [
      "Epoch 202 validation loss: 1.6508\n",
      "Training epoch 203...\n",
      "Current LR: 0.01245\n"
     ]
    },
    {
     "data": {
      "application/vnd.jupyter.widget-view+json": {
       "model_id": "ec43d246a0794d5b8c7bfb4b83b9011f",
       "version_major": 2,
       "version_minor": 0
      },
      "text/plain": [
       "  0%|          | 0/113 [00:00<?, ?it/s]"
      ]
     },
     "metadata": {},
     "output_type": "display_data"
    },
    {
     "name": "stdout",
     "output_type": "stream",
     "text": [
      "Epoch 203 train loss: 4.7932\n",
      "Validating epoch 203\n"
     ]
    },
    {
     "data": {
      "application/vnd.jupyter.widget-view+json": {
       "model_id": "bb6b77d5936644d8af716a691d90c3bd",
       "version_major": 2,
       "version_minor": 0
      },
      "text/plain": [
       "  0%|          | 0/46 [00:00<?, ?it/s]"
      ]
     },
     "metadata": {},
     "output_type": "display_data"
    },
    {
     "name": "stdout",
     "output_type": "stream",
     "text": [
      "Epoch 203 validation loss: 1.6516\n",
      "Training epoch 204...\n",
      "Current LR: 0.01245\n"
     ]
    },
    {
     "data": {
      "application/vnd.jupyter.widget-view+json": {
       "model_id": "9bb1502ae6ac4eb499756397bc7bf996",
       "version_major": 2,
       "version_minor": 0
      },
      "text/plain": [
       "  0%|          | 0/113 [00:00<?, ?it/s]"
      ]
     },
     "metadata": {},
     "output_type": "display_data"
    },
    {
     "name": "stdout",
     "output_type": "stream",
     "text": [
      "Epoch 204 train loss: 4.7368\n",
      "Validating epoch 204\n"
     ]
    },
    {
     "data": {
      "application/vnd.jupyter.widget-view+json": {
       "model_id": "2f8953449f07457db97d097c402e33ca",
       "version_major": 2,
       "version_minor": 0
      },
      "text/plain": [
       "  0%|          | 0/46 [00:00<?, ?it/s]"
      ]
     },
     "metadata": {},
     "output_type": "display_data"
    },
    {
     "name": "stdout",
     "output_type": "stream",
     "text": [
      "Epoch 204 validation loss: 1.6495\n",
      "Training epoch 205...\n",
      "Current LR: 0.01245\n"
     ]
    },
    {
     "data": {
      "application/vnd.jupyter.widget-view+json": {
       "model_id": "de10e43e84924e609bb88d1403ae6f4e",
       "version_major": 2,
       "version_minor": 0
      },
      "text/plain": [
       "  0%|          | 0/113 [00:00<?, ?it/s]"
      ]
     },
     "metadata": {},
     "output_type": "display_data"
    },
    {
     "name": "stdout",
     "output_type": "stream",
     "text": [
      "Epoch 205 train loss: 4.7224\n",
      "Validating epoch 205\n"
     ]
    },
    {
     "data": {
      "application/vnd.jupyter.widget-view+json": {
       "model_id": "9fbb80ec5e754430b5e51da3697b103b",
       "version_major": 2,
       "version_minor": 0
      },
      "text/plain": [
       "  0%|          | 0/46 [00:00<?, ?it/s]"
      ]
     },
     "metadata": {},
     "output_type": "display_data"
    },
    {
     "name": "stdout",
     "output_type": "stream",
     "text": [
      "Epoch 205 validation loss: 1.6506\n",
      "Training epoch 206...\n",
      "Current LR: 0.01245\n"
     ]
    },
    {
     "data": {
      "application/vnd.jupyter.widget-view+json": {
       "model_id": "eef73440cc0a4d3b8bc996224668b08c",
       "version_major": 2,
       "version_minor": 0
      },
      "text/plain": [
       "  0%|          | 0/113 [00:00<?, ?it/s]"
      ]
     },
     "metadata": {},
     "output_type": "display_data"
    },
    {
     "name": "stdout",
     "output_type": "stream",
     "text": [
      "Epoch 206 train loss: 4.6812\n",
      "Validating epoch 206\n"
     ]
    },
    {
     "data": {
      "application/vnd.jupyter.widget-view+json": {
       "model_id": "ce557c8786444179ab26501d3c687966",
       "version_major": 2,
       "version_minor": 0
      },
      "text/plain": [
       "  0%|          | 0/46 [00:00<?, ?it/s]"
      ]
     },
     "metadata": {},
     "output_type": "display_data"
    },
    {
     "name": "stdout",
     "output_type": "stream",
     "text": [
      "Epoch 206 validation loss: 1.6613\n",
      "Training epoch 207...\n",
      "Current LR: 0.01245\n"
     ]
    },
    {
     "data": {
      "application/vnd.jupyter.widget-view+json": {
       "model_id": "4a5ee43de0ed450690742faab06cdd00",
       "version_major": 2,
       "version_minor": 0
      },
      "text/plain": [
       "  0%|          | 0/113 [00:00<?, ?it/s]"
      ]
     },
     "metadata": {},
     "output_type": "display_data"
    },
    {
     "name": "stdout",
     "output_type": "stream",
     "text": [
      "Epoch 207 train loss: 4.6341\n",
      "Validating epoch 207\n"
     ]
    },
    {
     "data": {
      "application/vnd.jupyter.widget-view+json": {
       "model_id": "bec866a0cbd642f4b1de3c775d875509",
       "version_major": 2,
       "version_minor": 0
      },
      "text/plain": [
       "  0%|          | 0/46 [00:00<?, ?it/s]"
      ]
     },
     "metadata": {},
     "output_type": "display_data"
    },
    {
     "name": "stdout",
     "output_type": "stream",
     "text": [
      "Epoch 207 validation loss: 1.6572\n",
      "Training epoch 208...\n",
      "Current LR: 0.01245\n"
     ]
    },
    {
     "data": {
      "application/vnd.jupyter.widget-view+json": {
       "model_id": "234474b20df34e2f9583785ead504706",
       "version_major": 2,
       "version_minor": 0
      },
      "text/plain": [
       "  0%|          | 0/113 [00:00<?, ?it/s]"
      ]
     },
     "metadata": {},
     "output_type": "display_data"
    },
    {
     "name": "stdout",
     "output_type": "stream",
     "text": [
      "Epoch 208 train loss: 4.6580\n",
      "Validating epoch 208\n"
     ]
    },
    {
     "data": {
      "application/vnd.jupyter.widget-view+json": {
       "model_id": "768fcfb972464898898c785aa2a57a78",
       "version_major": 2,
       "version_minor": 0
      },
      "text/plain": [
       "  0%|          | 0/46 [00:00<?, ?it/s]"
      ]
     },
     "metadata": {},
     "output_type": "display_data"
    },
    {
     "name": "stdout",
     "output_type": "stream",
     "text": [
      "Epoch 208 validation loss: 1.6519\n",
      "Training epoch 209...\n",
      "Current LR: 0.01245\n"
     ]
    },
    {
     "data": {
      "application/vnd.jupyter.widget-view+json": {
       "model_id": "e141862efe984d20995b42d3a8e0e3d6",
       "version_major": 2,
       "version_minor": 0
      },
      "text/plain": [
       "  0%|          | 0/113 [00:00<?, ?it/s]"
      ]
     },
     "metadata": {},
     "output_type": "display_data"
    },
    {
     "name": "stdout",
     "output_type": "stream",
     "text": [
      "Epoch 209 train loss: 4.5669\n",
      "Validating epoch 209\n"
     ]
    },
    {
     "data": {
      "application/vnd.jupyter.widget-view+json": {
       "model_id": "be4d5ca441b34f6ca15c1ab31f4c183a",
       "version_major": 2,
       "version_minor": 0
      },
      "text/plain": [
       "  0%|          | 0/46 [00:00<?, ?it/s]"
      ]
     },
     "metadata": {},
     "output_type": "display_data"
    },
    {
     "name": "stdout",
     "output_type": "stream",
     "text": [
      "Epoch 209 validation loss: 1.6553\n",
      "Training epoch 210...\n",
      "Current LR: 0.01245\n"
     ]
    },
    {
     "data": {
      "application/vnd.jupyter.widget-view+json": {
       "model_id": "bc042c9663dd45ed969d6e3872dd5d88",
       "version_major": 2,
       "version_minor": 0
      },
      "text/plain": [
       "  0%|          | 0/113 [00:00<?, ?it/s]"
      ]
     },
     "metadata": {},
     "output_type": "display_data"
    },
    {
     "name": "stdout",
     "output_type": "stream",
     "text": [
      "Epoch 210 train loss: 4.5389\n",
      "Validating epoch 210\n"
     ]
    },
    {
     "data": {
      "application/vnd.jupyter.widget-view+json": {
       "model_id": "51cc1e640e004b71a0bfda8f9de9b9cc",
       "version_major": 2,
       "version_minor": 0
      },
      "text/plain": [
       "  0%|          | 0/46 [00:00<?, ?it/s]"
      ]
     },
     "metadata": {},
     "output_type": "display_data"
    },
    {
     "name": "stdout",
     "output_type": "stream",
     "text": [
      "Epoch 210 validation loss: 1.6732\n",
      "Training epoch 211...\n",
      "Current LR: 0.01245\n"
     ]
    },
    {
     "data": {
      "application/vnd.jupyter.widget-view+json": {
       "model_id": "df7eb0eb9db44ee6bd5385d7de20f1a5",
       "version_major": 2,
       "version_minor": 0
      },
      "text/plain": [
       "  0%|          | 0/113 [00:00<?, ?it/s]"
      ]
     },
     "metadata": {},
     "output_type": "display_data"
    },
    {
     "name": "stdout",
     "output_type": "stream",
     "text": [
      "Epoch 211 train loss: 4.5210\n",
      "Validating epoch 211\n"
     ]
    },
    {
     "data": {
      "application/vnd.jupyter.widget-view+json": {
       "model_id": "a05eb248fc8f4325ada608f226f7d512",
       "version_major": 2,
       "version_minor": 0
      },
      "text/plain": [
       "  0%|          | 0/46 [00:00<?, ?it/s]"
      ]
     },
     "metadata": {},
     "output_type": "display_data"
    },
    {
     "name": "stdout",
     "output_type": "stream",
     "text": [
      "Epoch 211 validation loss: 1.6736\n",
      "Training epoch 212...\n",
      "Current LR: 0.01245\n"
     ]
    },
    {
     "data": {
      "application/vnd.jupyter.widget-view+json": {
       "model_id": "fd69b1cf750546f884a1637017559d14",
       "version_major": 2,
       "version_minor": 0
      },
      "text/plain": [
       "  0%|          | 0/113 [00:00<?, ?it/s]"
      ]
     },
     "metadata": {},
     "output_type": "display_data"
    },
    {
     "name": "stdout",
     "output_type": "stream",
     "text": [
      "Epoch 212 train loss: 4.4881\n",
      "Validating epoch 212\n"
     ]
    },
    {
     "data": {
      "application/vnd.jupyter.widget-view+json": {
       "model_id": "79bd1b08b7054898a34b8bc84b69852f",
       "version_major": 2,
       "version_minor": 0
      },
      "text/plain": [
       "  0%|          | 0/46 [00:00<?, ?it/s]"
      ]
     },
     "metadata": {},
     "output_type": "display_data"
    },
    {
     "name": "stdout",
     "output_type": "stream",
     "text": [
      "Epoch 212 validation loss: 1.6692\n",
      "Training epoch 213...\n",
      "Current LR: 0.01245\n"
     ]
    },
    {
     "data": {
      "application/vnd.jupyter.widget-view+json": {
       "model_id": "7b0495814c004c30908e28329cc430a5",
       "version_major": 2,
       "version_minor": 0
      },
      "text/plain": [
       "  0%|          | 0/113 [00:00<?, ?it/s]"
      ]
     },
     "metadata": {},
     "output_type": "display_data"
    },
    {
     "name": "stdout",
     "output_type": "stream",
     "text": [
      "Epoch 213 train loss: 4.4451\n",
      "Validating epoch 213\n"
     ]
    },
    {
     "data": {
      "application/vnd.jupyter.widget-view+json": {
       "model_id": "85ba7a453e8e4babb95d18276a73775e",
       "version_major": 2,
       "version_minor": 0
      },
      "text/plain": [
       "  0%|          | 0/46 [00:00<?, ?it/s]"
      ]
     },
     "metadata": {},
     "output_type": "display_data"
    },
    {
     "name": "stdout",
     "output_type": "stream",
     "text": [
      "Epoch 213 validation loss: 1.6594\n",
      "Training epoch 214...\n",
      "Current LR: 0.01245\n"
     ]
    },
    {
     "data": {
      "application/vnd.jupyter.widget-view+json": {
       "model_id": "ee9406c5682f44cc86f68f2a66310f41",
       "version_major": 2,
       "version_minor": 0
      },
      "text/plain": [
       "  0%|          | 0/113 [00:00<?, ?it/s]"
      ]
     },
     "metadata": {},
     "output_type": "display_data"
    },
    {
     "name": "stdout",
     "output_type": "stream",
     "text": [
      "Epoch 214 train loss: 4.4062\n",
      "Validating epoch 214\n"
     ]
    },
    {
     "data": {
      "application/vnd.jupyter.widget-view+json": {
       "model_id": "2d5c75dd474944f084506378c04687f8",
       "version_major": 2,
       "version_minor": 0
      },
      "text/plain": [
       "  0%|          | 0/46 [00:00<?, ?it/s]"
      ]
     },
     "metadata": {},
     "output_type": "display_data"
    },
    {
     "name": "stdout",
     "output_type": "stream",
     "text": [
      "Epoch 214 validation loss: 1.6709\n",
      "Training epoch 215...\n",
      "Current LR: 0.01245\n"
     ]
    },
    {
     "data": {
      "application/vnd.jupyter.widget-view+json": {
       "model_id": "bb57c29b86ee4b94a9a12e6ad2379f74",
       "version_major": 2,
       "version_minor": 0
      },
      "text/plain": [
       "  0%|          | 0/113 [00:00<?, ?it/s]"
      ]
     },
     "metadata": {},
     "output_type": "display_data"
    },
    {
     "name": "stdout",
     "output_type": "stream",
     "text": [
      "Epoch 215 train loss: 4.3763\n",
      "Validating epoch 215\n"
     ]
    },
    {
     "data": {
      "application/vnd.jupyter.widget-view+json": {
       "model_id": "d5581b0f048f4d0f82837435e96281e2",
       "version_major": 2,
       "version_minor": 0
      },
      "text/plain": [
       "  0%|          | 0/46 [00:00<?, ?it/s]"
      ]
     },
     "metadata": {},
     "output_type": "display_data"
    },
    {
     "name": "stdout",
     "output_type": "stream",
     "text": [
      "Epoch 215 validation loss: 1.6460\n",
      "Training epoch 216...\n",
      "Current LR: 0.01245\n"
     ]
    },
    {
     "data": {
      "application/vnd.jupyter.widget-view+json": {
       "model_id": "293f47b1eee84b78b83f10fc1d1ad487",
       "version_major": 2,
       "version_minor": 0
      },
      "text/plain": [
       "  0%|          | 0/113 [00:00<?, ?it/s]"
      ]
     },
     "metadata": {},
     "output_type": "display_data"
    },
    {
     "name": "stdout",
     "output_type": "stream",
     "text": [
      "Epoch 216 train loss: 4.3204\n",
      "Validating epoch 216\n"
     ]
    },
    {
     "data": {
      "application/vnd.jupyter.widget-view+json": {
       "model_id": "6bba6c7ea8f54f25a81239ee5fa43982",
       "version_major": 2,
       "version_minor": 0
      },
      "text/plain": [
       "  0%|          | 0/46 [00:00<?, ?it/s]"
      ]
     },
     "metadata": {},
     "output_type": "display_data"
    },
    {
     "name": "stdout",
     "output_type": "stream",
     "text": [
      "Epoch 216 validation loss: 1.6830\n",
      "Training epoch 217...\n",
      "Current LR: 0.01245\n"
     ]
    },
    {
     "data": {
      "application/vnd.jupyter.widget-view+json": {
       "model_id": "01b0655cb7024056b2bc44bafbf64f1a",
       "version_major": 2,
       "version_minor": 0
      },
      "text/plain": [
       "  0%|          | 0/113 [00:00<?, ?it/s]"
      ]
     },
     "metadata": {},
     "output_type": "display_data"
    },
    {
     "name": "stdout",
     "output_type": "stream",
     "text": [
      "Epoch 217 train loss: 4.2904\n",
      "Validating epoch 217\n"
     ]
    },
    {
     "data": {
      "application/vnd.jupyter.widget-view+json": {
       "model_id": "dbf9187919fc47e7befdbe46228fb42e",
       "version_major": 2,
       "version_minor": 0
      },
      "text/plain": [
       "  0%|          | 0/46 [00:00<?, ?it/s]"
      ]
     },
     "metadata": {},
     "output_type": "display_data"
    },
    {
     "name": "stdout",
     "output_type": "stream",
     "text": [
      "Epoch 217 validation loss: 1.6519\n",
      "Training epoch 218...\n",
      "Current LR: 0.01245\n"
     ]
    },
    {
     "data": {
      "application/vnd.jupyter.widget-view+json": {
       "model_id": "69fc80986cf942f5bf1b88e12d3a533f",
       "version_major": 2,
       "version_minor": 0
      },
      "text/plain": [
       "  0%|          | 0/113 [00:00<?, ?it/s]"
      ]
     },
     "metadata": {},
     "output_type": "display_data"
    },
    {
     "name": "stdout",
     "output_type": "stream",
     "text": [
      "Epoch 218 train loss: 4.3262\n",
      "Validating epoch 218\n"
     ]
    },
    {
     "data": {
      "application/vnd.jupyter.widget-view+json": {
       "model_id": "68cc99993d6349f0a2b36044f65efec6",
       "version_major": 2,
       "version_minor": 0
      },
      "text/plain": [
       "  0%|          | 0/46 [00:00<?, ?it/s]"
      ]
     },
     "metadata": {},
     "output_type": "display_data"
    },
    {
     "name": "stdout",
     "output_type": "stream",
     "text": [
      "Epoch 218 validation loss: 1.6613\n",
      "Training epoch 219...\n",
      "Current LR: 0.01245\n"
     ]
    },
    {
     "data": {
      "application/vnd.jupyter.widget-view+json": {
       "model_id": "ec37453da2d94cada1222b9ff78ff185",
       "version_major": 2,
       "version_minor": 0
      },
      "text/plain": [
       "  0%|          | 0/113 [00:00<?, ?it/s]"
      ]
     },
     "metadata": {},
     "output_type": "display_data"
    },
    {
     "name": "stdout",
     "output_type": "stream",
     "text": [
      "Epoch 219 train loss: 4.2099\n",
      "Validating epoch 219\n"
     ]
    },
    {
     "data": {
      "application/vnd.jupyter.widget-view+json": {
       "model_id": "4bba6b05fd3d43578a47a1aaaa0541d2",
       "version_major": 2,
       "version_minor": 0
      },
      "text/plain": [
       "  0%|          | 0/46 [00:00<?, ?it/s]"
      ]
     },
     "metadata": {},
     "output_type": "display_data"
    },
    {
     "name": "stdout",
     "output_type": "stream",
     "text": [
      "Epoch 219 validation loss: 1.6433\n",
      "Saving new best model...\n",
      "Training epoch 220...\n",
      "Current LR: 0.01245\n"
     ]
    },
    {
     "data": {
      "application/vnd.jupyter.widget-view+json": {
       "model_id": "fa0681e7882a4977a60ff7b8a9d380b9",
       "version_major": 2,
       "version_minor": 0
      },
      "text/plain": [
       "  0%|          | 0/113 [00:00<?, ?it/s]"
      ]
     },
     "metadata": {},
     "output_type": "display_data"
    },
    {
     "name": "stdout",
     "output_type": "stream",
     "text": [
      "Epoch 220 train loss: 4.1838\n",
      "Validating epoch 220\n"
     ]
    },
    {
     "data": {
      "application/vnd.jupyter.widget-view+json": {
       "model_id": "0f07c71247584fa6b8266dd02bcbb4a9",
       "version_major": 2,
       "version_minor": 0
      },
      "text/plain": [
       "  0%|          | 0/46 [00:00<?, ?it/s]"
      ]
     },
     "metadata": {},
     "output_type": "display_data"
    },
    {
     "name": "stdout",
     "output_type": "stream",
     "text": [
      "Epoch 220 validation loss: 1.6645\n",
      "Training epoch 221...\n",
      "Current LR: 0.01245\n"
     ]
    },
    {
     "data": {
      "application/vnd.jupyter.widget-view+json": {
       "model_id": "4ae1487ba4024a41b784c078993a357e",
       "version_major": 2,
       "version_minor": 0
      },
      "text/plain": [
       "  0%|          | 0/113 [00:00<?, ?it/s]"
      ]
     },
     "metadata": {},
     "output_type": "display_data"
    },
    {
     "name": "stdout",
     "output_type": "stream",
     "text": [
      "Epoch 221 train loss: 4.1411\n",
      "Validating epoch 221\n"
     ]
    },
    {
     "data": {
      "application/vnd.jupyter.widget-view+json": {
       "model_id": "4e95a493fc44431e9bf4b77c8ee264ac",
       "version_major": 2,
       "version_minor": 0
      },
      "text/plain": [
       "  0%|          | 0/46 [00:00<?, ?it/s]"
      ]
     },
     "metadata": {},
     "output_type": "display_data"
    },
    {
     "name": "stdout",
     "output_type": "stream",
     "text": [
      "Epoch 221 validation loss: 1.6538\n",
      "Training epoch 222...\n",
      "Current LR: 0.01245\n"
     ]
    },
    {
     "data": {
      "application/vnd.jupyter.widget-view+json": {
       "model_id": "44538b1237e24cd7ae4f6928663f2e93",
       "version_major": 2,
       "version_minor": 0
      },
      "text/plain": [
       "  0%|          | 0/113 [00:00<?, ?it/s]"
      ]
     },
     "metadata": {},
     "output_type": "display_data"
    },
    {
     "name": "stdout",
     "output_type": "stream",
     "text": [
      "Epoch 222 train loss: 4.1009\n",
      "Validating epoch 222\n"
     ]
    },
    {
     "data": {
      "application/vnd.jupyter.widget-view+json": {
       "model_id": "b4b92af045ab4916af52d4131195073c",
       "version_major": 2,
       "version_minor": 0
      },
      "text/plain": [
       "  0%|          | 0/46 [00:00<?, ?it/s]"
      ]
     },
     "metadata": {},
     "output_type": "display_data"
    },
    {
     "name": "stdout",
     "output_type": "stream",
     "text": [
      "Epoch 222 validation loss: 1.6674\n",
      "Training epoch 223...\n",
      "Current LR: 0.01245\n"
     ]
    },
    {
     "data": {
      "application/vnd.jupyter.widget-view+json": {
       "model_id": "af5da2201159408d88a7caa7ff47bc47",
       "version_major": 2,
       "version_minor": 0
      },
      "text/plain": [
       "  0%|          | 0/113 [00:00<?, ?it/s]"
      ]
     },
     "metadata": {},
     "output_type": "display_data"
    },
    {
     "name": "stdout",
     "output_type": "stream",
     "text": [
      "Epoch 223 train loss: 4.0594\n",
      "Validating epoch 223\n"
     ]
    },
    {
     "data": {
      "application/vnd.jupyter.widget-view+json": {
       "model_id": "7f495f63cd68490eb67eb62deb56c525",
       "version_major": 2,
       "version_minor": 0
      },
      "text/plain": [
       "  0%|          | 0/46 [00:00<?, ?it/s]"
      ]
     },
     "metadata": {},
     "output_type": "display_data"
    },
    {
     "name": "stdout",
     "output_type": "stream",
     "text": [
      "Epoch 223 validation loss: 1.6712\n",
      "Training epoch 224...\n",
      "Current LR: 0.01245\n"
     ]
    },
    {
     "data": {
      "application/vnd.jupyter.widget-view+json": {
       "model_id": "d5f7bd2e565a4a0bade51a8b10318805",
       "version_major": 2,
       "version_minor": 0
      },
      "text/plain": [
       "  0%|          | 0/113 [00:00<?, ?it/s]"
      ]
     },
     "metadata": {},
     "output_type": "display_data"
    },
    {
     "name": "stdout",
     "output_type": "stream",
     "text": [
      "Epoch 224 train loss: 4.0222\n",
      "Validating epoch 224\n"
     ]
    },
    {
     "data": {
      "application/vnd.jupyter.widget-view+json": {
       "model_id": "599e5c417dbf4011b6767b60c511ea45",
       "version_major": 2,
       "version_minor": 0
      },
      "text/plain": [
       "  0%|          | 0/46 [00:00<?, ?it/s]"
      ]
     },
     "metadata": {},
     "output_type": "display_data"
    },
    {
     "name": "stdout",
     "output_type": "stream",
     "text": [
      "Epoch 224 validation loss: 1.6542\n",
      "Training epoch 225...\n",
      "Current LR: 0.01245\n"
     ]
    },
    {
     "data": {
      "application/vnd.jupyter.widget-view+json": {
       "model_id": "a3a4fedc764845f3959b8786b0d0a785",
       "version_major": 2,
       "version_minor": 0
      },
      "text/plain": [
       "  0%|          | 0/113 [00:00<?, ?it/s]"
      ]
     },
     "metadata": {},
     "output_type": "display_data"
    },
    {
     "name": "stdout",
     "output_type": "stream",
     "text": [
      "Epoch 225 train loss: 3.9941\n",
      "Validating epoch 225\n"
     ]
    },
    {
     "data": {
      "application/vnd.jupyter.widget-view+json": {
       "model_id": "c546b4f7bac542d5bec0bf9ca9c59905",
       "version_major": 2,
       "version_minor": 0
      },
      "text/plain": [
       "  0%|          | 0/46 [00:00<?, ?it/s]"
      ]
     },
     "metadata": {},
     "output_type": "display_data"
    },
    {
     "name": "stdout",
     "output_type": "stream",
     "text": [
      "Epoch 225 validation loss: 1.6539\n",
      "Training epoch 226...\n",
      "Current LR: 0.01245\n"
     ]
    },
    {
     "data": {
      "application/vnd.jupyter.widget-view+json": {
       "model_id": "59d42b6a10c549daaa414cc9a5e60824",
       "version_major": 2,
       "version_minor": 0
      },
      "text/plain": [
       "  0%|          | 0/113 [00:00<?, ?it/s]"
      ]
     },
     "metadata": {},
     "output_type": "display_data"
    },
    {
     "name": "stdout",
     "output_type": "stream",
     "text": [
      "Epoch 226 train loss: 3.9601\n",
      "Validating epoch 226\n"
     ]
    },
    {
     "data": {
      "application/vnd.jupyter.widget-view+json": {
       "model_id": "c1bfa715ccb34c2f833a908935743380",
       "version_major": 2,
       "version_minor": 0
      },
      "text/plain": [
       "  0%|          | 0/46 [00:00<?, ?it/s]"
      ]
     },
     "metadata": {},
     "output_type": "display_data"
    },
    {
     "name": "stdout",
     "output_type": "stream",
     "text": [
      "Epoch 226 validation loss: 1.6465\n",
      "Training epoch 227...\n",
      "Current LR: 0.01245\n"
     ]
    },
    {
     "data": {
      "application/vnd.jupyter.widget-view+json": {
       "model_id": "9a604e1bde0241adbfb073b286771315",
       "version_major": 2,
       "version_minor": 0
      },
      "text/plain": [
       "  0%|          | 0/113 [00:00<?, ?it/s]"
      ]
     },
     "metadata": {},
     "output_type": "display_data"
    },
    {
     "name": "stdout",
     "output_type": "stream",
     "text": [
      "Epoch 227 train loss: 3.9318\n",
      "Validating epoch 227\n"
     ]
    },
    {
     "data": {
      "application/vnd.jupyter.widget-view+json": {
       "model_id": "58f5ef827c994e179736bc933436d087",
       "version_major": 2,
       "version_minor": 0
      },
      "text/plain": [
       "  0%|          | 0/46 [00:00<?, ?it/s]"
      ]
     },
     "metadata": {},
     "output_type": "display_data"
    },
    {
     "name": "stdout",
     "output_type": "stream",
     "text": [
      "Epoch 227 validation loss: 1.6794\n",
      "Training epoch 228...\n",
      "Current LR: 0.01245\n"
     ]
    },
    {
     "data": {
      "application/vnd.jupyter.widget-view+json": {
       "model_id": "4b06175429a742b880d0f3840f28f8b5",
       "version_major": 2,
       "version_minor": 0
      },
      "text/plain": [
       "  0%|          | 0/113 [00:00<?, ?it/s]"
      ]
     },
     "metadata": {},
     "output_type": "display_data"
    },
    {
     "name": "stdout",
     "output_type": "stream",
     "text": [
      "Epoch 228 train loss: 3.9159\n",
      "Validating epoch 228\n"
     ]
    },
    {
     "data": {
      "application/vnd.jupyter.widget-view+json": {
       "model_id": "84f20e6337ef4321b6f5d7659d6d3ded",
       "version_major": 2,
       "version_minor": 0
      },
      "text/plain": [
       "  0%|          | 0/46 [00:00<?, ?it/s]"
      ]
     },
     "metadata": {},
     "output_type": "display_data"
    },
    {
     "name": "stdout",
     "output_type": "stream",
     "text": [
      "Epoch 228 validation loss: 1.6485\n",
      "Training epoch 229...\n",
      "Current LR: 0.01245\n"
     ]
    },
    {
     "data": {
      "application/vnd.jupyter.widget-view+json": {
       "model_id": "ce6d7598ba1f451f85afcf226e70eac7",
       "version_major": 2,
       "version_minor": 0
      },
      "text/plain": [
       "  0%|          | 0/113 [00:00<?, ?it/s]"
      ]
     },
     "metadata": {},
     "output_type": "display_data"
    },
    {
     "name": "stdout",
     "output_type": "stream",
     "text": [
      "Epoch 229 train loss: 3.8994\n",
      "Validating epoch 229\n"
     ]
    },
    {
     "data": {
      "application/vnd.jupyter.widget-view+json": {
       "model_id": "acc8683039804e8e9864707f264e8f7d",
       "version_major": 2,
       "version_minor": 0
      },
      "text/plain": [
       "  0%|          | 0/46 [00:00<?, ?it/s]"
      ]
     },
     "metadata": {},
     "output_type": "display_data"
    },
    {
     "name": "stdout",
     "output_type": "stream",
     "text": [
      "Epoch 229 validation loss: 1.6520\n",
      "Training epoch 230...\n",
      "Current LR: 0.01245\n"
     ]
    },
    {
     "data": {
      "application/vnd.jupyter.widget-view+json": {
       "model_id": "21ad508148434fdcb2fa2054562ad0e0",
       "version_major": 2,
       "version_minor": 0
      },
      "text/plain": [
       "  0%|          | 0/113 [00:00<?, ?it/s]"
      ]
     },
     "metadata": {},
     "output_type": "display_data"
    },
    {
     "name": "stdout",
     "output_type": "stream",
     "text": [
      "Epoch 230 train loss: 3.8558\n",
      "Validating epoch 230\n"
     ]
    },
    {
     "data": {
      "application/vnd.jupyter.widget-view+json": {
       "model_id": "b5ff594198eb493ea69469670eaa78f0",
       "version_major": 2,
       "version_minor": 0
      },
      "text/plain": [
       "  0%|          | 0/46 [00:00<?, ?it/s]"
      ]
     },
     "metadata": {},
     "output_type": "display_data"
    },
    {
     "name": "stdout",
     "output_type": "stream",
     "text": [
      "Epoch 230 validation loss: 1.6767\n",
      "Training epoch 231...\n",
      "Current LR: 0.01245\n"
     ]
    },
    {
     "data": {
      "application/vnd.jupyter.widget-view+json": {
       "model_id": "2d44ed5a00624a3da697a99813ba86d1",
       "version_major": 2,
       "version_minor": 0
      },
      "text/plain": [
       "  0%|          | 0/113 [00:00<?, ?it/s]"
      ]
     },
     "metadata": {},
     "output_type": "display_data"
    },
    {
     "name": "stdout",
     "output_type": "stream",
     "text": [
      "Epoch 231 train loss: 3.8396\n",
      "Validating epoch 231\n"
     ]
    },
    {
     "data": {
      "application/vnd.jupyter.widget-view+json": {
       "model_id": "e26c221e7a77438f9e0e680d763cfb62",
       "version_major": 2,
       "version_minor": 0
      },
      "text/plain": [
       "  0%|          | 0/46 [00:00<?, ?it/s]"
      ]
     },
     "metadata": {},
     "output_type": "display_data"
    },
    {
     "name": "stdout",
     "output_type": "stream",
     "text": [
      "Epoch 231 validation loss: 1.6781\n",
      "Training epoch 232...\n",
      "Current LR: 0.01245\n"
     ]
    },
    {
     "data": {
      "application/vnd.jupyter.widget-view+json": {
       "model_id": "420f47e5cdbc433c868c4722ebb21504",
       "version_major": 2,
       "version_minor": 0
      },
      "text/plain": [
       "  0%|          | 0/113 [00:00<?, ?it/s]"
      ]
     },
     "metadata": {},
     "output_type": "display_data"
    },
    {
     "name": "stdout",
     "output_type": "stream",
     "text": [
      "Epoch 232 train loss: 3.8344\n",
      "Validating epoch 232\n"
     ]
    },
    {
     "data": {
      "application/vnd.jupyter.widget-view+json": {
       "model_id": "baf4f88bca864b638644272d9899c50c",
       "version_major": 2,
       "version_minor": 0
      },
      "text/plain": [
       "  0%|          | 0/46 [00:00<?, ?it/s]"
      ]
     },
     "metadata": {},
     "output_type": "display_data"
    },
    {
     "name": "stdout",
     "output_type": "stream",
     "text": [
      "Epoch 232 validation loss: 1.6958\n",
      "Training epoch 233...\n",
      "Current LR: 0.01245\n"
     ]
    },
    {
     "data": {
      "application/vnd.jupyter.widget-view+json": {
       "model_id": "147e16acc6e64748b886b637058bdc59",
       "version_major": 2,
       "version_minor": 0
      },
      "text/plain": [
       "  0%|          | 0/113 [00:00<?, ?it/s]"
      ]
     },
     "metadata": {},
     "output_type": "display_data"
    },
    {
     "name": "stdout",
     "output_type": "stream",
     "text": [
      "Epoch 233 train loss: 3.8093\n",
      "Validating epoch 233\n"
     ]
    },
    {
     "data": {
      "application/vnd.jupyter.widget-view+json": {
       "model_id": "7c797b3141f34acdae37530699e88461",
       "version_major": 2,
       "version_minor": 0
      },
      "text/plain": [
       "  0%|          | 0/46 [00:00<?, ?it/s]"
      ]
     },
     "metadata": {},
     "output_type": "display_data"
    },
    {
     "name": "stdout",
     "output_type": "stream",
     "text": [
      "Epoch 233 validation loss: 1.6776\n",
      "Training epoch 234...\n",
      "Current LR: 0.01245\n"
     ]
    },
    {
     "data": {
      "application/vnd.jupyter.widget-view+json": {
       "model_id": "2d025259d8de4f86b680c3fc7b2696e1",
       "version_major": 2,
       "version_minor": 0
      },
      "text/plain": [
       "  0%|          | 0/113 [00:00<?, ?it/s]"
      ]
     },
     "metadata": {},
     "output_type": "display_data"
    },
    {
     "name": "stdout",
     "output_type": "stream",
     "text": [
      "Epoch 234 train loss: 3.7766\n",
      "Validating epoch 234\n"
     ]
    },
    {
     "data": {
      "application/vnd.jupyter.widget-view+json": {
       "model_id": "c1ad52205bf24593a8a838d58d51dd20",
       "version_major": 2,
       "version_minor": 0
      },
      "text/plain": [
       "  0%|          | 0/46 [00:00<?, ?it/s]"
      ]
     },
     "metadata": {},
     "output_type": "display_data"
    },
    {
     "name": "stdout",
     "output_type": "stream",
     "text": [
      "Epoch 234 validation loss: 1.6493\n",
      "Training epoch 235...\n",
      "Current LR: 0.01245\n"
     ]
    },
    {
     "data": {
      "application/vnd.jupyter.widget-view+json": {
       "model_id": "ed60f925ec484d99a0a771a66b44b0c3",
       "version_major": 2,
       "version_minor": 0
      },
      "text/plain": [
       "  0%|          | 0/113 [00:00<?, ?it/s]"
      ]
     },
     "metadata": {},
     "output_type": "display_data"
    },
    {
     "name": "stdout",
     "output_type": "stream",
     "text": [
      "Epoch 235 train loss: 3.7463\n",
      "Validating epoch 235\n"
     ]
    },
    {
     "data": {
      "application/vnd.jupyter.widget-view+json": {
       "model_id": "b06e5c120387499da449376cad5a76ce",
       "version_major": 2,
       "version_minor": 0
      },
      "text/plain": [
       "  0%|          | 0/46 [00:00<?, ?it/s]"
      ]
     },
     "metadata": {},
     "output_type": "display_data"
    },
    {
     "name": "stdout",
     "output_type": "stream",
     "text": [
      "Epoch 235 validation loss: 1.6882\n",
      "Training epoch 236...\n",
      "Current LR: 0.01245\n"
     ]
    },
    {
     "data": {
      "application/vnd.jupyter.widget-view+json": {
       "model_id": "a53d00cec01b47e9ba1fdead56e63400",
       "version_major": 2,
       "version_minor": 0
      },
      "text/plain": [
       "  0%|          | 0/113 [00:00<?, ?it/s]"
      ]
     },
     "metadata": {},
     "output_type": "display_data"
    },
    {
     "name": "stdout",
     "output_type": "stream",
     "text": [
      "Epoch 236 train loss: 3.7359\n",
      "Validating epoch 236\n"
     ]
    },
    {
     "data": {
      "application/vnd.jupyter.widget-view+json": {
       "model_id": "08d9fb605c5b4820b886a8b97728cb4d",
       "version_major": 2,
       "version_minor": 0
      },
      "text/plain": [
       "  0%|          | 0/46 [00:00<?, ?it/s]"
      ]
     },
     "metadata": {},
     "output_type": "display_data"
    },
    {
     "name": "stdout",
     "output_type": "stream",
     "text": [
      "Epoch 236 validation loss: 1.6788\n",
      "Training epoch 237...\n",
      "Current LR: 0.01245\n"
     ]
    },
    {
     "data": {
      "application/vnd.jupyter.widget-view+json": {
       "model_id": "29ffe20b00754b17ba57142579be3fe6",
       "version_major": 2,
       "version_minor": 0
      },
      "text/plain": [
       "  0%|          | 0/113 [00:00<?, ?it/s]"
      ]
     },
     "metadata": {},
     "output_type": "display_data"
    },
    {
     "name": "stdout",
     "output_type": "stream",
     "text": [
      "Epoch 237 train loss: 3.7337\n",
      "Validating epoch 237\n"
     ]
    },
    {
     "data": {
      "application/vnd.jupyter.widget-view+json": {
       "model_id": "6dc0cc24d0174a86ae2e688a3cdbbe8a",
       "version_major": 2,
       "version_minor": 0
      },
      "text/plain": [
       "  0%|          | 0/46 [00:00<?, ?it/s]"
      ]
     },
     "metadata": {},
     "output_type": "display_data"
    },
    {
     "name": "stdout",
     "output_type": "stream",
     "text": [
      "Epoch 237 validation loss: 1.6670\n",
      "Training epoch 238...\n",
      "Current LR: 0.01245\n"
     ]
    },
    {
     "data": {
      "application/vnd.jupyter.widget-view+json": {
       "model_id": "090c78ef6e3340f0bf9f00ef41bd9a4f",
       "version_major": 2,
       "version_minor": 0
      },
      "text/plain": [
       "  0%|          | 0/113 [00:00<?, ?it/s]"
      ]
     },
     "metadata": {},
     "output_type": "display_data"
    },
    {
     "name": "stdout",
     "output_type": "stream",
     "text": [
      "Epoch 238 train loss: 3.7206\n",
      "Validating epoch 238\n"
     ]
    },
    {
     "data": {
      "application/vnd.jupyter.widget-view+json": {
       "model_id": "55cf23ebc9034ff0ad60f7ee82fe140d",
       "version_major": 2,
       "version_minor": 0
      },
      "text/plain": [
       "  0%|          | 0/46 [00:00<?, ?it/s]"
      ]
     },
     "metadata": {},
     "output_type": "display_data"
    },
    {
     "name": "stdout",
     "output_type": "stream",
     "text": [
      "Epoch 238 validation loss: 1.7014\n",
      "Training epoch 239...\n",
      "Current LR: 0.01245\n"
     ]
    },
    {
     "data": {
      "application/vnd.jupyter.widget-view+json": {
       "model_id": "aa380c87365342feae71d2c4b4a9ca75",
       "version_major": 2,
       "version_minor": 0
      },
      "text/plain": [
       "  0%|          | 0/113 [00:00<?, ?it/s]"
      ]
     },
     "metadata": {},
     "output_type": "display_data"
    },
    {
     "name": "stdout",
     "output_type": "stream",
     "text": [
      "Epoch 239 train loss: 3.6888\n",
      "Validating epoch 239\n"
     ]
    },
    {
     "data": {
      "application/vnd.jupyter.widget-view+json": {
       "model_id": "bda6d2eb48fb4d2bb42522ce4980a013",
       "version_major": 2,
       "version_minor": 0
      },
      "text/plain": [
       "  0%|          | 0/46 [00:00<?, ?it/s]"
      ]
     },
     "metadata": {},
     "output_type": "display_data"
    },
    {
     "name": "stdout",
     "output_type": "stream",
     "text": [
      "Epoch 239 validation loss: 1.6863\n",
      "Training epoch 240...\n",
      "Current LR: 0.01245\n"
     ]
    },
    {
     "data": {
      "application/vnd.jupyter.widget-view+json": {
       "model_id": "daddbd7272e54f4ca267ec98bc50942c",
       "version_major": 2,
       "version_minor": 0
      },
      "text/plain": [
       "  0%|          | 0/113 [00:00<?, ?it/s]"
      ]
     },
     "metadata": {},
     "output_type": "display_data"
    },
    {
     "name": "stdout",
     "output_type": "stream",
     "text": [
      "Epoch 240 train loss: 3.6810\n",
      "Validating epoch 240\n"
     ]
    },
    {
     "data": {
      "application/vnd.jupyter.widget-view+json": {
       "model_id": "157c042eaffd40f1a1748f685b8595a2",
       "version_major": 2,
       "version_minor": 0
      },
      "text/plain": [
       "  0%|          | 0/46 [00:00<?, ?it/s]"
      ]
     },
     "metadata": {},
     "output_type": "display_data"
    },
    {
     "name": "stdout",
     "output_type": "stream",
     "text": [
      "Epoch 240 validation loss: 1.6816\n",
      "Training epoch 241...\n",
      "Current LR: 0.01245\n"
     ]
    },
    {
     "data": {
      "application/vnd.jupyter.widget-view+json": {
       "model_id": "8345d0a028b04da2a88175c058dd2c6b",
       "version_major": 2,
       "version_minor": 0
      },
      "text/plain": [
       "  0%|          | 0/113 [00:00<?, ?it/s]"
      ]
     },
     "metadata": {},
     "output_type": "display_data"
    },
    {
     "name": "stdout",
     "output_type": "stream",
     "text": [
      "Epoch 241 train loss: 3.6674\n",
      "Validating epoch 241\n"
     ]
    },
    {
     "data": {
      "application/vnd.jupyter.widget-view+json": {
       "model_id": "3af1af80e14a4ab69d357225428e3523",
       "version_major": 2,
       "version_minor": 0
      },
      "text/plain": [
       "  0%|          | 0/46 [00:00<?, ?it/s]"
      ]
     },
     "metadata": {},
     "output_type": "display_data"
    },
    {
     "name": "stdout",
     "output_type": "stream",
     "text": [
      "Epoch 241 validation loss: 1.6800\n",
      "Training epoch 242...\n",
      "Current LR: 0.01245\n"
     ]
    },
    {
     "data": {
      "application/vnd.jupyter.widget-view+json": {
       "model_id": "c5053065c5724fb98a1cf7ec210430ff",
       "version_major": 2,
       "version_minor": 0
      },
      "text/plain": [
       "  0%|          | 0/113 [00:00<?, ?it/s]"
      ]
     },
     "metadata": {},
     "output_type": "display_data"
    },
    {
     "name": "stdout",
     "output_type": "stream",
     "text": [
      "Epoch 242 train loss: 3.6661\n",
      "Validating epoch 242\n"
     ]
    },
    {
     "data": {
      "application/vnd.jupyter.widget-view+json": {
       "model_id": "298615cac81c4b1baae02e824172d260",
       "version_major": 2,
       "version_minor": 0
      },
      "text/plain": [
       "  0%|          | 0/46 [00:00<?, ?it/s]"
      ]
     },
     "metadata": {},
     "output_type": "display_data"
    },
    {
     "name": "stdout",
     "output_type": "stream",
     "text": [
      "Epoch 242 validation loss: 1.6523\n",
      "Training epoch 243...\n",
      "Current LR: 0.01245\n"
     ]
    },
    {
     "data": {
      "application/vnd.jupyter.widget-view+json": {
       "model_id": "da8d29f31da0499789672523fd4154ec",
       "version_major": 2,
       "version_minor": 0
      },
      "text/plain": [
       "  0%|          | 0/113 [00:00<?, ?it/s]"
      ]
     },
     "metadata": {},
     "output_type": "display_data"
    },
    {
     "name": "stdout",
     "output_type": "stream",
     "text": [
      "Epoch 243 train loss: 3.6610\n",
      "Validating epoch 243\n"
     ]
    },
    {
     "data": {
      "application/vnd.jupyter.widget-view+json": {
       "model_id": "c3c436796d474938bf25feaf82d7edde",
       "version_major": 2,
       "version_minor": 0
      },
      "text/plain": [
       "  0%|          | 0/46 [00:00<?, ?it/s]"
      ]
     },
     "metadata": {},
     "output_type": "display_data"
    },
    {
     "name": "stdout",
     "output_type": "stream",
     "text": [
      "Epoch 243 validation loss: 1.6675\n",
      "Training epoch 244...\n",
      "Current LR: 0.01245\n"
     ]
    },
    {
     "data": {
      "application/vnd.jupyter.widget-view+json": {
       "model_id": "c0e00bd9442c430ebac67e9695d6a6c4",
       "version_major": 2,
       "version_minor": 0
      },
      "text/plain": [
       "  0%|          | 0/113 [00:00<?, ?it/s]"
      ]
     },
     "metadata": {},
     "output_type": "display_data"
    },
    {
     "name": "stdout",
     "output_type": "stream",
     "text": [
      "Epoch 244 train loss: 3.6644\n",
      "Validating epoch 244\n"
     ]
    },
    {
     "data": {
      "application/vnd.jupyter.widget-view+json": {
       "model_id": "5f4321ec4f094f98a9fd7b76be6fb88e",
       "version_major": 2,
       "version_minor": 0
      },
      "text/plain": [
       "  0%|          | 0/46 [00:00<?, ?it/s]"
      ]
     },
     "metadata": {},
     "output_type": "display_data"
    },
    {
     "name": "stdout",
     "output_type": "stream",
     "text": [
      "Epoch 244 validation loss: 1.6783\n",
      "Training epoch 245...\n",
      "Current LR: 0.01245\n"
     ]
    },
    {
     "data": {
      "application/vnd.jupyter.widget-view+json": {
       "model_id": "f88f233c5e1d41d690e1b9c4cabe582a",
       "version_major": 2,
       "version_minor": 0
      },
      "text/plain": [
       "  0%|          | 0/113 [00:00<?, ?it/s]"
      ]
     },
     "metadata": {},
     "output_type": "display_data"
    },
    {
     "name": "stdout",
     "output_type": "stream",
     "text": [
      "Epoch 245 train loss: 3.6393\n",
      "Validating epoch 245\n"
     ]
    },
    {
     "data": {
      "application/vnd.jupyter.widget-view+json": {
       "model_id": "d55c5133d7c24ee68092c7465d874918",
       "version_major": 2,
       "version_minor": 0
      },
      "text/plain": [
       "  0%|          | 0/46 [00:00<?, ?it/s]"
      ]
     },
     "metadata": {},
     "output_type": "display_data"
    },
    {
     "name": "stdout",
     "output_type": "stream",
     "text": [
      "Epoch 245 validation loss: 1.6934\n",
      "Training epoch 246...\n",
      "Current LR: 0.01245\n"
     ]
    },
    {
     "data": {
      "application/vnd.jupyter.widget-view+json": {
       "model_id": "61f6d9c15b7b46a0ad44b7feaa922a82",
       "version_major": 2,
       "version_minor": 0
      },
      "text/plain": [
       "  0%|          | 0/113 [00:00<?, ?it/s]"
      ]
     },
     "metadata": {},
     "output_type": "display_data"
    },
    {
     "name": "stdout",
     "output_type": "stream",
     "text": [
      "Epoch 246 train loss: 3.6247\n",
      "Validating epoch 246\n"
     ]
    },
    {
     "data": {
      "application/vnd.jupyter.widget-view+json": {
       "model_id": "cf3bfd52cc4c4dcf8eb9509f68aade79",
       "version_major": 2,
       "version_minor": 0
      },
      "text/plain": [
       "  0%|          | 0/46 [00:00<?, ?it/s]"
      ]
     },
     "metadata": {},
     "output_type": "display_data"
    },
    {
     "name": "stdout",
     "output_type": "stream",
     "text": [
      "Epoch 246 validation loss: 1.6574\n",
      "Training epoch 247...\n",
      "Current LR: 0.01245\n"
     ]
    },
    {
     "data": {
      "application/vnd.jupyter.widget-view+json": {
       "model_id": "8f6bbc21d0b04178b88e6dfd5926fa67",
       "version_major": 2,
       "version_minor": 0
      },
      "text/plain": [
       "  0%|          | 0/113 [00:00<?, ?it/s]"
      ]
     },
     "metadata": {},
     "output_type": "display_data"
    },
    {
     "name": "stdout",
     "output_type": "stream",
     "text": [
      "Epoch 247 train loss: 3.6521\n",
      "Validating epoch 247\n"
     ]
    },
    {
     "data": {
      "application/vnd.jupyter.widget-view+json": {
       "model_id": "e98be6c879e44ace89a9b76c241e9037",
       "version_major": 2,
       "version_minor": 0
      },
      "text/plain": [
       "  0%|          | 0/46 [00:00<?, ?it/s]"
      ]
     },
     "metadata": {},
     "output_type": "display_data"
    },
    {
     "name": "stdout",
     "output_type": "stream",
     "text": [
      "Epoch 247 validation loss: 1.6738\n",
      "Training epoch 248...\n",
      "Current LR: 0.01245\n"
     ]
    },
    {
     "data": {
      "application/vnd.jupyter.widget-view+json": {
       "model_id": "9438e57e5f514d9ca7221d562b03ddb8",
       "version_major": 2,
       "version_minor": 0
      },
      "text/plain": [
       "  0%|          | 0/113 [00:00<?, ?it/s]"
      ]
     },
     "metadata": {},
     "output_type": "display_data"
    },
    {
     "name": "stdout",
     "output_type": "stream",
     "text": [
      "Epoch 248 train loss: 3.6193\n",
      "Validating epoch 248\n"
     ]
    },
    {
     "data": {
      "application/vnd.jupyter.widget-view+json": {
       "model_id": "ce97e872527248bcab08ba7c1cf71a45",
       "version_major": 2,
       "version_minor": 0
      },
      "text/plain": [
       "  0%|          | 0/46 [00:00<?, ?it/s]"
      ]
     },
     "metadata": {},
     "output_type": "display_data"
    },
    {
     "name": "stdout",
     "output_type": "stream",
     "text": [
      "Epoch 248 validation loss: 1.6566\n",
      "Training epoch 249...\n",
      "Current LR: 0.01245\n"
     ]
    },
    {
     "data": {
      "application/vnd.jupyter.widget-view+json": {
       "model_id": "165fe3a0eaa64cfb8a632259207159c4",
       "version_major": 2,
       "version_minor": 0
      },
      "text/plain": [
       "  0%|          | 0/113 [00:00<?, ?it/s]"
      ]
     },
     "metadata": {},
     "output_type": "display_data"
    },
    {
     "name": "stdout",
     "output_type": "stream",
     "text": [
      "Epoch 249 train loss: 3.6217\n",
      "Validating epoch 249\n"
     ]
    },
    {
     "data": {
      "application/vnd.jupyter.widget-view+json": {
       "model_id": "14c6bcec130a4b4687d0a32ea033f5d6",
       "version_major": 2,
       "version_minor": 0
      },
      "text/plain": [
       "  0%|          | 0/46 [00:00<?, ?it/s]"
      ]
     },
     "metadata": {},
     "output_type": "display_data"
    },
    {
     "name": "stdout",
     "output_type": "stream",
     "text": [
      "Epoch 249 validation loss: 1.6551\n",
      "Training epoch 250...\n",
      "Current LR: 0.01245\n"
     ]
    },
    {
     "data": {
      "application/vnd.jupyter.widget-view+json": {
       "model_id": "3b7ee62d3dbd441c87e5290972941db7",
       "version_major": 2,
       "version_minor": 0
      },
      "text/plain": [
       "  0%|          | 0/113 [00:00<?, ?it/s]"
      ]
     },
     "metadata": {},
     "output_type": "display_data"
    },
    {
     "name": "stdout",
     "output_type": "stream",
     "text": [
      "Epoch 250 train loss: 3.6230\n",
      "Validating epoch 250\n"
     ]
    },
    {
     "data": {
      "application/vnd.jupyter.widget-view+json": {
       "model_id": "9c6cc2fa4e47411281162fdb2eae9d04",
       "version_major": 2,
       "version_minor": 0
      },
      "text/plain": [
       "  0%|          | 0/46 [00:00<?, ?it/s]"
      ]
     },
     "metadata": {},
     "output_type": "display_data"
    },
    {
     "name": "stdout",
     "output_type": "stream",
     "text": [
      "Epoch 250 validation loss: 1.6968\n",
      "Training epoch 251...\n",
      "Current LR: 0.01245\n"
     ]
    },
    {
     "data": {
      "application/vnd.jupyter.widget-view+json": {
       "model_id": "a96f80ff30024c2db5885fe7805cf597",
       "version_major": 2,
       "version_minor": 0
      },
      "text/plain": [
       "  0%|          | 0/113 [00:00<?, ?it/s]"
      ]
     },
     "metadata": {},
     "output_type": "display_data"
    },
    {
     "name": "stdout",
     "output_type": "stream",
     "text": [
      "Epoch 251 train loss: 3.6150\n",
      "Validating epoch 251\n"
     ]
    },
    {
     "data": {
      "application/vnd.jupyter.widget-view+json": {
       "model_id": "60072696b67f47a4beff64667cc3a85f",
       "version_major": 2,
       "version_minor": 0
      },
      "text/plain": [
       "  0%|          | 0/46 [00:00<?, ?it/s]"
      ]
     },
     "metadata": {},
     "output_type": "display_data"
    },
    {
     "name": "stdout",
     "output_type": "stream",
     "text": [
      "Epoch 251 validation loss: 1.6775\n",
      "Training epoch 252...\n",
      "Current LR: 0.01245\n"
     ]
    },
    {
     "data": {
      "application/vnd.jupyter.widget-view+json": {
       "model_id": "35e02fa8cf064914b8fbf23a5bd4b80a",
       "version_major": 2,
       "version_minor": 0
      },
      "text/plain": [
       "  0%|          | 0/113 [00:00<?, ?it/s]"
      ]
     },
     "metadata": {},
     "output_type": "display_data"
    },
    {
     "name": "stdout",
     "output_type": "stream",
     "text": [
      "Epoch 252 train loss: 3.6106\n",
      "Validating epoch 252\n"
     ]
    },
    {
     "data": {
      "application/vnd.jupyter.widget-view+json": {
       "model_id": "8c7e88c15e80416db7472e09b4be7250",
       "version_major": 2,
       "version_minor": 0
      },
      "text/plain": [
       "  0%|          | 0/46 [00:00<?, ?it/s]"
      ]
     },
     "metadata": {},
     "output_type": "display_data"
    },
    {
     "name": "stdout",
     "output_type": "stream",
     "text": [
      "Epoch 252 validation loss: 1.6892\n",
      "Training epoch 253...\n",
      "Current LR: 0.01245\n"
     ]
    },
    {
     "data": {
      "application/vnd.jupyter.widget-view+json": {
       "model_id": "b21dae7b13f44a79938c9bc5a8ce5b97",
       "version_major": 2,
       "version_minor": 0
      },
      "text/plain": [
       "  0%|          | 0/113 [00:00<?, ?it/s]"
      ]
     },
     "metadata": {},
     "output_type": "display_data"
    },
    {
     "name": "stdout",
     "output_type": "stream",
     "text": [
      "Epoch 253 train loss: 3.6792\n",
      "Validating epoch 253\n"
     ]
    },
    {
     "data": {
      "application/vnd.jupyter.widget-view+json": {
       "model_id": "831b674983ac497586a0016812b29a95",
       "version_major": 2,
       "version_minor": 0
      },
      "text/plain": [
       "  0%|          | 0/46 [00:00<?, ?it/s]"
      ]
     },
     "metadata": {},
     "output_type": "display_data"
    },
    {
     "name": "stdout",
     "output_type": "stream",
     "text": [
      "Epoch 253 validation loss: 1.6490\n",
      "Training epoch 254...\n",
      "Current LR: 0.01245\n"
     ]
    },
    {
     "data": {
      "application/vnd.jupyter.widget-view+json": {
       "model_id": "a624e328c00c45969a28b41b31b9f267",
       "version_major": 2,
       "version_minor": 0
      },
      "text/plain": [
       "  0%|          | 0/113 [00:00<?, ?it/s]"
      ]
     },
     "metadata": {},
     "output_type": "display_data"
    },
    {
     "name": "stdout",
     "output_type": "stream",
     "text": [
      "Epoch 254 train loss: 3.6213\n",
      "Validating epoch 254\n"
     ]
    },
    {
     "data": {
      "application/vnd.jupyter.widget-view+json": {
       "model_id": "6d71fda609b040699da4d6de15be6158",
       "version_major": 2,
       "version_minor": 0
      },
      "text/plain": [
       "  0%|          | 0/46 [00:00<?, ?it/s]"
      ]
     },
     "metadata": {},
     "output_type": "display_data"
    },
    {
     "name": "stdout",
     "output_type": "stream",
     "text": [
      "Epoch 254 validation loss: 617.6451\n",
      "Training epoch 255...\n",
      "Current LR: 0.01245\n"
     ]
    },
    {
     "data": {
      "application/vnd.jupyter.widget-view+json": {
       "model_id": "f14e6bfe0aa044b881437b8cd4b8e7a9",
       "version_major": 2,
       "version_minor": 0
      },
      "text/plain": [
       "  0%|          | 0/113 [00:00<?, ?it/s]"
      ]
     },
     "metadata": {},
     "output_type": "display_data"
    },
    {
     "name": "stdout",
     "output_type": "stream",
     "text": [
      "Epoch 255 train loss: 3.9638\n",
      "Validating epoch 255\n"
     ]
    },
    {
     "data": {
      "application/vnd.jupyter.widget-view+json": {
       "model_id": "a3903a294c0d43e2b23f54fefb40dcca",
       "version_major": 2,
       "version_minor": 0
      },
      "text/plain": [
       "  0%|          | 0/46 [00:00<?, ?it/s]"
      ]
     },
     "metadata": {},
     "output_type": "display_data"
    },
    {
     "name": "stdout",
     "output_type": "stream",
     "text": [
      "Epoch 255 validation loss: 1.6517\n",
      "Training epoch 256...\n",
      "Current LR: 0.01245\n"
     ]
    },
    {
     "data": {
      "application/vnd.jupyter.widget-view+json": {
       "model_id": "f8768012a1b649a9b72c32fc2755a906",
       "version_major": 2,
       "version_minor": 0
      },
      "text/plain": [
       "  0%|          | 0/113 [00:00<?, ?it/s]"
      ]
     },
     "metadata": {},
     "output_type": "display_data"
    },
    {
     "name": "stdout",
     "output_type": "stream",
     "text": [
      "Epoch 256 train loss: 3.6373\n",
      "Validating epoch 256\n"
     ]
    },
    {
     "data": {
      "application/vnd.jupyter.widget-view+json": {
       "model_id": "89fe066ff9a541f6b9480246a5015531",
       "version_major": 2,
       "version_minor": 0
      },
      "text/plain": [
       "  0%|          | 0/46 [00:00<?, ?it/s]"
      ]
     },
     "metadata": {},
     "output_type": "display_data"
    },
    {
     "name": "stdout",
     "output_type": "stream",
     "text": [
      "Epoch 256 validation loss: 1.6737\n"
     ]
    },
    {
     "data": {
      "application/vnd.jupyter.widget-view+json": {
       "model_id": "",
       "version_major": 2,
       "version_minor": 0
      },
      "text/plain": [
       "VBox(children=(Label(value='0.068 MB of 0.103 MB uploaded (0.004 MB deduped)\\r'), FloatProgress(value=0.661744…"
      ]
     },
     "metadata": {},
     "output_type": "display_data"
    },
    {
     "data": {
      "text/html": [
       "W&B sync reduced upload amount by 2.4%             "
      ],
      "text/plain": [
       "<IPython.core.display.HTML object>"
      ]
     },
     "metadata": {},
     "output_type": "display_data"
    },
    {
     "data": {
      "text/html": [
       "<style>\n",
       "    table.wandb td:nth-child(1) { padding: 0 10px; text-align: left ; width: auto;} td:nth-child(2) {text-align: left ; width: 100%}\n",
       "    .wandb-row { display: flex; flex-direction: row; flex-wrap: wrap; justify-content: flex-start; width: 100% }\n",
       "    .wandb-col { display: flex; flex-direction: column; flex-basis: 100%; flex: 1; padding: 10px; }\n",
       "    </style>\n",
       "<div class=\"wandb-row\"><div class=\"wandb-col\"><h3>Run history:</h3><br/><table class=\"wandb\"><tr><td>lr</td><td>▁▁▁▁▁▁▁▁▁▁▁▁▁▁▁▁▁▁▁▁▁▁▁▁▁▁▁▁▁▁▁▁▁▁▁▁▁▁▁▁</td></tr><tr><td>train_loss</td><td>▁▁█▆▄▄▃▃▃▃▂▂▁▁▂▁▁▁▁▁▁▁▆▃▃▂▂▂▂▂▂▁▁▁▁▁▁▁▁▁</td></tr><tr><td>val_loss</td><td>█▃▆▃▃▂▅▅▂▄▂▃▃▅▄▃▃▃▁▃▂▁▃▃▅▄▃▄▃▂▃▁▁▄▃▁▄▄▂▃</td></tr></table><br/></div><div class=\"wandb-col\"><h3>Run summary:</h3><br/><table class=\"wandb\"><tr><td>lr</td><td>0.01245</td></tr><tr><td>train_loss</td><td>3.63731</td></tr><tr><td>val_loss</td><td>1.67367</td></tr></table><br/></div></div>"
      ],
      "text/plain": [
       "<IPython.core.display.HTML object>"
      ]
     },
     "metadata": {},
     "output_type": "display_data"
    },
    {
     "data": {
      "text/html": [
       " View run <strong style=\"color:#cdcd00\">lunar-bee-58</strong> at: <a href='https://wandb.ai/naratip-18257/precipitaion-nowcasting/runs/i74ccpiy' target=\"_blank\">https://wandb.ai/naratip-18257/precipitaion-nowcasting/runs/i74ccpiy</a><br/> View job at <a href='https://wandb.ai/naratip-18257/precipitaion-nowcasting/jobs/QXJ0aWZhY3RDb2xsZWN0aW9uOjE1MDQwODQwMg==/version_details/v41' target=\"_blank\">https://wandb.ai/naratip-18257/precipitaion-nowcasting/jobs/QXJ0aWZhY3RDb2xsZWN0aW9uOjE1MDQwODQwMg==/version_details/v41</a><br/>Synced 5 W&B file(s), 0 media file(s), 2 artifact file(s) and 0 other file(s)"
      ],
      "text/plain": [
       "<IPython.core.display.HTML object>"
      ]
     },
     "metadata": {},
     "output_type": "display_data"
    },
    {
     "data": {
      "text/html": [
       "Find logs at: <code>./wandb/run-20240321_083425-i74ccpiy/logs</code>"
      ],
      "text/plain": [
       "<IPython.core.display.HTML object>"
      ]
     },
     "metadata": {},
     "output_type": "display_data"
    },
    {
     "name": "stdout",
     "output_type": "stream",
     "text": [
      "Finished Training\n"
     ]
    }
   ],
   "source": [
    "################################################################################\n",
    "# TODO#19                                                                      #\n",
    "# Complete the code to train your gru model                                    #\n",
    "################################################################################\n",
    "print('start training gru')\n",
    "################################################################################\n",
    "#                            WRITE YOUR CODE BELOW                             #\n",
    "################################################################################\n",
    "gru_config = {\n",
    "    'architecture': 'gru',\n",
    "    'lr': 0.01245,\n",
    "    'hidden_size': 200,\n",
    "    'scheduler_factor': 0.1,\n",
    "    'scheduler_patience': 2,\n",
    "    'scheduler_min_lr': 1e-4,\n",
    "    'epochs': 256\n",
    "}\n",
    "gru_model = MyGRU()\n",
    "gru_model = gru_model.to(device)\n",
    "gru_optimizer = torch.optim.Adam(gru_model.parameters(), lr = gru_config['lr'])\n",
    "gru_scheduler =  scheduler = torch.optim.lr_scheduler.CyclicLR(optimizer, base_lr=0.001, max_lr=0.1,step_size_up=10,mode=\"exp_range\",gamma=0.85, cycle_momentum=False)\n",
    "#Training\n",
    "gru_train_losses = []\n",
    "gru_val_losses = []\n",
    "gru_learning_rates = []\n",
    "\n",
    "# Strat wandb run\n",
    "wandb.init(\n",
    "    project='precipitaion-nowcasting',\n",
    "    config= gru_config\n",
    ")\n",
    "\n",
    "#Log parameters and gradients\n",
    "wandb.watch(gru_model, log='all')\n",
    "\n",
    "for epoch in range(gru_config['epochs']):\n",
    "    #Training\n",
    "    train_loss = []\n",
    "    current_lr = gru_optimizer.param_groups[0]['lr']\n",
    "    gru_learning_rates.append(current_lr)\n",
    "\n",
    "    #Flag model as training\n",
    "    gru_model.train()\n",
    "\n",
    "    print(f'Training epoch {epoch + 1}...')\n",
    "    print(f'Current LR: {current_lr}')\n",
    "\n",
    "    for i, (inputs, y_true) in enumerate(tqdm(gru_train_loader)):\n",
    "        #tranfer data from cpu to gpu\n",
    "        inputs = inputs.to(device)\n",
    "        y_true = y_true.to(device)\n",
    "        # print(inputs.shape)\n",
    "\n",
    "        #Reset gradient\n",
    "        gru_optimizer.zero_grad()\n",
    "\n",
    "        #Predict\n",
    "        y_pred = gru_model(inputs)\n",
    "\n",
    "        #Calculate loss\n",
    "        all_linear1_params = torch.cat([x.view(-1) for x in gru_model.ff1.parameters()])\n",
    "        all_linear2_params = torch.cat([x.view(-1) for x in gru_model.ff2.parameters()])\n",
    "        l1_regularization1 = 0.03 * torch.norm(all_linear1_params, 1)\n",
    "        l1_regularization2 = 0.03 * torch.norm(all_linear2_params, 1)\n",
    "        loss = loss_fn(y_pred, y_true)\n",
    "        loss2 = loss + l1_regularization1 + l1_regularization2\n",
    "\n",
    "        #Calculate gradient\n",
    "        loss2.backward()\n",
    "\n",
    "        #Update parameters\n",
    "        gru_optimizer.step()\n",
    "\n",
    "        #Log\n",
    "        train_loss.append(loss2)\n",
    "\n",
    "    avg_train_loss = torch.stack(train_loss).mean().item()\n",
    "    gru_train_losses.append(avg_train_loss)\n",
    "\n",
    "    print(f'Epoch {epoch + 1} train loss: {avg_train_loss:.4f}')\n",
    "\n",
    "    #Validation\n",
    "    gru_model.eval()\n",
    "    with torch.no_grad():\n",
    "        print(f'Validating epoch {epoch + 1}')\n",
    "        val_loss = []\n",
    "        for i, (inputs, y_true) in enumerate(tqdm(gru_val_loader)):\n",
    "            #tranfer data from cpu to gpu\n",
    "            inputs = inputs.to(device)\n",
    "            y_true = y_true.to(device)\n",
    "\n",
    "            #Predict\n",
    "            y_pred = gru_model(inputs)\n",
    "\n",
    "            #Calculate loss\n",
    "            loss = loss_fn(y_pred, y_true)\n",
    "\n",
    "            #log\n",
    "            val_loss.append(loss)\n",
    "        \n",
    "        avg_val_loss = torch.stack(val_loss).mean().item()\n",
    "        gru_val_losses.append(avg_val_loss)\n",
    "        \n",
    "        print(f'Epoch {epoch + 1} validation loss: {avg_val_loss:.4f}')\n",
    "\n",
    "        #LR scheduler\n",
    "        gru_scheduler.step()\n",
    "\n",
    "        #Save Chechpoint if val_loss is the best we got\n",
    "        best_val_loss = np.inf if epoch == 0 else min(gru_val_losses[:-1])\n",
    "        if avg_val_loss < best_val_loss:\n",
    "            state = {\n",
    "                'epoch': epoch,\n",
    "                'model': gru_model.state_dict(),\n",
    "                'optimizer': gru_optimizer.state_dict(),\n",
    "                'train_loss': avg_train_loss,\n",
    "                'validation_loss': avg_val_loss,\n",
    "                'best_val_loss': best_val_loss\n",
    "            }\n",
    "            print(f'Saving new best model...')\n",
    "            torch.save(state, 'gru_model.pth.tar')\n",
    "\n",
    "    wandb.log({\n",
    "        'train_loss': avg_train_loss,\n",
    "        'val_loss': avg_val_loss,\n",
    "        'lr': current_lr\n",
    "    })\n",
    "\n",
    "wandb.unwatch()\n",
    "wandb.finish()\n",
    "print('Finished Training')"
   ]
  },
  {
   "cell_type": "code",
   "execution_count": 616,
   "metadata": {},
   "outputs": [
    {
     "data": {
      "text/plain": [
       "400"
      ]
     },
     "execution_count": 616,
     "metadata": {},
     "output_type": "execute_result"
    }
   ],
   "source": [
    "len(gru_train_losses)"
   ]
  },
  {
   "cell_type": "code",
   "execution_count": 617,
   "metadata": {
    "id": "W2HzoOqpP2Tc"
   },
   "outputs": [
    {
     "data": {
      "image/png": "[encoded data removed]",
      "text/plain": [
       "<Figure size 640x480 with 1 Axes>"
      ]
     },
     "metadata": {},
     "output_type": "display_data"
    }
   ],
   "source": [
    "# Plot\n",
    "sns.lineplot(x = [i for i in range(1, 401)], y = gru_train_losses).set_label('Train loss')\n",
    "sns.lineplot(x = [i for i in range(1, 401)], y = gru_val_losses).set_label('Val loss')\n",
    "plt.show()"
   ]
  },
  {
   "cell_type": "code",
   "execution_count": 618,
   "metadata": {
    "id": "M0Zbc4mIFKv0"
   },
   "outputs": [
    {
     "name": "stdout",
     "output_type": "stream",
     "text": [
      "GRU Model\n"
     ]
    },
    {
     "data": {
      "application/vnd.jupyter.widget-view+json": {
       "model_id": "d8f755181ab24b6186361838cf711199",
       "version_major": 2,
       "version_minor": 0
      },
      "text/plain": [
       "  0%|          | 0/113 [00:00<?, ?it/s]"
      ]
     },
     "metadata": {},
     "output_type": "display_data"
    },
    {
     "name": "stdout",
     "output_type": "stream",
     "text": [
      "training 2.0202243328094482\n"
     ]
    },
    {
     "data": {
      "application/vnd.jupyter.widget-view+json": {
       "model_id": "73327b5dfe7d4e55a8a46e02d5ea0f01",
       "version_major": 2,
       "version_minor": 0
      },
      "text/plain": [
       "  0%|          | 0/46 [00:00<?, ?it/s]"
      ]
     },
     "metadata": {},
     "output_type": "display_data"
    },
    {
     "name": "stdout",
     "output_type": "stream",
     "text": [
      "validation 1.6726404428482056\n"
     ]
    }
   ],
   "source": [
    "# Evaluate\n",
    "print('GRU Model')\n",
    "print('training', evaluate(model=gru_model, data_loader=gru_train_loader).item())\n",
    "print('validation', evaluate(model=gru_model, data_loader=gru_val_loader).item())"
   ]
  },
  {
   "cell_type": "markdown",
   "metadata": {
    "id": "xe6kp4X-Kvpv"
   },
   "source": [
    "# Transformer"
   ]
  },
  {
   "cell_type": "markdown",
   "metadata": {
    "id": "1MnXbsPWLO9S"
   },
   "source": [
    "Welcome to the beginning of the real world! The aboved models are not usually used in practice due to its limited capability. Transformers are generally used by computer vision, natural language processing, and speech processing (almost every big AI fields).\n",
    "\n"
   ]
  },
  {
   "cell_type": "markdown",
   "metadata": {
    "id": "JZzQCqaPPiYF"
   },
   "source": [
    "In our dataloader, we will add the output of this timestep (the number of precipitation) as an auxiliary input to predict the next timestep. Thus, input for the model should be [#batch_size, 5, 76] (5 timesteps and the number 76 comes from (3x5x5)+1) and the output for the model should be [#batch_size, 1] which would be the next timestep we want to predict. Additionally, we will mask the input at the dataloader to the attenttion from observing future values. Suppose that we want to predict timestep 3, we will mask the timestep 3, 4 and 5 in our input by setting it to zeros, and we will predict the timestep 3.\n",
    "\n",
    "In order to get a score on this TODO, students need to implement a dataloader that mask the input correctly."
   ]
  },
  {
   "cell_type": "code",
   "execution_count": null,
   "metadata": {
    "id": "K6r4H6fZK1Lj"
   },
   "outputs": [],
   "source": [
    "################################################################################\n",
    "# OT#2:                                                                        #\n",
    "# Complete the code for preparing data for training Transformer                #\n",
    "# Transformer's input should has 3 dimensions.                                 #\n",
    "# The dimensions should compose of entries, time-step, and features.           #\n",
    "################################################################################\n",
    "#                            WRITE YOUR CODE BELOW                             #\n",
    "################################################################################"
   ]
  },
  {
   "cell_type": "markdown",
   "metadata": {
    "id": "8jkG8ik7PceP"
   },
   "source": [
    "\n",
    "In this task, we will implement one encoder layer of Transformer and add the linear layer to make a regression prediction. For the simplicity of the model, we will change the multi-head attention to QKV self-attention (single-head). As a result, our model should look like the diagram below. Since the layer self-attention is not availble in torch, students have to implement it themselves. In Add & Norm layer, students have to do the addition before normalizing. In Layer Normalization, we will normalize across both timesteps and features."
   ]
  },
  {
   "cell_type": "markdown",
   "metadata": {
    "id": "-Q3kTURbITRc"
   },
   "source": [
    "![image.png](data:image/png;base64,iVBORw0KGgoAAAANSUhEUgAAARcAAAOOCAIAAAClR8EhAAABN2lDQ1BJQ0MgUHJvZmlsZQAAGJV9kL9LQmEUhh9N6AdFUg4ODg4ODRUSBq3qIFHD5VaQRcP1qrfiqh/Xa9peW0PQ1BYtrQ1Rf0ZB0FD9AS1BBTp37hW5LnXg/c7Dy+HlfAdC74ZSdiQNtbrr6IVccru4kxz9IEyCKMtEDbOpspq2jtSgD1UIei/eC88LXlav+9m5WPs+ir/t3bZzhzP8X+PlStOU/iVKmcpxJTImrLVd5XFZOObIUsIdj60+n3lc6vOVP7Op54XvhOdKQ2wNcc1umcHeTFbqWxvSx0QJmugUyP0xk/Fn8jRQHONwgMU+Lkmy4ihsKsKr1DFZZF54ibQo492zHxfcKfAa17DShZHzwCtdwsMpxF8DLyV/nD6B+0dlOIZvRUThahV+bmCqCLNPMLE7OOwvdT1Tw2LAwlEAAAA4ZVhJZk1NACoAAAAIAAGHaQAEAAAAAQAAABoAAAAAAAKgAgAEAAAAAQAAARegAwAEAAAAAQAAA44AAAAAMP9yvQAAQABJREFUeAHsnQdgHMX59u9u7046Se7GNoRmTAum1yRUUwJJCKH+KcFA6GBaABsCxjRDPjomoQUIzZjQi+m9mo5NNwnYgLGxjbuk6+X7zczu3tzpTjpZki3dzmJOs7PvzM488z7zvjO7O+Pv16+fzxwGAYNABxAIdCCtSWoQMAgIBAyLjB4YBDqKgGFRRxGs4vS5XM6yrCquYGdVzbCos5CsznwCgUAqlYJO+lGdVe1ArYIdSGuSVi0CkMfv96vf2traRCJBVY1dKtfehkXlkPF0fDabVVYoLY9wOAypPI1Iq5U3Hl2r8Hj4IkTCi8P+7L777jBKR4J4/dSE/eZ5kVGCcghgh2pqan7++eeBAwfGYrFQKASdYJdul/RwuXyqPt6KRCJVX0lTweVG4OKLL956q61JPm3aNEgFZ3r37q2GSSpPwyJwMLZouRWs+hMGg8H58+ereg4aNKi5ublXr16cJpPJ6q98e2pobFF70PKGLGMhNfIZO3bsr371q0w6g8FhguGdd96BP3h03oChHbU0tqgdYHlBNB6PY3DUHN28efOoMs+LGBERYAjNMAl3znhxRZpQMPdSdM2cehABGILBYQh0xhlnUH1IBYUgEuHRo0dn5OFBWFqvsrFFrePjuasQhuFQnz59Zs6cuWDBAgLwCiJhgvhdY401mpqalGlS0BgHDxyMLfIcT1qvsKLNKaecAnluv/321VdfHc7079//mmuuYZp71KhRxp1rCaBhUUtMPB0DSTAvOHXQSTEHOJhsuO6664YMGcJzEcOilvphPLqWmHg6BsIw9oEtuHC4dhw//fQTtog5OjVxp8ZI7jt1xqNDXcx7dJ7mTMvKY2p4/TQajUIkGAJzlPFhmgGPjlPoRCpDHh0649HpaJiwcN4gDEAom6PsjyIPbh4EY/rOUKhIUQyLigDx+imWB5vDcyEFhCKM4hLeHRTyOkCl6m88ulKoeDgOCnEAgBr5uCyCSGqCW131MEIlqm5sUQlQTJSLgLJC7qkJlETA2KKSsJjIYgT0sZAxR0XoGBYVAWJO20ZAZ1Tb0h6QMCzyQCN3RhV11848eC1C1IyLigAxpwaBdiNgWNRuyEwCg0ARAoZFRYCYU4NAuxEwLGo3ZCaBQaAIAcOiIkDMqUGg3QgYFrUbMpPAIFCEgGFRESDm1CDQbgQMi9oNmUlgEChCwLCoCBBzahBoNwKGRe2GzCQwCBQhYFhUBIg5NQi0jQC00Zmjh9tObCQMAgaBlgiYt1F9ObMxj6YXRcsHK3Cyfl9AR0kL+z28CUsgJ42QP2tskaZBJth+BEwfBGbGFrVfcUyKQgSqnkh+aXMCutX1C5vtxhgW+cr4JB610oGCYbNYEkioSzbAmiYud/y+vEtX1RTKurrhEsYFQQQkl/jraRbZfm0BMO6JR3eo1xkCFqxAxy+dsY4VoyQXJp/eQ+djqy0kWORwhrrJ0aM9hGTQ6GkWsWgUiGQyaXshARcmYcEz1aYIldZHY4hIInVFIJO3Pyw5XGlmPV3OUQmoUngIWGSkgMujLKJnFRQSu12JBXWtoMVX0NpyAnY3UwhclZ9lc/laK0cuaAWzPrEAnT+YTWXyK9F5+4txu5eh52WBPr/fErtsVLlqtFo9dAUILPbnyWQFrfwCjap29FuDI6ezKCusTSKdjcUSbF0UqK1nTWE3sadYJEdERfZZIIHyJDM+KxBIphPeZRGOXCaTs0I1yVQuEKwJWCFloLO2018COFeNqjKg7I+qWk76bP6gP+wXG4Alsg3ZjFdZJBDJ112FGSjSlaT92XgyUV/b4F0WYZFZ/jNBFxuqPeb4k1OZHCzKCQqpf1XJlNYqldOsDavcIwqvcFpeev2Lo445SXN3fZ6yRXKaTmMRz1gFNqKTtULhxQvnP3z/nR5ikeuqudOX/kBOzD4FQ4ms/56J99kjSPVA2tE3NQPhnHnx7z0TJ3qx2k6dC30Sm07iCVIumPEHjvjzgVbA8hCLHFicv2I2AfctzP+YIH4dhPJP0xxR89e7CGhmCBACzHeLSf+c0Jkc3bAvEAx4dY4urxRiKjPvwkljnb+oQoW9UfFVc+4pBCSplM4wWlKqYd6j01TAUEgDwwQrRYABgoc9OjH+KTTXWKWWjxOLH7dVCq6R8w4C3vRWqLVHX/DxjmavyJp6k0UrEmFzr+pHwLCo+tvY1LCrEfDwuKgMtGYcVAYYE10WAa+ziAkWZhTULyAZCpXVFHOhPALGoyuPjbliEKgMAcOiynAyUgYBBwHxvqXjtKiw1z06B5mCv/pDI/0JkotdgbQ58SQC9luXsu7GFnlSBUylOwMBl0ietkV83Znz8REAR/FLDJ0BssnDKwh4mkU0Mk6acG3tb+jlfJ1Xmt7Us90I0Ncqr15YIen3E+Cf51jE90IsFiVXuinwZtV3RH45anSGjgJlfYzUbtR7YAL346sKy+61saL6WjEgPmmUToz8KdCkCoEzYgYBgwAIuD2I52yR3vxyQMS30QyPvGZydBhMuKMIGFvUUQRNeoOAp22R15rfL6Yi+c4ZX0R8+Uz1nVGQmqI0XepyaoQBbjmB64HJFFXUbw8sfjcusrFF3bhxOq9oWWl5AmpNXLkEh/Odb7luVCebJiM+EG7rcFblbUuueq5XAEr1VNa7NZGzSVnpxeX3QeBRh40Ieu9nhsVdQ9iJl5dZfY4VQLPZ0guXZ1rE24ueewBsxx+2FzHxQI0rriLQ6P8qTtftBJ1aQAnBCoh0+79u+fqrL/xiMTV/wJ8T9PCJfxePu/CD996x/L4Q//uyaZbMDfpDoUAoFEynU5blC1g+tTYq8TlfmsSQit/aSC3PT9JyCW9yq6uvIwyLksmkZYUYfRHJMugcYfIKBqPRaLeDaXkLpL9g6XVbhNYAAYiI3/xoe3mh7ebpyvhac+b8+MH777JSLBRKJGPQICPXSV22bFltbW2GRcxzOSvoz0CpdKqmpiYabaSiUCSRSChLFRBLG1ppFj1nqbYcK2UGWL+ZyHg8DoWIWbJ0Kb8NDQ3dHKHWi6eURCmMklQfp5lxUeu4Vc1V2yI5wyHqJd02yas7/n0HW2fU1jRAG5w3KxjIZJKxaHrgwAHN0ShGBPIgHwyFWNx86dLFAwYMiMWS6UySXIJCOJOKJ7MZrFOgtjaMKQuHw1AumczW19cjk06nYWNTY6MVJI9Q1WDqVgRemcPrCBx++GHXXnstdmPnnXd+6KGHtt12m//c/5/PPv/kpptu2mD99bE2GBmocsghBzz77OQfZn1z443/2HHHXzU1Lw0GfVYw99s9d71v0t1z53/97LNPnjzqxFA4GIs1b7nVFg888MDw4cNvv/32yy+/HEMEylCrmrB2nTrDohLNyhDC/eeMLtxHKyXke0KUckYoqdviboxvvQ3W32GnHVPZZP9VBu6y06YP3n/Xl59/9exTz+2629b33XdfMpWAGEccefh1V49bumzx+MsuS6Vjd99z84EH7uvzp6HQ7XdMgE6nnTbm3ffeOfvsk8486wzcv/qGyJ47D3/m6bvXWWftadOmYeKwVFiinoBVRWV0KYS08egqgqwKhOgOKjkYG1166TUTJ06MRmMzv/9u/PizVx0yZPHSRePGjX1jyqdHH/MXTNbEifc8NXnyaaeNevW1l3DhHnvsqdNPP53x0uSnnthzzz222GIzJjCYdUj4fHff89S4C8fFY0lO8e6WLFrU0Lt3JcXozjJqLKTgBFVODYu6c3t1WtlsCpV+2iMHSM6tYNFrr70GhRjb/Pjjj9iOQYMHDVl1UK8Gf7jGGnv++XhrDJP69O21wVqrMj/39OQnfvhu5tlnnrH66qtvuOGGa6+56qzvZ9aGg3169WYO/D//eTCVSOMTMt8gRkd1dc59quqva9+rqlaVV4YeRYy75aMTAvK5SuWpe6Kk/tlHQfnRdc4BobGxiVGQusaf5uZobW2EWQImu9k4rXfv3n379n3l5Vcm3HonnzgectD/Pf3Eg/vus3c82vzYww/98N339ZHaZDLOEKjG8i1ZsqQ2EiEruXmjeO5UcMtqOfGcLeKzVj5wlS+TZXniof7x123QIiIVnbpi3T/glFwprjI4gaDlw8iksulEgh/m5epYPSwnHh0JLFD9WMYXqolE6hvS6UwoVJPGXbFCP/wwi/m4Tz757PLxl8XjUcsKHHLIoRifZDQ59rzzv/pyxp577skzIqYQRp10yoL5C0MWz4dCSTZYC1nxeDMzcwou8W1XNR6eY1E1NmKlderVq1c44jvgoAPENoJBf3NzY31t/fvvv8/mtuKZWZYJt2AvyxeNNhMDDfDB1Kf0s36Y/cyLH+y37wEz/jfjvfff3WuvvcaMPuWfN9zOWOirr75ea6211l9/Qx4Q/eXII3+xav/58xbV1tbxKIlpOXLgYZNLHciqJusqLXEPkTMs6iEN1RnFXLJ4SY3fN/6yc7FItX4f5oWHq2ecfgFkwNeCWTzzibGLa4J9OrMMjbhnyIIJPC3tff755/+/K6648sqxqayvIeB7+Kk3Lr/iSh4WXXP1dbfccssLL0wOW74XX3j/huvvPOuvfxkz+ty3prxTa2GLQnWRumSyqia4WzaFv1+/fi1jqzLG8XCYsw4EcoyiM1lGvIFgJtBv5JHH3TtpErV2e80qQ4C3UcXMki8LW3IBKxaN8cw0UlvLrAMjFsY7OLrsawuReG1HvvVjMaWGkwa5sB7wCkeuX//+zNcx0zDjf98sWrSUJ7Ak4i2H2lB43XXXXbxkyU9z5tTVNfTjWW1T09KmJsiZSCV5g4GcXRPkBnoowhlfWiCZDeZ8oVQgeORh+z/87+uMLeqhrdnOYguvipUCeM+AL3szDI1COZo+S8+Skm/B0YFkGRzKN6HUMAZbxHt2vP6DGP5fXV2vRDz13fff80/MQ5BhIOSXmzEi8d9vZ1CgYE1tMp39ad7PhEmbSGGCAvJt1cpm2dtZp+4jbljUfdqiq0vClEr+hW55M0ktERI2mCVdWjkEczjUb36kI+LUxIXKRK107pp9cbnqDmZ0BVayZ6CmXlwDqOratKIKOZ6qnJt01b6ipIVCkj8OSZxcXRGXXa7tKfP+q5ui5wYgj3sYW+RCYQIdRUBXLAYP1XcI71bVStoi6ss/+hTDouK2LnpTxul3i8V68rmwIco1s90wvTKuPclHKpvjOG7i+5G8FSqLT/VaIQWM3mV4nUXqPSh6FqUXRRTKK5IJGQQcBOg4RI/CCmxiOsaMixxcPPy32M50BIoCL04bNnQkz+6W1rW9boAS5k1zdyuuKY9BoKcg4HWPrmQ76d2M7uPp8SUT9qhIvQPVw+UqUUZGGyOVS1lN8eiDUgOhGI69LQNNNdXb1MUg0KkIwB/XdxUjavmoulPvYDIzCHgPAa/bIqyzmPKXzwGYeKkun8176rxia+x6+2ZcVAx8EZGKToulq+68oL6O399KLVk8qPTVanzqSk15PZdfXu61xPtU9uF1W1RaA0ysQaAUArAF+6OPi8SgyIyLSmFl4gwC7UPA2KL24WWkDQIuAu5MnefGRe6I0MVCD+TfFXNiTTfjIGH+FiAAhTLOuNFzLAIJNiABAvttQvHRqzkMApUioOwPfbGaPeGUWV7vsYh3jXnczi8diQiwPDv2xjY5xvJUqk0elmvpzniIRXblhRVWjpugjFyDgV1IBI1aunO6qrR+VZesmrDz9URrFfLUvtIoifgqJMfHjgHW9pedL+tKBDzEInQBX45lB4RS2B5tEEQUkVimzu9nU54WGiMslTikB6jCilDtpZWdj8pN++1IPl1bHpZW4IEIi5Cw7xCrAqmHI5TcfmYiSeYPtoRMVa6z6qtBVRBcgfk7OoC2WNkgmpBmuSR/MORv8OVqWCrMQywqh7rdNOLxoXiLQWOLvOIgKP1glYfSG/nb+rdoTlqZUbn7a1pYLrey+XRVeVjjkTILfud8SxubWe2E/b8gkojIZVljDtWRlRI8UwHxW1DOco9dtfhy9c3nWBhaafnbZWbDQbGZk9+X8GUYEIVY/TUQZJEWD7FINggLQ2GIirp/cRqwxBLS4sm9sNTOoTUb60w5sfxVOcjf4twcKS2tNP1OfIm/Wnla5lY2ny4sD+tdsVue/E0HQ3XxBDvqsa9RDWVnXC2G1sqkC8ScYlDOPKGcyBKVJarV+pZOIim6UvLX8Fd1RUnYACPrC6TSieZ4sxWMeI1FNBF+bQGR/Dn8uPTIQw7K6OvfOnN3xabJbmOlB2VefinQA30OsKVuafrkaz23SvJpPQdVrEryUZJiVy+OoUOHsnUK5ohYnDr3V1khFaMSyF+9jnpYiej11cNaBm0E9Tz18IrIX4yf6V4C2TQkIpgOhHJJH/rjnVUdWc4QpNVMJes5Es76xNp8OT+urVAOSZis3TJaD+RaEm1yRmpAS7uhmlL/LZWPdl3TpNZzqySf1nNQd60kHyUp9ksWxVu2eFb/gUNhS1NzE8veyz3zOHNwcoySXan25G8nadeflZ0/b8/BIrFney4QYklM9ur0xb1ji2h1vRtW6iv31valMNG4eSym6/NnJM3YMli0raCN1myKh7ZDInBEpPXuX7ujlk+B2riq31pu5fJRquxQurUc1D3L5aOVqLA8F1xwQSqeOvesk66+5pretYjFsn5MNybJYZHunoGw63S1WV9xz9bR00plB1dW/qKygjlCHaCQKLaFpc6hOT6LpV89Y4uos9AhxYSsPwVtQAW3nkXepXMPo8TupZrBsYVJJSNtvdFGVg4VkShx2PLyih5uKaryUfF6WMXoabWwrqa26ndyefDi5sydI8ZB/mD/vr3w7phgYEX8oNhH2T60FYPLlM2RzP91iSqiWtY3L1gYWln5i/vip1BQXBbpsAiPRqhENs1K55DIO7ZItZZqfr3lxONXP1MuomklVqo3VTpa1N7FkXo+hS0uztRV1fatS6q05WTK5CPKVpR5uRz0/IuSqEsFvxBDjnay553/NzEll2G3cN/YCy647rrr2OA1Govl2IDSOTQWqSiVv3O5tb+tl7ZcypWRPwZIrjunfimZfDpid7i4Md6xRdRdTtCp1pH0UM0ox0ROm7m0kYTR7ZIjof11hbW44qBuMYqvFZ63nlsl+bSeg7pbW/m4z4WYalmwYBHTUEzOkRQ2rb32UHb1IhwM5Vkk+aZVpK3886KVlDYv7YRWav66qqAbTnfjsyJyqzOnjNX91w8KPFpV/hlVFeMI+hX9H72w+icj5fVWfgqS6tlo4VaSF11qPbci4ZKnreegrpZMmI9ke4i6ujr2HRo37sJttt6G/Vj4x6S3FQzhvLz99pRwuEa4eGKpavFPq2lF+efvVAh8i3zK1UXLoI1guRxaj28tUz0lcm4P4ilbJADSHYLlcylag7kqrrEdJfsOLViwAMsza9as4cOHMyJSNWPjFd5jYGRUFRXttEroStVpmZqMejQCcGb06NHTp08/9NBDf/vb33I6ePDgK6+8kkqdeeaZ6sFRj65gpxfecyzC/rj/Oh3NKsiQcRG26NVXX/3Nb37z4YcfxmJiRz2Oq666Ci5hhdR7QCrS/CoEPOfRmYZvBQHlubGFXm1tLUMjy7LY4BW/Dv6QSk08cJWw6+O1kpt3LhkH1zttXVFNlamBP0wz8MsAWsXE43E1mGbIREbYq4qy84aQ5zw6bzTrctYSnmBkOJqbxXvc6lkQp2QHebBCfCWBjTIUKsLXsKgIEE+fKnrAJTULp1w4EFFWiEiI1OIxq6cRU5U3LDJKUICAyxwYpROGUxw8RBWjCtJ4/sSwyPMqUB4ACKOYU17EXBEIGBYZPWgDASySmmBoQ87Dl80cnYcbv62qq3kFpCCSceRaQcvYolbA8folxRwoxOF1LFqtv7FFrcLj7YvG/lTY/sYWVQiUETMIlEXAsKgsNOaCQaBCBAyLKgTKiBkEyiJgWFQWGnPBIFAhAoZFFQJlxAwCZREwLCoLjblgEKgQAcOiCoEyYgaBsggYFpWFxlwwCFSIgGFRhUAZMYNAWQQMi8pCYy4YBCpEwLCoQqCMmEGgLAKGRWWhMRcMAhUiYFhUIVBGzCBQFgHPvdOtdxtmbdSyemEutAcBXanak87IGgQMAg4CnrNF9q5easMC+csug6Ah96fJb1jk4OPpv2rfQTZH4J/pbpUq2P5LoeZ4ikXazisSErHHLexJZ/k0Gj1BV8Cog+pS5CW2mVt3lgccRaRW+pLuXH6K3Zn4q01f2DdC7kzF/iOq7mG/5R0WuXvpCZWg/mJjUrEHjZ8Foyyrhu862YXdWcRbysiN6UVILjygAm3+6lvcyIRtpOjO8hkWXAAkK0APk04V8cWuV1H5s219Wt5j5eWm2qLSAVEFNr0NsDWnP5VO14RrvMMi2er2HlK2QrAmRzKdsUKRVJrVOVhNNwg6GbuLkRyzVYWdjuwkLftmOmz9KNISsUlPQU66rAh3Z/lly6Jsb8U+0qlcyArXFBddnhdVX8m0RMlN20Pl2TxPGDbbHLEFVprdbX2sMxb2pZMxj7EId9be+iubSUOYXDAUSaRy/mBtwKqRu7uK5sZEceTUH9H5iEVwRJQwSupv/lenQUkVUaIlFaubywdq6sP1vWBRPFsfLNhb2q6+KH8LQNqob8+Ud3WBdvSzrXogmfblEhl4lan3hz20Z4TcF9mS2pyhL0ED/IGaRJbNXOuOOeHkpNhCusCLZhk2V/XZtN4N5wmkhXQ+6LxSIk4baAm0YLeVp+8IhcK7777766++mk7BptKHXnclUTlW3V9edzWol5VFSZQtCsSFs5u+/7YJXrJFjiFiWCj3QmZygcGQFQhaqWzm7nsnoQ0y3rZFqoHZkN3VnXLKoatRS0qo5OWI1P3l7574b6rQc8vfcfzddpebIgf8gki+TCCQskKH//ngLJt2qnt45RciMS7kVxzsd5WVi0U5/m4pFHQt19niyuqRurAroAIlL5WMNPIudN0EH7eJ0RxclkyAf3iygawvKEYB9MNuiT0SAIWAPVUgexDGi7kg/1R/g1PndjwKEMT1nqZll6xfbX2GSpdUmRt5Xeu6Mz6q3WGR6IKFUxOkJ84FBKkYHXiIRVRbtZMbEE1o2yW7NRWFdCL5Nb+4JYVEBmK23Elu/630T0u9aT2lkV8p+OjtLmgjD6ZtcwyXc+mcL+MhFlF3AYB4kijssXhgJBBR/xQyJR4y6gjaQi3+6DIuo4qkdBn9kpFXaPQsfGRpA3BIGiecGc8cSl8xG2IuzrYewkDj9XLJ9X09g4ep6HIjgE8g3AKMEdaI/z3EIoWZeNOHkHp8pgZIwrW1zXRLXMvZipaSrce0Nx8j3w3xtJ+F2MojPBf5r2Dk3Hqxq+kqHYnYFk4c5fmjrptfg0DrCAgitS5hrhoEDAJtImBY1CZERsAg0AYCnmaRnKoUs5WMENvAyVw2CJRHwNMsKg+LuWIQaAcCnpuj8/uZUWGajom6gh6EeGDTn7G2A0Uj6kkE0BneIOOnQJM8CYWptEGgowh4zhbpgMkREV8MiTc59HgTNgi0CwFji9oFlxE2CJRAwLCoBCgmyiDQLgQMi9oFlxE2CJRAwNPjohJ4VF1U4Wfw8rGYfOlJfj+/Umpb7tFcD+7Qe3DRV4oK9LCbOu9N9rBi97TiGlvU01qs8vIKCum9ZN4QyTyUTdAFKs+6vZLl7I+ejy6zYkql371DYcOiDsHX/RPr3+2KF9jFlP6K5E/3R6gTSmhY1AkgtpKFWHI1l9EEKull9V5ZS2oHK8lBitqccZbvUadyUCSfjnEXsmp5Lz3/0lf171Lb9R1UCzT02un31eNbhlWpKpEvXX47R+XuSkBa3qNdMZUUpV0ZGuG2EWBZ8EyG5WntD271BMS7p7wkq8tw6l5yA7q8ihTfXjov18pPeOU3iP50gOX1fGKFPfl1r/rYtyB/PU/9vm586wEqVS6VFXS+5nKy4K0ZJ1jwlzqST0EUX1Q61SmK57TkHRW8LYWVfMkkJYUriVSmvrjElaQ0Mq0ggKbLf/bqXJbPf+vNN/93+qdCoeWymqysaRHKpoMBX4hQJkW4NhxKxmPZdJKIZDwRsqzeDQ2sG84pkZlUgn8+sX6Tn1Riff50kn9i+QiZT9OypRQJ/chlMqSS7wjyclfO8mf+O33aotnTttt2i7pIEGHuyIfOTzzy6EMPPiJWzc3makIh/olv6Pl2XrzHIV5yJ6t4LFYfiaQSydpwTTYtEoaDQSGQyaRTKdSdhTsymSR5hoMB/lFU/nFKUVOJOL9UjTJQ4Ei4Zu6Pnx568EHc46033rj6yitJSj5kq/5lUinkkRTkyubIjYRUXaxCms3ynlrQH+jTq/cOv/5N2ApS2t133fWH76YNXWsNBJDkRhKftJBX8LPeVVYUMpVKUZd0Js2/3r17gxACxLhHK03Z+iVyUuRxA63Lm6vLiYBoMuEw8E8e0nlgFbx4PK4iaNtAwMKeJJPJurpIWB61tbWcLlmyRMmg0wRC4XDAslKpeDqdFi/UBgLI0vsHgyEUgrSoCweSqpsnlWxjsQ4Y1m3CdVcFLGGULCuIPEzLpdOWxUpQmaVLlyaTKQLBYJAYcrAwlel0MBRqbGyMRGrT6RSpRO5QN8sCmKI6QQvxIHfJStZRI0hBkLJRJMrGL1UT5WH5c8Fd+5gxY8aPP/6YSCRCIVFydVAd6gUv6yKRRDLmyIq/oWCIYjVHm3fcYYeHH7ppnXXW4TZNTU2ff/4Dt4DRFE9lAowUh6xS6RSpsIxkyF04DYfCNTU1S5cuUWDq+bcrDDq0qaCN9IndtGZc5ELRJQEaWOQrflA+qaNWEP3nHM2jaVGFUCgIbQJybUAirWAghNqJAVWO+NraMMLJVJIY1p7HToj8/Kh1GtUnMpFIo7UZ+m7BHPGLAAfWgjM6eM5XGzLosIMPvfHGm9jngCXaucpdcpk0FqR37wZ0mnySSbhNKYRKoI6iDDlLRhJLtFQVaawwFVhLUatQmNXOKTPMp0egPOru5MZBPtLe+OrqI5wQg2YfedRRaH6krg71h4nEIIa614NCKNTc3BwKiqrJtNi8VG2tcBQb6htUztwL2r/77pS99/4jt+OmSHLAczoBbqcoxK/gueXLpDM1NaF0CtPNKrgWFkkIBwSBZbrO+RHNaY4VhYCwBkoboAdLYG+88caXXnrJu+++98orr1xyySVrrrkmanHNNVffeOONaDYHGrDFFls88MAD/NIHb7LpxnfdfeeHH3z48MOPjBw5Et2l5Ntvv8Njjz0+YsSIe++997LLLkP19OpksplHHn964YKFF154zrB11kO1uIpBIi06Gg6F6N3J/9sZX3722WdXXPn3wYMHq+RkddxxR5911lkfffTRL37xi5tu/udxxx13wQVjp06b+tTTk3feefudd975ySefnDp12r/+dVuvXr3C4RAJd9pxp3/c8I+PP/741VdfHX326HWGrsONhJcomCm8wBsmTDjt9NMxL0cdddSDDz74nwce4B8BCn/UkUdS5dpI5OSTT37uuec++eRTCjbyiENDId/ue+x25lln0A/dfMs//vSnP+6www7IU6r6+roBA/pfe+2106ZO/eKLqURuudnmGCgodM011/zlL3/561//+tprr33y6afjx49nJWD+o+cSFBKmWv5TNluHrD1hxUXPsYimVKvxEQBN0T3K9brbA11pWdb7kytl4tYUCKgRET6A/Q9PP81YKDOwX58Xn5m42SbD/zHhukn33nPowfvcevNN/lz6h5nf/+F3O665xi+QQfWOGDlyqy03+mzap9ttve2Tj00cNGDgv2656dNpH1/x99Hjxl5g+QK9ejVsssnak+65doN1h737/jsNfRrU7dXaYHTIqObRx56I5bhk/OWJZDqaaIbMeJF4bgMHDnzzlUcHDR449vyLr7r6igP2/9Pjjz1SI6xQdsvNNx17wennjj5u6tSpuJebb7LZFRecuvUWW991xx2rDOoz8e7rH7r72q+nT5808Z6D/rTD6aeOijY19u/b58EHbll32NB/TLj+7jv/feIJR95x+7/i0WYGTaJI2Vwmmdpyi83WW2coo6s5s2e989YbH3/w3mefTB08cMCInTcLWcF+ffqefsqpl5x/4nvvvH3euaNjzcv+3+Xn7LH7TrO+nzH1ow+xqs8///jsH39YZcDAX2+3qcAnm3nmqcn/d+BeE66/9rxzL1hrjV+88Ox9Q9daMx5t2nnH7f/fhWfsteeeN//zH7O+/+6vRx9w1MgjGLYJZwxSu/8K2qodJ+QjPHa4mPMZj64dwFUiKigkwXWEnUGRc85fyIv/sepqqz351NuXjh8/c+ZMuLzOsGHHH71fr4ZeTz/91Omnn3DYoYddP+F6Os6DD9jj33c/xjTXmDGjly5N77PPH2EFQw7GBmedceSE66/H/8HA3Hb7Y+MuvBBPC1sUcJo165cv+uQC06Z9esstD5w+6uARu454481XRF8sC3nSSSclcr4jjjhixoyZGJOFCxf9+/Zr2STimWefbWhoQEu32Hb3RYsXYzk5flyUPeCAA+kDvpnxyR133HzLHQ+Nv/Tv0VgzRgl7WF9XN2jQoBdffP/yyy//9ttvcbfWWGONE044TI7fFI0EBFAXi7Bs2bI3Xn+df9Rl1113O/GEw1544YPb/vUvHNf6+vrR512FFYrFolOnfnzgn15fY81fPP/8y6+++vIhh/3hueeemvHtnPXX26BXnQ8M99hjj6FDB5x88mgKjKV7++03P5762gknnnDOmHMam5p+mBc4YP/9E4nYfZPu+/zzz9dbfxj2kIqIjao6cGB54I/eyB3KrgMl8VRSSSSmFhznQY5nAl999dX5Y8futdde55wzpm/ffnuM2BwCsjfbt9/+b/rXM/bee+/LLrvk9787CMf/yScfTyXjv/nNZnPmLDvvvPPRPAZIw4cP5xIJ1aTAo489yjibSTdsK+bWxpdJqowvnkzUNfS++trrf7/3Plddc80uI36TyaVqwvXJVHzb7bb54YdFc+b8xPxVNNr83rvvRny+TTfb5Jlnn6bHfufdaYuXLFq6dDFkhgwvvfQidhunSExOZHzPPv00PToJZ8+ejWtKyb/55hs8wAMOOODoo/+ywQYbbrvtBnUQ2rLQXXRO/IrZP0gU6N+vvxrVrLvuurfcehNTBeeeey7jImb9/v73y+EkXcaaa6611VZbxDI+phyoDrfGIYRmeLkQg7oznbDJJpvUWj6spZoOmTFzxqef/zhsHcEWxldTprxJHcmTaZif5s4ZPHgIY9BkkmmVTlY/z3l0nYxfW9mhcEJEPdpz5uv69etPjzhs2LCpU1899thjFy1a/OKLL0568EVGvpgpVPauO+9ce+jgLbfc8g977/3Nt/MYmdTV14fFeB6SCMVljPTFF1/cfPOD2Kj6WqFkCxYsZKBFgDktcUfnYOjEbk2NzU2JVPL8889fa/X6M844g7tQAAYzq6yyyvTpX6NziDNA53dxkh8mCdJNzcsWLlzIaL6+rj6TZCYjhQFpbmrC1hGZlrsZoaBIkxuTe3AbYk+b9iajmkQiiUWdPPmNZUkfU4vkDwr8EKhvqI/GYnHm0ePxIasOYWSVTmWOPPJIJu7IGYErr7zqrrv+sf76G3z99dcMw2osX5OYcggBS4TZ9lC4qamRMPetqwOV+njGhwlVExVMQjTU18MuBmNMYCxZvISiNjcvo3hkDm+ZPaS0pLUHRTLUkR/hH4J5R7IwaVtHQEw3MaVr+XncIR9lyPkyn2/Rzwt4jnTYIYdCq8MOOWTuT3OZO/rnP/8JCdIJnsBYb7/5Vu8Qlw79v713ufyaW/Af4tHo9P/+hON3+WWXNDfFUIXttt1uv/0PmPfTXNgYa7Z1VOip7O/tgvkDzD+gvSgZGs84+577njlj1F8WLktPnfoJMxn/nT7993v+muc5TDMkotGdd9ypJuz78MOPUTKUli6ActaEwtyX50C1oXCv+gYm95iWQI2j0WgmnYw2pXjmk4jFeax08IEHQfUD9t0Pjy5SF9lg3fUjYR+PvxoidamkL2yFqF06gXQaE1VbG7r5nzcP7Gft9bvDli5exrwfG42tO2zY/vvuPvHexy+66CI81fXWXYcpC7qJdDJJSWJJ8YiJechMKk2XQm4//TibR12bbbbpBx9+SL8waNDgoWv1e+ftKbHmaKypuTYiZl8gm9g5MhwGmZRw55jGxC/AJ5Mjm8JBbOsNylVFGwJivltKm3FRm6B1SGBZ47L6CJ1fACf+sMMOdeeFYtHYp599RtdOtwgHmFDaZ599Dth/t2jKx9Bi/s9z58+ff9ekycce83/cftL9kxgA0B8//dRT55153Pnnnf/QQw/hQY274KJvv50Zi0aRqa/HIKDqYgF/jvzILBdYHPXBB7bfJJ6nJuPGXbTvvr9vaAgy7CHh/ZMm7bLT5ieddOKdd9614S9/OWrUqHnz46+//jqXUGL6bzFlHBRjLeYh8AMZFPkzFnqJEcIgoKZIoKBUAVv0888/k3DQ4EHo6y677HLYn/9IURgvQeBeYZQ2h+nDOChLMuH6Cdttu/6k+59bjQHiqqtRPGo9/evpTE/36dNnQP8Bq6+++qXjL47KG0EDJrjJ/Fe/+tXsHxcwtiJnDAum7O8Xn86k30UXXtTY1HjmmWdS+zvuuANbhP2h+yAJh+xZSCEOzDjJsbfy8YOK6+ivsUUdRbCV9KhLPB6NxRO4P1dedbErybDllFPOv2fiPdvvuMP9D9xCtzrj+2XHn3jOvf+64rEnn9hxx98wBn/6uWcPOviPL7354Zy588knXFtz7YTr63v3Ov24Q4497hAeqHz2+YyTThnFZAZ6Kca7UIiRAxri9ws3yzlCtb54KhmsCWMB8OuY4z7h5JNvv/0mNAkPhxlzyHPmmSeMGX0CvuesWUtgOxnyFIurMkuhfATmL1zAc65EOlUXFnMDzGfwwIenMQx7OKWEdPD3P/ifPfba84nH70Sr3p/2/TnnXvb/rjj/hZdf+sMf/rA06WuOx5JwUjzayrF/4e577sQs4h//tNe+++8VxmQlfZ999u1+++039sJrxo49a+99RtQFfRNumfTdj9+cOOrE/30769lnnsWhvPz//R1rHY2m4EdTtHnu/HmHHXP2jTde/dZrTxBFlzLq1LHfzpzBSxDShxQvSIAMLIKEdF7YK+nLOei0/y9lVuYI5NXokxgP7evqTkDLfQVR3UyWJ+aBYCbQb+SRx907aRKQdmSYqO1sg//GrJR4WyeZijKrG6kN42sx5SU8AjkIYUIsHovTm6666qo8akQRmxob6ZTp+InnYSjd9pQ3Jh9y+KgpU6ZgEOhWhU1IZ7AJv/jF6owqvvryS57fYi3QGPJEXchdviDkC8o5KFRf7K4TEO868CIOT/aZcQ6HrRxTGJkUdoWnpGroH4nU/fKXGzY2NuGJ8YINuWFYGGPg/1AwaWp4zMKYnmJYoXCQ7cZjzc1BqzYaTWBqkGfGgJETB2aKxzikYgTVHI0q40MFucQEAGMkuEc5sa7MtQs4LAu7AW+ZLyEJbJTzBzVrrbX2rFmzmBuIRpeut9768+YuQjgaX0zm8+ctqq1p4L0KCsnQDli4NHToOswcUP5ogqn1ZjxYsuJNjERSzMTwcgbmVMRYzC7AYswTTS0SCk6oUas4afsQrZxjqzixc1zKZx3x5/0f/vd1hkWdxiLVAqp/EupBD+6804UfIa9KkjozdUpe+iZ24wkHKp1h8mDIkFXGnHPOZptuil/ENWL5VTNvYjk9Jwfh3zuH8tLhKraIOCEmDnwaMV3g9zEq4JUzEekP2G8Y4OZJ38an712bkXlKYkglQ1725ZaY2mUrRjHEUm+pI0NJ5IiPoNjARtBVO9zi6fFupCiJJs9dtKRaUKm4qrKr7uxVLTsjJafSihhHwMVKlAudx0a7E3MirbyXzJP98LSbtR10WcR2lGmfdeRh+z9453XGo2sbuOWT4Ikpb4+JNz6Fc16gXuUyRA/oWX/5y18+/dTdM79bNmb0GEwUpkDpuspEKnnZhi+kkLyPrX9SZUVJOCiMLFP5QuV1TiYQaio0j+xhAROFIqV4ZEKc0F2ZnQiWLZjMZrl+9M2BVF3sLimfW55RgiFy9tC5qHoTp0+RscKYiLq4lHNk2/5L9RQBRT0lmApRw6K2sVsuCaVPfgm6q60llEyPqmtoWLR40bRPP9t51//DOcFpqa/vBYXwRkqXwel6xVWbIcWCmAgOWIDnojRAKD2ab2uklNfDuo7a8SILu5x4j05QprTzLHNzJcLtnUBRMbV4XSYvXTqkOKyP/jQ5vSgF9VJAuHi7Abd1tEwqCAKmmrwgYFhUAWCdJkKDuY1nZ+r2owwcli2LY3kYQnw3cybdv7JCnCqfZLlKwR3tm7rD4rbykVpVoH9tpajousy2RfUrSlqRkJu/Xd+KEnVYSHVShkUdBrIwA9WYhXH6Wf664k/ep88FQkHx2BQnnnEzzGEIzgNElbjAJ8nnl8+tXF8uxx62mLoX5kM4aPwnHbMi4yKMFtMS8hZ22ezbFfNfGDgOaeD0EY4tXvRH0bLF2EmTyhsmiuQetv10z50AT3qdoPxr569MrF1fLRvXHspLGmzlbHhB5m2d6Pm1JWuudwECcEkc7js7XXCL1rMsUlMo1Lr88lx1LZsbWJ5cyqdxsxWBLih/+TurKyvhlm0VyVw3CPQwBAyLeliDmeK2hoA+3dKaXCdfM+OiTgZUzw5PTT9tJVxm2NNKiuW5xOS7m0zvPst5cUxqC3lbNdW4pXh0JNZqcA/XsxIx2h3KKDdvoLtJC4L5IVLBpF7hOq9a/uKjeHnY77a5l/L5l2sLNYuaL0arId47cu5UIOferyDWnBgEDAKVI2BYVDlWRtIgUBoBw6LSuJhY9z2jfMCAUgYBMy4qA0y1R6shj11LbWiTH8+IwYnqZBldEJBjDH3E0g6I9M46P1Ypl0HBUKuiO+bzZwG7fLZl0tqPw6ScPtGv3zefSQWh/O0rEK5ykerEghG/+leu9QqmBMoJOfGtCLdyyUmt/5Vo25BXpr72C7Z6Jm2E2y5S57S5sUV2Q6j9fCprzjbarvTlMvNU7faXtHz0frQgH01GqEmbytSmgKiSVDhybkW4lUt5UPKKK995t091+6DbSb1FmIHLJ85nWBTSRFovrUzn5033yg8NWD2RYVEeDb3B8rE9PeRqNgHexi5w3py6lYx0Lrbjb3vzKeNxlbtj6cKXk+6KeDAsVUfDIgE2ralaqGW/pHnZBc3SUlJdLiEvOzDZ17oX86ndb/tEclfjnRGJc0s3ofL686eOQMF7/gX9q9590pmXUoKW78jKbCmkeyMnUDq5U4q8vBujAvn6ankWPAvSE5QpJCJOMXRpEW5f/uXkC59HFd+jlXOvswjy8A2XAEhpm/hkwPmCQMFWrr8sp0+l5bVbkG3ptAVMaCGjKZBODFXIgt/CfMQlO2157SxI75yQSmmndmvnWgf+dm5uLQuynPlLN7KttKK7LeHTep1FTiOwoKnt7ajBhu6aFww/ZAKYpgs4mdh/W8gLWcfmyHYqeOPT1W0u2X1qcf4FtClYe9UpRr5pxZodBfnbmiHLUFTSNk/b0qo2M7AFOiufcvdrb/6F8tIFaNFqJe4l0WaZ6OJ+0JssyoMIdug3FAIzEXag0zF1NNW55ip7PqIgVEIe4wP0JY9ShNQdlOJEosD5uLxVcyLdKuSFZMgla1G8508D7ZlfKIEu3494k0UlNCfj6CPaJtTUOdXDbjJepiqnlKXkA6wnLecAaYMigsiv/u175S+1yD/vpGVFx2m3ZZ7q2oCKW2DKtMOWF3lqsRUG+XCIRT9YhJG1TliipMJUPUaMVRe0tq6k2Dk/uySxkgMNxwoUYsFKUnmbRUr5lCES9ojdSMTrhnqHU6CQDsyoKWIlj1Ly+IpWRtyFD8tU3nl1tN+ftPOy41vkj8Nmf5QmiumEhQbIQwbstFRBzdrb18QdnbSlCueI5f9CzvxXdzlfrDERDteiKWyykheSoUK6Fl3sGaeF+LdZ5jQrOonl7VgAJZdlsU7WqBGLG7eZruoFVHdiBeqsXFj5Xe5XlMLHczTVxUFYIbEsiRuRD5SRF5604y0WsIg81EogThaCCaXyV6mkzyk5r+QFKdWyIqJDdVgEaVjbxymeMx4TKVRkyZKrDFX5RZ58N8jaXGJ7jawVrGeLJNHxBsVSxvpBhvxrJUNdWIW5RdHRevIulZf1tXFzS+VC58bkA35WTAYefECxkhaLubLPBVe9ziKa0EJRctmRhx7ky4kdePRDaZUeo8I60LoSlJEXu6mKQy63aMtLe9JC3mGCwwGRSIR1Fomc3MNmkXsu5bFFbgl1FiHlxrspWpafPN2DlenXHrr2J9M+aejVy410A+TWMkP3qgoU5U+kyr9cwhUsX9iL2WUvVzafn9X/olgh1qPDc6mp7dW0ZH7ICnhoPTq9dZXPI+cVWGagNq1skC7hhDOaSjlxBdJFiLcqL8jgyNuEaVVe3NCRt2/eUp5lGt1DCYveUi76w692UUi1rE1R/siotARYsZGV6RfO/2GVVdZkKRUWZ2TrS1bMw0aJvKQkwq0fRfm75S+XbmXJ67UoWTYXW+rthtnpKZzLGFuEGrCmO34Jq1XZyqEDirIXKYrezHrHqVKtYHkKA4vcYoi7y5kRVRMu6eZOL7kqrZvQLrzinMO8RFPTmWecEfb7zhs9iv3q6kIZ9kZnz1cWpXMXNhG3K6l0Msei/IlT+LQsScnyrDB5dXf1q5etRfkx8sJhCQi3QjxyEAJg0a9fPz0Lj4RdWyTrGxJDzDIs6v6AtGhpUeRWNLuVGhVlxeho8eLFyLMCMGsFExCzuvJQLFruG7VShu59yVmYVoxOxRLNYkF9Fmru3oXuytJpw3Qx9Hc64K685YrLu4gPy3fjcePGkZAl7dmy4eKLL77iiitY4isWi7Hy9fJl2PNTYUrV3FPBVK5HbVFhc6pJhQJcCgU8dMaYh4M16VlIft68eSwdLvefSxKz2mqrsesWoyPXEHkIl3xVIRKHcJldHCwP9ysSDfsHSyRwMQf+GsqBL8fGe9tssw0UAhO1Ox3xb775JmFXe7hE2GMHi5Vz5CkkQPDmuMiwpRwCzMXhs3GVDX/YWpytWrfeemtXePDgwbCIw40RCuX5Q5knz8NgAHAQYOshttljRDR9+vQTTjiBzZuZWmCHPwZFGKjRo0frFHISef2vYZHXNaCo/nh0TU1NL7/88k477fTCCy/AGbVL12WXXcY0HbMLahuvolQePzUenccVIF99Z5ckEcMEA6fK7DDZzcZkTNMRib/HVeKxSyql8ejAwcMz3UoLzK+DgO6qwQ1m5xSvmOlGhGkGiIQtcvnjpDN/l+dleYNadSIAczggCTYH+6Nm56iqJTdOZbIBXnGVozrr34FaGVvUAfCqManikpq5JayqSIAnRbBLXa3GeneoToZFHYKv+hK7zIEz1Ve7LqqRmaPrImBNth5CwLDIQ41tqtpFCBgWdRGwJlsPIWBY5KHGNlXtIgQMi7oIWJOthxAwLPJQY5uqdhEChkVdBKzJ1kMIGBZ5qLFNVbsIAcOiLgLWZOshBAyLPNTYpqpdhIBhURcBa7L1EAKGRR5qbFPVLkLAsKiLgDXZeggBwyIPNbapahchYFjURcCabKsTAQjTkjMtY6qz8qZWBoGuQ8B8pbecS1p3XZN0w5zFLhJm2TlWb3Q+lreNj7OLnLFF3VBpTZF6GALGFrXRYPm9GdsQtC+z+EdlgkaqByDgGB/b2LibsgTUetSOaTIsypvpwlZ1gCsxmCwULDxjJ47qO9iohi2Bq69ebdVIdIii2uXa1Nl2xNMsUrsYlYHS3txV7MjanoOt+doj3jNk2cw+wEbAnjxc++OTnLG3hBO8sp0OYjzNIuWtZTJpe1lQp2uROw27C7q3tw+uRo9OIOMC4iUy+Vk9rER9td1yRf/iURYJF8UfYDNHDtYEZeFCVpDS1o4STGCfNBe/ypcy9FfRZBYLO6qFUZPZeNDvUVVxdcAJOK5+QAQy6WykrsbT0MAN1vu0QqFUJitoJRXF9cj0eQKx8WBlRzWxKJXKRmPxJMujRuo92+HKZneYo2sBGhPwWzW+RDrlXRbhyLFouxWqSaZygWBNwApJ2x3I2tMJAd3+sMtwZSTytZdFleZb4e07LKb7L8GQFfankjlfItNglXH+Szo8HS5Fd8nAHhQ5rr47RmLuTnoxWVyZGivo0T0j1LyCn+XbceMCtccdf3Iqk1MsEjslq4kZbXFQ0KqwYTFpFUoqse6mha6iqOJZweCIESPYgoUdWUrWq7uVv2QhlzvSQUP49s6st8hM6U8ql/H70vfc9s/S0Cz3XbtzQtdVc+HwM6GWCwSCoUTWf8/E+1ThHVtkV6W9z4vai4DtK7Q3WZfJ58eCzi3uuuceJ1jib3crf4kidmqUwkewKBdM+f1HHPZ/DK89xKJiMMVsApQJ8z/2p4g8xcLm3CCQR0B4K1n64Fwo5wsGLC+zSIEiXF4BijpzLHgesHY6aPmEPTTkNdvS7mZCYYR3L3CS3iz6kzWgtRtGk8AgoCPAAMHDLPLiKy1665twpyHgTRZRa4++z9JpimMy0hDwJotsAHg7gUerTPyzCaOGiQkaBNqHgKdZ1D6ojLRBoAwCnpvp5vlPQHy4ybPRgh5EPRfy2oxcGa0w0e1DoECT2pfUSBsEDAISAc/ZIr3d5YiId3vE2EiPN2GDQLsQMLaoXXAZYYNACQQMi0qAYqIMAu1CwLCoXXAZYYNACQQMi0qAYqIMAu1CwLCoXXAZYYNACQQMi0qAYqIMAu1CwLCoXXAZYYNACQQ8/byoBB5VF+V+2EvNcvb6AZV3nfnXC1U+ORZOEt9Oi3gVrjrAlqdClQO6PLmbNFWMgM7PKq5mJVUztqgSlKpMRliSchxwV6corrP4xjPf5/JRMCsbkolunYqTlDqvBgsmoFBWWv76s4ZFpZraxBUiAFskgbJqWT6x1rtY6ShPqkLx/BnfnHT18i/5m63oEBTiKzVBJMMisYJce5e/WtHt1bH7qcUknCWvaPW2td+5oexrOYEz5k1DB5SWfysHtGXaHhNjL8PdY8rboYLyxSH/WOiVWjMNEPClfX7xj4Bfdpz6mq9FdyJVOU9PdbrZrFitm2xlzoJjrrxlFesSwrzvW3QLdWpZPfRbY6rs9CxaxYprrl2qnqBYiduyGurqa2sjCY50KhwOBeXa3Jgh2pl+GiCqBgsIRH0xQelkvK4hsHD25wtmf77R8GF1kRpldSELrZtOpxDwZVLBgG/W958ef+zRuGqodzIRy6QStTUhhO++885/3XILtLz44os/+eSTDNN82cxGG/1y2NA1wXDwwFXmzZ524P77qgyBNplMcueGhnquilfmczlOWYY2Ho/Jz4qz2XQSBoYsvvJiMUBILlZ2a+Vft9RCHFrJJXvO0xtrAKXTaZb23G677U475ZSamppwOJxMpuLxeLdsoQ4VCm1mNVNFoWw6nUmnd9lxhyjL4Pp8+/zxd4sX/kwMFOMCt0EMNGojtfF4NBL0AUkqnSCHhvr6SCSSTqVgRe/evbFp9C9z58yZNnUq69+T/Nabbxo1alQiFl2yZOHUz+b8/PPPUIsVz+vqItwcIjU2NqZSabKCRdFojEskpAlAvk70ZbWKbC3NV4cqv4ITa0Sqmv63NQjRlWg0+tprrx100EGLFiy44IKxSKMoKo0YFcnHIK1l0UOuobWUlN9kKpnJsp1B3eGHH75w/s8/zV2wzz779O3XDyMFhYJWEK0GFggCVQJWYFlM1DCbyaLx9C9EkjwY9Dc1L4Pi2HUAAEAASURBVAtYfhbsvvvuu/982CHkDAf4zaSSBGLx+B//uPebb77V0NAAZ+EGHIMqZIWhkxZRbMYBf4LBUCaTjcVizc1N/OPuyBMj7trzjzyLRJcjOp3qPOh30Y+zzjqrORY79dRT58796dTTTqvKqrLgK9qMKYAq/fv03WOX3zzwwAO33377umut9ssNN6ypCaWScQgwYMCAyy4dT88yceJ9Rx5xhOpSUO7aSM1pp5/+/PPPv/rqy2eeeWbfvv3oZPC/DvvzoTfeeKMvm73hhgm/XH/I4YcfcNNNN6+yyiq33Xbbr371K7CNRGr/9Kc/vfzySwt+mPbuu++dccYZOHJ0T3vsscfkyZO33/43jz76yPTpXz366GPDhw+ngMqjro4mKKCNMsFUTKy9Kw96HQ5iIBiK2BMP1U70uzgVU6ZMWbp0KTHshfC3889dtHDx6NFjOMWJV2LV8Su7fwsv6+BDDqbxHnvs8Zdefpluf+TIkWrqORptnDRp4kEH/e6D9977fua311w5lkaGKtifSy+6+KK/nbR44YKXX3jxuOOO32yzdbHVmI1NNhq+6y4jYMUbr762cGHi80+/fu7pyb169RoxYqt1112XAdWee+x+961//+KzT48++fz/TJp43rnH33D9tQy6+vXpte3W6z75wM0fffD+ww8+sNv2G8JqLBWFZPqjOgDPz3TDGvSMXyzyggULVPWoqltPPexG9pQAfQGjI2rH/5bfl4pl8FL8Qf/ZZ501dsyYK259uKdUpJJy0tmFrSDDmqOOPOqzL77hoBv8/Mtv9j9g77HjLmIghNFYb/3Bo8+86InHHiPDz7/68pqrx9G+a6255mGH7fPgoy9gqDmd9MB9773xLHYG2JYuXcSsQzabmjTp/jNPPf5///vf0888U9e7d23Q19TUyDf3F1544dQv5mDtGe1gCfv06XPiiYdcccWVzCukUr6LLrvuvvvEfgKzZs+95OLTV111tSVLFldSlx4hk2cRxQU4GgBtw/IMHjxYVUDZIvXbI6pUspCUn6rhiasOIhSmqxaP6a+fMOHSK24+/KjjSqbqoZG0Y3M0ivVYffVe77//Pxw2WLRs2bKakG+XEbs889wLQ9cemk75XnnlxXgyRqc5ZcpbjU08N/NtsunGfsv3xNNPBIKi95wx89tZ86O1tTVARw/b0KsXgxlm6RhkRuPJRCpZJ+d9MfNMaQwe3OvRRx9NMUcXqYV4X335JXmstdZaeAE1Nb6XX36ZKQcy+frr6WG/D1ewiEVl35kQnlB3PwpYxJiS8tIG/KJwquwEUEGO7l6V8uWjGdEVDBGO/tyf5w9ZZRCPEW+88Z/nj/tbsL5XOlNbNbMLCoMsbZbNHHn0X0KWb/Cqqx1/4imwiGaMp30HHXjw5KeeW3OtNevDvp8XL6LF6xsaFi1c2KvBJ8L1tZmcr7GxSU1ggtvcubOZqCDbjC/XHI9KGDPs9ZTOZuhyxcSBzwdnmMqrrfEtXLiAWQuYhhip0jmmcGrZUQG1SkG5SARuMyRjfpAhU4/WKIEz8/MQRb4VVcAi9KzlBAOk4ujRdWZqiPJjY8eMGUNdrrz62glXXxeNNkXqIjH6ZF+tUr6q+WXAMWDgwIMO/v0Tz31w7HFHu+8u3HPPPTvstA2XZs6cSR+5zdZbvvvuu43RZfvuu1+CB7OW76d58zAgW2655eeffwap+vTpu+GG6/00d754hc4KNUXjzNolErm6ht79BgxOpjLReILhFnSa9/NCAjvuPGLipAei0WZA3mrr7eiNP/nsi+22+1V/tm1MseenlZZvEDEWFyrlKJVuhZwXLPJN4T7VzUet/JB8vkUxJIXEpIFeJCqmn1ZTGAqNHTv22muvHTh40N//fjnGR/gZVXpQtV1HjKiv9T0x+Sk2q8r6xD8CE++7v67Gt/tuuz/77LO4Fuecc87wjYf/4fd/OPUUjJWPGfC3p0z5dubcE44/fvPNNl9n6DoTrr+hLizWGUsm05FIQ59+fZPpVK9e9YuXLF1jrbXXWW/9SKQOg4Pl447/vvOJ3+6+5a67jhg8eMguu4w46KD9nnvhQx4W8RBpScbH7J8SY8iUzAq7h3fXA+GHLwWUUVUosEU9sFZtFxkrhFuP3NVXX43vkcqk0YmQL8Sji7re1WaFFBzxWOwPe++9rNn3+uuv6z39O++8g8CBB+7/8CMPjjz6tLv+fcPzLzxJzN33PDxktdV9/mAynTnmmOPuuuvuf/3r9vr6wLRp37z46keJRMrvsxqbo7z9EwqHlzQu+89DD1572ejJk5/Yc8/f460BL/bnhhv+wWjn37ddgZahVS9P+fqcc85lnpBp9zDvQySx+XCJh7aBELvPCTdPDB/cw7VCFFi3P5g49yihv+61lRoo2NcVj05aWv+iRYsGDhyoCkYkgZ7r0VEjWo4DBlGRGjH2zTYtbuzTtxeDhRijBV+vvxx78v33TVqpDdFpN1eeEraXAPrNr8paDJZyIpL3fsLoNTodDm6xxRYzZs6YNWtWr4ZeqDUPTzNS3TfaaKPGpsYZ335H16sUAAB5lMTjWPGQOive8SGHpqZmUvXt2wdsEeOmgwYNHjJ48OIlS2bPno2BYnyl3mbgQQkBxGgNylBfX4ebrV4RVzxXLFJhnUVqt11Vhe7AIr4HoTCBLOY9nPRZRx124EN3XtO2LQI+xS5Vk574qzRJWSTZBQZ40IFWFfqzPbFmJcqs+jteFmh5LWiFeSMuzJyDfKWS8f/7732AWKSmIZ3KBa3aeCztl4r82WfTiff7xVsIGHJMCpRMxDFKAb4qIhL+qBsxkYDbpt5whSG8DcQh0zKCEtaGiQ4oREDJy6z8zNchTKSIV38k23X+qOju+CuGQ6rw8pct6rtjKTu7TLSfasKijIkU+66I9u3BM5BFlSp3ikXOX1LDYmWlnCGyjYFEQodD2nKVVJgRxcB8VlrI5RJxClLVfykR6CSZY/to6vmvlroHBz3Boh7cPp1bdJswKlP321XYJWxF+YN+xmGgMBaE9dFK+XSeueKg440Km8Zv0c7eUoAW1e+ciAJbhP3lYCBE3mpM2Tk3Wdm5qLqokStl6RnOdyeBVuCsMqax5xrIXeOP7tDmBewS2N6dHFU7np4U0vISLz44hyMjzp20WqZlJNV3Bqqby+dFYznZdue/BSzqzgU1ZetCBJQKl7uB686VE/B8vGGR51WgTQBa51ibyT0goBtPD1TXVNEg0AUIGFvUBaCaLJcXgR7aqffQYi9vK5l0BoEuQMCwqAtANVlWNwJioKhmE+UvL0RVd31N7QwCnYqAyx9yzRPJsKhTQTaZeQIBT65H54mWNZVcwQioBwDy18zRrWDsze16OAKKPPqeET4zLurhbWqKv/IQMOOilYe9uXP1IeBNj071Iqo1xfyKp95PrT4lXsk18uJMt/JrbeBtCrFKDkQyXFrJ6tgTbm9lffwrOjxmi7R5FfHlWS4QyOXUQlMOLi5CXfEMwM2cu/XE/B2QvPrXLxRGUIbFBuT2gqiPWEfCQywSe2DZUyuuEkMkv8SDRSnSLCjAbqWOhpTS8uX7RiBv/dzM3QI4d1N/V1b++RIWlIddUpYsWcIiJBws5VNwTazKIL79QYnEr/6tUZFc4WnB906Fl7rvmdMuAdbUE+uWBHIsrcuHeJnabCaUFsuUefQQKIi9v8S3e2InMDoVPilT+5Xau5jayGh0ctBsJ2bqSzMoZNm7RxXk0x3yVyVU1cpTPZZM1dTVswiJxY5e/uLl41iyggS5tFhDV+6QVISKVi/tSilJdbm0vPOKgJaFHVyB8vJjQ6Eo0p2jq00E0xl/MMyyRoFwPOm53ZGBPq8lgj8sEyuJxALxkApiiZ4mr1RaUxWofstGbTXG7uz1Wyv5bpN/gTlyyim/S+3dp3csmlBfQBdWUn3JKjsf56tWR0CrlxOl/tJfFTaBii4rLy875clntQLlaXepD2LkTLfL9hiCT0QGsoFsMp2sidR50BapBuDXkt4FlBF7nv750IPUJvIOi7R2yumLe2jx+UZtJSQ1wK8WPde1QctnJeevlcoup10d1nBcumTpeuuv99+v/8uKWeiOXk/pxYkFDIlUfp1+VYRb9jt+9pxV3CuWlecF+csYrWwlUqxQeSYV1P3w/jMBqsGAKOT3JS264X79+rnFQ6sAhV6HjRX69+/vxlddQKHBdr4Wi65TOz9r8Obtj/TydI0p0IaWLdc6PIpFSht0ndDyWcn5a6UqsEhi0yqGQ0uXzh4wYK26urply5pYq55dIdwKZ8VWl0KbCpbpgj5yJdAi1slUYjThJi8OFOAgLxaWZyXKq/lbis5etLjlsEj2EURkQ4GY12yR24TCvODZK1BY7dNiVwRxyP1YdAqJwYy8wk/LZnautPbXVgXdHLnFIF03yL9AWVU5RYXi0fgFF4xjPHTpRWMuG395bSgTyGVChRO97CKAJDRSi9HZkwcgVgYrMYNT+tBwKBDIl6cgWset4EIXyFMX1j3mTR81Ys4JEtkHD4tYZ89Ltkjpru6eCShywo1x3tJl7aNiDdA1Xg87OLb9VzNESl8LNEzPUw+3na8j0fH8XaUgSz3sW7pgiYzKReSSwvh1mCPnvmLpRtYVFksX66sI2ZdL14WdItzkhYHS8kXl0ZKsSHn7XrCI4vPreC4CK66VK4pW2ioPSgrZdZQUIlzQN4NUp/zTsu3W+efbm41qOEnkkkwJXHTROLYeZ8OvDNsXyX9s/pAWgXJ9fznQ8vkXhnqAPCMiNkGTS3Wr0ooaMFzylC2iyi17DeAQh5iX05W7wFwokQ7/9oT82ZacRbTVHq+NS8QeuAAEatBl4MABPEFi4pu1tpcbCzUbsdzJV35C2YjCoDoawqSU18ZFSiXctrApZJ87uJR1Otx0yxdw8l++1G2n6oz8U/EEHS7bRZ977rls8cA2EJFIhGUxQ5Z1zugxEyZMwB6xIWXbhSkj4Y4xy1zv7tH5pyDQyQHca7aouzfSSi8fIx92gGVPjXnz5mGU2AV5+PDhsAguUTZ2+2UPoubm5uUuZ3XYIrv6DotaejjLjY9JWA0IQBg2aWWbvc8//5wtynfZZRde/xk0aBDbEFK9v/71r4sXV8/e4J3VYIZFnYVkleSDIcLUvPTSSzvttNOrr73q7oM0fvz4IUOGUEmMFfZkuQ9m89p19AhYjUfXI5ppRRdSDIRCTMeJWQQ2VsTB4wmsilSvAhFevjJBoXYlhK7tku9y4VJTRF6bXehykKvjBlBI7WnpVgcTpF5lUPHdTrndgq6MgPHoVgbq3fieUIUDvw7a6MXkVSCYwxgJghkK6cgQNraoCBBzKrauqq+vx/WCTgoORRusED6e2h53uWHq8Qx05uV0BIwt0tEw4fzub3BGhwNGqWFS+ZcVdHFvhQ2LvNXeprZdgYBhUVegavL0FgKGRd5qb1PbrkDAsKgrUDV5egsBwyJvtbepbVcgYFjUFaiaPL2FgGGRt9rb1LYrEDAs6gpUTZ7eQsCwyFvtbWrbFQgYFnUFqiZPbyFgWOSt9ja17QoEDIu6AlWTp7cQMCzyVnub2nYFAoZFXYGqydNbCBgWeau9TW27AgHDoq5A1eTpLQQMi7zV3qa2XYGAYVFXoGry9BYCnlt3Qe82lnMxKG9piKlt2wjoStW2tJEwCBgEWiLgOVtkr1Cu1uaTv2pnJ7GhK5sjlFrhpSVqHolxV/1Xm/a4te5uCy26BVsBAdt/UZojF5wEHE+xKMD+TfrB3shs55RNZ1ngRmzTye5OpfZm0ZOYsHcQaOHwu46buMLmEWqjV/Z29Q6LIIrYRU8RCRjE/tnwhp30cjnLqmGdtFyGaPUvryrLvZRuPoseG2LHdXX4rUDG2UlSLBHMSTsXCu6JGDgb5smyO06K7a34s2CSCvgyqVS4ptY7LNKxEH0JB9u6sh2cFYqk0mwLbfn9QbHxrXTtuArFhIz6I4LFR34rG3mlvKCdsMfJJ5Ip9vxirW4r3EAdbK1S/BFb4hYDUnTe4+pbVH7luDq1ptOlIw7IXW3Z4zkjbFEgaAWzmZTXdkfGnVVtD1vSECYXDEUSqZw/WBuwatgUTeGo64dYIrSUuihwlaLo8uRQNfKBGl84lGU/ymSul6ivsNxiS2lgyrFTvXM4Fss5l3/FZWf/0yJAeph8vqLC7w/lQCLry6TT/mwyY1HHoL/GO7ZI2R+1NTLdazZg+axAbSKLOxc55viTk2K3TptFrjqAmto6mxidKoo8di/lShfypwrkWQY1FA4///LnI485nlraHYe0RQoWnR5VUF+3JfX2zbdyLhDM+cLsKA6v/OmMP5AMBAO+7H23Xu8dFlHzvCGi8mJT2wCDIQuznMpm7r53Enix920RYSzHQBGvlMZWJtmjKmrq5NOVqTrk77rvTupuK5ZUtOqub8v2lZUWP1Y2EKL7zQZo9wxLLgdCh//5YPwZHRBXuHoDkETwRCk/m/xm5eLrAXeDTlVzpTEtw9WLi6lZRQjk2MOJsYDobekhA2lBJNG5eskW2UC5RApk8e4ZJPutHHPd0v11nTp1Sgo6HpXONTKWHB4Ip5+rheDrfZKRrw589C5VjAr92WwgTbeb9Qel54I6pT3EIhoVLcdeS13nR5xJ0wQV7FOXPIod4tRfMCJyGQW4Mr2IIOAeLnncGAJEGnkFSI/Dp7DAos0FeTBHoheV+uPPeohFtKLoHbHFECDLkEhMIsk40b5+MUgSAY48K2SM3hspAfc3L+lEtSJckLORdxDQ/3Z/PNWoKSBn6iAY/5j7bllsvVJVFc7rt5iqlf/80kA7v1VVW1OZLkcAXz8r6OSxN4CKceVZEHaZH/7nGjRT5huT5R4e6mbcOptAKwjYLzGI4bLSE9x+bykJPJEWSRqiVpAylwwC5RFAe1Rvi4jkj7NxZ/kk5opBwCDQBgLeskVtgGEuGwQqQABHLj/GlvKGRRXAZkQMAi0QUIMi9eutme4WUJgIg0A7EHCtkCCP866t8wSyHfkYUYOAQUAgoDt1xqMzOmEQaB8CGB+XQipsWNQ+BI20xxFQ7y4Ags4lwyKPa4WpficgYFjUCSCaLLyDgPu+MoHCZ6/ewcDU1CDQYQQK+CO5ZGxRh0Fd0Rkwy6qeUnTRjcvlXy6+i4rRk7I1z4t6Umt1fVldfrqBrr9nz7+D51jE961Y5BxLMPC1ojj4rEj7tKjbt6jji3eNlstlJ0pgYL/I3KbnUrpU7rwwObtzXEV3cccbxDt1FCLuwkxF8iv9lEK6ZfYci1Y6+h0uAKpcWlk7nDM66/BEp1OlFOqE+3fzLAT0cmUBtw0IwCXDou7UcK4St1Io+RF74fWOkMqhTWGOvtY/gtY5VpTQk6eGRflm1x2JfOyKDJXWTkjSUtdZ+Zi1nIpWT+G7d/GNu/j4sPAgvmWkFCmZOU5VC2aWZzhfOeIUV2gh6blZfVbK54voukb5KBkS1Slb8iLZlXlqWFSAfkttLbi8Ik5QX6nBOdZpssaMOeu0U4+u8/liPl8q4wtZvojP15TzbbbpjnPnzQv5cyyrh6qFQqGaULCpKRoOhyljPJGIRGpYaC+ZTDX0bVi6ZBnrJ8OsXC6DMNlaViAajT3yyMNQa+TIkVncFIc2vXv3nv7F26msr2iRtZtvfeiy8X/no2BuEW1u5pdwLBZtaKiLRpM1NTVkyq3Fh8PZ3LLGJX3q+4ggL8uwzJIsYTqbTWfSyDASrQmHorFYfV0kHo9RovqG+mQsiWRtbXjZsqZgMJRKpmsjoi5EkooxiBUM3n/fvUuWLDnhpFEi45X9aZxQFaezMiwCjO5zOBYAnWYCBOMolfu2+x9pbo5l0plgEGUNLBPHEihRX98nmUym07lUKpVNJ+vqahLxFJUJhQIsa4oiplJpf5MPRW9ujrP4Xm2kRqy7nUmrfMhh8ZIloXCQSBeCeDyOfvzvf3PefPMtzbwE3n57CmRgLXORQzbLfZmTYZlqttvAKiaSsV69erFocywWh00N9fVkiBhLwkcidSREBmsoZnKoky/Q2NgE8ZKpJBTKZDNLly5l+fhMJptKJcLhUCYjvuFPs/you6CMW75uGTAs6pbNItwn1pq0HbaLL7oUGqTTKbQfZtTW1qKgwaC1eMmioBUKhkIWy+ml0osXL6mpiRBGt+EMXThuH1ouqBIMo/T06/CKCqPBdOVwLxQMYlgsi17fNsN+nxVP+954/Z2LLx6vQyOWwBQ3DdXVReAJGs9VtDwajXJ/7phMxrE0kUhtNscCzvQAuUgonMikm5uXqXxYg1YGBOsa6urgIZt0BCwMKdz0i/WeLSudSqTSCb8vVI9AKg7hxSUrzEwdK2OrO6rcVvqv8BmcRaMMi1Z6c7QsgFRoseAm/pAIo0ahEK2GHgqFowuHD2juxhtvfPbZo3/z619/++3MZ5+efMstt6Vw+3y+QYMGnX7a6SNG7Ib/8/JrL934z5txk+jWYc4555z9u9//nuRPP/UkNopAIBByKKSIZNMJDoqSOZ5ev379Fy9etOGGG1xyyaXrr7deXb317LOvXH31NT///DOG6Lprr/78iy9qwvUnnXTCvffes8mmGx9/zPHwZKcddzzxxBMfe/zxBx94ALMzatSo1Vb9xejRY4YNW+PAA/ffb/99qdGbb70+6T8PvvX6W1izCTdM+PSTT+vqeh9++OF//vOh33777RlnnLHLLrtkfcHXXntNLrjDsiG5FNUXhVvRB4ioWXsBjXTnCMAlw6LiliiaY9CfdRSLdva5XxvBizbi3lKJ11p9LTwlzEgI21ETnDnzO4YcG2+8yYtPTvz481m33Xrrqqutdt55pw0ZsupFF41nYPPYY4/07dv333fcg6d02mmj9th199/97o+pZPyCcWOP/8shr0/5/OOPp40adXJNje/lV97FMmCvRFXUQki5HFsgDB48eNi6Q/Hu6hvqMG54cbBl2LChzz//0PSvZ1948bh+ffueddZZm2wyfK+99spmMltutfkhB+3J+O3uh19dMH/u7rscseGG63388ce/2m6bETtvFg5ajz70IKbs/HNP+scNE1m57IbrJmyw4dDbbrtjxsxvjjvhhMmP7b3lVrvNmTNngw3W23/f3WDII0+8NX/uT+Mvuei4I/d766Nv33l3yoknjlwl4ntk8hsBtlXCosphWGe3QDvyo3GMLbLxgjNMEIlfGVFEoXaA2umiglH26PX1Fx6KZXHAGPAwweU75ZRzn3zyyXPOGbMs7jvwwAMYpqPljJSOOWbkNVdPOGD//Vdfvd9++x0OVbAn338/8/bbr/v1r389c+Y3Rx51yH8efeqkE8/IZnJPPvnYqy88ghsmBz90qbYJoh6ZnO8Pf9iBf32CYqJjScK3YEHjVlttM+acc5iKGznyzwsXLEilUz/O/uHeu/6x6267PfPM5HQmieqvt9luixYv6tu3fvz4MdtvvwMs2mnHnZIp3y7bb8xzli022zyb9r3zzjv0BQsWzr/y2Mtff/1VuLC0ccl9d908YGD/2XNmKTpvtOkuixYtXnut1fY/YL+JDz5/9phzYonMI4888spzD1I8plRs2nc65pVlCHkEWMoWyW+NjC2qDLmVJiV8h30POTYWZRSTYQgB6b/55huG4Dttv+lPPzX/9a9/ZRQeqYtgKHqFfWuuteZuu+9e4/ft9bvf7rbr7gyTevduwJcbOnRoMBho8Puef/55MSjyW9/N/O7HeU2R2lrmvpjIcA+sHVssPvPCuzfccD2R7LySzaaampoJb7nlll9++QP2LRaPw4SPP/q4xucbNmwY8wexaOzRp1+Z89OPoWANfP546v8233wzHMstt1z3b3/7+7hxf9t+px023miTRMr35htvhoOhE4497rd77n7VVVetttrgXXf9DQpJhlSEu7z2xgeLFi8kz/XXG9a3wffGm29gEnmwOWPGjJ9/boI/eKHMSSp/0y32Cgu49oeA66cYFq0w/Jf/RtOmTo1G6f0zTCQkUnHcvD59+jD7q+bWahnQZ7Jffvnl99/NYqpgQP8BkKIuElmWFJPITC3cfvuD06dP33j4cJR12dKmVJLZPKjlnzdvHkMsHLa0qxrMkjP3nPbNnTuXcQ76CuVw2JqjTcxX9+/X74cfvmN+UERmM/wmfT54SDFqakPN0aiqYSqdfuyxhy+/5G+PPrYtE/H3TbqP4dAO2+8wfPgmr778FjIkfOHF5wYP7jdlyrtT3nnzo4/fP2/0GcRTEpZ/XrJ0KXdkTIVrSpc/ZzYGinkHJu7kVB4z3BBJzN3Zhnr5Ye28lIZFJbB0+xiu6T6eHl8iWadGoTg+XxpNghL+YDiVSaQyGQYDEIkRDt32nNnL2Avw4vHjBQ0yme222eq3v91r8eJlH3304eab7vOPf/5z/twlTOutMmTQ8ccdt3RZ04zvv2c+G9funSkfxWKxAQNWW2+9YT/9NF9OX6ORAeYyOJgADLExp3ikE4EeyUQa0mLTmBaf+d2MX/96q379ehPP1NzGm2xECkwEZiQSiYgpQDbGyqT69q5/9Y3Xg76/nX3WWW+9PY05xJdffPEPv/vdL9dd5ejjz7N8/l122nn9dfodf8J5Tz//ONnu9tvd0ELE6hsaeMAVizEJHoEzc+bNhaXbbLvtW++8m0tbAwYM2HijX3A7Cknx4BEk71TIK8oM/1/1OQTc++e94YryMEIrCgEerfBoiBkFvCYmfLktp+rmUIuYW269ZaO1B4wZM3r11Vc/6KCDbrzx5q232mrhwgX/eeCBxqjv0ksu3WyzzZjduvXWW44++s8/zZ3LHNdXX/949NFH45its84611xzTV0EPfArP8qtFg4et2luZrRl2xZ1iRn2e+65m4e6GBYs4VZbbfW3v/1t/uI0LiLUFnxLJeESdobwvLnzZi9MDN9wNW6KDZ0yZcom665Cd/D222/D+fnz53OLddYZyhzGiBEjrrrqymUpHxTCylEvnudie2Kx5EcfTfv0ixnHHHPM5pttzkGBk2mmGS3yx6NzC7ziA2ogre6rD6pXfEnMHdtGANelubmJsYKr6EzNiQ1F/RZPWifeO+mmOx8bc+pR77397C3XXYx7dvzxJ6HQuHZnnnn2PnvtNHnyPfdPummVVVYZOfL45qYm7BIE+PnnhZMfv+vjKc+gtS+/8gEaKaa8tKOpsRHeQgb0VYtmbiPz0kuvXnvtrWNOP/Z/n77z1ouPYzGYj25sbIxGmzFudXV16vEUv8ywP/vM87Gk750p7zFZ/8Zbb2NV3njnv01NTUubGt/74P07Jz435pzj3nv31Vtvv2XcuAsbG5sfmHgT3QE8xMpgZPBI4e1pp55KCV967sFnn7131VVXfeOtT0AgGAw2N4txWvc5/P369XNLQ+mpA423YMGC/v37u/HVEVD+GPOT7BTNziv8x75oaX9NJtB35FHH3TtpItWkj8SF0z23FenRufcSmsSz/Gw8XEMPjqtVA20YihDGBaKZeN1GvJ2QSg0eMmT48OGLFy368ovPwqHadConHrlmE3X1kWHrbADfvvjqcx6XJuLMTATCNeKB7HrDNuRNiFmzvicf8SSVKTm6ePHUSB1ZNLixaSkncFJEydl2Nf5JJGLQcv0N1p89e+68uXMpJ8Wwgv7GpiW1tXXLlsSxk8EQbwY1hy2YGFm4cGF9fV08FmfwBp3q6utjTc3QgPvxs/awNWbM/DYejyK5xprrfv3112EY7Ask4jnqksnFebLcEKkfstovmqLJH3/8MZAVb2awLTxkS6Z5vWFFe3Q0hqtFTOtmAjVHHXrQA7dfb1hUzCKhN93g8PN0Uaiv3GdKPkfi/TTZTWcYMpV6kQxhZ2tNv/AA7VP12FTmkGMTOA4R5p/gJwF6d2LEa2lSRnGGq8TTo0oZ9aPk3YgSl/z21oyyzK6gG6DzEmqvEjq58W6QsoWqhKK0CAgZOhKRVJZf7OTNBLcsM/QJhmthr7i6Yg8K5LIIuLKBmiMOEywyswsrth3adTcUCw0T6iX0iY5fzgSI01LvYgrNcw4ZVqxwosRfO0aXJFvuUhCjUhRSSM+FcJF8i1NVZkVgLak7LnfiHOqKc8mZgtcAZLbK3mheJ67mSqEQRaRA5vsip+16+t+W9KBGLVS2rVoWqX5b4sXMceXL51OynKIPcNNWScDYoh7TkK0aB1kLobVSp/Xxgq3K5XV9xQJQbszZZimYRld2oBt+Q25YVNB8yqvQo1aW9uF1a8WopBT2A58WqfR81EWVm4rXci6wZlq8nWPLfLRbyaDOEP2aM2ui55kPO6nyMSqtE6/n1I3CorhOb1Vc9G5UzBVelG7ebCscD3PDShEwtqhSpLqNXCUdny5TSbiSyun5tE++XPdULr4w9/x9u5Uvh2l2B3iGRYVNZs4MAuURgDmK+cK7le6c4lKe6OXTmisGAYNAMQLQybVFhkXF6Jhzg0DrCEAe1xdVYcOi1hEzVw0CBQi49kfnkmFRAUbmxCBQEQLuozn5gM6wqCLQjJBBQCHAq8zq0bb4JoI3+zh4P9Cg4yLgPBx0I0zAIFACgZbfF5mZbhcm0aHIl47dmOKAoVkxIivgvOCNijL3s99yKnO14mh3zqBsijJvAHqRRWKy34XDn1Hvcbr80anSNqxl8TYXOgOBSijUGfdpfx7ybXShRaLz9RyL+LjKZhAdmNNIcupfkItD93HtKHWBX5d75a2WO4fjJlIBl6VF8Ua+NXzkSt9FiDnypRuqQ3hq7VvyprZ2CNMn7iPHSAgGPMciiQ4o8Dm0+MwLy6Prtx4W8DhLVchU5mfFIKD1XXRzJTVb6nFhaXRSFV7pzDPKJnphVzEI8M+bLCqBa47l1p1XdIv6s5Z+HZJFMnqORr5D+DgOgoRUMKoEnj6xaYSOuft6dWn5iturlWZ1bld4XxnrdRbRQqy+AIUU+m43qLdcS2RLAOlgzF8j3zF8SO22g/C6S+PpdHkS+IKvQkrLaw1UFNTl9XYvEhOnfFpv31cs3SG8f6a5WUOihKh3orS5HbGGhzxsY+2cCoidsAsMviBiJQ8jDywdxic/ZM2WcN5YA1l7RKM1IrfuCP6CQmWaVbU1FGJFSSsj108XS17WkgInxpsscrs6BY40RFlLrGYgdnrL94TicuGSQCql21s6PZPKR/4aeboYB8PlxYcFVZx1vPAU3LAiiRqWyGkgJ39u6BwdwJ9vaXW75OSY/xuERczpivVepM6wgkomE401e5NFeVxESLpzllVr5cKqXxNKQCcjD9fmEANyzgSfmJbgQNK2XUpanqqgke8APqqzEkCy20oeT5aZd9pF7a8B+BL/PIs60l5iJsPJX9206Bf+BH1pVmBiNaIsjc+2ZYkUa6Z7nUWQgX3nrFx65KEH5Xz2mmwuhWQr2kgKVhRCrBpMtmIe7YJWNPKt9zJl8dFZVAn+ZVhUNv+y7dWqQwfFsqFcwoJB8vBbNWhOKOT30Hp0eeRE0wrc5bwCU0C17IYjT20RnQmFqUTP5x6KVPy6kS1p5l4iVU+UD8kVUlm5iuXp7PKDngMB2qSv6UVle3p9nZqV/CvJo00hcg4UEWGgPHsAh5jdBoeMxejHn8JSu2AobeDcnbQRVkvudOTKQCgUy1KunfytMnk2tfzbeedT38suu4z1te36yvrb+IjO3u7wqw8ft6FVgPVkRPvqsbIDTTNx550VhvXq22GIJFgUklQpmFZQwx6XQkpeRer5uAJVKc8ShosXL6a+rpK0rC8rTbqAVB8+btUI2CyS1aWmLhR0o65x1uW9Fmb7a/6Jp67uPwWBe6oCLXFxBapGXiz+yfMzCcWYMWNYCpyDgKpgiDW5hUmye2S3+ipQffgU1Qi2uDV1646Mt21REUjmVCLAKvKsVM9YSOx8zA5fcjOVNdZYg3gsD6RSAYWWbouqG7/CFQLzdYVOxhbl4TAhEGA3CoXDeeedB2EIKyKdeeaZ7PzFTnsIeIc5FaqEsUUVAuUVMewMB2+1sOM3++qpakMntktZc8012YCIqzqL9HB1Y2RsUXW3byfXDgoxEHIp9Prrr7PLEeQ566yzGhoaVu4+dp1c1U7Kznh0nQRktWSj9heDRe+///6ee+7JPpDvvvsuu9yxH/ipp5zKnnk4ddgf96iWerddD1ZZKPnv/7N3HQBSE207m2zfu6MX6SoKioANxYqCiB0UsCIgitgBQUFQEURsCPZeQaX3rggo2P5PBZWOgNJ7u7I12f+ZTJKdbXe7xwG3mwlhbzJ5pz3zPvPOTJIZ8kJqyaG5hJkQAD2uanNV+/btb7jhhv/973/Y6xuzC+jOgU5Vq1XFpcfjMRMeKZXVxE9dU8LHdEJg0TfffgPmoF+HaTrs/Qj7g31a0ZfDLXTzTtQOXOW5JrgtKs+1cwLyhiEQLA+m4zA1h+2+0cELhUIVK1bEBAMOZIj+noCcleMkuS0qx5VzIrIGFiFZ2CL8wviAS5hOgP0BtXBQjrH5ovKsjwnd3BaZsNKLKzLm4oq7ze8lQoCzKBEq3I8jkA4CvEeXDlpmlYWBYntumHgwKxKJy52URfzhWmLAst2X7dFhUIQJury8PNYTALCMynY8UipfUhYBwZQi4ELZhQBLGMwx4PLIkSMxs9uYdciuQh9taZKyiFvto4U2M8OzLMIz1tzcXLysgNk5zHdnZoGOR66Tsmjfvn3HI32eRjlDIKx/O4R8SVYJXZLRo0fjwRFnUTEVFcUiaqnR661cuXIxYfitLEaAtUUo5uDBg2GI8BA2i4t89EXjky1HjyGPwewIcBaZXQN4+Y8eAc6io8eQx2B2BKLGRWYHg5dffXfOgIEdI/HZbQOWeAe3RfGYcB+OQHoIcBalhxeX5gjEI8BZFI8J9+EIpIcAZ1F6eHFpjkA8ApxF8ZhwH45AeghwFqWHF5fmCMQjwFkUjwn34QikhwBnUXp4cWmOQDwCnEXxmHAfjkB6CPB3FyIb0SREDjsC4KCb1bDuhMLwZGVYdybK0y2vtK3NknyYx5aRdWdieUuXf5SU26Jk1c39OQKpImBqW2Rshwa0YrZkNfCjzQy9y7oNgRgHK8O6Y8SMS1aGdRsCMQ5WhnXHiBmXrAzrNgRiHKwMPgyHIULZcSb7SJyVZ90x0RqXrAzrNgRiHKwM644RMy5ZGdZtCMQ4WBnWHSNmXEKGmizDBw5Ts4gFgnWHLRqexJPp0UW52QCsO4vkaScObQ1pbpL06KIwYcvOYsK6WRnWzcqwblaGdbMyrJuVYd2sDOtmZVg3K6O74/lD73AWRayQbppEIWxTjU9QxHI3jPYYbsOhw6v9xZ7B7C3DbTgyTp7mHL8JbVH2lZdWUNL6wm2VaTH1yFmkAhK2hQU72f+W7sNON3yyWAGZtpm2KqUpDXBUoUyAdXbJY69bWXCTwipuwQJwYpSH4JDF+MSVlvRvcRAYKJcsWKRCVARr1F56qoyJfqjxIcqheLp17S8ITm8w3yIFbQ6LKElAR1SskkB3aKQAaqZGU51orUJssPj0lgEi1bwMlQ/Jcp16dVGWbVu2WgFItpcXJWXry6hEw6EjIEI5cBT68v2CxeqpwW0RhUi0CM5p0+YV+g/KFq8iBuAbDtsxbhQFSVREQbVROogRqhg+RF6NCZpmEMm4G++TEfJBORQIkH0inDZsLk5UxShRRuTfyG2p8Ucx2QMRqrUs2mQojBIQ/YrVec3N93AWEZTCFiUQyC/0HhDtwSJvvtVhUc0UGhx0Y6wK7JFCFAie+IVbjmuVDaxJ90eVyXR5WQgrkuLIs1kVIRjywcoan7tSG06LnDXlLaa+jMpVVQXqAq3A/JNid4aLgkV5FW1mZxHFDgoTlmRZ8Bd5jzg9tqDi04GDHVLQksEa4aC/YVgmandUIValiIxKMPxQysGnRPnyFr+WH2BiCYfkgEwIhNEAOqwEhawtb5L6VStZ+6F1KqJGcQqKz+cXHa7CwoNmZ5GBETa8QrcNvyHZBwchgyUEsCyCFW6VRJps/KURieGQ1QBU4YhFM27oNGM8CPFiBGIuWWHqPqbxa/lBrvSJOdpqoDFB6rgbfxzT/CC5Yxp/8fizhdXLrtAGRRTDvoDPZlc7u6ycOd1AxyJJtKWhvzE46PBp3jGXrDBlDmuscLcYeRo2RiDm8njGX97yc6zxTLe8bF0Ybm6LKBSw0ZjXpidaXNLoqiYEVoE1DFS45F9a91SOdceHjOFbvEBCHzZO1h0vXLr44+Mp3ofNA+uOD1W6/LBxsu6yij8+nmJ90OeFVkBJKH1EziIWLkAjES6hL4cDDnKkx6K0tYQ+oVJTivohPe8ER9rxJ4hD9Uoz3aTRMEPEZDJR/mmmW97KS8pCx0Vk7IuHReSZGWeRUcXqkBEAkX6/ocFwGG5DsgQHWqoSDl2TiMlLwpboGKLyUHL8euAkPUPV0tJ0aU6S5iEqXT3W2L8l5yeLygtLCPgwYMQcA4GN/Df9pmjQALR29Jc41CfTJatFrCJFrtMKm5KSRuImrvTiL5HP0ZGX4iq9/KSfQHrxH/vyGiVgWyhuiwxYohyk8tQqob1wWpcUuLTqNSrShBdqO50ofoZiR60cUfFr2aAWiV6obtWpqLaXpk19eXmNelMVAKgwVUPumd4WGQCZ1QGdiFDIBCAcVXnRoCQcp3FbVILm4LVuIqE+JFE7wiXI03eFEgglGXuwLT3rThBDqbzYODV31AOfmGY1qpllw5Yq8QSB2DhZNxXVCM3kMF4mQaSMV1R9Mf7JnGz500wLmaWPX/n3RcnQ5f4cgaQIaGQ37rNUNDy5gyPAESgZAbxYKJL3OyTOopLBOsYSvAoAcIaAgKkgfdae1Qo+LmLRKMmdCMGSwuj32bDsGIn4l6RDbFg9vqP+SxOlnZNIBqJHz7FdF5oo+/ZAYonoIkXHyWacpEtjo3OD7L0E7hRwSJQWm8dIiqnHT+Ok+QyH8X4yvpohofHeGI0kAl+CSLkXR4AjkAICnEUpgMRFOAIsArpJxLgIIyPyj73L3RyBMkGA1apEXawySaR8RILOeZi/R5dSXRgda1Y9koU0hGMEEodNpmTs2IONqKzk9TgT50q/W/LfZOHZfLLPYdgXZ9jYqUzCu2xUbJAk7mT4JxEvnTfMkT64Rc6TgVC6uDM1FCoPWovzuNRApqJ0/PMNBU2TQsc6j1CQBDrC5+hicafvrBmNIl0BKFaoNNcG+tpaKFocR/2OXGnyckzD0EYa5dLHD2pqaK8NBEqRfHRw3Q5EJ1GKaEsXBAWJMj9RF6WLMqNDUSsUUwSDQjH+pbsUY19WPBplKl0Wjncow4BYsAwMuRDDilZqzBSnkhvSTYptX6iuJgiOMX4qcR4bGeSKj4tKgpZUml5HcfVaXGBUbTgsEwmL4HI7Dh445HZ7FFWZqJJpda9HDkEaP+Uw9aajI0MpaWzkVz1SkQ8GAzg8OTmhYFBCkuRxO/kryyGHw1Hk9eLhuyRFuiTRLQjbyEbUl8ky+UZNz46OE26Tz2/gDRcQwByWaJFsoiXsDyA5vAJNIsDiKHQNTbV0IpZhgqcRF5MEUVP1VCRL2Ip1zcKSZLFirTyUy+FEtJZQCKloIZRUGMXETp/8GEUohQOIGdkuRfDsCQIg6JlsTF+KoobJofj9flT26NGj9+zZgClR+KiajBaaqclSxJ5ykJzc3B07N2zetLxVq1Zen09WFFESwZ9JkyZPnDjRKlldLnfKkZVOEE2H4na5/tvyf507d8RymT/99NO7774bbZRAIYalhIHUh74roN2qUaPaJZde6nF78gsKrrnmmp07/6pSuUrp8lR2oUg+OYti8aSNMcFGpVbs7XSuXe6IgqK5DAR8Vptkt+OLdF1FDF2hDvgnuxUjmbK8ogRDIcFuF4YOG1KtWhW88qUoIdgEixgOBPyBoM/nKySJGmckIRSVzadhE2IcKiIJc66XJRgMwgDC3oVkrBGprFjxx58rViQCkknOyA++3tfjad686dixb7s9TizVVFBweM2aPWihJCy8GRFGDDBLTHEMd6L0SusXy5qIKS9tjDxcUgS8RUW5uTkwR5DAitc4iHmCUuNSCVqtVoX2J9SxsvZKP+27GIbKcJDQcQcdObAyrFsVDwT9VhuWZRSaNq5+0003TJk8ubCoCFnCYA2TtR63E9YpyizoMaA7ivcsmSRVBdWuqRpRldW80DFDVw2R6df4CwKgsGJubi5I65cFl8sFBB54oJcxTawL69oPiGQZ6ztr/tof3CXEyMlxoePmdNplJbRo8XfLflyqYqtY0c8zgpD8k9iQkGrwdY0HnYw5iejY07miLUhsCD2NWH/zXtPBBkErwQA3bVjQicJIBJWshKCSsG6o3HAo4JPgDAUw6D7v7ObvvPX6xg1/fv/D4mHPPXtGo9Ogvm+/Mfq9d9+GNoTloE2ytGhx7vjxX1144flWq6XRaad+/eWYP5f/Pnvm9J733wsZiyK3OO+cGTOmXXJxy08//Xjo0CGqGhHNI0wAa/3CpImz127Y88ZrT1eomOtw2PLycmgDL4dDkiSceWbjMWM+X7P277/+Wv7KSyPcTrsAoyEH33zrta5d7+jX/5E///qlTr2qI0c9/1jvnv2fePiHpfNmzBp3dbsrWre5ZPasyWtWL3/rzVer1ahgFUOWcLDF+c1HjXz5t99++fGnpc8+O7hu3dpebwEGiUgIZhC5GjVqVI8ePYBDr173T58+bcqUiVMmT5w+bfKcWTMe7NUTki6HrfejD3819rO1q//68ovPbut8M5aXvPLyy3r3eQxDqvfffxfNwYUXthg37suqVSvCtleokPfaa6/+/fcKFGHMZx81bXKGJYwV7JQ33hh1zz1dH3vs4WXLvsf55JP9whinYYl65ki7RmmAaEJyFhFUKGHwGzWOLyXAkWB0bWvjGoNsVB8aSI/bjZEJ+lJVq1adPevLevVrDxky7KOPPrjrrs5vvjkKy0qu37Cm842t6tStBRqgF3T33Xc1aXLG77//76yzzvxx0XTo5ahRI3/6admzz/aBmqKZr1Qxr8W5DWdN+Oi000/97bf/o10ahIXKotl2ugS/39vrgZ4FfuG5557F3WDIL4OfNjEU9J9Uq+a330yqVLnC448/Pnr0a5063bhgwTyny4E5iKbNzho6bODjfXr+sHRJQf7hFuefN/CJR66++qqp0yZXrVrpy0/e+PqLd9euWzlm7Gcdbr66f7++SKtK1byF08c0OavxG2+O/vzzT7t2u/v999+BRRJF1Rar/atLLrn4vPPPAQ6bN2/+duE3S5YsWrpsKYh93tmnBUNkwuCRRx4aMuDhzf9uHDR4YFD2vfP60KvaXrl9x38//bwMC7V+8+3cVav/rF2nxkUXnYXeHUoxbdrkTp2uGTFi+IABT9SoWX369MmnnFIfUxAXXXThc8890aFD+7Fjvzh8+PBjj3Xt0qULqsCokaNzwGBq9OE9uqNDsvjQpMUyTlgiCR05QZLy84ucTqfVBpuQN2/Bj88PH/rPhn8kSaxXu9bDj9yTm+eZMXNa336P3tyhw5tvvgW+3Xjj1WPHji8sKujX//Hdh/zXXHN1YWEBJtZcLsdD99/5yqsvQ/m8AeHT8ROfGvS0E6RBf0bvWcHyBIJY89X6zz/rP/t8TI97us6Ze/XixYsRtqioECrbu/cjyGL37nfv2rUbE3o7dm7/9OM3W7e+Yvr06VjsHpk+9/xLNm3ehF6Z25Nz4Eiw7dXXoAe4ft0/n3zw+lvvfY7MY/LgggtaNGveFC191WrVJs//YciQZ/ft2w/q1jypUq+exGCKVqq7iiLLMM0+XxFePps9Z5Z1Adhkadu2Tb9+vWbOWfThBx8gktxcz9PDX37/gw8woFr6w5Jrr/7tzCaNf/jhu2VLv+96V6fJUybu3LGradMz3ZJgtYrXXndN/QZ1Hn7k8QULFmCkB8KvWP6/bt27Dho0CKbv4MGidtdche70Bx98vGnjqjMaN0ZyR8ujaEOEVomzqHgelOIudFLt5UcHZWsOFEKLiG7e2nWrocQdOtzcu/ej1apVa9uqJUIWFhzBrPSKP1d17tz5nXfeubrt1S6rMG36dFiwq1pdsPm/XY/364MpLwwJmjVrgh5S48an2e02mx3dtikY5Pj9QXWtfjq+IZekPwmFCgVffeXVbl27jhgxomXLlpgohrWBoYMtWrdp+9at/1WoUMHnC//++/8FZeGMMxrNnSvByn3//bLtO7aDQhhUBIOhX35ZJIdCsLH79u/zhYSF3y0Eme12cd++fY1VBV216m/YtA4dOjQ87ZTTTzv1yksvJDYIJohiQsZNMoyk11eEgYwYCrs97np167799turVm/q3aeP02XHtPWLL73Q9qqrQIN69eqdf/55DgRWQmgpML9H2iTMJqDjiKEe3BIpvsMhLF78HQQwC1pYeGT9ho3nnXcOSg0BWDlY80AghMnRNWv+q1S5cigoi2WzJDBKhiTIEI6kxI9iECDVpg6Q8Kuqgq4QuEKbFH+SuEggnDQseom0owjFtdlsmFbCc1gcaBTPOeecjWuXo98Cz0WLvv168gy13wMtsYz/akKTk6s3atTouuuuXbth5x//9zs2P0HUQTlstTkKvEWS3bZ8+fIPPxqz/+Bhm9ORIwhFhT4P1uoXbUYGiANPa6xQYVEOQ8O8PXs+ULWqp0+f3i5XDhQLEZ566qmb//vX4XbjCvtEiDarQxL8wQAc0L/8/HxkJhQKQfthSI8cOYQ5MTjABLeVdBTx3Al6j4P8CYfPatb0jxW/3dfrXux3tGjx9+OnzkJuoPGwKv4Q+pcyxviFvkJssOYP+mAJrZLl63FfghW97r8fAzj0cr3eopGjXn/7vbeaND1r03+bnxv2gpc8dZJ9wQAiAXVAAzzmQh4KMcaxWDCVj0GmN+CXEJnN6g8qDpf7cH4BbD6KX1hQiF0MQHX8A/khgSAWLL+un6S6Sjro22GQQt2rL3Gj7shJhldCCOMss9sicAPQlOaIMeslRKGQFlQMY0CCPo1IFB0VIrZvf2NhUGjdujVMQaWKFc85+xwnqScpEJDR6QKjbr755vY3XDnixbegAXJI2bBxdyAYGvLcc3a7Hfp24fkXtGvXbs+ePeAP1AsaKoeIsjN5QfNtx6MpPPWEJx7ALl26dPq0b5589L6dh/wYKoA1q1auue7qS+12B4ZQomht3vxczEajOXfY0TNUmwOUlDzd0poG4oDyaMWny3fQXwmpdLylc45duOWWzvt270Fh8VyIFFR9OFbJKkCh0UHVD5vVZh07dmydGhXaXnvLf1u2wLrarNaGDU++7tp2H330+WuvvVZYWFirVq2gArr6YX6BDOwSDCOY7nbnYoc2FHzzpn+RsyZNmv79198hOVS1StWT65+0eNH3KJGKA27iQA7Vv3pmtIt0/rCwxoQzO4ti4CjzS6JApD+D1xcEDLXh0DY0kZVly5bmFxz22ITTTzsNDWXbtm1vu/kGbPlSp069f//dunPn7q8nLri3R1cEnjljNhpR0OOrr8Y9/2yfgQMGzZ49C2bq+aHD1qxZAwuDJh5iioxZYqLhaCa1gpCkqQKh7ZQcDhdGCM8OGYqRVcWKDvhgsmPqlGmtrrz0qYGDP/jgA3Tq+vd7Ysu2g0t/WHbocL4alpBHnfLG67oqW9CKExumJkHcWJOZyOAXFis/H82C0Kxp8zXi6uuuu6bjLdcjB7Vr1wUORaRjRoiEfCIb4Pzbo9+4sMVZY8fNrF69Zrur6yLSI0eObNiwHlbklJMbVqpU5bSGjYYMGWIThcqVqqA5KCwo8ipC06Zn79l9wGbFczdw0vXNN9+9MOypvn36PfXUU+i4PvnkAOTm008/D2BmXc2VllUNkaP+ozUfbDx8XMSiobuJgaLDCt2fwmCnAABAAElEQVSndH+1hycq7jkW4YXhg/GEEGYI1Qvd6tdvyKeffHZNu2vHff0Z5gI2bNj6xOAXhwx56qMPP2nT5uq8PM+0adO73dpu5ne/b9u2g3RDwpYvx35dvcZJvR/u1ufhbtCh3/7696EHH7HbnVAm5FCdfVKV28gukjamHcOwS+TdH3Stevfp//57IwmLFGHe/G/qv/buUwMfuu++O8HAnTuOPPLII9B1u81J6UF4QtSRNUdIgCak8kdXVqtknzRpyjXXXD/283ewD+HyVdsGD3751RcGjB834aabbsJzZ6fTTcwY9kVSyNmmzZWIulPHm+684ybA4pWF339bc+uttw5/fvTjj/dd8csSbGn4xpuf7d178Mne961Zs+6HxUv27vG+NhJzcc/jEQJoAkJu377jru6PfvLJW//7v8Ven5DjFHr07AfEkJBGby2rZfK8SEWWthpMJ4bv60oIIwuee+8Z+PkX4xXRJ4h++k6XpkNEW6DzMYfaKsf40UvV8lAnVBj9N2oZ1GEV9WYZitZZqVu3Hm5s3boFU2Q1atbAsHj//kM2m7VRozOXzv+qY9e+3y38Dv1wyMCOoctWp06tOnXqoCOHXhCNUc0qnCSv4BIYp/kzf1R/UFG9ZSEvIunCeOAkY84dcaKPh2gxSMMBzlEZQ8yIjEZFL1k3RjXwRNe0evXq8N+9Zw+eOztdLlhaGEuMnGAr6MMaEicxn4kPdPmQOkz0r7/+imlMdOcqVqpUVFiIWRkaAJFjLIbBFqJFPOjf5uTkwJC6PR4YZ0OGOKJMB8En5kj9nS8ju1iWEMMqEo8k+xTx9q69eY8uBtWyvERlJ4oODNS8cR8PkdB5I9f4ZFJy7N2zH2Ngu81Rq1bthx9+eP123/z58zGAMGauMUbesWP37t17oejQclzqSSRQEf1W5K9ODNgAohW4JEMmUaRxomcI9uI9ANg3mnndnCLHjHUm5dIvGbfb5UEMmBXcs2cfHCCVLIf9vqCC7GsEImnqsCTNMJlmtMhr165HNjC9BrrlHynEHCPcev5Jr1V/5UKEvN9/8NChfEzZGLTR8qdnUzeeBAo9A8RdJodRB2USWzZEQjXcsBdkVH4Uh2qIiL4aEcIoRdo/VHpY8BaRV4SgvmjgwBZPbt5JNU+aNWsK3hx6rPdjDpczFNJoR/QG+0RaMOksOx3kJT00yTR3TJywRJo8bhlmydA/Km9oG9l3koiTOCtVwkQw5t8wvoIXVUDyq9otLVzMJXsLoSTRCv4cPHgEFhUPxMhbTgqZaFaV3shVUv7QNDDPAcAOe/PxpiwsmNWKJ9R+GDT1XTwtGyqFSDyIGS8AwQG7BGuHy9iSqiEi+IBFWhyl+xOfedOPi6DcBN9oXA2NLx3MiUPpPT0SeRhvMRApqIIFO717CB8wkwulgRIXFBRu3LSxU6cuf/39FxpX9Fy0OT1VYxAkx+MpKCwkup68U5Q4Dwl8yXQtvGmcUNmjiTP/yJHcvDzwB3qM6TL6WAxzieihqUqfIPmEXvSdj0o5OXguDDfyhozh4w5cxsgjIdzCixhwIF08z01IoZhQR30JIuE0unh8heGSEFX7PZoQM7YpKZh6n23/tJ405RKGS7Shh/WxhAPkTWdSL16/D10fTLChH/XXqr/ggxjUR4RE0bV+SFhQKYS3eEi7S/zVqOjaaDRadj1xbYxHEojYJfUqqk2FTYPSG5ZNFUjvB9kDhcAWEBFGCPvM4SkRcggKpReRLo0OIaVEfkE+6IHnSAkZAtvjsJIkEt6FP1sLGuyMAcXTHj3B0v/lPTqCHcClJ4t46UEtJqQ6Ko2kAgJQOiFIarVJmVNMCunegvJp/Ew3ZAryaZmg+PhQ2BJjgAGKD3icfTiLYgGnzZVhgsqiiiIWIzYxWB2dRSqJFOxxyPKENpqsDaQMVHthEQIiWiOeGDcbNi51zSNZK55Mvvz4s1gVnysDH+CsQ05CRLpl7PxD8XHF3Y0y63F3ucexRqCM8YeKpGbSjnW5ymn8xwgcboti6xuNN9ot1Xyot9iGK1a2LK9pz8poXOPtA/XRrJD6qmU8YxJltoyJmqzMMflPJpauvwFIMQHjsUomnAifZLJp+B8niNPI0YkQBXPoacwLn4hc8DQzFQHOokytOZ7v8oMAZ1HxdcEOPqMl9ec/0b78yowI8HFRCbVOmhkyPU3pFN3oGERS569LiCjJbbzRZtwx9sMhPsxAmHEasqpIJCje2CNS8blkw7LuqIiYi9THGDQQO0te4qw0guCNJya1snGy72okiFEtNu2rx+PDQJggaIpeZV+kFBMuJ2IYDvGxUDmpi8zNhtlZlLk1x3NefhDgLEpQFzBQ/OAIpI4AHxfFYoWOMkhEiES5VCYd59hEjtU1bxSLR/YY4XOMoi2+LOXuLh0dYYCkw4FRqLpKbbnLKc/QCUNA1w1kQMFynGw+uC0CGsDHgEjlj4EQZtBSmX8rBz3AyBuuRuZVR7pzJ8lMb5nFnwSrsoo/uvRleYUcEi2h01EWssK9wSTOIsofWB4sKh1QRLIce1liz+PKFgS09khrBaiS0E9ry2Z5u8zFCRTCEjZ4cQ6b4hTJVqx6E/U5CnNJyJa0XTceHGlIGDykFFV9k9m02LBaFMa3qPq1/jdOXmvFydvgmgw7O5L0+6Kk+Yk1FiXFr31sS9JmgyaNXy+I/rek+A0wgX/ErYemf1PHmcaQrryRmhaQ7rykkPWPsNif08y2CIjo3z1gTXgxIEshVXfhH0FZ10zipdU3gTRZdVK4jaoyxMhCJkZVxDnib6Unj0UbyWNXPa+x0alJg1qGAClgsvyQjzFiIyBfDjKfsxl0RUGIYkfi1wOCQknjB5C6mA5EOvmPDatWluHJpMvSWMuMIWY4UpHXhAm6BENVN8gHafC3EWRMvpcesS34eBtmWRGx1GJQxYf4kArASeCTdG1Ak8vYIqMadEUw/uryJHikIiFPYzfkDEfCqNKQV7mBb8dJ/FS/WVtkbOiCfVSi8584P/HrB2nxq9pD88qGJAsoqQfiJ+vN0YOAwEpp3vhjieCjeaaR/zj6qVEkwRkJUfy1FNW8UXfCeilG3sg+fUsCZp8UDvv/UfsfSlxUI1TWO9QqBBYUFbW4Guh60SOI6z7kb3LcDHnDUbx84qiSx29m+ShI9eqI8mRwM/w1h3oLbsM/pl4M/xh5Ix21M4J2ShEJIfUGC19V+szcoyM9HOBBRw4hr79L59ux0hhpY8hyFFgHI0xWHiM9HFIBTEOu45r4r9rmabeYSk2s/ZBj5dkY2bCsfwJ50hYw4yJDmhglvVGIy39s/NpiXao8fTtOXQ5EwvIJjc44459/NhX5fFhWH7eAiXrQV+JIfnBJeoz04yct+dj4qXe8rYO/qpFo2rWQxh81z1p52bIYAprDIAC5ZtOlbhqD+kvRSFdeTQaZBJwkqyQSTHYDc+gJxkWFJl/VEa0KVmPDfDbYI8FAgzUhdAQwvw2M1AO7e5C/Ku5xtUxFYn61Wld9mRqNqjkmiK7ljJfqTFme5pSaU6qILGHYJxtR+Y+LX3+XlORfY5EkuZxOLCS/c8faajUbYYErq8OOheXId+76glW0xwgWIRQzdNIQiy0UZIj2RR20UafP6qibFVEbOk2eLUtUFAmYo96nZdQQpvVCf5l6YcMmlSfkIW0uOREDiQRRSPRv2NxzdJjzIbYHWOA3TLa6Q9+OsMqCTUegGKS+JUtkDoqt3ehajLki6CZqFGPEjEsqb1zGhGX9qTtKnmgerCZRY7WlRMKMopJC6ERl/Fk10uKntojEBjaob4hjVS1/wYFhQ5+TwsLzT/d+bthQMSTKgSBd1gfjLMRCzQUG6SQWo+1hVVOLXvuj7goTlX81s9oEI12Qh82cmmdNni1LJNao5iAqqCZDEqAxRKWr3k1BXkUPcSBvZOsNtaDIFTJjxfMRNfemtkUaytq7+gRQQh1VFfSGGSzSpMhdFbLIdWIXW1VMJUVVNhNSV3HGS3WmLK/xJ4niGrMLiDQq/3Hx0yLTOVwdhDC2isGaw9hSBdysUqUyFs3Dkr/eAqxcr61cldQWJclPfI+O8BYEVIemxBV9sLPbbFmipKLKwmAeJaTWC0U7XXm1eSJEotMJanBsawY8KclNPS7SQNZmlgjKBk0M7tDWMao60rhgGcW6mSiMJBk/1ZmyvBZDYvnEviSBuDu0laXZUHto2Lyk/xNPwOZYsbhkSB781MBnnnkGmxlhq1kqhV/YbcOdhDiR+6orEpbeSKb1WrAodpUgG5NS9CUNm3oMUfLaBc27+kt+tKKI3BZFQ236K1bLsD741q1bMRYiqChhrJNd/aSaMNfs+EedjzE7aixoZseCl5+QhTkf69uHTieQTR1DQazSij2CsH2LOsimQ22OGUGA2yKuB1EIYAqObpsJthw4cAB7sWzevBl7tsIuYVNHiFaqVIkNAMvEXprTzW2ROes9aanpvAK4NHDgwBUrVtx1112tWrUCo6pVrzZ69GjchTlKGtisNziLzFrzScoNnmATYuyYsmTJktatW3/33XculwvWCUTC5uQej4c8L+JHNAK8RxeNh+mvQBIQCZwBc0AnvL4AH3TtKlasCAphWzvcIluK6/sm8R4dVIbbItPzhgEA/AErKE+wVx/ugEvwhANPWkEh2ChQy6AQE9TUTs4iU1d/TOENw0Id4I+xiRAkYZdC2NYv8oJCTGjzXnIWmbfuk5WcWiT2LnxwoGvHrRALi+HmLDKg4I7iEOAUKgYdzqJiwOG3IghwKxTBIs7F36OLg8TcHsbQyIABwyHqGX8LMrhrSJrWwSEwbdWnV/CEFEoviuyV5izK3rrlJTteCHAWHS+keTrZiwAfF2Vv3R6XkmHu7rikU64T4baoXFcPz1xGIMBZlBHVxDNZrhHgLCrX1cMzlxEIcBZlRDXxTJZrBDiLynX18MxlBAKcRRlRTTyT5RoBzqJyXT08cxmBAGdRRlQTz2S5RoCzqFxXD89cRiDAWZQR1cQzWa4R4Cwq19XDM5cRCHAWZUQ18UyWawQ4i8p19fDMZQQCnEUZUU08k+UaAc6icl09PHMZgQD/vkirJt6cJNNXsncY3S8ymUS2+7NfUEXvVkbuYJdKrjzZrgK8fEeNAEsSZm8/nVxh0dS2iEWHhZrZ/5T1Nqmb7Kyibb1oUgSwX5OqKoQ2cEdt7KneMTWL9MZE3VQ07Ihsdg/Ukm4UaTpNgtpAdYKCx3QlVwuMshtHGNvCkhPNCrZzFtWd58Evc+9ISfdeJ79hV7eufQSLG7vSAxO73c6XWYPq0PVQsYZWmzZtsAWLoUysI+uBMppaAogYEixBsttgGJsj2wTBGgoKLk8FU9si4EKJhB3YFUmaOm1GodcPhAAc2wKxSmMet4TFHEULdo7ALnqfT5iUrOAmWaeObuQuWMAin6obVkGx26wei+i8qUMnk7NI7e6SzpsSDBws8u3Crj3eIp/VYbOEma2zk2lQVvtjE5awLEhi2O/PB51AqiTFTeafRDwDvQlttB6+Pyz6VFuEHaPt6Lb4AkUut2ByFpGRoiiQ7X4t6OYqIW+h1+1xBUMhQcBZwqG1T6pU9IgzccAMkqf9NGpnHHYrNlxRlGDC/BfTo2P7QqlQrdzKGw2qgtEQ6lYbNiv+woOS1ZN/5IDZWUT03SKjXbFbKwhKrt3ml4OKaAwosQ+9Vv+kisUwuVCBJONLdgLCCEFGn/pBJTJSXi2bRHYcR9tCnodgE2SGRRGE2IclFCqt/BYKI70SI62MiiFFKHPktRoVCRJOS1gkmoAJbms4IAfdrhzOIgIQ0LFaHKJiV6AUot/Qe3KL4QpVBaPucUkVK6IiWSavKg9lDFqaxOVVZegPiEMQE1XuZZE8U0QRZQSFJLWkYUuQVL3JnxeRDq5e/wxS3MkRSAuBpEPGtGIxtTBriEwNhIkLz3t0KVY+7cfFClMKJb4XK0uu06XcCZZnxjAYF5H8kx/jj+pmerzqddQPhhBR1yVdZJI8GQCjdKSAnEUlVSy/zxGIQYC+vsB4ptdUMAG5kyNgSgSYOVi9/HxcpCOR/C9vaJJjw++oCPAeXWJFIJN35OGaOmuLvi8mOMm8doRR1KXP8bGRRGSYByxq91mfE4xIkHCRq/InHxn0sM++6HMzrcyRJ2WCIBF5PMHGr4R/5NkaQYiVB4rwoYeGrnpBZeLldVny90TJ0zwkeKqBx9J4rYM8sOdHcgS0B0eqAOtOHoLfMSMCnEVmrHVe5qNAANY1tgvCe3RHgacalLdDR4tghoRP8tRBfRUoQ4pworOZ5LkHpRCLLzu2ic90upQ70fKx6bPvQ8WXLt6HHRHF3433Kc/yxACpw2O1unEVASfiii8S9+EIcARSQYD36FJBqQSZ4u1PCYFP2O3Yzr2eEd6w6kgk+4uJx+i+CYcsGVTEn+3AcKSKQ8q09widzL0GUDFVTzijPthgyUPHP6zloe05K1NMnOXmFmuF4kvA3jW+Tys3eS+XGck0BThmIOJxEE6WIccsKR5xFiFAHisrfFxUBjXKtt7lr1lic2cUNsYzcsm+Vc2+lkBDptbK0NjKHxJG6Y/SET0oQmTZW9TUkJJEKRSSFVkOK+FwWFHIGXlFJbU4MkwqHA6hpDhJvi1KWCCXJZYB6Bgyxay1ADF6GMJZ5VBHQfElMguLsLSaJEn4xUIcUAJZluGgcMCJijegQXOrvhyF96PIafhnogOveFmxIBYKp+BbeNppVXAZVkJYg0/zDKtLuFgsDpsNBWYZpSj4TlywSpLXWwTuSViHIRQQFBnrvDhsVrhzPa4w4PMHrMCKpIJ1g0hs1K0mgVQinsRfO8DbmFO/kxl/oxQj6iIz8p9+LkEeq5UsZHPVVVcNGTLEZrNBvRzqAVbZrVhxzYaVHK12u82Bv1gkKUsOtA6yrOTl5e3asXL3jpWNTj8djYcokZ4aEDAKKUoS+LN+/fIuXbqwDYcMK63IX3zxxZgxYwDasGHPr1u7CivUwXqfeuqpDRs2PHLkSL169ffsWdW5c2cstUVNHP01Ik/kKNn0JQpVzvwYu2QKFnm9XloDCxcuvOWWW3bu3Dlo0CBoWEFhoSii9kVimKAyxECRs5xV11FlB0p/0cUX0rm2du3aibAnMCbRX8SgzEhDwkKFsozJfeN02h3o8cGA+L0+ORDc/M/Gpct+ttlgnMQPPni/Z8/7PR7PwQMHfvll4969e0G41DKaolhqkZ0YqWjW0EVbTkxOjmOqbrcbTS9og9/+/fpv27btySefxC/sEkiEVlbCDeNgVok6jnksy6RIu6AEUWL0mnLzPN27dftvR9GOPYHu93SDAfb7vazBEcNY5FNyOmxgmkS/fca8E1kENGS1YbWbsNVqsRJbJb73/nv3398LMIKZVphvmxW2KCj72ne4fsbMaRBTF/EDIdWuGmKIfWtT9dc6cmVZ3hMTlzo7R5OOZpWeHVQDDuCFNhq/undG/qXkMbL+408/0hI5nc4nHu+3fdu2/v2fQH8OpigYDFqtkreoyBBO6DA69+WyUSWaKiGLcsgqCmgeateqddXlzcaN//rrr8bWqu48u1lzySK6HU6bZK9V86Q3Ro/85ZelX4395Oqr2rgtgsflAs2cTvvDD987Y8a4GTO+fqLfoy6nzeNyYB7i7rvv+viD9xD512PHNKnnubl9u08+ft/jkqZO+RrB/d6iYODwDTe0mTVj2q4dq3/56Yc+vR8KBXzoM1980UXTp0+9+OIWY7/8bOM/K2dMm9bsrDOZJeoozBnKMaIFiWe6MZDYt28fiIRWJ2vGCSyddu/eXblyZYskOWz2Af36w0CNfnc2TNaRwn05OTkgVEL+GJ7Q0tTmfI0Qx89BJhyDfjU9JRAMXH/99V5FmDlzpt/vf7zPve3bt1++/HeQDP26CRPGndKg+oSJ09B8vPXmK7AdCCiHvM8PH3JPt84//7p80XeLHn3sYUT1w/e/o8jNmzdr1rw5LufMnXvRxedv3rx9wYIFLrfjikvOHTeuGuLscvftb4x+bdy4WR9//PFZTc98+skH6tSu90T/JytVrnDB+SfPnvjxa++PXblyZZ9Huo4bP/6Mxo1Fa5YMQROzCEiBQtWqVcOgHMpnTGepdZNhP2gRiGEVRegKem0Y/Bw6dKh69eoYLDltWPZfePmVl58d+mrX+wYV+bxoMry+QnTxMqyQTHatEnpbpFp9viLY2C5d7ly9esuWLf/l5x9ZvWbLzR1uGjZ0iNdbcO211512WvWBT46YOHGSt8i7bu3GkS89JdlCNU6q0L1b5/HjZvbvPwBTc7NmzF26ZI4cKoSJU4Jk5IiYp0+f1qNHj5Ur/54ze3aNmpUwjjx86DCMWO8+fVav2zBg4JM+rzJv3jcBf3hAvx5vvDHSZg97A8JTQ1/+8ssvMTexe9eeocP616tXb9uOXUzGM8UZ331L/tQVVgiY4UD/F/qXKUWMzyc1QWAR2gKwaMAAKIfX5XLB8gwZNvS9d9/1+nxWqxtkQ1gI0P5efDyZ4oP8ow+O6gOFmjVrWqNm3uZ/N992+62SYIE5qlnJdmXrVt8u/Oa885tjQ6K5c+b5vJjCdv7806+hMCHeWWedGQgJ3367SJEtbneFfzf/t3PPYVkOgEOw0h5PDh41BQJBAAis8NQpEAzKYQENbm5O7mn16374+RjMPaBPaLc7V69eGwgLterUkINel11YumwZZHEDHQFJFNAXyEwWkS/XyUnGRdqR1BaRMbckgT84oIK6fEb+RX2jLGQeTpYHDx4MZRo1atTLL7+MoqE86m4IIppS9HIwS2t3OPAyECknXZo6A0eFKAiKjNF/p46dsIZ01UpVeva4F3ofgNGRhfY33jR/7pyKuXn5soAGBQVXQvLhgwft5EGZJc+TYxMFTBu43R60LIeP7DtwYD9mMkFNMDMUwPOisN1hxeMBSRDxpAhzd+j/YnoGc+qw7Du3bQ/4/AJm2AXJ43QhTrAXB+D0FhZaRQl5K/J6cY3YCMiZe5CZbo1ImU2PFKsACgTmQF0wKTdy5MhTTjnlpZdeyuhuaokFd3vI1ne33tZp1vyfW7VqdXXbtm1at77s8st+/PG3G25oV6VKlTVrNuRIQqPGp3m9+YFgUYsLzvfLeMBq27sXnBEuuaSlZFWO5B+oXfukRo1O8fkCpCFCZ1Eiz1fxfC0IRsl4fo2tamyQx1Mp4FmkCJdddhnSDYXQkQmefXazgCwcPJCPPbP0DEfab90nG/5mP4vQoKJlpc3hK+pRVFSES58PG9GQw5hzK7cTBjSfqf/abbbCAjLyqeQRJk+bYnM6jhQVAgQUcNyECVab0OHmzt8tWoq5yOefH3pmk4aXtWrZf0B/uyS4nJV//Gn52vXb7+91H/wbn3Xq62+9jhlsm+TGawwKqBKWsQfLofwjhwvyz7/ggtMan26D6ZYEOSx7/f6PP/20VatLO992W+WqVS9vfekdd3ecPWfpP5u2CWE7LDq2c8TOJWr7nclcIiYo+jDD8yI0lpjURocEzKHDPEyZoI8KTwMMg0iGT0Y7gkEFw4/u3e45WCAsWbwE3VS30+PHQwvFsnjx95gXa9fu2i3/7bjnnr6Xnnf6D0vmjBv/xe+//bb/sFDo9fkDSq8HH9m2fdfkqRN++X5h9Wo1Fy5ZXuQPkKfTpI8P8CS3yzV1ypQzTqs6adIkvPWBB2yyjKl15c033xs/Yfrro1/4449fxox577f//TngyadCQZlsgYqDDieIK04RiWcGHch/VBEslSpVSpj9/fv3YyIrCwZFIAzMEQ7UP37J0DvukAX3XfcO/HjM15ikwgBKGxcBKexfhB6+frBkQ7uesEWNQlcPeJz/4pVayUpKjXSZbEbnV+1lVaqUV6Na9cOHD8N2FRR4Mf2Nl+3Q3FSuWKFGjRqsPzxxi0QY824hHWSrLXQg6MvNza1SuXJuboVdu3bD2vv9ZF4Uj2yBOx1FYE05zE/EaKGKT3lATs1Ikh8KH1aG0PYvwpc0VsWrSLd1f8TosCYJmvneVJkolzK/NCmVwEIaDkiqegmN1WaTYtUUnDl0KL+goAgQobmk5hrjHzgOHSkqKNwSJqMdTMFhNUvynmosf2heImMewW5ze4sC/x7Zqij/Op0e8AcvCyE2lUKYcSAshD0k1M6uI/tZlF31lXZpVNWN5Q8UG5YB8wVBsgmnD+qOeQP01qjCE385BEtCaED9idoTC1LMAQOIu9hfDq8/UONDyKm+Fa6F0riDzNBmvZjIMuwWZ1GGVViZZBdWBcbH6bLhHya7jTiJf0jGw2jMasKf9mBVHhoiSR2wV+rHWak8o882IpmORWhf4xUBK3LDHwf5g8Fymm1lbFMfn0D584GRQaaowWFzB9sT8Veh0vFK4X2ONJ4rZiJmLE5R7qwqTFTJ+EWxCOBRD6YS4kXwrREdScbf4j7JEOAsSoYM9+cIpIoAZ1GqSLFyKQ4V2CDcncUImG5clEpdaiTB+gHMdBLamxjyZEgLlDibiR6bUWyKn4pLBT/TySSG2HQwJCkwS5sEY4gkobi32RDgLDJbjfPylj0CnEVljymP0WwI8HFRGdR4zPt1ZRAjjyKjEOC2KKOqi2e2XCLAbVEZVAs7CVEG0fEoyjECeJmWWB51IhNuWvWcRcXVGLpqxrwvt9rFIWWye9pHImqpMXnLWZSg/tlxDkue+Lcz6fQ3K5MgOu6VLQhQy4NKl3RbROnEWZQtNczLcRwRICTS39KFk7OoDLBnH8hyu1QGgJbjKMi4SO/lwzTBCR/OonJcYzxr5RUB0pHDp/V69njTqSPB/3IESosAt0UEOWKajYYlOZSpyCQPze9kMALotBdT+yZnETHFKjpRNlnDK/qd7mQqwIKLSTx2jJQsSHn2jwIihYxmenlTKGJEhM7I4Vebo9PvmJxFFAbyLbRFCIlCgHR3MWDUh486SsX9ZafFi5Pj9zIfAcwrqCMi7O+kFQarC1jDIVOziDEjWDHqUJc7O1AfLL5gLJimujO//lMuAYMJ2Z4FyzAAgbp1623dugXLnGOVZqz1TddsoMjQRgTrVaScQqYKUkOk557abCyIjg3XCrJ/VUe92An+Yp01+GK9EkUQFdGGSziwbBqWUMNSU/hR72a/frDQsLpCcAiHwZz9O9e7KtTFEsNkPWELVstSrbfKHDrta562huJDS03daHdMbYssdId6LDSIWUsFS6KSXZsIc7AMEHbWULXEPPrBcom6sUWA2+16/PHeDuzyNKz/iBEjRNFXWFigdWFUfOjKsWawRSw+7GgQamNqW0RxocxR3WTDErS+ZA1c/YtqM7MI62y5Xe59+w5gK1is0127Vm3AUlBYgJ0jABeLDOtmtc0kblPbIqy5TKpZbU7RUSFDRjIvh44d7fWSm/QVXuIy3+GySYMGPo1pR4fDhdL37d3/xREv2ixObF5kgEFwM/1haluksUhVAlYb1AV4tUUMzdzKYqMu7Hvn9NjQ0Ph8QThqVq2FOQaWNWbGx8DB1LZIYTYVZJf1ZJc1FNNsa9nRuYFyhjqeHDzA5raRHSfxFrOTqEqfJ/u+8MIIOruASzQ9mI1Jq3TZhI9RcFPbIoqCPrsd6ZmotkiDiLVRBmrZ7UDxsUIqxoYHMCQ6fGjNmjXnn3ce2TaPrIIvV69ezSi+CcExys46IqrD+prcDeUwTjLXkOaJ3bgz9/S4XBKxMMKggQP/+OOPXvf1vK7dNQ6bvfZJJ2EzXOzEMvipQXhGRE/oSbrgQD5zwUmWc86iMm4xMv1VBmwGhu3SsKPEkiVLrr766u+++w6bEcohstX86NGja9eujf0IDchKoT2Zjo9RdtbBe3QaGsx8N4sPWh/22UDUray8wDOivLw8bH2bk5OTn5+PqW1sbIQ5BmysCCKhyHRXaQoX/TUbRPH1XorWJD4S7pNVCMDagDmYoKMb4OIXry+ghGARnZFL1uJkFQrpFMbUc3TpAGUWWRCGWhtwCWyBnaHMof7Uk2URN0TQDG6LzEKPoywnunbsiOgoY8uy4JxFWVahx6o4BoVYQ3SsEsu0eDmLMq3GTmh+QSH+skJ8DfBxkYYJ799TIIzXcHEJTHBJfegvfOhgKV6TzOzDbZGZa5+XvWwQ4CwqGxx5LGZGgLPIzLXPy142CHAWlQ2OPBYzI8BZZOba52UvGwQ4i8oGRx6LmRHgLDJz7fOylw0CnEVlgyOPxcwIcBaZufZ52csGAc6issGRx2JmBDiLzFz7vOxlgwBnUdngyGMxMwKcRWaufV72skGAs6hscOSxmBkBziIz1z4ve9kgwL8vKhscsyYW9iM8+ikR9aG/9ENX/olRTHVzWxQDCL/kCKSNAGdR2pDxAByBGAQ4i2IA4ZccgbQR4OMiDTJ2P9NkKGbl6rgxhWVxwKqwuDT2XYSksU4sK2bEQPFJeMuQYR3ZIY8ScRaRak294lklyD63wRlaNGw5CQphZxWclEvqJpTkJtugGJup0I6NccniQzdCpT6GQIbKG+UCXBQHU7PIII9RrwZAMQ6qBFSeVaAYsSy4NDAhZVFZBHAIkegm0fTXuFQLbASR9bvxOBhGDLcyXd4oHbQCZYE+mJpFFA5CobBNCNvVLcdR3VhUVwPK2Gwvsk0C7ugtkIFm1jiIzcF//SAFVUJK2EZACXvgDR96E/qjSwG9iDMlV2bK05aU6gZ1y6SHKyoWq6n3jKCNImlrw57ud/cXBKc3mG8RsR+9hG2wBLLrK+l0GKRKSUUyXAj6oamLukkeXYYOZSL7FOmNS4mbf1FzbciXCEn5lI/PNkpEeBMWkWFohj/sC8gWq6e62W0RoRCxRcDEOXXavEL/QdniFyy0RVZZpO6gzBIpdeWIr4Zy7gPlkJTI2u3sE1jQCQpED2ySxpoTnVz6baJnxB0FWuSmbs4Yn/Ipz2RQcxJtIU7RJmMvbRjpUEh0XHvzPWZnEYUHG7zCChX4Dki2YJHvMGwR0QBqiyzaNsmQNNSIhsq+XxFtrQizo5WMIQ48GRaFE7OIhgNyGisYgPQoiZfBunIuz2Rfc0IBkGcLFIPoBjYFlL2BIptT4SyiACnoyMEKeX1HsJN2UPGpvgAHYIXi0cxiHzQflAMoo9FzA4Og+haDXlisOxoCBNHbaZUkKj+AHT1wKxPl9exH/hLqAB8FrQ2xRVabaMtximKQs0jDCPYHEOFXpZA6wWAJGUMjKmSoVwTXbHQRxqhHhCtk6KgwVGBNCxHVgtCAKqNoDMl+M1seW9OrO8+HBdnnxU7SkT5wsvJmuT+IQXsnZFdtdWIXBTbUKMsLz4tXRghwW6QDSUdB5NcqwArhCFtVW6QLmPGv0SlLrfCxJqqkUJkrD92ARUK7G8ZcrpWziNS0+lwIGqOfhEt0doHcJG56pFvreriM/Zte2RnplEqckfKEPMg4yIMygkVoajmL2Oqm6Agh42Er8DJG2ERQHzCwgUzijsLBJGWOLiZ9woEJOkChPgOwhskGT3gwLaXbHERHnEVXfCx09JUJZUpLnzJdnhRXHQKkVeqjx7k8xmDMvHEilcfqKW95IhN07INDwiA+LipvtcTzU04R0J40R3r1MERaVk3NIooL+0YPbWSSGehk/uW02k9QttJFKVPkNd3QH42w6JqaRSwQ3M0RSBOByGPodBuCNBPKBHHjnTA+LsqE6ioPeWSHRsREcRaRWjGIVB6qiOeh/CJA5hVozw5KY7jxBi8/OAIcgbQQiPBHC8ZZlBZ+XJgjEI2Ayig+uxANSlZfxc9JFl9cXZ72YUrf4LIdZnZGtPjU4+/q+Ym/c/x9GEwsvEd3/PHnKWYNAnrXjtui41SleN2qTFJKrS2P2A3WDtAMsD7xsen5TBxDvHxktJ3qJE0k5lQA0XMbQU/3IaET5Se9+FPJQyKZqFQ4ixJBxP0iCOizuuQ5fZTqRERM6uLvLpiu4klbTt8YxMfxpPT0648YHEgXJXLo8hGfdF149xkLNiR9UzFhHmLTiGQpjfzExxxdtNhE0rqOjZyPi9KCryyE2YV1EsZXvADbn0kmiTf2IUZPNQnVnkCN6Gk88WCS1+SJPqgcI98pRtSXCkoi1qaIWpmPlZGVmFtM7LoTNGDzr3sn+Bud/ygBWSbfUCYp+zG2loQ/RhK6lWa8ojLKL8oEAV0VoNO6Rqp6LFnCctDvtEsVct0Xtjiv4Sn1bZLFYRUDvkJBDuIuTvjg0hIOwcdbmI9fyOPSarW4nHYlFMCJa19RAS4dNikM/VaUgM+PX7K4RliByuJEtJLFUqtm9RbnnnN6o4ZhEqHsdjhpAfUcEtWgpxIKIZUct9UqhYIhfyAQqpCTU7lCxdzcHCwwgIyTfowSsorIkV8OBnEiaZskKUHZ6y1QlCBy6A94IYBThGjA5/N5sWyDy+0KhoJk/QZFO43UIw7ytT5pAtTMgNOKFR/zKCHEH/T5Q3LI6y3CyjvwR4tgId+BwbAaJ77zgRu/Ev0GKOpXE0OQqPOoK5rUrEGso46NR5AaAujh+P3+6tWrT5o0efXqX+ZM/2zZ0ln//ffn6NdHV6pUWbJa0dbedttt//zzZ+PGZ2ApRfjk5LgvveySzZuXr1u/ukmTJuvW/vbVV1+5XK5QKORwOBDb4cOHR4wYsXPHynPPPdfj8TisoA5qFhWsIKGJE8cvW7poxoyxSxdN37ljbddudxcUHtHsktrPYZSAfHGWm+tZv37F7bd3RFbz8vLGjRv/x/Jld3ftEgrJkkSyh2j9fq/DYatcpdKe3Wu2bl1Vt25dUbRUqVIlJMtWm+2CFi3gQ83Feeedd3qjRmQhLpk2JXqDArjU1ONhY/IjnH12syZNzioqLGp4WsMd21ff36uXDUc5+7qUzXB8cbjPMUHgrLPOWrRo0TnnnPrRRxPu6tbn7q6958376Zabr5w0aZLdbrdabV6v12EnSUMj5VCoefNm48d/HAoJ7dvf/McffyxZ8luLFue53G6LKBLWhUKVKle+++72/20pXLduLUgF9UXvy2bDbeGNt0ZdcMEZkybOubfHgN69R2zf6h0xYmC7a9qQtSVot42ocuREBipUqIDX/5Vw2GV3NKhX7+yzG3z11ZS5c+ZQLFwuN1k4Vj2uu/ZaSo1bb70VrC4oKEDwYCDw8ccf9+7dm8q89tprDz30QCDoO3zkgMfjhBlR7ST5JemqxjnyS8No+cGF8sabbzz44AM5OR5vUdHv/9vw36bNwWDQyIAWMBKKBGFOeoP6aEJl/4c/Lyp7TIuNESMW9LKefPLJ6tVt3bs/Nnz4C9//8D0Y9cADD779zteXnNOgW7duGHucVLMm9FSSJFCi8RlnTJkyLiQL119/66pVq9weD8iWkyvccP31dptNkWWo1JlnnmmzCvCHPAxUMITFtbHquAXafmXLM6dMmf/cc8OmTp2Os1PHW7GqXIf2N4pknT2qxCqdKKksSmFRUX5+AQoRCqJvZq1Tp47VIowfN37Lv//BnoCfBw7sR0/JZrcHAoHOnTvv2uXbsuVQ925d8PU0KAT2wj+E/4EAxBAEnMRRrVo1p9NV5C1UEzVSRAZCWAlQ4zPJDx2PGUxA5wxRSsFgaNu2bTDRPyxdgmvQNRwkoyPtiNi0GMJol0oKYzY9rlT+wvZEmZ+oi1Qi4DKlQ4AMrBVFsogNGjS48dqWUyYunD93HjyVEBkIYbzxyksjdh0M39u9Gy4PHzqAVNwO+7nNm02bAgMl3HZbtzVr18Az5PctmD9XkIUON90AzoBC4NLNHTrAesyZM9PlcmAYBOuEPh56g/XrN4D/gX37MKJx2uwQ3rlr5ysvvb3yrz+hzRCsVq3S66+/+ttvP3/z7dwhQwa5PU6HzYpBiIM8/BGbN2/er1+/QFAYPuy5m266CblFtw2UAEVhcGrXrn1Ry8YzZ06fMmVS9QrCxRe39BV5MWj57JOPGjeoeGvHG9568/VPPvqwYR3PFVde9vLLL2FIhr7i9TdcN2fu7D//WjFmzOdt2lyuKFjPOXRfz+4jX3uxW7c7p0+f8vfKPz759KPadWpilPXFF582qJfT6vJL3n/37Tq1T/ro4w/atm2DBfgB0c23dJg/Z9burX8vXvxdz/t6YDyG1eEuu+ziadMmX3hhC0T+559/TJ06qXnzs8JhGaduoEpXewlDRbgTcSUU5J5lhQAsA8YM2Fe4cePGePTy/fffu12umImmefPnnVq/gtPphKbCFtWrX2/qtEnVKku3dOz2159/eYu8tHVHlsZPmNXigmY1ataEG92/Dh06LP7+T1gq8ArNPzpdGC8FgoE9e/btyxcefbjL088MuvzyS2EqZDn40Ucffvb5Z7T3tXDhguuuv+arr8fOmjWja7c758+fW7lyBYx/8BjR7XLv3bv3559/tNuEn376aePGjRjcI//IHhKFLerYqRPswbjx4+fOnVuoCDfeeCN6o7j17bcLD3qF9Rv+hf/MmTN3HZA3b9q44Jt5UOWOHTt+/uGoPXt2vfrqSyGSk3c7d+4I/T6t4Sn33H59v/59wck//vitXbsLe/d5zJPrRigQ88D+fd98Ox8MbNu2BYZ5MNE33HDDu+++uGbN2h4PPLFo0XdPP9P3lVdeQjxVqlS6pMVp86Z8uHbtqk8//fi88xuOHfsFZjucTrV/jMwdm4Oz6NjgGhdrEINy0SILYegB7MOGTRsxdglhyE2bSvV3557dhSGhctWq/mDgQKHw0cev5eWQjle7du0wzeXxuME6u8uJgHPnz8f64W2vugrptGzZsnJlcd78+ejLgUJkYRpFRrcHV4cOHr6xfeelP6+97c6bxk16b+26ZfMXzL79rjuDcjg3t8LDDz9coYL7nu7dRo0a+dqoV3vef/+pp1RvdMYZaj5h7cJgDtjuDQpz5s3dtGkT5TA4BkOE87Zbb1258t8d27evXLVq9eptnTpdj9ELGosxY77YuWv/un82LP5+ybwFc/bs34Ow6G16ctxDhjy9+Mc/evW6/6uvvnz4kQfXb9h0X8/70HWUrFJQEG6/41YMqO6+++7Zc5ZcdNGFoaB//IRxW7ZtX7l25dQZUw/lH3Jj/k4JuXPd/Z54fN26nX379pk+bfqgQYPefPOjHl1uqlKlIngOuPo9++rwF4a9/fabzz7zcvXKYp06tQLBYGToFen+xVVSSh7xlOHrdKcEXBkIwUq43R5FDhYUFaIeKlasAB/oXGQVX0HA4AHVvWvXTgwqPB5h6/b8O++488UXX3z0gTt//eWXH35YCu31h46ATgsXfnvkSAjN//jx41u1amUThKlTpjhdLqskIeyRI0cwLQE3OLVp48aOHW/Jy8s57/xzL2l5EYYWzz03EHNoDz30UPNmZ2P6oXXrq665+lrMIFetWhVGsnHjRpiigE4fOVKAyTCUvJJNyM/HYCnfZnNgZF9U5MXM+kUXXVS3bpU//tjb/Z57Dh86hOEZJC+99LIZM2ZgWo9wWVZge1FGzBlinIbMnHJKw0ouwWp19OnbFzK4hQblpGo5GGMEA8qufd6N//yLyRJEtX79+iuuuALBYVExgwJJTC1UrVLFKwgoHQjctHGddz4cD5OL2XjMo69dux7J169/ilWyhsLCggULyFAqFNy6dSsK4MnJIfP7zBIjaMWO6qBT5Qwb44l1VPHzwCwCeMtLPUWM9FGv5FmHIG7btjMgCGefey4MESYQrFBJp0uy2Z1uz+WtWu3ed/hwQb7N6UDfqHuPHlu2b7v/gV57DgtvvfNmxcpVIAPFgjUAIb/+elyby5pCEe+7757JM38oKChCfHh+g/k5u8tudVhlQb6iTZvHH38cQaBqi7777qVXX2rR8sL167bcenMbh9udV6mSi7TuyKTo8uT6AqHPx0xbv34jigClw2MVsk+PRcCEgN0OA2jFUB30AD1hPTp16ljBLtSqXfv2227r27cvmX22C7d07pRTIS8ARqF1gOGFcZTDRYU+qwRlFnOQRFjwBYK5eRVFyW53uGZMnznmy5m4hXkQrzcQCsL+iVbJ7s7JRboAAVMltAPpcjslK8Zl8CTT6wBw556d3iBohcdAFjA2gLIHQoVFyGzkwCQLCiJjqsX4jFklAEphHBHpo3BxFh0FeCkHBYfw1LJChYpQrhUrVqz7Z9/Dj/SsV68efe7R+7HHFi9e/Myzz9avnTty5KtkshgNqSBA9WEB9u3f16d3H5gm9HYwm4zqxwNRNM9TJk8uCgkDBw50uYSJEyeyecEkOBpv/DZoULfXA10wg4f5ADTzPl+gsLDw119/ReR2u+2ffzaiCf9y7NfDhg4fMGDQRx99giHWwYMHyZsPILhVm842YkZHkZpODNvatbtm7pIVV155JZh/fosWN95004/L/m7V6mIoPWiGJgM5lxGRBVMqGA1i0t22d+9+u0VYvXr1008PGTjwqSHPDl25cvW//24RLZC3SiJ5xoWOqP5fkCwwYGJRYSHYiGk/+INFwOTQoUOBgHDhhRfCah08dAhJtGx5ca4o7N6zx+kkG/5pBwijH4QzWIARJ6ZcyAx7GR+RlMo4Yh4dgwD0wBfwY7Qj2iSv3zf4mafx8sDCxd926HhLg1NP+W35H6efXOm+u29c9+/+SVMmO1xOfWSCUZOMULPnzR03Yf5ZzRr0euhBKAEoBP3CaGTT5r2dO12FIf7//fork5pQWEA6Y7AY6Ntg+PTp55+3uqJ1/ZNPadr87H5PDLijS+cFC38FUadPn46JLbC3WfNz2rS+auSro3r2vHPHrp00dcwfwBEWiYaEmU2ccHnZ5Zfn5ZE+JDpXaAig+iAtmIwOIKbyQEV0Kc89/7z6J58MkwJ70vD00+rWr7f+n3/mLPzt7i533n13t4YNGz3Wu+9bbwzH8AyqHwwq6lsQ2i+MEloRtCTw3HvgUJNmZzc/5xyrzQEWYVK8yOcfN2HaNW0v7tSpU80aNdpe1fbWWztOmvPjnj17NBAIf6hi04aAXhqeLFRl46aJlU1cPJZkCGCKGX03qAW69ehfff/90uuuv2P79l1vjnzmx4VT3n/vDRiHJb+uPblBlVdfHQlJdTaZRAbhvNyK0NTBTz+9fUf+k727t27d1ulwFxb50AsaP26cSxC+/mqK10c3XNLShxFA44uLHTt2dOzYbefOnZ99/sb8eXMWfjPlnnu6T5s2+94e9yIry5b92Lv34OuvuXjezDEzx79fqVKlTh3vQUtPY5EkG41Ei5T5c8ftt+fnC7Nnzy4CY7xeWAOQds7cuXhmBRbhqfHkyZPPOqvB1KlTUJYvPh9z6qm1IAwb+9RTT61cue61FwcsWDDjiX73zp7zM57JHjx4APYKUyIwEtRo4AIPc9ENwzl3zrxGjepOmDDR7wtiPGOzIhrnq6+MnP/NL+++MWL9+t/GjHl7xYq/ETNaFrQvePuJdJ+RJ/UHQVTnsdVzU+/raiiGLHi69Hzyk7HjBYtPsPjJa1rkIK9coTYMsYjL8ErNgYqkGolOBRilPrvQ3qfEMH3/gf27du6CMl3Vts1ll102bNgwQ55GT/RJZQUMEd4xS+uAzalcuVKtk2pVrlJly5bN6GjlFxTQZ7XIDKKCtjVr2hzeBw4cLCjIl7X3dEgiMdlImC7bQaJQJQjFdK7wTLhhw4YeTw6m0SPWQ43aiIpiTi+JmxnHG3nweb1nnNmoYsWKB/Yf2LJ1O3k5LvmRrDlACHVL7OQhmTu6TiA7ovoGH7ZFVryydFv3RziLCE7HmkVMXVBnpGtO2k3ScpJ5IzKYx4VoQZuKS+pJmmW8Vqr35tNiEYlNjZmqEfhLhgV4OUJ9cgU+4y4u1XcSLHhTAZdgUTE6F1eQaI9E6k4kGBUHi2CXkQTKiEm26PDFX1GeEOgw54YYYAARFcqi7tlWfFhi5RJKlAmLyGMyfpwoBKC1qF3ybF2rY1CGXKAjhyzJmOHSyVO6HCK4+kod0iF0Qkp4ZRt9J9rloXFCFzG4R6KYUMPTGHiS5v+YHZUrVykqKgSF0DNLnkiiDFAqqrPUmHNHEcAfPAgiExKYpqP7WSeP8Zje4Sw6pvCWEDmeEuIf9BsqhTmxI0cO0QcpGFeXEDK12+ADNAyNNcZjGGuQV73JAE2rdKSLaECdYNAPatEoESC1uEspdfjwIfAW5aX2NtVYDGsGh0XBGAntASYDcahdUDIZmGpUx0COs+gYgFpylJqmoh2V7GQeiZiCYMjtygkF8W0CedaZ9IjSlmQar1ECnRiYHmy7ZKOviKuRGj0b2D/VQOH1OMI2I0VDQJ/pMu4YDi1+41p3RCLRfdS/bJ4tYlB9RCvZbOpnRFGCSS+i+4oiJtPVp6ghZESNPGysPB8VBZOfY0kzJpmo5PkFRyBTEDjxOnzic5ApdZWV+dTHY1lZuONXKM6i44c1TylbEeDjohNes8eiITsWcbJAHev42bRScZ/g/Jzg5FNBiMtwBMo5ApxF5byCePYyAAHOogyoJJ7Fco4AZ1E5ryCevQxAgLMoAyqJZ7GcI8BZVM4riGcvAxDgLMqASuJZLOcIcBaV8wri2csABPhT10glkTVv2fcmI3e4iyPArIaKhfbJ26/klVx8Eo+VUUzOoogpxoq75BNXsogmewCiiAx7I62v5RAQcCc80o0nYSRlGH+yfCZLt7zlP1k+k5Ur9fzTGCBPVlFR97ZQVxYir+SbnEU65uTFexgifKOW7J1/XTLb/8ZoVTLly3YYEpSPIgMKEYdFCUNnwqCPKCr6B1sJApnAS1cRCbDAFmGxbNKjg7GmH3uqX4YpYgJeAUo9LIEpRvNikDMkjUXR1MZMkzLulhhPTLTGpRFDWcXPZs8oPE2FJsEKGKmXn/wbyFCHkcOjxAelxpJI6jdXpM1FbIhZgR3C0mYxSZrtUkUWiwkSHAATgYYsWkIcdIwE4MJxRDJ0i4Yy6ikZemoqEeKxwY0gSL3EeAzhGEcZxo8WgcZmJEFzxSZRnvNvZJt1sJmHfynyTxtKQEG2WaGLdeIzYYtV/dBQNDmLCJ6ARv0DKGxYvgkYhQiF9AES8xGohj9MOdmsTqsmGcjqbrbmDDerhbQ6jbCQMdwlxmNEGOMo4/jjxm9lHH9M7vURI0Wm/OID5pBaxkJd5DdssaK+ZGwaYxEVi9nX6WZmDujQSK1j+GIPuwiRtAkGcE2VL5YzagSJfthQrDuRbGn82DhZd2niShSGjZN1J5ItjR8bJ+suTVyJwrBxsu5EssX4aW2KKoEWEE2uaAmY2RaBEhI6b+r6n2LAX3jH7e2xYo5CWho0MNpCVoKxLCihWeRg7Y9hTyK3GRdtX9kWnZVPPR4myijnsYsfa9lhNZVCXxHWNsFGFYWFRS5s+CpZ0cYYOUBjY7gjLsMrBQeNiy1FMkxOdPyaApCqtJAVHwTRBm0RwoVmXo8ObAGLyBJTZPN6whbyi+XfZOzKpSIGvJItK8XWKMuKGLWhygFPVldi5FOMKiZmenlM48dCXCDS0OeHYXXsl199BftQYLljrMRNdvvSD5ZF8Ispmi6V9G8k/yoK9DImkmSkShopc6Os4ifxaM0oZueQAJldQJtLkzIzi4CAao5o11ydkdNwsWDPO5BLrVjaE2ZHpOpDN6OmYqrc8KcOoxZxSc2RIcAqh+FZfGyGmOE4pvHLgRDW99qxayu2TK5crTZW/cL6vmAUVqc3MhDTypSr/COTZYWPEQ+7bhGUhKQQNvu4CDjLWEaK6ASZTgB1yKKKQhhbdmjrLKrjyUhfjmgJnhWQANqBYCwfYqiiSyX4y0Zi3NbnNAwP4jie8bMJY835Z58ZSnYrF4QnHn/klVdewW5BOU5n0I+tT7QDLbLuTPo3wjkoXbQUechgHKzb8EzBcazjRxZoPtXKjaRGxgLIM7amxRrnCfO5f/9+7I1D9nNmGp6ElRhNVQAAOjlJREFUkpnuSVEhbapqjmKKI5N6j1R9BMIYuWy5hLXBKAgbtOTk5KD2Dxw4gOUX6Vqt0AfcwgKRWEvRKG7WA2KUFI6IHqi+BjVMBQILSCI3mcKOPcnO8mrPj/4mCpZVfuCJuoK2C7/YHAlLt4JCRUXYv4zslYQdIiijsqrMKReGsEXVEKoMZE8LdQDNbZEGodGuxEAKrYrxye5LSiHaB9m3dx/dCwwgAB9Yobp166qry5sLk2Q1bugMYRc/OAIGAujIYSNJ6MeAAQPoMuKgEPZIpgLY39JQHSMId3AWcR2IQqCgoADDHnCpX79+K1euvP2O219//fVVq1Zh5+b33nuPUEvlGLhEj6jAZr3gLDJrzScpNywPunNnn312+/bt27RpQ/a0tFhALZBnyJAhmGAAx7RnAEliMKF3ZLLFhIXnRY5HALvT0S4cnYgDeeigSN3miAyNaBAYoviwpvXhWJi26hMXHJMHODweD56b4TUFCOESvzBQmKnDL6VT4sBm9eW2SKt5tLhm1YGocgMHHGALtgvDfB2IhEtqeejud3ybCQMvIEPd3BYZmHCHhkB8bw3MAanobUN1OF4GApxFBhTcwREoJQJJWcTnYUqJaDYG47244mu1uHERndM0pmWKj4jfzQ4EYgiDoRFvT0us2aQsQvcX78ADUw5iiSBmkwBb3ZiOw1tz0AQzvzuXSuUmZRHQBHZ4+zB+rJlKvFwmQxFgqxu1DzUAl2CRMrQ4xyfbSVmkyMquXbvwSi99H/H45IanUq4QQGcEs9vg1csvv1yuMlbeMpOURdWqVytveeX5OQ4IsLYIT41wiQ8ijGnu45CBTEwi6RxdJhaG55kjcEIQ4Cw6IbDzRLMKAc6irKpOXpgTggBn0QmBnSeaVQhwFmVVdfLCnBAEOItOCOw80axCgLMoq6qTF+aEIMBZdEJg54lmFQKcRVlVnbwwJwQBzqITAjtPNKsQ4CzKqurkhTkhCHAWnRDYeaJZhQBnUVZVJy/MCUGAs+iEwM4TzSoEOIuyqjp5YU4IAkm/LzohuTmBifLmhILP7jiGLa7oCU/Wn60mM+DGrlSIPX/V4rN+dNNsFhXu5ghwBKIRYFsKdcOiKApB1tS2iEWHxY1sM2jWg91fkpggbHul7nmcDBN9485sxgubuqqqQsgDtwaRtvMiuWNqFhlNCjHTYQd2pNQ2wQVqZiWSoSRQjqAlKAliSHArghQU3AmJgk1wE/pnjaexL3LMfr5YdlndwpSwKOleelmDQjEFwWa3wIj8hl3duvYRLG5vwI/tkOmSHcUEzOJbxkpaWESNHsUXNusXHNa2u8ZGlIKiMoq2vaJgwVbrdtLyKua2RdAPSiRFEBVJmjptRqHXrwhkq85IC1S8EmXdXYNFMSXD9usxPvRSMUOXTtUTsqOrEMIv0Q1058JWyeIMypbbb+9i6h6duusxEIE+KMHAwSLfLslm8xb5rA6bJawt7p5QdbLY0+jRwRChmGF1918CkDY3FVt0QyD2RhZdq7RRt80WQoqIZlZjkSzbXZ7KgsVnchaRCVxRIIQhSqKEvIVet8cVlLHXlTqezCJVSLEoosGWWNtDdjGKP7K+R4cia2aY2CLZQn5xYOKFjJ5luSgsyGZnEQHEIgthu0OqICoehzUYDoZEokBocgg4FkOriKgJDqokKRcU0w8py2asoDqBEib8sUpkzyLRoqDUomiV/EEZ42izswhzcQSVMAaIDouCdUAVJRwiZklriVNSkZSEMlaFeMYpAtgMTXWIYli0hEWMqOm1JNpMzqI0G16uUByBRAjwZjQRKtyPI5AOApxF6aDFZTkCiRDgLCKoYBSEbi59dkR/E2HF/TgCiREw+bgoMSisL0hlHMneazYEuMOcCJjdFlErlErdcwqlgpI5ZbgtKqHeWfKYvckpASrz3uaKQeoeFomceCLN9N/MqxS85GkiwG1RLGCgEw76C4dJX6eLRYVfF4cAt0XFocPvcQRSQYDboliUyDtB9Cs99e0p/cvGWLHsuI5/d0MkHdtSHyZtlE1a7Bg1AXPIiXdPKXNibvNLjkCxCHBbVCw8ZXczWQvPm7Gyw/iExcQr8YRBzxPOGgS4LSqhKo9JM6N96aUmnbQPmSzl9KxadB+VhKWz+cYkJHzQm014RIdNKBLjyeaNyb+2XA4RxjoFMWGKv1RXripeJOquvl5clGcZXuDbXvIRcJhgg0+N8EUwrs3OIjKXUIYYJ4+K0SnUQXI5ficDETA7i45jlSnxTbtqFlgWR3HtOOaNJ3VUCPBqSwBfsh5OAtHUvNAtIRRCR8441YDqKxPayol42BtPs9Sij5IKk0+aSz5KXUa1C1NcEslWESo5T3ESCQEph+ulcBbFVh2tOSgZPWNvp3ONqNQT6+eEJUs45Pc5rKIgB3HiUgkF4BDDin6SFPUghgP0izlJf9xbWIiFM7AmWtAfCPi9WBkNS684bBJOwkwmHkgzJ8k9vQsHQyRDDVhhxWqVHFZrKOBz2qNe4QiHZUUJkjWllCDOcDiEU3WQIJJEYgOXIgeW4dJP5Dn1EzFIxilIcjCIklqUsNNm8/v9SIWmBYdxsGVP5lbXwTKKbAQtvaMs4yp9LrI5JLE/FkWeM2fm9h3/rN/w14Gd6/buXLdh3d9TJ09s0qRJTNEZzaYKHXOfLG1VuXLlIwc33nnnndCoM8444/LLLpMVKLEycuTIpT8sFcUojY8Nn/Q6VhNgG5Wg3Oaq1tu2r69TpxaxouoBQoiSNHz48K1bV27bvmbvzjV7dqzGqTpWdu9+D6SSmwstkqS5iL1hsJrcuL9nz/XrVkhWa6tWrbZsWVe/Xj2v1wfexgY67td8XBQLecwU1tFVEVEaSgwseFGY7/vg/Q9kJVwhJ/f00xtdf92lX3055pLLWnmLvFGZ0PU14snMcTldDiUsr1yz0+srgsBdd4FNnU8+5TTYgM3/bqpevaoaKlpZ4yMkQoQ2DGnVcLAh2mwLuev2uBVFzrNj7dio+RCYCL/fC2Pw+WdfiarlIa27INjtzhXLlwcCgSRMppTQElL/xFJXv0fzn+BufoGsyDIM0abN2xVB9nicwVCQliU6LL1KEAO9oU1R6shgQRI9eGn+mp1FQJPQJkpJIq+ilgbRRGGgmmDjru07P/zoQ4vFGkI3LBB4avCgfn3uvfyyyxcsWKAFQqUmrE7D36J4i4qgwTfceD00KRgIoXsUDIU8bmdIll966SXE43A4yEiLxqNrSaJMwU8jG7pYZA1HIkx8CLUsIcQgy0FZVg55hWAAC/RFDrpOqtspvPLqK0WFIDNVQTEvLw/lkiQwWiRTwAoiordCWuCY/BDYdfVFisyhqrWWPSOsJ8edmyuhyD///PP1110HBNCzlEBZqzUWNy0hIwbqICtrS6I1ZHgzKR6NUy/D0cSR1WEBuHGmX9AIvEVF+YGgTw6G5EBQDlvsTteff/3lk0l7j2irV68JDqxevXLlqr8mT5jY9MwmFgybvIUuu+2hXj0XLpj/76a/Jk34uumZZ2AAVDEv5/PP3r+45bmDnhrQ/oYbqlayTpk04aTqNR64/77PPv6IDreanHH62M8/Xb925d9/rxg1amTNGtUwbpGD/k8+fL97t7v79u07b86s//3689Chg+w2BV23UCDQ+ZYOn338yb+bVs+YPmXwU0847HgIELJJVpcLzLSJWN1dZzhME06UDb07q81GTisGUA6/LxgMYvFH8fXX3+jW/Y4nB/T+7rtvli5d9Mwz/Rz2kN2K0VPg1IZ1x0/4YsfWv2fPmtX70UcRLOANoFC9enb7v18Xbf3v71kzJt10/bUoBTKFeNu1azthwrjFixePGDG8Zo2Kikxq48KWF4z/etypJzeALXr9jVH3du86+KkBPyxZ9MtPy4YPHypJgiwHLKJ8w/VXTRz/2dIf5j3zTN87br9x9GvDA8EiY7SGVeXIiXLo5Uq/frUQkWoudRRZEBAWiZxowdGKH4MD0eZWrIAePJpPjJNcLqfL4+5+Tw+HJMyZPRvW48svv7zxxhtee230c88NcTqd338zoWnTZjAv995771NP9R4zZszw4a/m5nqmT58Elc3Nybnk4guqVa/y47Ift23bJsvC+AkTDh8+fO6551544YVI4qSTav28cHJehZynBz8z4oUR7dq1+2LMGLfbg5hbtmw54oUB7dvfOHHixD179vS89847brs1GAy1bnXFqJHDA76i/n0HYXB13309nniiXzIkYGdw4G7Dhqc0qF+/Qf26DRqQs36DulgwFHMPF1xwzvPDBrRuc+Wnn32yd+/eB3p17dSpA7qgDRqc/P3iuZUrVR387KtLly3r0+e+x3o/arGEhw17bsDA/mDLY70f37r1v0/ef6V9h+thD1tdfvHb74yqXbvWpEmTzjnnnEd63G61YsVAuV7dupdccmYAJjIQuPSSS5977skrrrj8088+3rt393333Hz7HZ2cTkK/Lz54XZQskydPbntV2xEvDrvk0pbgewg2ErUMYxVjGJOVNgV/s/fo4iEiEKO50+l0NOMikAfTRPRAfZ/d7PSZs+Zg8IAG/Nxm9UDaj8ZMQ5+kTesrmjSp9eCDg8ClChUqLFgw75+1/9elS5eVK1di2LNz55EpU6cc2L9/yZIld9x5Z53addDQ2iQMQmw/LP3h2muvr9+gzldffQULgM4VUkF3q1//fgVh4YEHHty3f18oHDpwcP8Xn7xx7bVXz5w26+ChQ/5QTvv27f1Fvi/HfrHhn5Vnn32OooytVbfOlGnzn+jXNxRSnDZr+5uuOfmUhsh5wmYFqVitWFFWmDNnCruiIbCqUft0GKig7N1/UESnKxSSxo8bt27t8uZnn+2eNPPBBx+2Yyx3Z48tW/5Dx6xG1cpt2lw6fXrD+3vc/P4nE0aPesfrLZo2deYZjRYOHjxgzpxpw194ev/+gxdfdlkwoHz66cd/LP/FhpKjb7x7N1hsRU9OssIqHjjgv/a6a1Fp48ePXblmVZOzTvN/WTj0uWd//mPt7bd1RW7fefuD1WtXOBwu2E3andOrhVTO0VsSzqL/b+9K4KQorn5Pzz2zy+6CiKCcgke+SABBQYNJjH7xNmo0GkXEAzzBReTwDCYmgkRjMCiafIiAByCsIIIHICqKoMiloMCCICzIudfM7Jzf/1V199RcO7OwxyxT/Zudra5+9erVv9+r96q6p4pwbLgDWghrwX2yWq0HDnnXr1+PSB6z6IuXLvti1RcrV61QLZZevfpANZYuXZKfnxcKBg8eLN+waXfnzp3QcaIPHjFiyJbNX82Z8+GSpUtfmvwS9O+UU7tBYDgQt8sFtvAwUCAYDzpphCvwOZ07dd6wYcfBgwdABte0evVqq6KcfPLJYAi/9/GyZXv37slz5qMvL936AwYzNqujZO7c0m3fDx02tEvHk3v06N6ubevt236A4BjKM3DQAv7BWRjjHo/X61SUi6+4Rr9K/+GgQqGQ3W7xef0rVqxAEZvV7vVWb91aetxxx8NbduzYcf2mQwf2H3Y43MGgd/jw+2FLv/71rzEkWv7pZyaT1enM8/t9iN9uv+OWgkJ367atp055DeO0fFeez+d/990Fl152GcZdsB7IxUZeqDEI+nA4aLPB1Xs3bfoGTriwqAU+i95dhMcEVosT7mfJ4o/69esHse2OFnwYjI4ycXKFNafOX9KK4iEDshq+vL/SnVI8XR3P/f7gDz/sHDt2LJb/xvMjih7ZG2UYJuUV5ENVq6t9UD6aG4CaWuzo0VHD5Jde/Pzz5RdcSMd1V19wsDLSr++5MBVcgyrDQnCAzOVyYkxitqgFhfnwVCd1PHHzli3wQqqqgiH4lvsVdMkYtqDn9ng9TqcLygebQnETPXQx//HaG8aNH7F+w/avV63+13MT7xg8yGy24WokpMACYbFYVZfGQewRMQSwmK2YGlu7dn2E5k00A6OpubADjM2qy+uhKRS7zQ4Zqr0+fNz5BfBvZWX7UBxSYYjizsuDjaHvAGuEpqwtYfQL2LnDYTEVtWqJmQM4T0wRsrFp5PCBcpddxayKzWozWxSyo0gE7sVT4wWeFdXVGLpZbbY8d57D4XS5bLt3l8Heqqqwg4Fj//6DVouN9TWI5cih1eNBt0oesBz6QE1ET19/uGB/JD00ou36cMuNAx3r5u8347RP794I5+BYjj/++M6dW23bvg1K+cADD0Lvx48bh370wkuuy883XXHlFSAGB6ggokHQYxsdKIrD6YRKBZmdrF279vxf9Xa78/AQCfMA/fv3xyTWzh27jEpJ74UhNZQV8w2bNu2+/LIriosfmDdvXqtWrahoCBYGz4nHvNwjaQz8AVgQHapqxeAtCHtln3AogqgpRDGTZlecKi+vhdvlhuWsWbum71kdHQ7YpxenGLbNn79g27Yd6MvPO++XaAh4ocbzzuv//fay0tKdTlXpf84vYeU+nw+sfnvBBXgxAwXRSrJdPLfCH6I6Cu2s6FZI2jBm4QOHD5UH/OB5HirCtIrHU4VhFflPl9OC5130VBpLsteb8tcbI4aX/EqNALmeJO8zI9iYP38+OuPRo0ef0LZt69at//znPyPon/bqDLgvxGYPjXm4X79zi4pa9ejRC35q1cqVUCnM61VXeZwOh8dT3cKl4ClknjsfSgwFikRMc+a8DYb33TsUpc74efe777p33z7vOwve0ZWbpqEhKPsmBaisrtpSurWgqFWHDh17nNnrb+OeOvGkohYo3KoVVLUmpCDqExvG9NUCw7ppwJ8GDbp50KCb+OfmgTeedfaZqhmdPZ+21rQL/gH7K8De5pbMQcUvvvTv3r17XnP11bcMvGrlF19t/Hbrl2t+GDzkjt5n9ex2SpchQ4accUrHyS/+16I6X35ldt9+Pa659o8dOnW6v7i42yltvTWQOuJwOlA7zBWjuBAMGE+dyZhhhJjcsIRCCCmDs2bN+c1vzh41ZmT/88557l/P9utxOua40Rs4MedY34eM6Oob0Xh+6PXZjFB8PoV0mCZCz7hr9+4bbrhv8ksTV3z+Dmm3otxzzyMbN26EukyaNGnixIlTpkx2OhRfjTJ95gdr127o3LkDfAHv/ktK5t922x9nvjmlb98L4LX8fvISH7z//t/HTX5k1JBbBt3kcio7dpbfMnAg4iW4DsY+7ktFgPfCCy88+8+nl38yH9HTovc+f27ilLvvHjSsuBgTGLC4w+XlQhkVEyTo++Fyxj7+sAuWrR/Q7Jf/M3vFF58hcOIHriD8hIdETOjz1mCC5NE/P/PYY8P795/q9Sj/+W/Jk0+OD4fUYfcPx1zcgpI3QR+IKJP+M+uVKdPhcyZMeK5Dh84TJjyKTsHrVSa9MGPQoBvBGRYDxWUz7BZ8I6iDPPh9AsDE4MpmdeHz7DMTC1sUDRt6x9D77li//rv5H35y+mlnoGxlVaVJxwGhBwdcb8ER/pf7utI0VDjivm3QyFdefSOs+iJqDd7YITjpZyOYKT1CZI1i9AsZ7HejbUpH3TML8JCgWsQYElFHefnh/fsP4BsVw4pw10HT/YwzXK58TBl/990maA2boqWyGJNAg2y0fU4Yjgv9MWVGIjartaKiqrCwqFu3LpjOqq6qqq6uhobhqnGQUDDwCDkN6FxlJcYnzq5dTi4rK0MUhHyLFdtFW2gymd6UA0iwQMSlVC8Nf8LaQ1JEjAZPnsArc5QJSoylTGZWlojhKhGCYQ4AUVjnTl3WrF0L1QeBaqIW5eVb27c/EWQ7d+5CwAY/gwe+OAUM7du3R507d+6MRKiPoF39WAeENB74EH9E4zS5QlghtsO31+vt1u1kdBz79u/FOKui4vAzzzzT6rjjb71lCJhbbQ5GS/eFR7Yx0BDfJAdJw47ozitWkzdkvv6mu3PdF9Fcgo5OA//X7pRuQklqW736Kz6pAD0jbWEmBC1Zt+4bKAdO0T2jGDQPV2EziGKg5JgggHYiysKHM8XgARs8V1RUrFmzDoN78MR0AIrgKgJI4sAtCroIRVdVMEF3DvXavHULqkOchMk21Y8ZPyt7vBpvJ+zRp6F48VdZd4FOngjAjYuEbwiJTD+xDW/dutVuw0COPBV3B1WVNRvWbwIZxjiY8GClwAEju/DmzZtRGjMKUbF1pgZ/ZkJUI2ZowMFqtQ0efNfVV186YMCgNWtXX3jhJddff9UTTzwDehixXrre/ue6FdUbkLUzwqBI828pbyGMBIbA2dC7M0wLcYq+Gt9QdHwz68KoBpYAG1PtNrxfgC6bHiRiEg1KCxrMBJCumC2YpMI1pmesiKbPJAD3i4wPXAQ8GMboVozCfT5sEk02CYaBEKrALB9ZryEMygoHb0vUToRLSIq9Eyi1U1SNaQuf14N5CBg4kxaTbdQ0p9ONYjQfSD6YWs2vWh3wimoQg54weTMtCNPxoUoFEfCGD8rC9p599jmMJ0vmToGtBkPKe+99Om3aNOTDesU3gHgbiMlRHNKKkoBHDopuYqMe0Bj4CSgTgjSoAbSfvYeG8Q95HXSuyCf3E+Iqg7vPRIR9Ug4+ZFeQmBQQ6h8MIJ5BEYyFuLXAVAxVFhoGXwUbI31F1TT9RZYHjiocHna8Jb/HbU4ok0HSUE6jUhaGkXhonVJQkI8HrGggl5YzZG4KjYIZGDWQ/WMSn+wcNofwWjQeg0pPoBV6Utmzp+xXvzqvTZsTunXtum79mkOH6OkZptDR5ZCDjFZhlDjyhLSieOxoxFmv69GBGw5MrcbXRGodfTmAwhvMvuI5KbYKpaiDxiJ00PahNN2MgQ90TstEvokemOAbz21Je/AbJkYOV8L8TwSeChlMYxKrJr6MnIY14MENDH4AOsz0mK7yyCpao+5PWMHMvzTBwI5XilZ4a3xoF2yXamchFhc+frRPQFC4ioIwJ3KKOFhnofUIrBgvS10JegS4G5bg4O3d9xM+IEbnhOqpLYQzyULOMclNybxdUUppRVEsmjalBf1MCGgC7IXLA50zBCMV0nSI8pi1UAJuhP7pB4rgEYp+ltF/xpbpFSmapmMZlawDkWbMhthik1OxMdprSJiKstZ8o+oomLXS1+1i3bCuG+/mSc27XiOii1HPI2wR3UKhR8+Qi3bjM6CunVLvqYlRIqUom3g1VT4XR6RMJaBII6ZT0SfP1z1PYr3Jeaa2zHj6+PPk9WeUW4+sMqov24hgLYn6bZhQtkkr5clOBKQvSnNftKklRtWYXY4R9qSRT17OAgQaUzGyoLkpRIDzoc+RxF0pOMrsXEJA+qL4u83DOSOoq49xUXwV8vwYQ0D6omPshsrmNC4C9DA9LH1RPOj8kSs94+CTW2mmRsVxE2d1bHdMie1NA1A8vs39POYdFKBBwcqxfcszvWOwGfrgQYk4LZxpaUmXgwiQCzKaLa3IgEImJAJHiIC0oiMEThaTCBgIyHGRAUVCgn58gkgvASIeGQsOPWVgnOo1LY0DrzEaGMRKkKqDawD6VHKyV9/Yz5kgmlivKJsQBKfik23tjQFabJd4QWgjbxcNAJMTJ6iIyCcH0jSXkAPNlE2sJwS0X0PFcRMMLu6KPJUISAQyQ0BaURKcaJpbHhKBJAiwH5nH5FNOrkd0MYCwk+jvi3AKc0rzOATxIHoiMSo8pjsmGivGtTcNQIkIN/8cftPRDiTk8yLAkOyd7jreZtGE6li0OZLHTBU0xwYciczGG2EoTDqDn1MKOOS4L9L9BvWvWjru90XCb+Ri0U/VBYvRYCoakVMqGpFPQ9MLMtQ1mo3pQgQ+osgx6VQ0jdleUaBM5BG7WmHtdcO0ctyKGJwRM/UrJj998Cts1tkYOBu/PkrxWoNuh0aBZAmDCb8osjIuiZnJeNSWZzBpIP7RulPNZesUcZI0kDxxtYjQGZfETF26TP8bTGorQFDQz/TNWHWsNrocuhauCRz64w2XY9UBdDDUx2AFWraaM1vqQgOirv00L2b0WGnhzB7+XGasp4JVUbHMCNZVsanmao8nz+XCb9FpvQf9EH8HFeOXdIJa/mfUAyWUz7yWBuJP1qOv9QWgQhFfjq/qSKtm4wf99HAVSxegd1HNWGaJllHX7hUWzYhqjKjlvKvjnZaYjrvpmZsQCmYPfy421m/AeiZ/+csTPq/vH09PwIpC2IwZC8l72GaYvKViL5NRFy4AJLoL3nZer5gWyClZpyoagj/nScsU6aOAkBLKaSsy7kpU1/l6NFjqEBpEQ6KoFSXekrgbbJxGudXlrmcJf1F4LKKC9eP3lJVhMaFWbU7AinBYLBIWhVWtoo0VehlkisUNmqSJmC4jKYWeGe3Gmoi/KCoXivRD2ywDPW7OR3Sku2bNPQMg8s9QC8EZASQOHP4Zig5HlYgsJxPVqE4dZ5bwj5nZD4cfGzsWmyOjuaOK7x0/fnzI48t3OPgSk7y9MdEdAh0NLX4xzbeBJ+gyxLNJ+ItysiaxuD+CVaOpN8E6srnui4z7zJaAM85YgmGEhTx5rnibxXRsGToTDUlMJ1KKOSJPMS3S8LTIU0wnUoo5Ik8xLdIgjf0dQpEw1vXOy8vDupBYNByZtFq5qrRr3RbeiZYjZmu78YK0/pswzSWm4zjHnYoyiOk4MpyKPMV0IqWYI/IU0yINT4s8xTS/mqIs9n/Gde6T5VNXEVRmNmIGg0nQkdhrx+QZ1kT01wRcdjf2DBsz+iGavLSzJSkUZdTIMY8//ji2AGLrdButzy18jGaTbnCFwdC6qKhIuJCLSW2GQFgtUUCBluQ0TkXPnqKLiuk46xTRoZZs4A//g/kDLFAM53zg8AFvlc/pdlRXVrtbuIM1wQ4dOmC9Y3GfiJDw3kZzbK/ofFLJL94XQxloBXW+jxhGSA2xKZJQU3NIss6UJuqAFv9EBwdw27AifLOPQUC4Yp3S5B+Bj17Q4FB7Igv42+w2bK6Ffnbk6JH9+vazOWwA46vVX2H7E3/Qj/zPV3xG78HromLxeiMdBar2ZhpXdSbEIZvxFOXU0uzhKy34DB2Q46LmYOaNKiM2YglgOtuxp2zPxk0bHxwx4vzzfwsBnh43bsyYMcOHD2/ZsqU4hsSwqFHFy67KtHGRjOiy67Y0uTQ+P+35iP2YIcnyT5cjoB0z5iF8Pz1uPDcY7GEBK8I231zU3LYi7XbJdxeaXG+zSACYh5u2Hw998dnn2EQSD4sCGAbRfpIBGA97gEb7osLMpPGIty36+EzMlemcRYC/q4ENmLnNYFIbBwI8fMOQMP0NG5MmFKce0hfFAZLTp4Z5GAEb4ICDgkXBurBHGJ4jcTPjNpbTYAmNl75IAEMmkyEAs+GWAxvjCVAZiWQlci5PWlHO3fIjazBMCMeRlT3mS0krOuZvcf00UJpQLTjKcVEt4MhLSRCQI6JEUKQvSsRE5iRHAPYjTSgpNNKKksIiM+MRkCYUj4hwLq1IAEMmUyMgvVBqbLQfSNRCIC9JBCQCaRCQvigNQPKyRCAtAtKK0kIkCSQCaRCQVpQGIHlZIpAWAWlFaSGSBBKBNAhIK0oDkLwsEUiLgLSitBBJAolAGgSkFaUBSF6WCKRFQFpRWogkgUQgDQLSitIAJC9LBNIiIK0oLUSSQCKQBgFpRWkAkpclAmkRkFaUFiJJIBFIg4C0ojQAycsSgbQIyN+6ptlYita+xWIdfBViIZ0K2eZOL7aLL7OAlayx+0zta1jnDj6J9xeISV8kqo1MSwSOBIGc9kVi/yruHSACybsZflVMizRiWqQR0yKNmBZpxLRII6ZFGjEt0ohpkUZMizSp0nx/dThgNF/iw1EChtwdiaDltBWJQIjpiLYLC4toxChOTIsFxLRII6ZFGjEt0ohpkUZMizRiWqQR0yKNmBZphHSiivCLYo8jkLNtIvSIl/aCMNIxRMKJSCOmBZKYpEgjpmOIhBORRkwLJDFJkUZMxxBpJ6nAkVYU7WV1RcHuTlbW9QZUJflGcSk7ZuxJImyKZaSNRNytwW4v4iUjbSQan14HgdXM2gJhmHbFiMoFy0L5ReiMtJE4WjxRnmMRy0haEcMjYo0oNmyNFsbecYSUSv9MFkDGd/vi42xNaYAjgzLJvWlW9KzlMV9GM7VcHtKFXWEFG3+50er4Jjer9sYLj0bWKn8MNOyE40N9C7clUxgMwoolp3de4f0ugRt2D7x5hKI4vIFKkzlgtZtUsxnoqGGLvnUyB1BTI820BLdDwLKNofgl4wbwO5ed9IaQYkJsU8DvV1XzSSediI1WfvzxR5CJitjs2isKj7aklV+Ehad1DiqUA4cvUO0Lmyzu46Uv4vioJsUxd+7C6ppDIZM3rPqRG4lgg3qLyjceZD5KBzG6IbaRQ/SME7TQMCTjamJOltAzkWO+IKoR/WM9VOyFbMJGwJGI2WKGLRktyhL5G1qeGGhYJ8LusmoNQWHCYRv2crJffNUgaUUEVMQEdams9h5UbQGPt9Jix06DyEaHgxjPEoY/wsaLGB6wqSqkQ2KPzXo1A26gDMrmRW8IDxOiTpa1LhwO4SmR1WmBKZlt1kg4GIkEeE/BwNEKNcf21lV+Ax8kqCxF/pirwybRfq/fY3Xk/B7j3DYo7DeHQkqNx1vhcFsDYZ8OHDbADZNusUli/o2NpY3eWoNVp8Z/3jsS1PrscJbTC7KT8OSLWJaqKojo7FZnRVWl0+KipjEQRBXk7a0rPnWlRy0Nimft8jAwtC9+T1XcUdpdPGy1KtY8h6oGpC/SALLZzIopjO9gyIcEGYMpCLBMCoUxTH80ysRTEWieDgkKRx5NoCDOCUcT0ouyQDRqHfc4CGftlkA44HQ5+KQLz06UPxGQ2ttbV3pI2KD41C6PiI/edmwITU2MKCEfwn+zIq2IUAI6JrOZ9zSGD0kGn5anoymSaGneVYvOCheynN4wG9gJNyTeGJ7PhU9lQpwyroFxpxo0wr84grhTgZBFUJBKN+yk1R0NfVKGtcgj1mWkpRVxKOCjMa/NP3AeNDpgLgRdjtixcuL039yWOJ2YTlVSpBHTjUAPBTWUBmZjqCvlaw3QVNkgSyVVw+WLmIjpVDWKNGI6kT7OPhMJkuUAJ2hFmEbPxF2VViSiBGjMZEuI5XAgQUfdrOiI7gqrJwu+xOAT6sHbwrWQLMqwsExE5U/eEilpRFGHo8nwrEV+Pi6iyDwSNoFOWlH0hrIhIwAidIw7jYSRjpLWnjICpNrJsv+qZjXsH0chM3fEfBi3Fq6LKS0nI2wbDs8UzUmQX7hV6FNwGY+jMccQNoXYlAsmYnL7wB1Cb8e/KcEGBkdz246mbG7fiuStb1A8j4a5aIEyokt981gfzOMZDjcH7migT15Z88lNbLuIiZbWmsN7dH7C0iyJ+Af/eefNcxN5agwa8V/M/dXqNeQXhNdeU46VLJLzvigWD3lW7whABaNaWO/cG55hjPAwtqTjNOmL0twIvNZNFDRYolCY/tXvUcsoNm1FqcqKBRtCZoG/6Em0NMNKJ4lHTDwXy+r0jf1flCET+QX58I4uWkMNklYkwCKTEoGMEIhxUCghdg0ZMZBEEoGcRiCJ/5fjopzWCNn4uiEgzsuJJWVEJ6KRLp2kH0pX5Iivp6grPphIx19NwSdduaO/zsMcLm+KkKfJZMukdaL8RG+YUGJjEnMyqUDSSAQkAlEEpBVFsZApiUAGCMC7xgcE0ooywC2bSOp0w+pEnE2tbEay0ItjclyUyQ0z+p6GUEuDOSRJzj/2SV8Yv3nK/DCleF7E38nInA+njJWE8pLxoRbp9ca3KBk95538O7FGTldXPsm5p88V5Me7LMZADgkdWFAIROk5HrMUGDjiruAjanRWtpYraFaKpgmV9RA2AHjSF8WDyl9kNiZkzPHX6+VcVLXaO7IoJX+yzgUzmUxYUSQ2QOd8aucmCh/lHJsb5aCl9E6XyDg6WpcscuC0PMfI57+sFtkfQTqOp8EhKqeR1VgJiBRTe8xJYwmRRfVwLxQnkGFCcflNc4qVeMK0viSFEyZaBMJsVhHnRCJBniNIxe4mlB4/dEfchw9XeoGiQZMR/NwG8jE566ciLPgWMWxSY5mYUz91HRkXhrb0RWnAo3uoj0O096zSlBAvx2uAfq22zssow4kiEfyIJaJasXagGgpGYEYWkxJUsSaPEg7iCEGr7DYnFo4j50R+g8ppjkuvj//n7wRqK1eGqR6srBDCqi2Ct4GXMwrpRkg52jgHSSxKgWUpTIrVqlZWVjqcTl4cYqgm2G3EYXf4fD4YuQnLYoJeYM74GOyTjamYl9PrxSo7AbQLFQUCqBE/iKNeIQSWMFf2zX7LgkUQasMzWl+DpZq4+gZrV90Y457wT2ONWTMUj4TC+pJYJWP7tg1lP6y79rprsEBciJQY606anE57aenmQ/u33XnnYBbgaWwNa6/l7sISvvzyy+LiYrM5JmiFeaI4/4AdFJoMJ1beEDPdqVOnvDrtFYoqSfU1u4LNL1y4YNbsN+k3BMwkYovW6SwME4Ljha1aLOb+/X/Z5oQ2sFNkwvKzxSMxx1sLznVq8LFDTL0cG3Bwu8qChoWtFitUHco+YMAAt9sFA4AtwWx+/vMzCvLpDtodVkFltdiPKzd9Gx+tZaTfYGm1muE0ggE9MtTJTOjp9Q8zJ8GuQKOE7Q4YdgBMfD6PiI/NhnUwIQwCHCLTPjrbqBi15GjseFk6CQb9+fnuwsIWb77+7z59+wRCfvBBpkbIWWknjfYv3mrizxtNEFlR5gggpLFDnxSlZ8+TWxYWqKpa4/V5PNWXX34Z8vWxD9M8TauQBjk+cBG4ris09xugUZSamhqL1ep02ckC9YM8D8gZE4R/xmCMOPBMGqWEzQguVRO+zVg6lpjzQ4VNWiwmr8drt2Pdc6qdShFBRh8Wl5EBY0FJCt/CIRQPBGHmQTgfh6LYAITZHAoGKYxskkMPmOMql1YUB4g2ogAuRlQTT9Fw57hJ2n2Kvy/ekFIy7yOrSfnf314QDvrtUH6b/bJLLn1tzkLyneGQ2RSxmMN/uv4Pr01/de26rxBTPTCi2OV2wBJAf90frvrvyy9u+Obrd9+df9klFzmsZlL0SBCGAD112W33D723ZM7svn3ONIVDLQtbPD3u70sXf7hsyeKHRo1wO+yhgNdmUVwOywPF9723cP78krkjH7wfsZ/VzGM9GAkJTKv4YQRnNdO6qpFQ//7nzJtX0u+cs+fOnb1x47o33pjRs9cvUCkmS/77fy8PHHjThPFPfb36y88/+/TOwbfDHiFq8bD7Jk78ZyQURHPAf9h997ww6flOHdtPmzY1oCjFw+4ffNvtMDDUxZ9MNNytSMM5drAXf7fSFD5GLxsjAeqJs+jQjCocMWHV/bI9e75eW3rzwIFKKFyY36Jnz56nnliw+MPFtG8BFhZUlXPOPmvcuEf8Ac+jjz68fv3q4uGDRowYhvWMrrrqsmeeGbvpu28ef/zR/ft/ev75Caedfmoo5McKufAegWBg+PDhDw4f8tbMWV+sXAHD+3jpkksu+t933nm7ZN7cmwb86e2S2XabxeOpeujh0aNH3FpRfnDJRx/cP+zO88/tDQNl3kaDDGMYjNnYCQ1pnC5n715dZ858ef36tVNemXJe/zOmT3/VYsEV0yW/O/uvT448oW2b5/75zKqVK554bOiAATfW1HhbH9+qR4/uzA6DcHRdOnc5o/sZhw4ffnfhQri2tWvXbNq0yelyBQOwqSY/qKflQsg5uia/GekFgLqDyOPzv/7mrHF/G9WhQ4fde/dcdvGl+6qVzz79FP4AvQD6/uPbHPfmrJKRD46Gn1n03vwLf3dB125d0PH37XeW3azALWzfvq3k7bkjR45s2bIwL8/lD/gcDtv48U/deuPv7x760Ixp0x1O26CBN+e3sF95+dXfbdqEStetWf3a9Mn9zumz6fstd9561ez5i4cMuUO1qgsWlCxatJC7hYQGkHph/IbhHC498sjfpk59Fc6zbM/up/72cJsTWpeWltYEldLSXbegR1CU19+Y0aHjm/fed/drr0+32SyIMBErYnFjq83WoiAP0yiIXadPnz569L2Lly5d/vlnqBSxKJ+dS6i6cTLifE/Or9PdOKgfZS2hUBBBDPRy0aJ3//7kqIsu/t3UV1659prfvzv/ncrDhzA0gkOAE3jrrVnbd2wfNWp423btTj/99NM6tSnduhmzCAsXvXvTTdd9tnTBvPeXrVq5ctasNzdv/t4XCLnczrvuHmgzKTv3lL//wSKrDb7EfNZZZ+bZlCuvusJpu9br87VsWYRF77ud2tXhcsJPz5//NtUVCpeWbisvr4BIetO0oE4/herXqHiupSjLl38G+WtqlLLdu3Gal5eXn58P5/n5iuVwgxjyOJ22Tz79+IHiO+FkYCGBQACjIFW1YlhUfrgSc3EYwrVq2YpNoygYE2KQhKETUnpdTfUfTUaDaIazyUVpKggyrZf61ejML4DjH1acD2PivmMYU+lknxii6IkwrBdvjJmN4oN+3769P328bDUmFX7Ro0eHEzFt9bqKvppJaFaVG2+84e2Smef98tw9e3bNmDFtzaat4UgI02gffbSkb79zRzwyNs/tfvSRB99ZuKB7zx7o8TGqCfjCz7/wf21PKCguHpZfmO8NeFsUFuCBDB4h4dGUO9+178C+aTNmbtmypXXrVp6gcqiiHOqLvQG8Xl9Z2U/BYAR6rx8RWtUcj61gIiZLKIhBEkU68CR43oW5Anzj1GyyeKt8+Sbl4L794UDIBr+mmJw2O2b38DjIbrVZKBTM8/hq8AS3fccOFP+ZMI1hxgYEsB88OAqEaNqBg8bnUTGEMj5RMBspBX3I+XUXYCEEwxEcsePLI2CQeRF06sYznbklJf/4xxMYju/eXfHtt9/CB0GhoM0Wq33EiJGbv99+5ZVXwQYsZvPQ+4YdPHDIbnfeeOONeOQyffprr814vUWLFos+eP+uu+4qHnp/dVXVjBmvTZjwdEFBwZ2DB4Lzhg0b1q1f36dP95cmT967dy80uG27tjdcfwOMx/O9x2pRzurTZ8niJXho06VDp+6nd92yeTvrI9i0ngEIJWDd0H5Dar2tEaWqstrhdNQoys9+9jNVtfgDfkzknX/++TvL4FYPIZArLCzy+4NutxtlunY95ccfd1jMFkzro5kWsxUzdrhfGHHRBH3WHGKXlzVCSUGSIYAgBqr00cfLcPHKy3/zxqzZBw4fUi1WDLTxdKeqonrz5q0FBUXt23fs1vXUv/717+1OKDKbbTarw2F3TfzXhMsvu9Llyj/xpA7tji/8YsUqaCoMDK87IPMfE56t8kQmTXrR6XC/NbcEvui5if/u1efs3/z2gskv/efOe+7evats1Vdff7dl98CBt/bq1btXz96PP/YXOBqbzRF9NUGb1IZ0bFKE2RJrB1kUMzZSNgR0eNiFAdNFF/365gEDTzvtfx577LHep3d8a84ch8O1ceP3CBIfevjhU087bezYsUUtLS53PkK8Gl8ALM7s0+eEdu1gQuAoHqyWxvoyOotohXxLmui5TBECcFBZdNCUL9dQ6uMPHjz84ZKVEG/Zx8sLClvCEmoCeJHHbrHa/v38C9DXTz/5YMmSd048sf1T4yf9onv30aMfmj17Tmnp3uf+Of6bb1a9v2D21+u2IgesKiqq8fZPeTmcQPmoUQ9169Rm8B1Dvv1m02OPPnXOOWcuePuN16e+2KJF4XXX/mnfwcPgfPdd9/i8wSXvzX1/0Zw2bdot+2KjarLBSbAPxi+USIIb1I5bFNM/CGwx22CoX3+96a9Pjvn0k3m3337zy6/NGz9+At7KmDlzVmnp/sF3XPvh+zNPOfXUxR+uhMmZLZZdu3bNfHvZrQMuHT16NPwVe++p6W4Sb47QVLmvK737E1Lctw0a/crUN8KqT1FrEMUTRAwsthpmYtDHNUMA0kjyssbpUSfoNQLtDW508vGS8Kl5aK/VYvF4vUWFhR07dcIerFA+PLzEzFgwHPrpp5+cTifmG4477jhMl+/csaO8vNztNCYG6LW0qJjshaDCgoI2bdpUVVf/tHevx+NxuVywYJ+XNkfr3afPzp07q6qqEBBivIP9KtnQDFfwxAeGBAPRDs4WElI8pr+eZ7PgOVVo3851f3n6hZcmTT3ppJN2l+3w1XiCQfrFDjfDzl26VFdVH6o4jKqtVnofAvksrMXC2BE0jQJGhJU6T71C+m+iCLdBDgMjLEvI3ypUrRFf2Hz9zUPlTHeDIF6PTCOwY+p2STmMG2nwp2eVFNFhIitkt7nxvfHbzbAfaDB0t8YXwh13OvOhc9u37/r22+9J+1Rzfl4Rxvog43xEvUM3j8+BYHlVJd4ojfgx/IhYwJb5Z9KWL1d9DQ7MQnDKByycDeYyeIINk/QkGYbgNpwOV7WnqiqISQqaB9+6dZvZig0+sVWHVgAC7tixAyd4Omshk9MsEA2CKMjHTlMaadb8k1YUfyv43TR6tGy4Y0wRyVr0qamozHjbm+WrNf4aq90CzTtcUQmPhInvSCjkrQlYrRicY1fWCGaNMUiCHmL2LBjBVLLhQ6LckLLbbE4HvXyA+WWYGfQYv4fGmB4GgjdDLRZNYWhmHUbDLASDK80taObIfgcq+GTRaVTCv3iqwRPT3FXeatg63o2AUNwLQQBU7Q/RQ1VICHMl/8YE5DaP+4JclkEWzBON+63VHq0ULyVGT3IyhbsS11kCBsOEsgUSbiqQhnb7iDokhBZc+eAZYC3QM2gYTAjqBbMBOTIxOwx7wHuiLpcTZsA1D9/6SwbxTUSwh3k82AsuwCk5HA4Q+3yhwqJCRHRghec5ThYNkoqTM4rKE88r2TleOwDPc8+9uLKyGtYFowVP/MAD7+VxYwNbB4vi8FSKS2uwwU9EYEQ4pZck2JNo41LjJiADPtGG57oVpUWfoNIjniabdRAsJ6nANEiwmOjXApgugGYzE6JMjJfMZrwEgEcscFMgMIrrbTIytIQrLw+UwbBftVjsZjOegEK5bQ6b1+MBQ9ghM0WGChsysqeOWlmdJ++t+TdTNf0C6MxUKrz9h51URrWAP3kdq4WMkTM0mch+UAQdXBR7IocA9A+Ps5rShLgIMd/SiggOdHH8Y8QVMSA1/xP+wCmma48aVEzzEhFAKTJIRmXocUyZOp/wkV5MMYMzCamvzyKGgkjz2YSYVsTwaLITaUXx0PNwznBB2TAuEkXUemOeJfoopmLcNBDoiUWSphOtJSmZkVlXeqNgXCIFH76FoUYruK7si67j2sNOY25KMgKZJxGQCKRBQPqieIDQj2tjWN6hix1jPG2WnouBUFOLmMqXi/liOlFeNrJKzM6mHOmL6G7Acvgny35flE2aImVJjYC0otTYyCsSgcwQkFZUO07NIJyovQHyaiMgIMdFaUCmboYeema7OWXh/G8aZDO7bEoxqZdZ6UaiynVfhOGQHAs1kq4du9XkuhUdu3dWtqzxEJBWlARrOCh5SAQyR0COiwys+BKE/DVl9kO9Zvu8yGiSTDQOAtIXEc58dIQBEsGBuQTjHerGuQmylmaGAKaa+IfJLffS02+fuBauBo1+Sf6XCEQRYKsuo6vFG+b0S98wW6FF+qIoQEJKwiKAIZMMAegEVwsWs7BVyDVk5L6uURXhPpoDRT96iV6RKYkAfI8+54TVZLBuM3yRYqIVNXHI2QWOg/yWCKRHQJu8JfuBFRE9W8lEWpEBHUEjDBmNfC3BXRMI5JG7CLDfnkFPtJ/gUmhHM1JyPTquEvH2U/u7+rmrRrnc8phXkeiHkIjjsLRK2IwNbHIZF7HtWEPj+uuvpZXG2A/IcYk2+sU3D4fJzISDpsJTDZxiKYVCMnmMIKD1ufREBEYU9lfJVR0BBcwFa3wW0LdqwtodmMKklzsZWNyWEt5GTf1MKc7ejhHFkc2IfR+ZNnunXdyxJgWc0v8DeHj3tAzUP8cAAAAASUVORK5CYII=)"
   ]
  },
  {
   "cell_type": "markdown",
   "metadata": {
    "id": "4VSMfAm56xJJ"
   },
   "source": [
    "```\n",
    "==========================================================================================\n",
    "Layer (type:depth-idx)                   Output Shape              Param #\n",
    "==========================================================================================\n",
    "TransformerModel                         [1024, 1]                 --\n",
    "├─PositionalEncoding: 1-1                [1024, 5, 76]             --\n",
    "│    └─Dropout: 2-1                      [1024, 5, 76]             --\n",
    "├─SelfAttention: 1-2                     [1024, 5, 76]             --\n",
    "│    └─Linear: 2-2                       [1024, 5, 76]             5,852\n",
    "│    └─Linear: 2-3                       [1024, 5, 76]             5,852\n",
    "│    └─Linear: 2-4                       [1024, 5, 76]             5,852\n",
    "│    └─Softmax: 2-5                      [1024, 5, 5]              --\n",
    "├─LayerNorm: 1-3                         [1024, 5, 76]             760\n",
    "├─Linear: 1-4                            [1024, 5, 76]             5,852\n",
    "├─LayerNorm: 1-5                         [1024, 5, 76]             760\n",
    "├─Linear: 1-6                            [1024, 1]                 381\n",
    "==========================================================================================\n",
    "Total params: 25,309\n",
    "Trainable params: 25,309\n",
    "Non-trainable params: 0\n",
    "Total mult-adds (M): 25.92\n",
    "==========================================================================================\n",
    "Input size (MB): 1.56\n",
    "Forward/backward pass size (MB): 18.69\n",
    "Params size (MB): 0.10\n",
    "Estimated Total Size (MB): 20.34\n",
    "==========================================================================================\n",
    "```"
   ]
  },
  {
   "cell_type": "code",
   "execution_count": null,
   "metadata": {
    "id": "lA5W1YIN2BJ4"
   },
   "outputs": [],
   "source": [
    "################################################################################\n",
    "# OT#3                                                                         #\n",
    "# Write a PyTorch PositionalEncoding model.                                    #\n",
    "#                                                                              #\n",
    "# Hint: You should read PyTorch documentation to see the list of available     #\n",
    "# layers and options you can use.                                              #\n",
    "################################################################################\n",
    "#                            WRITE YOUR CODE BELOW                             #\n",
    "################################################################################\n",
    "\n",
    "class PositionalEncoding(nn.Module):\n",
    "  def __init__(self, seq_len, emb_dim, dropout=0.2):\n",
    "    pass\n",
    "\n",
    "  def forward(self, x):\n",
    "    pass"
   ]
  },
  {
   "cell_type": "code",
   "execution_count": null,
   "metadata": {
    "id": "cddTLABiK3Il"
   },
   "outputs": [],
   "source": [
    "################################################################################\n",
    "# OT#4                                                                         #\n",
    "# Write a PyTorch Transformer model.                                           #\n",
    "# Your goal is to predict a precipitation of every time step.                  #\n",
    "#                                                                              #\n",
    "# Hint: You should read PyTorch documentation to see the list of available     #\n",
    "# layers and options you can use.                                              #\n",
    "################################################################################\n",
    "#                            WRITE YOUR CODE BELOW                             #\n",
    "################################################################################\n",
    "\n",
    "class SelfAttention(nn.Module):\n",
    "  def __init__(self, input_dim):\n",
    "    pass\n",
    "\n",
    "  def forward(self, x):\n",
    "    pass\n",
    "\n",
    "class TransformerModel(nn.Module):\n",
    "  def __init__(self):\n",
    "    pass\n",
    "\n",
    "  def forward(self, x):\n",
    "    pass\n"
   ]
  },
  {
   "cell_type": "code",
   "execution_count": null,
   "metadata": {
    "id": "ntWbil-9K5Hv"
   },
   "outputs": [],
   "source": [
    "################################################################################\n",
    "# OT#5                                                                         #\n",
    "# Complete the code to train your Transformer model                                    #\n",
    "################################################################################\n",
    "print('start training transformer')\n",
    "################################################################################\n",
    "#                            WRITE YOUR CODE BELOW                             #\n",
    "################################################################################"
   ]
  },
  {
   "cell_type": "code",
   "execution_count": null,
   "metadata": {
    "id": "p6Z8aG7nK6DV"
   },
   "outputs": [],
   "source": [
    "# Plot"
   ]
  },
  {
   "cell_type": "markdown",
   "metadata": {
    "id": "Py_llUMUNjmi"
   },
   "source": [
    "If you implement it correctly, you should evaluate the model in the test dataset and the score should be better than the aboved models."
   ]
  },
  {
   "cell_type": "code",
   "execution_count": null,
   "metadata": {
    "id": "DY9EJQ0zK7G3"
   },
   "outputs": [],
   "source": [
    "# Evaluate"
   ]
  },
  {
   "cell_type": "markdown",
   "metadata": {
    "id": "gkoGHlI8FKv5"
   },
   "source": [
    "# Final Section\n",
    "# PyTorch playground\n",
    "\n",
    "Now, train the best model you can do for this task. You can use any model structure and function available.    \n",
    "Remember that trainig time increases with the complexity of the model. You might find printing computation graphs helpful in debugging complicated models.    \n",
    "Your model should be better than your CNN or GRU model in the previous sections.\n",
    "\n",
    "Some ideas:\n",
    "\n",
    "- Tune the hyperparameters\n",
    "- Adding dropouts\n",
    "- Combining CNN with GRUs\n",
    "\n",
    "You should tune your model on training and validation set.    \n",
    "**The test set should be used only for the last evaluation.**"
   ]
  },
  {
   "cell_type": "code",
   "execution_count": null,
   "metadata": {
    "id": "NH741odv8zOq"
   },
   "outputs": [],
   "source": [
    "# Prep data as you see fit\n"
   ]
  },
  {
   "cell_type": "code",
   "execution_count": null,
   "metadata": {
    "id": "2hibvTeKFKv5"
   },
   "outputs": [],
   "source": [
    "################################################################################\n",
    "# TODO#20                                                                      #\n",
    "# Write a function that returns your best PyTorch model. You can use anything  #\n",
    "# you want. The goal here is to create the best model you can think of.        #\n",
    "#                                                                              #\n",
    "# Hint: You should read PyTorch documentation to see the list of available     #\n",
    "# layers and options you can use.                                              #\n",
    "################################################################################\n",
    "#                            WRITE YOUR CODE BELOW                             #\n",
    "################################################################################\n"
   ]
  },
  {
   "cell_type": "code",
   "execution_count": null,
   "metadata": {
    "id": "yfNpynXlFKv8"
   },
   "outputs": [],
   "source": [
    "################################################################################\n",
    "# TODO#21                                                                      #\n",
    "# Complete the code to train your best model                                   #\n",
    "################################################################################\n",
    "print('start training the best model')\n",
    "################################################################################\n",
    "#                            WRITE YOUR CODE BELOW                             #\n",
    "################################################################################\n"
   ]
  },
  {
   "cell_type": "code",
   "execution_count": null,
   "metadata": {
    "id": "Ag7EC7E9MuZH"
   },
   "outputs": [],
   "source": [
    "# Evaluate best model on validation and test set\n"
   ]
  },
  {
   "cell_type": "code",
   "execution_count": null,
   "metadata": {
    "id": "tOVQ2zHkFKv-"
   },
   "outputs": [],
   "source": [
    "# Also evaluate your fully-connected model and CNN/GRU/Transformer model on the test set.\n"
   ]
  },
  {
   "cell_type": "markdown",
   "metadata": {
    "id": "yHyzJulTFKwA"
   },
   "source": [
    "To get full credit for this part, your best model should be better than the previous models on the **test set**.\n",
    "\n",
    "### TODO#22\n",
    "\n",
    "Explain what helped and what did not help here\n",
    "\n",
    "**Ans:**"
   ]
  },
  {
   "cell_type": "markdown",
   "metadata": {
    "id": "UqJCOYoPaZcc"
   },
   "source": [
    "# [Optional] Augmentation using data loader\n",
    "\n",
    "### Optional TODO#6\n",
    "\n",
    "Implement a new dataloader on your best model that will perform data augmentation. Try adding noise of zero mean and variance of $10e^{-2}$.\n",
    "\n",
    "Then, train your model."
   ]
  },
  {
   "cell_type": "code",
   "execution_count": null,
   "metadata": {
    "id": "IwEB-0wMaqhr"
   },
   "outputs": [],
   "source": [
    "# Write Dataset/DataLoader with noise here\n"
   ]
  },
  {
   "cell_type": "code",
   "execution_count": null,
   "metadata": {
    "id": "3l44W5glBdae"
   },
   "outputs": [],
   "source": [
    "print('start training the best model with noise')\n",
    "################################################################################\n",
    "#                            WRITE YOUR CODE BELOW                             #\n",
    "################################################################################\n"
   ]
  },
  {
   "cell_type": "code",
   "execution_count": null,
   "metadata": {
    "id": "sxBScR6KBoCs"
   },
   "outputs": [],
   "source": [
    "# Evaluate the best model trained with noise on validation and test set\n"
   ]
  }
 ],
 "metadata": {
  "accelerator": "GPU",
  "colab": {
   "provenance": [],
   "toc_visible": true
  },
  "kernelspec": {
   "display_name": "Python 3 (ipykernel)",
   "language": "python",
   "name": "python3"
  },
  "language_info": {
   "codemirror_mode": {
    "name": "ipython",
    "version": 3
   },
   "file_extension": ".py",
   "mimetype": "text/x-python",
   "name": "python",
   "nbconvert_exporter": "python",
   "pygments_lexer": "ipython3",
   "version": "3.10.13"
  }
 },
 "nbformat": 4,
 "nbformat_minor": 4
}
